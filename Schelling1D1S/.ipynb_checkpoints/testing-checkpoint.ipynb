{
 "cells": [
  {
   "cell_type": "markdown",
   "id": "f02244d0-edb1-4d94-825f-66a416fb3cce",
   "metadata": {},
   "source": [
    "# Testing for 1-dimensional, 1-species Schelling model dynamics"
   ]
  },
  {
   "cell_type": "code",
   "execution_count": 1,
   "id": "d6423c6f-4728-49df-9121-8a6cb1a6a3e6",
   "metadata": {},
   "outputs": [],
   "source": [
    "using Pkg\n",
    "using PyPlot\n",
    "using HDF5\n",
    "using Statistics\n",
    "using ProgressMeter\n",
    "include(\"src/Schelling1D1S.jl\")\n",
    "using .Schelling1D1S\n",
    "using ProfileVega\n",
    "using DSP"
   ]
  },
  {
   "cell_type": "code",
   "execution_count": 2,
   "id": "486e0963-0b32-4c86-9251-f9b08c6fe05f",
   "metadata": {},
   "outputs": [
    {
     "data": {
      "text/plain": [
       "\"/Users/danny/Library/CloudStorage/GoogleDrive-dsseara@uchicago.edu/My Drive/uchicago/adaptation/schelling/\""
      ]
     },
     "execution_count": 2,
     "metadata": {},
     "output_type": "execute_result"
    }
   ],
   "source": [
    "drivefolder = \"/Users/danny/Library/CloudStorage/GoogleDrive-dsseara@uchicago.edu/My Drive/uchicago/adaptation/schelling/\""
   ]
  },
  {
   "cell_type": "markdown",
   "id": "67f2222e-818c-4ef6-be27-c42f2f7774ff",
   "metadata": {
    "jp-MarkdownHeadingCollapsed": true,
    "tags": []
   },
   "source": [
    "# Diffusion test\n",
    "### Make sure code sets gain = 0.0, otherwise will not work"
   ]
  },
  {
   "cell_type": "code",
   "execution_count": 8,
   "id": "3ba0fb1e-498d-4f63-87a7-7fd98fdf3b4c",
   "metadata": {
    "jupyter": {
     "source_hidden": true
    },
    "tags": []
   },
   "outputs": [
    {
     "data": {
      "image/png": "[encoded data removed]",
      "text/plain": [
       "Figure(PyObject <Figure size 640x480 with 1 Axes>)"
      ]
     },
     "metadata": {},
     "output_type": "display_data"
    },
    {
     "data": {
      "text/plain": [
       "1-element Vector{Tuple{Float64, Float64}}:\n",
       " (-1.0, 10001.0)"
      ]
     },
     "execution_count": 8,
     "metadata": {},
     "output_type": "execute_result"
    }
   ],
   "source": [
    "params = Dict(\"capacity\" => 10000,\n",
    "              \"temperature\" => 0.01,\n",
    "              \"preferred_density\" => 0.5,\n",
    "              \"m\" => 0.0,\n",
    "              \"alpha\" => 0.0,\n",
    "              \"n_sweeps\" => 1000,\n",
    "              \"moveType\" => \"local\",\n",
    "              \"grid_size\" => 101,\n",
    "              \"fill\" => 0.5,\n",
    "              \"utility_func\" => quadratic_utility,\n",
    "              \"snapshot\" => 10,\n",
    "              \"savepath\" => drivefolder * \"2023-03-22_1DTest\");\n",
    "\n",
    "# state = random_state(params)\n",
    "state = zeros(Int64, params[\"grid_size\"])\n",
    "state[51] = 2000\n",
    "\n",
    "fig, ax = plt.subplots()\n",
    "ax.plot(state, drawstyle=\"steps-mid\")\n",
    "ax.set(ylim=[-1, params[\"capacity\"] + 1])"
   ]
  },
  {
   "cell_type": "code",
   "execution_count": 9,
   "id": "8aa4b62a-62f7-4540-a4c2-81cfebcc9b64",
   "metadata": {
    "tags": []
   },
   "outputs": [
    {
     "name": "stderr",
     "output_type": "stream",
     "text": [
      "\u001b[32mProgress: 100%|█████████████████████████████████████████| Time: 0:00:03\u001b[39m\n"
     ]
    },
    {
     "data": {
      "application/vnd.vegalite.v4+json": {
       "data": {
        "values": [
         {
          "level": 0,
          "sf": "ip:0x0",
          "status": "Runtime dispatch",
          "x1": 1,
          "x2": 2766.9
         },
         {
          "level": 1,
          "sf": "findall(testf::Base.Fix2{typeof(>), Int64}, A::Vector{Float64}) at array.jl:2311",
          "status": "Default",
          "x1": 1,
          "x2": 3.9
         },
         {
          "level": 2,
          "sf": "materialize at broadcast.jl:860 [inlined]",
          "status": "Default",
          "x1": 1,
          "x2": 2.9
         },
         {
          "level": 3,
          "sf": "copy at broadcast.jl:885 [inlined]",
          "status": "Default",
          "x1": 1,
          "x2": 2.9
         },
         {
          "level": 4,
          "sf": "copyto! at broadcast.jl:913 [inlined]",
          "status": "Default",
          "x1": 1,
          "x2": 2.9
         },
         {
          "level": 5,
          "sf": "copyto! at broadcast.jl:971 [inlined]",
          "status": "Default",
          "x1": 1,
          "x2": 2.9
         },
         {
          "level": 6,
          "sf": "copyto! at broadcast.jl:957 [inlined]",
          "status": "Default",
          "x1": 1,
          "x2": 2.9
         },
         {
          "level": 7,
          "sf": "preprocess at broadcast.jl:940 [inlined]",
          "status": "Default",
          "x1": 1,
          "x2": 2.9
         },
         {
          "level": 8,
          "sf": "preprocess_args at broadcast.jl:944 [inlined]",
          "status": "Default",
          "x1": 1,
          "x2": 2.9
         },
         {
          "level": 9,
          "sf": "preprocess at broadcast.jl:941 [inlined]",
          "status": "Default",
          "x1": 1,
          "x2": 2.9
         },
         {
          "level": 10,
          "sf": "broadcast_unalias at broadcast.jl:934 [inlined]",
          "status": "Default",
          "x1": 1,
          "x2": 2.9
         },
         {
          "level": 11,
          "sf": "unalias at abstractarray.jl:1427 [inlined]",
          "status": "Default",
          "x1": 1,
          "x2": 2.9
         },
         {
          "level": 12,
          "sf": "mightalias at abstractarray.jl:1462 [inlined]",
          "status": "Default",
          "x1": 1,
          "x2": 2.9
         },
         {
          "level": 13,
          "sf": "dataids at abstractarray.jl:1485 [inlined]",
          "status": "Default",
          "x1": 1,
          "x2": 2.9
         },
         {
          "level": 14,
          "sf": "objectid at reflection.jl:340 [inlined]",
          "status": "Default",
          "x1": 1,
          "x2": 2.9
         },
         {
          "level": 1,
          "sf": "/(A::Vector{Int64}, B::Int64) at arraymath.jl:24",
          "status": "Default",
          "x1": 4,
          "x2": 4.9
         },
         {
          "level": 1,
          "sf": "allindices!(I::Vector{Int64}, B::BitVector) at bitarray.jl:1659",
          "status": "Default",
          "x1": 5,
          "x2": 6.9
         },
         {
          "level": 1,
          "sf": "findall(B::BitVector) at bitarray.jl:1686",
          "status": "Default",
          "x1": 7,
          "x2": 7.9
         },
         {
          "level": 1,
          "sf": "ht_keyindex(h::Dict{String, Any}, key::String) at dict.jl:280",
          "status": "Default",
          "x1": 8,
          "x2": 30.9
         },
         {
          "level": 1,
          "sf": "ht_keyindex(h::Dict{String, Any}, key::String) at dict.jl:291",
          "status": "Default",
          "x1": 31,
          "x2": 32.9
         },
         {
          "level": 2,
          "sf": "/(A::Vector{Int64}, B::Int64) at arraymath.jl:24",
          "status": "Default",
          "x1": 31,
          "x2": 32.9
         },
         {
          "level": 1,
          "sf": "_unsafe_getindex(#unused#::IndexLinear, A::Vector{Int64}, I::Base.LogicalIndex{Int64, Vector{Bool}}) at multidimensional.jl:884",
          "status": "Default",
          "x1": 33,
          "x2": 34.9
         },
         {
          "level": 1,
          "sf": "mapreduce_impl(f::typeof(identity), op::typeof(Base.add_sum), A::Vector{Int64}, ifirst::Int64, ilast::Int64, blksize::Int64) at reduce.jl:248",
          "status": "Default",
          "x1": 35,
          "x2": 37.9
         },
         {
          "level": 1,
          "sf": "task_local_storage(body::HDF5.var\"#17#18\"{HDF5.HDF5Context, Base.Pairs{Symbol, Union{}, Tuple{}, NamedTuple{(), Tuple{}}}, Main.Schelling.var\"#8#9\"{Vector{Int64}, Dict{String, Any}}, HDF5.File}, key::Symbol, val::HDF5.HDF5Context) at task.jl:286",
          "status": "Default",
          "x1": 38,
          "x2": 38.9
         },
         {
          "level": 1,
          "sf": "(::IJulia.var\"#15#18\")() at task.jl:484",
          "status": "Default",
          "x1": 234,
          "x2": 2315.9
         },
         {
          "level": 2,
          "sf": "eventloop(socket::ZMQ.Socket) at eventloop.jl:8",
          "status": "Default",
          "x1": 234,
          "x2": 2315.9
         },
         {
          "level": 3,
          "sf": "invokelatest at essentials.jl:726 [inlined]",
          "status": "Default",
          "x1": 234,
          "x2": 2315.9
         },
         {
          "level": 4,
          "sf": "#invokelatest#2 at essentials.jl:729 [inlined]",
          "status": "Runtime dispatch",
          "x1": 234,
          "x2": 2315.9
         },
         {
          "level": 5,
          "sf": "execute_request(socket::ZMQ.Socket, msg::IJulia.Msg) at execute_request.jl:67",
          "status": "Runtime dispatch",
          "x1": 234,
          "x2": 2315.9
         },
         {
          "level": 6,
          "sf": "softscope_include_string(m::Module, code::String, filename::String) at SoftGlobalScope.jl:65",
          "status": "Default",
          "x1": 234,
          "x2": 2315.9
         },
         {
          "level": 7,
          "sf": "include_string(mapexpr::typeof(REPL.softscope), mod::Module, code::String, filename::String) at loading.jl:1428",
          "status": "Default",
          "x1": 234,
          "x2": 2315.9
         },
         {
          "level": 8,
          "sf": "eval at boot.jl:368 [inlined]",
          "status": "Runtime dispatch",
          "x1": 234,
          "x2": 2315.9
         },
         {
          "level": 9,
          "sf": "run_simulation!(state::Vector{Int64}, params::Dict{String, Any}) at Schelling.jl:55",
          "status": "Default",
          "x1": 234,
          "x2": 238.9
         },
         {
          "level": 10,
          "sf": "save at Schelling.jl:369 [inlined]",
          "status": "Default",
          "x1": 234,
          "x2": 238.9
         },
         {
          "level": 11,
          "sf": "save(state::Vector{Int64}, params::Dict{String, Any}; sweep::Int64) at Schelling.jl:378",
          "status": "Default",
          "x1": 234,
          "x2": 234.9
         },
         {
          "level": 12,
          "sf": "Printf.Format(f::String) at Printf.jl:199",
          "status": "Default",
          "x1": 234,
          "x2": 234.9
         },
         {
          "level": 13,
          "sf": "Tuple at tuple.jl:317 [inlined]",
          "status": "Default",
          "x1": 234,
          "x2": 234.9
         },
         {
          "level": 14,
          "sf": "_totuple at tuple.jl:352 [inlined]",
          "status": "Runtime dispatch",
          "x1": 234,
          "x2": 234.9
         },
         {
          "level": 11,
          "sf": "save(state::Vector{Int64}, params::Dict{String, Any}; sweep::Int64) at Schelling.jl:389",
          "status": "Runtime dispatch",
          "x1": 235,
          "x2": 238.9
         },
         {
          "level": 12,
          "sf": "h5open(::Function, ::String, ::String) at file.jl:91",
          "status": "Runtime dispatch",
          "x1": 235,
          "x2": 238.9
         },
         {
          "level": 13,
          "sf": "h5open(::Main.Schelling.var\"#8#9\"{Vector{Int64}, Dict{String, Any}}, ::String, ::Vararg{String}; context::HDF5.HDF5Context, pv::Base.Pairs{Symbol, Union{}, Tuple{}, NamedTuple{(), Tuple{}}}) at file.jl:93",
          "status": "Default",
          "x1": 235,
          "x2": 237.9
         },
         {
          "level": 14,
          "sf": "task_local_storage(body::HDF5.var\"#17#18\"{HDF5.HDF5Context, Base.Pairs{Symbol, Union{}, Tuple{}, NamedTuple{(), Tuple{}}}, Main.Schelling.var\"#8#9\"{Vector{Int64}, Dict{String, Any}}, HDF5.File}, key::Symbol, val::HDF5.HDF5Context) at task.jl:292",
          "status": "Default",
          "x1": 235,
          "x2": 237.9
         },
         {
          "level": 15,
          "sf": "(::HDF5.var\"#17#18\"{HDF5.HDF5Context, Base.Pairs{Symbol, Union{}, Tuple{}, NamedTuple{(), Tuple{}}}, Main.Schelling.var\"#8#9\"{Vector{Int64}, Dict{String, Any}}, HDF5.File})() at file.jl:98",
          "status": "Default",
          "x1": 235,
          "x2": 236.9
         },
         {
          "level": 16,
          "sf": "(::Main.Schelling.var\"#8#9\"{Vector{Int64}, Dict{String, Any}})(fid::HDF5.File) at Schelling.jl:392",
          "status": "Default",
          "x1": 235,
          "x2": 235.9
         },
         {
          "level": 17,
          "sf": "setindex! at highlevel.jl:96 [inlined]",
          "status": "Default",
          "x1": 235,
          "x2": 235.9
         },
         {
          "level": 18,
          "sf": "#setindex!#108 at highlevel.jl:113 [inlined]",
          "status": "Default",
          "x1": 235,
          "x2": 235.9
         },
         {
          "level": 19,
          "sf": "write at datasets.jl:305 [inlined]",
          "status": "Default",
          "x1": 235,
          "x2": 235.9
         },
         {
          "level": 20,
          "sf": "#write#57 at datasets.jl:305 [inlined]",
          "status": "Default",
          "x1": 235,
          "x2": 235.9
         },
         {
          "level": 21,
          "sf": "write_dataset at datasets.jl:278 [inlined]",
          "status": "Default",
          "x1": 235,
          "x2": 235.9
         },
         {
          "level": 22,
          "sf": "write_dataset(parent::HDF5.Group, name::String, data::Vector{Int64}; pv::Base.Pairs{Symbol, Union{}, Tuple{}, NamedTuple{(), Tuple{}}}) at datasets.jl:281",
          "status": "Default",
          "x1": 235,
          "x2": 235.9
         },
         {
          "level": 23,
          "sf": "create_dataset at datasets.jl:264 [inlined]",
          "status": "Default",
          "x1": 235,
          "x2": 235.9
         },
         {
          "level": 24,
          "sf": "create_dataset(parent::HDF5.Group, name::String, data::Vector{Int64}; pv::Base.Pairs{Symbol, Union{}, Tuple{}, NamedTuple{(), Tuple{}}}) at datasets.jl:270",
          "status": "Default",
          "x1": 235,
          "x2": 235.9
         },
         {
          "level": 25,
          "sf": "create_dataset(parent::HDF5.Group, path::String, dtype::HDF5.Datatype, dspace::HDF5.Dataspace) at datasets.jl:40",
          "status": "Default",
          "x1": 235,
          "x2": 235.9
         },
         {
          "level": 26,
          "sf": "create_dataset(parent::HDF5.Group, path::String, dtype::HDF5.Datatype, dspace::HDF5.Dataspace; dcpl::HDF5.DatasetCreateProperties, dxpl::HDF5.DatasetTransferProperties, dapl::HDF5.DatasetAccessProperties, pv::Base.Pairs{Symbol, Union{}, Tuple{}, NamedTuple{(), Tuple{}}}) at datasets.jl:60",
          "status": "Default",
          "x1": 235,
          "x2": 235.9
         },
         {
          "level": 27,
          "sf": "h5d_create(loc_id::HDF5.Group, pathname::String, dtype_id::HDF5.Datatype, space_id::HDF5.Dataspace, lcpl_id::HDF5.LinkCreateProperties, dcpl_id::HDF5.DatasetCreateProperties, dapl_id::HDF5.DatasetAccessProperties) at functions.jl:470",
          "status": "Default",
          "x1": 235,
          "x2": 235.9
         },
         {
          "level": 16,
          "sf": "(::Main.Schelling.var\"#8#9\"{Vector{Int64}, Dict{String, Any}})(fid::HDF5.File) at Schelling.jl:397",
          "status": "Runtime dispatch",
          "x1": 236,
          "x2": 236.9
         },
         {
          "level": 17,
          "sf": "setindex!(parent::HDF5.Group, val::String, path::String) at highlevel.jl:96",
          "status": "Default",
          "x1": 236,
          "x2": 236.9
         },
         {
          "level": 18,
          "sf": "#setindex!#108 at highlevel.jl:113 [inlined]",
          "status": "Default",
          "x1": 236,
          "x2": 236.9
         },
         {
          "level": 19,
          "sf": "write at datasets.jl:305 [inlined]",
          "status": "Default",
          "x1": 236,
          "x2": 236.9
         },
         {
          "level": 20,
          "sf": "#write#57 at datasets.jl:305 [inlined]",
          "status": "Default",
          "x1": 236,
          "x2": 236.9
         },
         {
          "level": 21,
          "sf": "write_dataset at datasets.jl:278 [inlined]",
          "status": "Default",
          "x1": 236,
          "x2": 236.9
         },
         {
          "level": 22,
          "sf": "write_dataset(parent::HDF5.Group, name::String, data::String; pv::Base.Pairs{Symbol, Union{}, Tuple{}, NamedTuple{(), Tuple{}}}) at datasets.jl:288",
          "status": "Default",
          "x1": 236,
          "x2": 236.9
         },
         {
          "level": 23,
          "sf": "close at objects.jl:16 [inlined]",
          "status": "Default",
          "x1": 236,
          "x2": 236.9
         },
         {
          "level": 24,
          "sf": "h5o_close(object_id::HDF5.Dataset) at functions.jl:2158",
          "status": "Default",
          "x1": 236,
          "x2": 236.9
         },
         {
          "level": 15,
          "sf": "(::HDF5.var\"#17#18\"{HDF5.HDF5Context, Base.Pairs{Symbol, Union{}, Tuple{}, NamedTuple{(), Tuple{}}}, Main.Schelling.var\"#8#9\"{Vector{Int64}, Dict{String, Any}}, HDF5.File})() at file.jl:101",
          "status": "Default",
          "x1": 237,
          "x2": 237.9
         },
         {
          "level": 16,
          "sf": "close at context.jl:63 [inlined]",
          "status": "Default",
          "x1": 237,
          "x2": 237.9
         },
         {
          "level": 17,
          "sf": "foreach at tuple.jl:555 [inlined]",
          "status": "Default",
          "x1": 237,
          "x2": 237.9
         },
         {
          "level": 18,
          "sf": "foldl at reduce.jl:193 [inlined]",
          "status": "Default",
          "x1": 237,
          "x2": 237.9
         },
         {
          "level": 19,
          "sf": "#foldl#260 at reduce.jl:193 [inlined]",
          "status": "Default",
          "x1": 237,
          "x2": 237.9
         },
         {
          "level": 20,
          "sf": "mapfoldl at reduce.jl:170 [inlined]",
          "status": "Default",
          "x1": 237,
          "x2": 237.9
         },
         {
          "level": 21,
          "sf": "#mapfoldl#259 at reduce.jl:170 [inlined]",
          "status": "Default",
          "x1": 237,
          "x2": 237.9
         },
         {
          "level": 22,
          "sf": "mapfoldl_impl at reduce.jl:44 [inlined]",
          "status": "Default",
          "x1": 237,
          "x2": 237.9
         },
         {
          "level": 23,
          "sf": "foldl_impl at reduce.jl:48 [inlined]",
          "status": "Default",
          "x1": 237,
          "x2": 237.9
         },
         {
          "level": 24,
          "sf": "_foldl_impl at tuple.jl:277 [inlined]",
          "status": "Default",
          "x1": 237,
          "x2": 237.9
         },
         {
          "level": 25,
          "sf": "afoldl(::Base.BottomRF{Base.var\"#57#58\"{HDF5.var\"#10#11\"{HDF5.HDF5Context}}}, ::Nothing, ::Symbol, ::Symbol, ::Symbol, ::Symbol, ::Symbol, ::Symbol, ::Symbol, ::Symbol, ::Symbol, ::Symbol, ::Symbol, ::Symbol, ::Symbol, ::Symbol, ::Symbol, ::Symbol, ::Symbol) at operators.jl:554",
          "status": "Default",
          "x1": 237,
          "x2": 237.9
         },
         {
          "level": 26,
          "sf": "BottomRF at reduce.jl:81 [inlined]",
          "status": "Default",
          "x1": 237,
          "x2": 237.9
         },
         {
          "level": 27,
          "sf": "#57 at tuple.jl:555 [inlined]",
          "status": "Default",
          "x1": 237,
          "x2": 237.9
         },
         {
          "level": 28,
          "sf": "(::HDF5.var\"#10#11\"{HDF5.HDF5Context})(n::Symbol) at context.jl:64",
          "status": "Runtime dispatch",
          "x1": 237,
          "x2": 237.9
         },
         {
          "level": 13,
          "sf": "copy(ctx::HDF5.HDF5Context) at context.jl:60",
          "status": "Default",
          "x1": 238,
          "x2": 238.9
         },
         {
          "level": 14,
          "sf": "map at tuple.jl:224 [inlined]",
          "status": "Default",
          "x1": 238,
          "x2": 238.9
         },
         {
          "level": 15,
          "sf": "map at tuple.jl:224 [inlined]",
          "status": "Default",
          "x1": 238,
          "x2": 238.9
         },
         {
          "level": 16,
          "sf": "map at tuple.jl:224 [inlined]",
          "status": "Default",
          "x1": 238,
          "x2": 238.9
         },
         {
          "level": 17,
          "sf": "map at tuple.jl:224 [inlined]",
          "status": "Default",
          "x1": 238,
          "x2": 238.9
         },
         {
          "level": 18,
          "sf": "map at tuple.jl:224 [inlined]",
          "status": "Default",
          "x1": 238,
          "x2": 238.9
         },
         {
          "level": 19,
          "sf": "map at tuple.jl:224 [inlined]",
          "status": "Default",
          "x1": 238,
          "x2": 238.9
         },
         {
          "level": 20,
          "sf": "map at tuple.jl:224 [inlined]",
          "status": "Default",
          "x1": 238,
          "x2": 238.9
         },
         {
          "level": 21,
          "sf": "map at tuple.jl:224 [inlined]",
          "status": "Default",
          "x1": 238,
          "x2": 238.9
         },
         {
          "level": 22,
          "sf": "(::HDF5.var\"#8#9\"{HDF5.HDF5Context})(n::Symbol) at context.jl:61",
          "status": "Runtime dispatch",
          "x1": 238,
          "x2": 238.9
         },
         {
          "level": 9,
          "sf": "run_simulation!(state::Vector{Int64}, params::Dict{String, Any}) at Schelling.jl:58",
          "status": "Default",
          "x1": 239,
          "x2": 2312.9
         },
         {
          "level": 10,
          "sf": "macro expansion at ProgressMeter.jl:938 [inlined]",
          "status": "Runtime dispatch",
          "x1": 239,
          "x2": 2312.9
         },
         {
          "level": 11,
          "sf": "iterate(wrap::ProgressMeter.ProgressWrapper{UnitRange{Int64}}, state::Int64) at ProgressMeter.jl:736",
          "status": "Default",
          "x1": 239,
          "x2": 239.9
         },
         {
          "level": 12,
          "sf": "finish! at ProgressMeter.jl:569 [inlined]",
          "status": "Default",
          "x1": 239,
          "x2": 239.9
         },
         {
          "level": 13,
          "sf": "#finish!#31 at ProgressMeter.jl:571 [inlined]",
          "status": "Default",
          "x1": 239,
          "x2": 239.9
         },
         {
          "level": 14,
          "sf": "update! at ProgressMeter.jl:518 [inlined]",
          "status": "Default",
          "x1": 239,
          "x2": 239.9
         },
         {
          "level": 15,
          "sf": "update! at ProgressMeter.jl:518 [inlined]",
          "status": "Default",
          "x1": 239,
          "x2": 239.9
         },
         {
          "level": 16,
          "sf": "#update!#22 at ProgressMeter.jl:519 [inlined]",
          "status": "Default",
          "x1": 239,
          "x2": 239.9
         },
         {
          "level": 17,
          "sf": "lock_if_threading at ProgressMeter.jl:480 [inlined]",
          "status": "Default",
          "x1": 239,
          "x2": 239.9
         },
         {
          "level": 18,
          "sf": "#23 at ProgressMeter.jl:523 [inlined]",
          "status": "Default",
          "x1": 239,
          "x2": 239.9
         },
         {
          "level": 19,
          "sf": "updateProgress! at ProgressMeter.jl:254 [inlined]",
          "status": "Default",
          "x1": 239,
          "x2": 239.9
         },
         {
          "level": 20,
          "sf": "updateProgress!(p::Progress; showvalues::Tuple{}, truncate_lines::Bool, valuecolor::Symbol, offset::Int64, keep::Bool, desc::Nothing, ignore_predictor::Bool) at ProgressMeter.jl:275",
          "status": "Default",
          "x1": 239,
          "x2": 239.9
         },
         {
          "level": 21,
          "sf": "durationstring(nsec::Float64) at ProgressMeter.jl:674",
          "status": "Default",
          "x1": 239,
          "x2": 239.9
         },
         {
          "level": 22,
          "sf": "format(::Printf.Format{Base.CodeUnits{UInt8, String}, Tuple{Printf.Spec{Val{'u'}}, Printf.Spec{Val{'u'}}, Printf.Spec{Val{'u'}}}}, ::Float64, ::Float64, ::Float64) at Printf.jl:831",
          "status": "Default",
          "x1": 239,
          "x2": 239.9
         },
         {
          "level": 23,
          "sf": "format at Printf.jl:734 [inlined]",
          "status": "Default",
          "x1": 239,
          "x2": 239.9
         },
         {
          "level": 24,
          "sf": "writefixed(buf::Vector{UInt8}, pos::Int64, v::Float64, precision::Int64, plus::Bool, space::Bool, hash::Bool, decchar::UInt8, trimtrailingzeros::Bool) at fixed.jl:1",
          "status": "Default",
          "x1": 239,
          "x2": 239.9
         },
         {
          "level": 11,
          "sf": "macro expansion at Schelling.jl:59 [inlined]",
          "status": "Default",
          "x1": 240,
          "x2": 2296.9
         },
         {
          "level": 12,
          "sf": "run_sweep! at Schelling.jl:122 [inlined]",
          "status": "Runtime dispatch",
          "x1": 240,
          "x2": 2296.9
         },
         {
          "level": 13,
          "sf": "move!(state::Vector{Int64}, params::Dict{String, Any}, total_occupants::Int64) at Schelling.jl:0",
          "status": "Default",
          "x1": 345,
          "x2": 350.9
         },
         {
          "level": 13,
          "sf": "move!(state::Vector{Int64}, params::Dict{String, Any}, total_occupants::Int64) at Schelling.jl:213",
          "status": "Default",
          "x1": 351,
          "x2": 357.9
         },
         {
          "level": 14,
          "sf": "getindex at dict.jl:497 [inlined]",
          "status": "Default",
          "x1": 351,
          "x2": 357.9
         },
         {
          "level": 15,
          "sf": "ht_keyindex(h::Dict{String, Any}, key::String) at dict.jl:284",
          "status": "Default",
          "x1": 351,
          "x2": 351.9
         },
         {
          "level": 16,
          "sf": "hashindex at dict.jl:169 [inlined]",
          "status": "Default",
          "x1": 351,
          "x2": 351.9
         },
         {
          "level": 17,
          "sf": "hash at hashing.jl:20 [inlined]",
          "status": "Default",
          "x1": 351,
          "x2": 351.9
         },
         {
          "level": 18,
          "sf": "hash at hashing.jl:107 [inlined]",
          "status": "Default",
          "x1": 351,
          "x2": 351.9
         },
         {
          "level": 15,
          "sf": "ht_keyindex(h::Dict{String, Any}, key::String) at dict.jl:288",
          "status": "Default",
          "x1": 352,
          "x2": 352.9
         },
         {
          "level": 16,
          "sf": "isslotempty at dict.jl:171 [inlined]",
          "status": "Default",
          "x1": 352,
          "x2": 352.9
         },
         {
          "level": 17,
          "sf": "getindex at array.jl:924 [inlined]",
          "status": "Default",
          "x1": 352,
          "x2": 352.9
         },
         {
          "level": 15,
          "sf": "ht_keyindex(h::Dict{String, Any}, key::String) at dict.jl:291",
          "status": "Default",
          "x1": 353,
          "x2": 355.9
         },
         {
          "level": 15,
          "sf": "ht_keyindex(h::Dict{String, Any}, key::String) at operators.jl:0",
          "status": "Default",
          "x1": 356,
          "x2": 357.9
         },
         {
          "level": 13,
          "sf": "move!(state::Vector{Int64}, params::Dict{String, Any}, total_occupants::Int64) at Schelling.jl:214",
          "status": "Default",
          "x1": 358,
          "x2": 367.9
         },
         {
          "level": 14,
          "sf": "getindex at dict.jl:497 [inlined]",
          "status": "Default",
          "x1": 358,
          "x2": 367.9
         },
         {
          "level": 15,
          "sf": "ht_keyindex(h::Dict{String, Any}, key::String) at dict.jl:280",
          "status": "Default",
          "x1": 358,
          "x2": 358.9
         },
         {
          "level": 15,
          "sf": "ht_keyindex(h::Dict{String, Any}, key::String) at dict.jl:281",
          "status": "Default",
          "x1": 359,
          "x2": 359.9
         },
         {
          "level": 16,
          "sf": "length at array.jl:215 [inlined]",
          "status": "Default",
          "x1": 359,
          "x2": 359.9
         },
         {
          "level": 15,
          "sf": "ht_keyindex(h::Dict{String, Any}, key::String) at dict.jl:284",
          "status": "Default",
          "x1": 360,
          "x2": 361.9
         },
         {
          "level": 16,
          "sf": "hashindex at dict.jl:169 [inlined]",
          "status": "Default",
          "x1": 360,
          "x2": 361.9
         },
         {
          "level": 17,
          "sf": "hash at hashing.jl:20 [inlined]",
          "status": "Default",
          "x1": 360,
          "x2": 361.9
         },
         {
          "level": 18,
          "sf": "hash at hashing.jl:107 [inlined]",
          "status": "Default",
          "x1": 360,
          "x2": 361.9
         },
         {
          "level": 15,
          "sf": "ht_keyindex(h::Dict{String, Any}, key::String) at dict.jl:291",
          "status": "Default",
          "x1": 362,
          "x2": 367.9
         },
         {
          "level": 13,
          "sf": "move!(state::Vector{Int64}, params::Dict{String, Any}, total_occupants::Int64) at Schelling.jl:215",
          "status": "Default",
          "x1": 368,
          "x2": 377.9
         },
         {
          "level": 14,
          "sf": "getindex at dict.jl:497 [inlined]",
          "status": "Default",
          "x1": 368,
          "x2": 377.9
         },
         {
          "level": 15,
          "sf": "ht_keyindex(h::Dict{String, Any}, key::String) at dict.jl:281",
          "status": "Default",
          "x1": 368,
          "x2": 368.9
         },
         {
          "level": 16,
          "sf": "length at array.jl:215 [inlined]",
          "status": "Default",
          "x1": 368,
          "x2": 368.9
         },
         {
          "level": 15,
          "sf": "ht_keyindex(h::Dict{String, Any}, key::String) at dict.jl:284",
          "status": "Default",
          "x1": 369,
          "x2": 370.9
         },
         {
          "level": 16,
          "sf": "hashindex at dict.jl:169 [inlined]",
          "status": "Default",
          "x1": 369,
          "x2": 370.9
         },
         {
          "level": 17,
          "sf": "hash at hashing.jl:20 [inlined]",
          "status": "Default",
          "x1": 369,
          "x2": 370.9
         },
         {
          "level": 18,
          "sf": "hash at hashing.jl:107 [inlined]",
          "status": "Default",
          "x1": 369,
          "x2": 370.9
         },
         {
          "level": 15,
          "sf": "ht_keyindex(h::Dict{String, Any}, key::String) at dict.jl:288",
          "status": "Default",
          "x1": 371,
          "x2": 372.9
         },
         {
          "level": 16,
          "sf": "isslotempty at dict.jl:171 [inlined]",
          "status": "Default",
          "x1": 371,
          "x2": 371.9
         },
         {
          "level": 17,
          "sf": "getindex at array.jl:924 [inlined]",
          "status": "Default",
          "x1": 371,
          "x2": 371.9
         },
         {
          "level": 15,
          "sf": "ht_keyindex(h::Dict{String, Any}, key::String) at dict.jl:291",
          "status": "Default",
          "x1": 373,
          "x2": 377.9
         },
         {
          "level": 13,
          "sf": "move!(state::Vector{Int64}, params::Dict{String, Any}, total_occupants::Int64) at Schelling.jl:219",
          "status": "Default",
          "x1": 378,
          "x2": 1719.9
         },
         {
          "level": 14,
          "sf": "collect(itr::Base.Generator{Vector{Int64}, Main.Schelling.var\"#3#5\"{Vector{Int64}, Int64}}) at array.jl:0",
          "status": "Default",
          "x1": 378,
          "x2": 381.9
         },
         {
          "level": 14,
          "sf": "pick_sites(state::Vector{Int64}, moveType::String, capacity::Int64, N::Int64) at Schelling.jl:171",
          "status": "Default",
          "x1": 383,
          "x2": 383.9
         },
         {
          "level": 14,
          "sf": "pick_sites(state::Vector{Int64}, moveType::String, capacity::Int64, N::Int64) at Schelling.jl:176",
          "status": "Default",
          "x1": 384,
          "x2": 1551.9
         },
         {
          "level": 15,
          "sf": "findall(testf::Base.Fix2{typeof(>), Int64}, A::Vector{Float64}) at array.jl:2311",
          "status": "Default",
          "x1": 384,
          "x2": 386.9
         },
         {
          "level": 15,
          "sf": "/(A::Vector{Int64}, B::Int64) at arraymath.jl:24",
          "status": "Default",
          "x1": 387,
          "x2": 469.9
         },
         {
          "level": 16,
          "sf": "broadcast_preserving_zero_d at broadcast.jl:849 [inlined]",
          "status": "Default",
          "x1": 387,
          "x2": 465.9
         },
         {
          "level": 17,
          "sf": "materialize at broadcast.jl:860 [inlined]",
          "status": "Default",
          "x1": 387,
          "x2": 465.9
         },
         {
          "level": 18,
          "sf": "copy at broadcast.jl:885 [inlined]",
          "status": "Default",
          "x1": 387,
          "x2": 465.9
         },
         {
          "level": 19,
          "sf": "copyto! at broadcast.jl:913 [inlined]",
          "status": "Default",
          "x1": 387,
          "x2": 404.9
         },
         {
          "level": 20,
          "sf": "copyto! at broadcast.jl:957 [inlined]",
          "status": "Default",
          "x1": 387,
          "x2": 387.9
         },
         {
          "level": 21,
          "sf": "preprocess at broadcast.jl:940 [inlined]",
          "status": "Default",
          "x1": 387,
          "x2": 387.9
         },
         {
          "level": 22,
          "sf": "preprocess_args at broadcast.jl:943 [inlined]",
          "status": "Default",
          "x1": 387,
          "x2": 387.9
         },
         {
          "level": 23,
          "sf": "preprocess at broadcast.jl:941 [inlined]",
          "status": "Default",
          "x1": 387,
          "x2": 387.9
         },
         {
          "level": 24,
          "sf": "broadcast_unalias at broadcast.jl:934 [inlined]",
          "status": "Default",
          "x1": 387,
          "x2": 387.9
         },
         {
          "level": 25,
          "sf": "unalias at abstractarray.jl:1427 [inlined]",
          "status": "Default",
          "x1": 387,
          "x2": 387.9
         },
         {
          "level": 26,
          "sf": "mightalias at abstractarray.jl:1462 [inlined]",
          "status": "Default",
          "x1": 387,
          "x2": 387.9
         },
         {
          "level": 27,
          "sf": "isbits at reflection.jl:593 [inlined]",
          "status": "Default",
          "x1": 387,
          "x2": 387.9
         },
         {
          "level": 28,
          "sf": "getproperty at Base.jl:33 [inlined]",
          "status": "Default",
          "x1": 387,
          "x2": 387.9
         },
         {
          "level": 20,
          "sf": "copyto! at broadcast.jl:960 [inlined]",
          "status": "Default",
          "x1": 388,
          "x2": 404.9
         },
         {
          "level": 21,
          "sf": "macro expansion at simdloop.jl:75 [inlined]",
          "status": "Default",
          "x1": 388,
          "x2": 388.9
         },
         {
          "level": 22,
          "sf": "< at int.jl:83 [inlined]",
          "status": "Default",
          "x1": 388,
          "x2": 388.9
         },
         {
          "level": 21,
          "sf": "macro expansion at simdloop.jl:77 [inlined]",
          "status": "Default",
          "x1": 389,
          "x2": 401.9
         },
         {
          "level": 22,
          "sf": "macro expansion at broadcast.jl:961 [inlined]",
          "status": "Default",
          "x1": 389,
          "x2": 401.9
         },
         {
          "level": 23,
          "sf": "getindex at broadcast.jl:597 [inlined]",
          "status": "Default",
          "x1": 389,
          "x2": 401.9
         },
         {
          "level": 24,
          "sf": "_broadcast_getindex at broadcast.jl:642 [inlined]",
          "status": "Default",
          "x1": 389,
          "x2": 401.9
         },
         {
          "level": 25,
          "sf": "_getindex at broadcast.jl:666 [inlined]",
          "status": "Default",
          "x1": 389,
          "x2": 401.9
         },
         {
          "level": 26,
          "sf": "_broadcast_getindex at broadcast.jl:636 [inlined]",
          "status": "Default",
          "x1": 389,
          "x2": 401.9
         },
         {
          "level": 27,
          "sf": "getindex at array.jl:924 [inlined]",
          "status": "Default",
          "x1": 389,
          "x2": 401.9
         },
         {
          "level": 21,
          "sf": "macro expansion at simdloop.jl:78 [inlined]",
          "status": "Default",
          "x1": 402,
          "x2": 404.9
         },
         {
          "level": 22,
          "sf": "+ at int.jl:87 [inlined]",
          "status": "Default",
          "x1": 402,
          "x2": 404.9
         },
         {
          "level": 19,
          "sf": "similar at broadcast.jl:211 [inlined]",
          "status": "Default",
          "x1": 405,
          "x2": 465.9
         },
         {
          "level": 20,
          "sf": "similar at broadcast.jl:212 [inlined]",
          "status": "Default",
          "x1": 405,
          "x2": 465.9
         },
         {
          "level": 21,
          "sf": "similar at abstractarray.jl:840 [inlined]",
          "status": "Default",
          "x1": 405,
          "x2": 465.9
         },
         {
          "level": 22,
          "sf": "similar at abstractarray.jl:841 [inlined]",
          "status": "Default",
          "x1": 405,
          "x2": 465.9
         },
         {
          "level": 23,
          "sf": "Array at boot.jl:476 [inlined]",
          "status": "Default",
          "x1": 405,
          "x2": 465.9
         },
         {
          "level": 24,
          "sf": "Array at boot.jl:468 [inlined]",
          "status": "Default",
          "x1": 405,
          "x2": 465.9
         },
         {
          "level": 25,
          "sf": "Array at boot.jl:459 [inlined]",
          "status": "Garbage collection",
          "x1": 405,
          "x2": 465.9
         },
         {
          "level": 15,
          "sf": "sum at reducedim.jl:994 [inlined]",
          "status": "Default",
          "x1": 470,
          "x2": 489.9
         },
         {
          "level": 16,
          "sf": "#sum#772 at reducedim.jl:994 [inlined]",
          "status": "Default",
          "x1": 470,
          "x2": 489.9
         },
         {
          "level": 17,
          "sf": "_sum at reducedim.jl:998 [inlined]",
          "status": "Default",
          "x1": 470,
          "x2": 489.9
         },
         {
          "level": 18,
          "sf": "#_sum#774 at reducedim.jl:998 [inlined]",
          "status": "Default",
          "x1": 470,
          "x2": 489.9
         },
         {
          "level": 19,
          "sf": "_sum at reducedim.jl:999 [inlined]",
          "status": "Default",
          "x1": 470,
          "x2": 489.9
         },
         {
          "level": 20,
          "sf": "#_sum#775 at reducedim.jl:999 [inlined]",
          "status": "Default",
          "x1": 470,
          "x2": 489.9
         },
         {
          "level": 21,
          "sf": "mapreduce at reducedim.jl:357 [inlined]",
          "status": "Default",
          "x1": 470,
          "x2": 489.9
         },
         {
          "level": 22,
          "sf": "#mapreduce#765 at reducedim.jl:357 [inlined]",
          "status": "Default",
          "x1": 470,
          "x2": 489.9
         },
         {
          "level": 23,
          "sf": "_mapreduce_dim at reducedim.jl:365 [inlined]",
          "status": "Default",
          "x1": 470,
          "x2": 489.9
         },
         {
          "level": 24,
          "sf": "_mapreduce at reduce.jl:424 [inlined]",
          "status": "Default",
          "x1": 470,
          "x2": 470.9
         },
         {
          "level": 25,
          "sf": "LinearIndices at indices.jl:457 [inlined]",
          "status": "Default",
          "x1": 470,
          "x2": 470.9
         },
         {
          "level": 26,
          "sf": "axes at abstractarray.jl:95 [inlined]",
          "status": "Default",
          "x1": 470,
          "x2": 470.9
         },
         {
          "level": 27,
          "sf": "size at array.jl:151 [inlined]",
          "status": "Default",
          "x1": 470,
          "x2": 470.9
         },
         {
          "level": 24,
          "sf": "_mapreduce at reduce.jl:431 [inlined]",
          "status": "Default",
          "x1": 471,
          "x2": 472.9
         },
         {
          "level": 24,
          "sf": "_mapreduce at reduce.jl:442 [inlined]",
          "status": "Default",
          "x1": 473,
          "x2": 489.9
         },
         {
          "level": 25,
          "sf": "mapreduce_impl at reduce.jl:272 [inlined]",
          "status": "Default",
          "x1": 473,
          "x2": 489.9
         },
         {
          "level": 26,
          "sf": "mapreduce_impl(f::typeof(identity), op::typeof(Base.add_sum), A::Vector{Int64}, ifirst::Int64, ilast::Int64, blksize::Int64) at reduce.jl:0",
          "status": "Default",
          "x1": 473,
          "x2": 474.9
         },
         {
          "level": 26,
          "sf": "mapreduce_impl(f::typeof(identity), op::typeof(Base.add_sum), A::Vector{Int64}, ifirst::Int64, ilast::Int64, blksize::Int64) at reduce.jl:258",
          "status": "Default",
          "x1": 475,
          "x2": 489.9
         },
         {
          "level": 27,
          "sf": "macro expansion at simdloop.jl:72 [inlined]",
          "status": "Default",
          "x1": 475,
          "x2": 476.9
         },
         {
          "level": 27,
          "sf": "macro expansion at simdloop.jl:75 [inlined]",
          "status": "Default",
          "x1": 477,
          "x2": 477.9
         },
         {
          "level": 27,
          "sf": "macro expansion at simdloop.jl:77 [inlined]",
          "status": "Default",
          "x1": 478,
          "x2": 489.9
         },
         {
          "level": 28,
          "sf": "macro expansion at reduce.jl:259 [inlined]",
          "status": "Default",
          "x1": 478,
          "x2": 489.9
         },
         {
          "level": 29,
          "sf": "getindex at array.jl:924 [inlined]",
          "status": "Default",
          "x1": 478,
          "x2": 489.9
         },
         {
          "level": 15,
          "sf": "select_particle(density::Vector{Float64}) at Schelling.jl:151",
          "status": "Default",
          "x1": 490,
          "x2": 490.9
         },
         {
          "level": 15,
          "sf": "select_particle(density::Vector{Float64}) at Schelling.jl:152",
          "status": "Default",
          "x1": 491,
          "x2": 1140.9
         },
         {
          "level": 16,
          "sf": "findall(testf::Base.Fix2{typeof(>), Int64}, A::Vector{Float64}) at array.jl:2311",
          "status": "Default",
          "x1": 491,
          "x2": 1127.9
         },
         {
          "level": 17,
          "sf": "findall(B::BitVector) at bitarray.jl:0",
          "status": "Default",
          "x1": 491,
          "x2": 496.9
         },
         {
          "level": 17,
          "sf": "findall(B::BitVector) at bitarray.jl:1687",
          "status": "Default",
          "x1": 497,
          "x2": 502.9
         },
         {
          "level": 18,
          "sf": "count at reducedim.jl:439 [inlined]",
          "status": "Default",
          "x1": 497,
          "x2": 502.9
         },
         {
          "level": 19,
          "sf": "#count#768 at reducedim.jl:439 [inlined]",
          "status": "Default",
          "x1": 497,
          "x2": 502.9
         },
         {
          "level": 20,
          "sf": "count at reducedim.jl:440 [inlined]",
          "status": "Default",
          "x1": 497,
          "x2": 502.9
         },
         {
          "level": 21,
          "sf": "#count#769 at reducedim.jl:440 [inlined]",
          "status": "Default",
          "x1": 497,
          "x2": 502.9
         },
         {
          "level": 22,
          "sf": "_count at bitarray.jl:1454 [inlined]",
          "status": "Default",
          "x1": 497,
          "x2": 502.9
         },
         {
          "level": 23,
          "sf": "bitcount at bitarray.jl:1446 [inlined]",
          "status": "Default",
          "x1": 497,
          "x2": 502.9
         },
         {
          "level": 24,
          "sf": "#bitcount#312 at bitarray.jl:0 [inlined]",
          "status": "Default",
          "x1": 497,
          "x2": 497.9
         },
         {
          "level": 24,
          "sf": "#bitcount#312 at bitarray.jl:1448 [inlined]",
          "status": "Default",
          "x1": 498,
          "x2": 500.9
         },
         {
          "level": 25,
          "sf": "length at array.jl:215 [inlined]",
          "status": "Default",
          "x1": 498,
          "x2": 500.9
         },
         {
          "level": 24,
          "sf": "#bitcount#312 at bitarray.jl:1449 [inlined]",
          "status": "Default",
          "x1": 501,
          "x2": 502.9
         },
         {
          "level": 25,
          "sf": "count_ones at int.jl:408 [inlined]",
          "status": "Default",
          "x1": 501,
          "x2": 502.9
         },
         {
          "level": 17,
          "sf": "findall(B::BitVector) at bitarray.jl:1688",
          "status": "Default",
          "x1": 503,
          "x2": 592.9
         },
         {
          "level": 18,
          "sf": "Array at boot.jl:459 [inlined]",
          "status": "Garbage collection",
          "x1": 503,
          "x2": 592.9
         },
         {
          "level": 17,
          "sf": "findall(B::BitVector) at bitarray.jl:1690",
          "status": "Default",
          "x1": 593,
          "x2": 611.9
         },
         {
          "level": 18,
          "sf": "allindices!(I::Vector{Int64}, B::BitVector) at bitarray.jl:1660",
          "status": "Default",
          "x1": 593,
          "x2": 609.9
         },
         {
          "level": 19,
          "sf": "materialize! at broadcast.jl:868 [inlined]",
          "status": "Default",
          "x1": 593,
          "x2": 605.9
         },
         {
          "level": 20,
          "sf": "materialize! at broadcast.jl:871 [inlined]",
          "status": "Default",
          "x1": 593,
          "x2": 605.9
         },
         {
          "level": 21,
          "sf": "copyto! at broadcast.jl:913 [inlined]",
          "status": "Default",
          "x1": 593,
          "x2": 605.9
         },
         {
          "level": 22,
          "sf": "copyto! at broadcast.jl:954 [inlined]",
          "status": "Default",
          "x1": 593,
          "x2": 605.9
         },
         {
          "level": 23,
          "sf": "copyto! at abstractarray.jl:1018 [inlined]",
          "status": "Default",
          "x1": 593,
          "x2": 605.9
         },
         {
          "level": 24,
          "sf": "copyto_unaliased! at abstractarray.jl:0 [inlined]",
          "status": "Default",
          "x1": 593,
          "x2": 602.9
         },
         {
          "level": 24,
          "sf": "copyto_unaliased! at abstractarray.jl:1038 [inlined]",
          "status": "Default",
          "x1": 603,
          "x2": 604.9
         },
         {
          "level": 25,
          "sf": "setindex! at subarray.jl:347 [inlined]",
          "status": "Default",
          "x1": 603,
          "x2": 604.9
         },
         {
          "level": 26,
          "sf": "setindex! at array.jl:966 [inlined]",
          "status": "Default",
          "x1": 603,
          "x2": 604.9
         },
         {
          "level": 24,
          "sf": "copyto_unaliased! at abstractarray.jl:1039 [inlined]",
          "status": "Default",
          "x1": 605,
          "x2": 605.9
         },
         {
          "level": 18,
          "sf": "length at bitarray.jl:103 [inlined]",
          "status": "Default",
          "x1": 610,
          "x2": 611.9
         },
         {
          "level": 19,
          "sf": "getproperty at Base.jl:38 [inlined]",
          "status": "Default",
          "x1": 610,
          "x2": 611.9
         },
         {
          "level": 17,
          "sf": "findall(B::BitVector) at bitarray.jl:1695",
          "status": "Default",
          "x1": 612,
          "x2": 612.9
         },
         {
          "level": 18,
          "sf": "getindex at array.jl:924 [inlined]",
          "status": "Default",
          "x1": 612,
          "x2": 612.9
         },
         {
          "level": 17,
          "sf": "findall(B::BitVector) at bitarray.jl:1697",
          "status": "Default",
          "x1": 613,
          "x2": 623.9
         },
         {
          "level": 17,
          "sf": "findall(B::BitVector) at bitarray.jl:1704",
          "status": "Default",
          "x1": 624,
          "x2": 629.9
         },
         {
          "level": 18,
          "sf": "trailing_zeros at int.jl:434 [inlined]",
          "status": "Default",
          "x1": 624,
          "x2": 629.9
         },
         {
          "level": 17,
          "sf": "findall(B::BitVector) at bitarray.jl:1708",
          "status": "Default",
          "x1": 630,
          "x2": 687.9
         },
         {
          "level": 18,
          "sf": "setindex! at array.jl:966 [inlined]",
          "status": "Default",
          "x1": 630,
          "x2": 687.9
         },
         {
          "level": 17,
          "sf": "findall(B::BitVector) at bitarray.jl:1709",
          "status": "Default",
          "x1": 688,
          "x2": 688.9
         },
         {
          "level": 18,
          "sf": "+ at int.jl:87 [inlined]",
          "status": "Default",
          "x1": 688,
          "x2": 688.9
         },
         {
          "level": 17,
          "sf": "materialize at broadcast.jl:860 [inlined]",
          "status": "Default",
          "x1": 689,
          "x2": 1124.9
         },
         {
          "level": 18,
          "sf": "copy at broadcast.jl:885 [inlined]",
          "status": "Default",
          "x1": 689,
          "x2": 1123.9
         },
         {
          "level": 19,
          "sf": "copyto! at broadcast.jl:913 [inlined]",
          "status": "Default",
          "x1": 689,
          "x2": 1013.9
         },
         {
          "level": 20,
          "sf": "copyto! at broadcast.jl:971 [inlined]",
          "status": "Default",
          "x1": 689,
          "x2": 1013.9
         },
         {
          "level": 21,
          "sf": "copyto! at broadcast.jl:957 [inlined]",
          "status": "Default",
          "x1": 689,
          "x2": 693.9
         },
         {
          "level": 22,
          "sf": "preprocess at broadcast.jl:940 [inlined]",
          "status": "Default",
          "x1": 689,
          "x2": 693.9
         },
         {
          "level": 23,
          "sf": "preprocess_args at broadcast.jl:944 [inlined]",
          "status": "Default",
          "x1": 689,
          "x2": 693.9
         },
         {
          "level": 24,
          "sf": "preprocess at broadcast.jl:941 [inlined]",
          "status": "Default",
          "x1": 689,
          "x2": 693.9
         },
         {
          "level": 25,
          "sf": "broadcast_unalias at broadcast.jl:934 [inlined]",
          "status": "Default",
          "x1": 689,
          "x2": 692.9
         },
         {
          "level": 26,
          "sf": "unalias at abstractarray.jl:1427 [inlined]",
          "status": "Default",
          "x1": 689,
          "x2": 692.9
         },
         {
          "level": 27,
          "sf": "mightalias at abstractarray.jl:0 [inlined]",
          "status": "Default",
          "x1": 689,
          "x2": 689.9
         },
         {
          "level": 27,
          "sf": "mightalias at abstractarray.jl:1462 [inlined]",
          "status": "Default",
          "x1": 690,
          "x2": 692.9
         },
         {
          "level": 28,
          "sf": "dataids at abstractarray.jl:1485 [inlined]",
          "status": "Default",
          "x1": 690,
          "x2": 692.9
         },
         {
          "level": 29,
          "sf": "objectid at reflection.jl:340 [inlined]",
          "status": "Default",
          "x1": 690,
          "x2": 692.9
         },
         {
          "level": 25,
          "sf": "extrude at broadcast.jl:637 [inlined]",
          "status": "Default",
          "x1": 693,
          "x2": 693.9
         },
         {
          "level": 26,
          "sf": "newindexer at broadcast.jl:586 [inlined]",
          "status": "Default",
          "x1": 693,
          "x2": 693.9
         },
         {
          "level": 27,
          "sf": "axes at abstractarray.jl:95 [inlined]",
          "status": "Default",
          "x1": 693,
          "x2": 693.9
         },
         {
          "level": 28,
          "sf": "size at array.jl:151 [inlined]",
          "status": "Default",
          "x1": 693,
          "x2": 693.9
         },
         {
          "level": 21,
          "sf": "copyto! at broadcast.jl:960 [inlined]",
          "status": "Default",
          "x1": 694,
          "x2": 1012.9
         },
         {
          "level": 22,
          "sf": "macro expansion at simdloop.jl:72 [inlined]",
          "status": "Default",
          "x1": 694,
          "x2": 695.9
         },
         {
          "level": 22,
          "sf": "macro expansion at simdloop.jl:75 [inlined]",
          "status": "Default",
          "x1": 696,
          "x2": 705.9
         },
         {
          "level": 22,
          "sf": "macro expansion at simdloop.jl:77 [inlined]",
          "status": "Default",
          "x1": 706,
          "x2": 1010.9
         },
         {
          "level": 23,
          "sf": "macro expansion at broadcast.jl:961 [inlined]",
          "status": "Default",
          "x1": 706,
          "x2": 1010.9
         },
         {
          "level": 24,
          "sf": "setindex! at bitarray.jl:702 [inlined]",
          "status": "Default",
          "x1": 706,
          "x2": 961.9
         },
         {
          "level": 25,
          "sf": "unsafe_bitsetindex! at bitarray.jl:688 [inlined]",
          "status": "Default",
          "x1": 706,
          "x2": 728.9
         },
         {
          "level": 26,
          "sf": "get_chunks_id at bitarray.jl:126 [inlined]",
          "status": "Default",
          "x1": 706,
          "x2": 728.9
         },
         {
          "level": 27,
          "sf": "_div64 at bitarray.jl:119 [inlined]",
          "status": "Default",
          "x1": 706,
          "x2": 728.9
         },
         {
          "level": 28,
          "sf": ">> at int.jl:501 [inlined]",
          "status": "Default",
          "x1": 706,
          "x2": 728.9
         },
         {
          "level": 29,
          "sf": ">> at int.jl:494 [inlined]",
          "status": "Default",
          "x1": 706,
          "x2": 728.9
         },
         {
          "level": 25,
          "sf": "unsafe_bitsetindex! at bitarray.jl:689 [inlined]",
          "status": "Default",
          "x1": 729,
          "x2": 961.9
         },
         {
          "level": 26,
          "sf": "_unsafe_bitsetindex! at bitarray.jl:693 [inlined]",
          "status": "Default",
          "x1": 729,
          "x2": 730.9
         },
         {
          "level": 27,
          "sf": "<< at int.jl:503 [inlined]",
          "status": "Default",
          "x1": 729,
          "x2": 730.9
         },
         {
          "level": 28,
          "sf": "<< at int.jl:496 [inlined]",
          "status": "Default",
          "x1": 729,
          "x2": 730.9
         },
         {
          "level": 26,
          "sf": "_unsafe_bitsetindex! at bitarray.jl:695 [inlined]",
          "status": "Default",
          "x1": 731,
          "x2": 788.9
         },
         {
          "level": 27,
          "sf": "getindex at array.jl:924 [inlined]",
          "status": "Default",
          "x1": 731,
          "x2": 788.9
         },
         {
          "level": 26,
          "sf": "_unsafe_bitsetindex! at bitarray.jl:696 [inlined]",
          "status": "Default",
          "x1": 789,
          "x2": 961.9
         },
         {
          "level": 27,
          "sf": "setindex! at array.jl:966 [inlined]",
          "status": "Default",
          "x1": 789,
          "x2": 953.9
         },
         {
          "level": 27,
          "sf": "ifelse at essentials.jl:489 [inlined]",
          "status": "Default",
          "x1": 954,
          "x2": 956.9
         },
         {
          "level": 27,
          "sf": "& at int.jl:340 [inlined]",
          "status": "Default",
          "x1": 957,
          "x2": 957.9
         },
         {
          "level": 27,
          "sf": "| at int.jl:365 [inlined]",
          "status": "Default",
          "x1": 958,
          "x2": 961.9
         },
         {
          "level": 24,
          "sf": "getindex at broadcast.jl:597 [inlined]",
          "status": "Default",
          "x1": 962,
          "x2": 1010.9
         },
         {
          "level": 25,
          "sf": "_broadcast_getindex at broadcast.jl:642 [inlined]",
          "status": "Default",
          "x1": 962,
          "x2": 1005.9
         },
         {
          "level": 26,
          "sf": "_getindex at broadcast.jl:667 [inlined]",
          "status": "Default",
          "x1": 962,
          "x2": 1005.9
         },
         {
          "level": 27,
          "sf": "_broadcast_getindex at broadcast.jl:636 [inlined]",
          "status": "Default",
          "x1": 962,
          "x2": 1005.9
         },
         {
          "level": 28,
          "sf": "getindex at array.jl:924 [inlined]",
          "status": "Default",
          "x1": 962,
          "x2": 1005.9
         },
         {
          "level": 25,
          "sf": "_broadcast_getindex at broadcast.jl:643 [inlined]",
          "status": "Default",
          "x1": 1006,
          "x2": 1010.9
         },
         {
          "level": 26,
          "sf": "_broadcast_getindex_evalf at broadcast.jl:670 [inlined]",
          "status": "Default",
          "x1": 1006,
          "x2": 1010.9
         },
         {
          "level": 27,
          "sf": "Fix2 at operators.jl:1113 [inlined]",
          "status": "Default",
          "x1": 1006,
          "x2": 1010.9
         },
         {
          "level": 28,
          "sf": "> at operators.jl:382 [inlined]",
          "status": "Default",
          "x1": 1006,
          "x2": 1010.9
         },
         {
          "level": 29,
          "sf": "< at float.jl:454 [inlined]",
          "status": "Default",
          "x1": 1006,
          "x2": 1010.9
         },
         {
          "level": 30,
          "sf": "& at bool.jl:38 [inlined]",
          "status": "Default",
          "x1": 1006,
          "x2": 1007.9
         },
         {
          "level": 30,
          "sf": "< at float.jl:412 [inlined]",
          "status": "Default",
          "x1": 1008,
          "x2": 1009.9
         },
         {
          "level": 30,
          "sf": "== at float.jl:410 [inlined]",
          "status": "Default",
          "x1": 1010,
          "x2": 1010.9
         },
         {
          "level": 22,
          "sf": "macro expansion at simdloop.jl:78 [inlined]",
          "status": "Default",
          "x1": 1011,
          "x2": 1012.9
         },
         {
          "level": 23,
          "sf": "+ at int.jl:87 [inlined]",
          "status": "Default",
          "x1": 1011,
          "x2": 1012.9
         },
         {
          "level": 19,
          "sf": "similar at broadcast.jl:211 [inlined]",
          "status": "Default",
          "x1": 1014,
          "x2": 1123.9
         },
         {
          "level": 20,
          "sf": "similar at broadcast.jl:214 [inlined]",
          "status": "Default",
          "x1": 1014,
          "x2": 1123.9
         },
         {
          "level": 21,
          "sf": "similar at abstractarray.jl:840 [inlined]",
          "status": "Default",
          "x1": 1014,
          "x2": 1123.9
         },
         {
          "level": 22,
          "sf": "similar at abstractarray.jl:841 [inlined]",
          "status": "Default",
          "x1": 1014,
          "x2": 1123.9
         },
         {
          "level": 23,
          "sf": "BitArray at bitarray.jl:71 [inlined]",
          "status": "Default",
          "x1": 1014,
          "x2": 1123.9
         },
         {
          "level": 24,
          "sf": "BitArray at bitarray.jl:37 [inlined]",
          "status": "Default",
          "x1": 1014,
          "x2": 1115.9
         },
         {
          "level": 25,
          "sf": "Array at boot.jl:459 [inlined]",
          "status": "Garbage collection",
          "x1": 1014,
          "x2": 1115.9
         },
         {
          "level": 24,
          "sf": "BitArray at bitarray.jl:38 [inlined]",
          "status": "Default",
          "x1": 1116,
          "x2": 1119.9
         },
         {
          "level": 25,
          "sf": "lastindex at abstractarray.jl:378 [inlined]",
          "status": "Default",
          "x1": 1116,
          "x2": 1119.9
         },
         {
          "level": 26,
          "sf": "eachindex at abstractarray.jl:341 [inlined]",
          "status": "Default",
          "x1": 1116,
          "x2": 1119.9
         },
         {
          "level": 27,
          "sf": "axes1 at abstractarray.jl:116 [inlined]",
          "status": "Default",
          "x1": 1116,
          "x2": 1119.9
         },
         {
          "level": 28,
          "sf": "axes at abstractarray.jl:95 [inlined]",
          "status": "Default",
          "x1": 1116,
          "x2": 1119.9
         },
         {
          "level": 29,
          "sf": "size at array.jl:151 [inlined]",
          "status": "Default",
          "x1": 1116,
          "x2": 1119.9
         },
         {
          "level": 24,
          "sf": "BitArray at bitarray.jl:39 [inlined]",
          "status": "Default",
          "x1": 1120,
          "x2": 1123.9
         },
         {
          "level": 18,
          "sf": "instantiate at broadcast.jl:281 [inlined]",
          "status": "Default",
          "x1": 1124,
          "x2": 1124.9
         },
         {
          "level": 19,
          "sf": "combine_axes at broadcast.jl:500 [inlined]",
          "status": "Default",
          "x1": 1124,
          "x2": 1124.9
         },
         {
          "level": 20,
          "sf": "axes at abstractarray.jl:95 [inlined]",
          "status": "Default",
          "x1": 1124,
          "x2": 1124.9
         },
         {
          "level": 21,
          "sf": "size at array.jl:151 [inlined]",
          "status": "Default",
          "x1": 1124,
          "x2": 1124.9
         },
         {
          "level": 16,
          "sf": "findall(B::BitVector) at bitarray.jl:0",
          "status": "Default",
          "x1": 1128,
          "x2": 1129.9
         },
         {
          "level": 16,
          "sf": "findall(B::BitVector) at bitarray.jl:1686",
          "status": "Default",
          "x1": 1130,
          "x2": 1132.9
         },
         {
          "level": 16,
          "sf": "findall(testf::Base.Fix2{typeof(>), Int64}, A::Vector{Float64}) at simdloop.jl:0",
          "status": "Default",
          "x1": 1133,
          "x2": 1139.9
         },
         {
          "level": 15,
          "sf": "select_particle(density::Vector{Float64}) at Schelling.jl:154",
          "status": "Default",
          "x1": 1141,
          "x2": 1141.9
         },
         {
          "level": 16,
          "sf": "rand at Random.jl:257 [inlined]",
          "status": "Default",
          "x1": 1141,
          "x2": 1141.9
         },
         {
          "level": 17,
          "sf": "rand at Random.jl:257 [inlined]",
          "status": "Default",
          "x1": 1141,
          "x2": 1141.9
         },
         {
          "level": 18,
          "sf": "rand at Xoshiro.jl:210 [inlined]",
          "status": "Default",
          "x1": 1141,
          "x2": 1141.9
         },
         {
          "level": 19,
          "sf": "* at float.jl:385 [inlined]",
          "status": "Default",
          "x1": 1141,
          "x2": 1141.9
         },
         {
          "level": 15,
          "sf": "select_particle(density::Vector{Float64}) at Schelling.jl:156",
          "status": "Default",
          "x1": 1142,
          "x2": 1218.9
         },
         {
          "level": 16,
          "sf": "< at float.jl:412 [inlined]",
          "status": "Default",
          "x1": 1142,
          "x2": 1189.9
         },
         {
          "level": 15,
          "sf": "select_particle(density::Vector{Float64}) at Schelling.jl:157",
          "status": "Default",
          "x1": 1219,
          "x2": 1284.9
         },
         {
          "level": 16,
          "sf": "getindex at array.jl:924 [inlined]",
          "status": "Default",
          "x1": 1219,
          "x2": 1284.9
         },
         {
          "level": 15,
          "sf": "select_particle(density::Vector{Float64}) at Schelling.jl:158",
          "status": "Default",
          "x1": 1285,
          "x2": 1288.9
         },
         {
          "level": 16,
          "sf": "+ at int.jl:87 [inlined]",
          "status": "Default",
          "x1": 1285,
          "x2": 1288.9
         },
         {
          "level": 15,
          "sf": "select_particle(density::Vector{Float64}) at Schelling.jl:159",
          "status": "Default",
          "x1": 1289,
          "x2": 1374.9
         },
         {
          "level": 15,
          "sf": "select_particle(density::Vector{Float64}) at Schelling.jl:160",
          "status": "Default",
          "x1": 1375,
          "x2": 1550.9
         },
         {
          "level": 16,
          "sf": "getindex at array.jl:924 [inlined]",
          "status": "Default",
          "x1": 1375,
          "x2": 1550.9
         },
         {
          "level": 14,
          "sf": "pick_sites(state::Vector{Int64}, moveType::String, capacity::Int64, N::Int64) at Schelling.jl:178",
          "status": "Default",
          "x1": 1552,
          "x2": 1553.9
         },
         {
          "level": 15,
          "sf": "==(a::String, b::String) at string.jl:125",
          "status": "Default",
          "x1": 1552,
          "x2": 1552.9
         },
         {
          "level": 16,
          "sf": "sizeof at Base.jl:179 [inlined]",
          "status": "Default",
          "x1": 1552,
          "x2": 1552.9
         },
         {
          "level": 14,
          "sf": "pick_sites(state::Vector{Int64}, moveType::String, capacity::Int64, N::Int64) at Schelling.jl:188",
          "status": "Default",
          "x1": 1554,
          "x2": 1555.9
         },
         {
          "level": 15,
          "sf": "==(a::String, b::String) at string.jl:0",
          "status": "Default",
          "x1": 1554,
          "x2": 1555.9
         },
         {
          "level": 14,
          "sf": "pick_sites(state::Vector{Int64}, moveType::String, capacity::Int64, N::Int64) at Schelling.jl:189",
          "status": "Default",
          "x1": 1556,
          "x2": 1644.9
         },
         {
          "level": 15,
          "sf": "vect at array.jl:126 [inlined]",
          "status": "Default",
          "x1": 1556,
          "x2": 1638.9
         },
         {
          "level": 16,
          "sf": "_array_for at array.jl:679 [inlined]",
          "status": "Default",
          "x1": 1556,
          "x2": 1638.9
         },
         {
          "level": 17,
          "sf": "_array_for at array.jl:676 [inlined]",
          "status": "Default",
          "x1": 1556,
          "x2": 1638.9
         },
         {
          "level": 18,
          "sf": "similar at abstractarray.jl:840 [inlined]",
          "status": "Default",
          "x1": 1556,
          "x2": 1638.9
         },
         {
          "level": 19,
          "sf": "similar at abstractarray.jl:841 [inlined]",
          "status": "Default",
          "x1": 1556,
          "x2": 1638.9
         },
         {
          "level": 20,
          "sf": "Array at boot.jl:468 [inlined]",
          "status": "Default",
          "x1": 1556,
          "x2": 1638.9
         },
         {
          "level": 21,
          "sf": "Array at boot.jl:459 [inlined]",
          "status": "Garbage collection",
          "x1": 1556,
          "x2": 1638.9
         },
         {
          "level": 15,
          "sf": "mod1 at operators.jl:834 [inlined]",
          "status": "Default",
          "x1": 1639,
          "x2": 1644.9
         },
         {
          "level": 16,
          "sf": "mod at int.jl:279 [inlined]",
          "status": "Default",
          "x1": 1639,
          "x2": 1639.9
         },
         {
          "level": 16,
          "sf": "mod at int.jl:280 [inlined]",
          "status": "Default",
          "x1": 1640,
          "x2": 1644.9
         },
         {
          "level": 17,
          "sf": "fld at div.jl:292 [inlined]",
          "status": "Default",
          "x1": 1640,
          "x2": 1644.9
         },
         {
          "level": 18,
          "sf": "div at div.jl:327 [inlined]",
          "status": "Default",
          "x1": 1640,
          "x2": 1644.9
         },
         {
          "level": 19,
          "sf": "& at bool.jl:38 [inlined]",
          "status": "Default",
          "x1": 1640,
          "x2": 1644.9
         },
         {
          "level": 14,
          "sf": "pick_sites(state::Vector{Int64}, moveType::String, capacity::Int64, N::Int64) at Schelling.jl:191",
          "status": "Default",
          "x1": 1645,
          "x2": 1675.9
         },
         {
          "level": 15,
          "sf": "collect(itr::Base.Generator{Vector{Int64}, Main.Schelling.var\"#3#5\"{Vector{Int64}, Int64}}) at array.jl:0",
          "status": "Garbage collection",
          "x1": 1645,
          "x2": 1672.9
         },
         {
          "level": 15,
          "sf": "collect(itr::Base.Generator{Vector{Int64}, Main.Schelling.var\"#3#5\"{Vector{Int64}, Int64}}) at array.jl:787",
          "status": "Default",
          "x1": 1673,
          "x2": 1673.9
         },
         {
          "level": 16,
          "sf": "iterate at generator.jl:47 [inlined]",
          "status": "Default",
          "x1": 1673,
          "x2": 1673.9
         },
         {
          "level": 17,
          "sf": "#3 at none:0 [inlined]",
          "status": "Default",
          "x1": 1673,
          "x2": 1673.9
         },
         {
          "level": 18,
          "sf": "getindex at array.jl:924 [inlined]",
          "status": "Default",
          "x1": 1673,
          "x2": 1673.9
         },
         {
          "level": 15,
          "sf": "collect(itr::Base.Generator{Vector{Int64}, Main.Schelling.var\"#3#5\"{Vector{Int64}, Int64}}) at array.jl:797",
          "status": "Default",
          "x1": 1674,
          "x2": 1675.9
         },
         {
          "level": 16,
          "sf": "collect_to_with_first! at array.jl:822 [inlined]",
          "status": "Default",
          "x1": 1674,
          "x2": 1674.9
         },
         {
          "level": 17,
          "sf": "setindex! at array.jl:966 [inlined]",
          "status": "Default",
          "x1": 1674,
          "x2": 1674.9
         },
         {
          "level": 16,
          "sf": "collect_to_with_first! at array.jl:823 [inlined]",
          "status": "Default",
          "x1": 1675,
          "x2": 1675.9
         },
         {
          "level": 17,
          "sf": "collect_to! at array.jl:845 [inlined]",
          "status": "Default",
          "x1": 1675,
          "x2": 1675.9
         },
         {
          "level": 18,
          "sf": "iterate at generator.jl:44 [inlined]",
          "status": "Default",
          "x1": 1675,
          "x2": 1675.9
         },
         {
          "level": 19,
          "sf": "iterate at array.jl:898 [inlined]",
          "status": "Default",
          "x1": 1675,
          "x2": 1675.9
         },
         {
          "level": 20,
          "sf": "getindex at array.jl:924 [inlined]",
          "status": "Default",
          "x1": 1675,
          "x2": 1675.9
         },
         {
          "level": 14,
          "sf": "pick_sites(state::Vector{Int64}, moveType::String, capacity::Int64, N::Int64) at Schelling.jl:194",
          "status": "Default",
          "x1": 1676,
          "x2": 1685.9
         },
         {
          "level": 15,
          "sf": "sum at reduce.jl:558 [inlined]",
          "status": "Default",
          "x1": 1676,
          "x2": 1685.9
         },
         {
          "level": 16,
          "sf": "#sum#268 at reduce.jl:558 [inlined]",
          "status": "Default",
          "x1": 1676,
          "x2": 1685.9
         },
         {
          "level": 17,
          "sf": "count at reducedim.jl:439 [inlined]",
          "status": "Default",
          "x1": 1676,
          "x2": 1685.9
         },
         {
          "level": 18,
          "sf": "#count#768 at reducedim.jl:439 [inlined]",
          "status": "Default",
          "x1": 1676,
          "x2": 1685.9
         },
         {
          "level": 19,
          "sf": "count at reducedim.jl:440 [inlined]",
          "status": "Default",
          "x1": 1676,
          "x2": 1685.9
         },
         {
          "level": 20,
          "sf": "#count#769 at reducedim.jl:440 [inlined]",
          "status": "Default",
          "x1": 1676,
          "x2": 1685.9
         },
         {
          "level": 21,
          "sf": "_count at reducedim.jl:442 [inlined]",
          "status": "Default",
          "x1": 1676,
          "x2": 1685.9
         },
         {
          "level": 22,
          "sf": "_simple_count(::typeof(identity), x::Vector{Bool}, init::Int64) at reduce.jl:1317",
          "status": "Default",
          "x1": 1676,
          "x2": 1676.9
         },
         {
          "level": 23,
          "sf": "* at int.jl:88 [inlined]",
          "status": "Default",
          "x1": 1676,
          "x2": 1676.9
         },
         {
          "level": 22,
          "sf": "_simple_count(::typeof(identity), x::Vector{Bool}, init::Int64) at reduce.jl:1318",
          "status": "Default",
          "x1": 1677,
          "x2": 1685.9
         },
         {
          "level": 23,
          "sf": "getindex at array.jl:924 [inlined]",
          "status": "Default",
          "x1": 1677,
          "x2": 1678.9
         },
         {
          "level": 23,
          "sf": "+ at int.jl:989 [inlined]",
          "status": "Default",
          "x1": 1679,
          "x2": 1685.9
         },
         {
          "level": 24,
          "sf": "rem at int.jl:513 [inlined]",
          "status": "Default",
          "x1": 1679,
          "x2": 1685.9
         },
         {
          "level": 25,
          "sf": "convert at number.jl:7 [inlined]",
          "status": "Default",
          "x1": 1679,
          "x2": 1685.9
         },
         {
          "level": 26,
          "sf": "Int64 at boot.jl:764 [inlined]",
          "status": "Default",
          "x1": 1679,
          "x2": 1685.9
         },
         {
          "level": 27,
          "sf": "toInt64 at boot.jl:691 [inlined]",
          "status": "Default",
          "x1": 1679,
          "x2": 1685.9
         },
         {
          "level": 14,
          "sf": "pick_sites(state::Vector{Int64}, moveType::String, capacity::Int64, N::Int64) at Schelling.jl:200",
          "status": "Default",
          "x1": 1686,
          "x2": 1716.9
         },
         {
          "level": 15,
          "sf": "getindex at abstractarray.jl:1241 [inlined]",
          "status": "Default",
          "x1": 1686,
          "x2": 1714.9
         },
         {
          "level": 16,
          "sf": "_getindex at multidimensional.jl:875 [inlined]",
          "status": "Default",
          "x1": 1686,
          "x2": 1714.9
         },
         {
          "level": 17,
          "sf": "_unsafe_getindex(#unused#::IndexLinear, A::Vector{Int64}, I::Base.LogicalIndex{Int64, Vector{Bool}}) at multidimensional.jl:887",
          "status": "Default",
          "x1": 1686,
          "x2": 1707.9
         },
         {
          "level": 18,
          "sf": "similar at abstractarray.jl:795 [inlined]",
          "status": "Default",
          "x1": 1686,
          "x2": 1707.9
         },
         {
          "level": 19,
          "sf": "similar at array.jl:378 [inlined]",
          "status": "Default",
          "x1": 1686,
          "x2": 1707.9
         },
         {
          "level": 20,
          "sf": "Array at boot.jl:468 [inlined]",
          "status": "Default",
          "x1": 1686,
          "x2": 1707.9
         },
         {
          "level": 21,
          "sf": "Array at boot.jl:459 [inlined]",
          "status": "Garbage collection",
          "x1": 1686,
          "x2": 1707.9
         },
         {
          "level": 17,
          "sf": "_unsafe_getindex(#unused#::IndexLinear, A::Vector{Int64}, I::Base.LogicalIndex{Int64, Vector{Bool}}) at multidimensional.jl:889",
          "status": "Default",
          "x1": 1708,
          "x2": 1714.9
         },
         {
          "level": 18,
          "sf": "_unsafe_getindex! at multidimensional.jl:898 [inlined]",
          "status": "Default",
          "x1": 1708,
          "x2": 1714.9
         },
         {
          "level": 19,
          "sf": "macro expansion at cartesian.jl:62 [inlined]",
          "status": "Default",
          "x1": 1708,
          "x2": 1712.9
         },
         {
          "level": 20,
          "sf": "iterate at multidimensional.jl:0 [inlined]",
          "status": "Default",
          "x1": 1708,
          "x2": 1712.9
         },
         {
          "level": 19,
          "sf": "macro expansion at cartesian.jl:64 [inlined]",
          "status": "Default",
          "x1": 1713,
          "x2": 1713.9
         },
         {
          "level": 20,
          "sf": "macro expansion at multidimensional.jl:903 [inlined]",
          "status": "Default",
          "x1": 1713,
          "x2": 1713.9
         },
         {
          "level": 21,
          "sf": "setindex! at array.jl:966 [inlined]",
          "status": "Default",
          "x1": 1713,
          "x2": 1713.9
         },
         {
          "level": 19,
          "sf": "macro expansion at multidimensional.jl:0 [inlined]",
          "status": "Default",
          "x1": 1714,
          "x2": 1714.9
         },
         {
          "level": 15,
          "sf": "rand at Random.jl:259 [inlined]",
          "status": "Default",
          "x1": 1715,
          "x2": 1716.9
         },
         {
          "level": 16,
          "sf": "rand at Random.jl:254 [inlined]",
          "status": "Default",
          "x1": 1715,
          "x2": 1716.9
         },
         {
          "level": 17,
          "sf": "rand at generation.jl:421 [inlined]",
          "status": "Default",
          "x1": 1715,
          "x2": 1716.9
         },
         {
          "level": 18,
          "sf": "rand(rng::Random.TaskLocalRNG, sp::Random.SamplerRangeNDL{UInt64, Int64}) at generation.jl:342",
          "status": "Default",
          "x1": 1715,
          "x2": 1716.9
         },
         {
          "level": 14,
          "sf": "select_particle(density::Vector{Float64}) at Schelling.jl:161",
          "status": "Default",
          "x1": 1717,
          "x2": 1717.9
         },
         {
          "level": 13,
          "sf": "move!(state::Vector{Int64}, params::Dict{String, Any}, total_occupants::Int64) at Schelling.jl:222",
          "status": "Default",
          "x1": 1720,
          "x2": 2074.9
         },
         {
          "level": 14,
          "sf": "gain(from::Int64, to::Int64, params::Dict{String, Any}) at Schelling.jl:246",
          "status": "Default",
          "x1": 1720,
          "x2": 1733.9
         },
         {
          "level": 15,
          "sf": "getindex at dict.jl:497 [inlined]",
          "status": "Default",
          "x1": 1720,
          "x2": 1733.9
         },
         {
          "level": 16,
          "sf": "ht_keyindex(h::Dict{String, Any}, key::String) at dict.jl:280",
          "status": "Default",
          "x1": 1720,
          "x2": 1721.9
         },
         {
          "level": 16,
          "sf": "ht_keyindex(h::Dict{String, Any}, key::String) at dict.jl:281",
          "status": "Default",
          "x1": 1722,
          "x2": 1722.9
         },
         {
          "level": 17,
          "sf": "length at array.jl:215 [inlined]",
          "status": "Default",
          "x1": 1722,
          "x2": 1722.9
         },
         {
          "level": 16,
          "sf": "ht_keyindex(h::Dict{String, Any}, key::String) at dict.jl:284",
          "status": "Default",
          "x1": 1723,
          "x2": 1728.9
         },
         {
          "level": 17,
          "sf": "hashindex at dict.jl:169 [inlined]",
          "status": "Default",
          "x1": 1723,
          "x2": 1728.9
         },
         {
          "level": 18,
          "sf": "hash at hashing.jl:20 [inlined]",
          "status": "Default",
          "x1": 1723,
          "x2": 1728.9
         },
         {
          "level": 19,
          "sf": "hash at hashing.jl:107 [inlined]",
          "status": "Default",
          "x1": 1723,
          "x2": 1728.9
         },
         {
          "level": 16,
          "sf": "ht_keyindex(h::Dict{String, Any}, key::String) at dict.jl:288",
          "status": "Default",
          "x1": 1729,
          "x2": 1730.9
         },
         {
          "level": 17,
          "sf": "isslotempty at dict.jl:171 [inlined]",
          "status": "Default",
          "x1": 1729,
          "x2": 1729.9
         },
         {
          "level": 18,
          "sf": "getindex at array.jl:924 [inlined]",
          "status": "Default",
          "x1": 1729,
          "x2": 1729.9
         },
         {
          "level": 16,
          "sf": "ht_keyindex(h::Dict{String, Any}, key::String) at dict.jl:291",
          "status": "Default",
          "x1": 1731,
          "x2": 1731.9
         },
         {
          "level": 16,
          "sf": "ht_keyindex(h::Dict{String, Any}, key::String) at operators.jl:0",
          "status": "Default",
          "x1": 1732,
          "x2": 1733.9
         },
         {
          "level": 14,
          "sf": "gain(from::Int64, to::Int64, params::Dict{String, Any}) at Schelling.jl:247",
          "status": "Default",
          "x1": 1734,
          "x2": 1747.9
         },
         {
          "level": 15,
          "sf": "getindex at dict.jl:497 [inlined]",
          "status": "Default",
          "x1": 1734,
          "x2": 1747.9
         },
         {
          "level": 16,
          "sf": "ht_keyindex(h::Dict{String, Any}, key::String) at dict.jl:281",
          "status": "Default",
          "x1": 1734,
          "x2": 1734.9
         },
         {
          "level": 17,
          "sf": "length at array.jl:215 [inlined]",
          "status": "Default",
          "x1": 1734,
          "x2": 1734.9
         },
         {
          "level": 16,
          "sf": "ht_keyindex(h::Dict{String, Any}, key::String) at dict.jl:283",
          "status": "Default",
          "x1": 1735,
          "x2": 1735.9
         },
         {
          "level": 17,
          "sf": "getproperty at Base.jl:38 [inlined]",
          "status": "Default",
          "x1": 1735,
          "x2": 1735.9
         },
         {
          "level": 16,
          "sf": "ht_keyindex(h::Dict{String, Any}, key::String) at dict.jl:284",
          "status": "Default",
          "x1": 1736,
          "x2": 1738.9
         },
         {
          "level": 17,
          "sf": "hashindex at dict.jl:169 [inlined]",
          "status": "Default",
          "x1": 1736,
          "x2": 1738.9
         },
         {
          "level": 18,
          "sf": "hash at hashing.jl:20 [inlined]",
          "status": "Default",
          "x1": 1736,
          "x2": 1738.9
         },
         {
          "level": 19,
          "sf": "hash at hashing.jl:107 [inlined]",
          "status": "Default",
          "x1": 1736,
          "x2": 1738.9
         },
         {
          "level": 16,
          "sf": "ht_keyindex(h::Dict{String, Any}, key::String) at dict.jl:288",
          "status": "Default",
          "x1": 1739,
          "x2": 1739.9
         },
         {
          "level": 16,
          "sf": "ht_keyindex(h::Dict{String, Any}, key::String) at dict.jl:291",
          "status": "Default",
          "x1": 1740,
          "x2": 1746.9
         },
         {
          "level": 17,
          "sf": "getindex at array.jl:924 [inlined]",
          "status": "Default",
          "x1": 1740,
          "x2": 1740.9
         },
         {
          "level": 16,
          "sf": "ht_keyindex(h::Dict{String, Any}, key::String) at operators.jl:0",
          "status": "Default",
          "x1": 1747,
          "x2": 1747.9
         },
         {
          "level": 14,
          "sf": "gain(from::Int64, to::Int64, params::Dict{String, Any}) at Schelling.jl:248",
          "status": "Default",
          "x1": 1748,
          "x2": 1756.9
         },
         {
          "level": 15,
          "sf": "getindex at dict.jl:497 [inlined]",
          "status": "Default",
          "x1": 1748,
          "x2": 1755.9
         },
         {
          "level": 16,
          "sf": "ht_keyindex(h::Dict{String, Any}, key::String) at dict.jl:280",
          "status": "Default",
          "x1": 1748,
          "x2": 1748.9
         },
         {
          "level": 16,
          "sf": "ht_keyindex(h::Dict{String, Any}, key::String) at dict.jl:284",
          "status": "Default",
          "x1": 1749,
          "x2": 1751.9
         },
         {
          "level": 17,
          "sf": "hashindex at dict.jl:169 [inlined]",
          "status": "Default",
          "x1": 1749,
          "x2": 1751.9
         },
         {
          "level": 18,
          "sf": "hash at hashing.jl:20 [inlined]",
          "status": "Default",
          "x1": 1749,
          "x2": 1751.9
         },
         {
          "level": 19,
          "sf": "hash at hashing.jl:107 [inlined]",
          "status": "Default",
          "x1": 1749,
          "x2": 1751.9
         },
         {
          "level": 16,
          "sf": "ht_keyindex(h::Dict{String, Any}, key::String) at dict.jl:291",
          "status": "Default",
          "x1": 1752,
          "x2": 1755.9
         },
         {
          "level": 15,
          "sf": "getindex at dict.jl:498 [inlined]",
          "status": "Default",
          "x1": 1756,
          "x2": 1756.9
         },
         {
          "level": 16,
          "sf": "getindex at array.jl:924 [inlined]",
          "status": "Default",
          "x1": 1756,
          "x2": 1756.9
         },
         {
          "level": 14,
          "sf": "gain(from::Int64, to::Int64, params::Dict{String, Any}) at Schelling.jl:251",
          "status": "Garbage collection",
          "x1": 1757,
          "x2": 1784.9
         },
         {
          "level": 14,
          "sf": "gain(from::Int64, to::Int64, params::Dict{String, Any}) at Schelling.jl:252",
          "status": "Runtime dispatch",
          "x1": 1785,
          "x2": 1803.9
         },
         {
          "level": 14,
          "sf": "gain(from::Int64, to::Int64, params::Dict{String, Any}) at Schelling.jl:253",
          "status": "Runtime dispatch",
          "x1": 1804,
          "x2": 1870.9
         },
         {
          "level": 14,
          "sf": "gain(from::Int64, to::Int64, params::Dict{String, Any}) at Schelling.jl:254",
          "status": "Runtime dispatch",
          "x1": 1871,
          "x2": 1889.9
         },
         {
          "level": 14,
          "sf": "gain(from::Int64, to::Int64, params::Dict{String, Any}) at Schelling.jl:257",
          "status": "Runtime dispatch",
          "x1": 1890,
          "x2": 1904.9
         },
         {
          "level": 14,
          "sf": "gain(from::Int64, to::Int64, params::Dict{String, Any}) at Schelling.jl:258",
          "status": "Runtime dispatch",
          "x1": 1905,
          "x2": 1916.9
         },
         {
          "level": 14,
          "sf": "gain(from::Int64, to::Int64, params::Dict{String, Any}) at Schelling.jl:259",
          "status": "Runtime dispatch",
          "x1": 1917,
          "x2": 1930.9
         },
         {
          "level": 15,
          "sf": "ht_keyindex(h::Dict{String, Any}, key::String) at dict.jl:291",
          "status": "Default",
          "x1": 1917,
          "x2": 1918.9
         },
         {
          "level": 14,
          "sf": "gain(from::Int64, to::Int64, params::Dict{String, Any}) at Schelling.jl:260",
          "status": "Runtime dispatch",
          "x1": 1931,
          "x2": 1942.9
         },
         {
          "level": 15,
          "sf": "ht_keyindex(h::Dict{String, Any}, key::String) at dict.jl:291",
          "status": "Default",
          "x1": 1931,
          "x2": 1932.9
         },
         {
          "level": 14,
          "sf": "gain(from::Int64, to::Int64, params::Dict{String, Any}) at Schelling.jl:263",
          "status": "Runtime dispatch",
          "x1": 1943,
          "x2": 1962.9
         },
         {
          "level": 14,
          "sf": "gain(from::Int64, to::Int64, params::Dict{String, Any}) at Schelling.jl:265",
          "status": "Runtime dispatch",
          "x1": 1963,
          "x2": 2073.9
         },
         {
          "level": 15,
          "sf": "ht_keyindex(h::Dict{String, Any}, key::String) at dict.jl:291",
          "status": "Default",
          "x1": 1963,
          "x2": 1965.9
         },
         {
          "level": 14,
          "sf": "gain(from::Int64, to::Int64, params::Dict{String, Any}) at Schelling.jl:270",
          "status": "Default",
          "x1": 2074,
          "x2": 2074.9
         },
         {
          "level": 13,
          "sf": "move!(state::Vector{Int64}, params::Dict{String, Any}, total_occupants::Int64) at Schelling.jl:225",
          "status": "Default",
          "x1": 2075,
          "x2": 2170.9
         },
         {
          "level": 14,
          "sf": "glauber_prob(deltaG::Float64, params::Dict{String, Any}) at Schelling.jl:0",
          "status": "Default",
          "x1": 2075,
          "x2": 2076.9
         },
         {
          "level": 14,
          "sf": "glauber_prob(deltaG::Float64, params::Dict{String, Any}) at Schelling.jl:295",
          "status": "Default",
          "x1": 2077,
          "x2": 2085.9
         },
         {
          "level": 15,
          "sf": "getindex at dict.jl:497 [inlined]",
          "status": "Default",
          "x1": 2077,
          "x2": 2085.9
         },
         {
          "level": 16,
          "sf": "ht_keyindex(h::Dict{String, Any}, key::String) at dict.jl:284",
          "status": "Default",
          "x1": 2077,
          "x2": 2078.9
         },
         {
          "level": 17,
          "sf": "hashindex at dict.jl:169 [inlined]",
          "status": "Default",
          "x1": 2077,
          "x2": 2078.9
         },
         {
          "level": 18,
          "sf": "hash at hashing.jl:20 [inlined]",
          "status": "Default",
          "x1": 2077,
          "x2": 2078.9
         },
         {
          "level": 19,
          "sf": "hash at hashing.jl:107 [inlined]",
          "status": "Default",
          "x1": 2077,
          "x2": 2078.9
         },
         {
          "level": 16,
          "sf": "ht_keyindex(h::Dict{String, Any}, key::String) at dict.jl:288",
          "status": "Default",
          "x1": 2079,
          "x2": 2080.9
         },
         {
          "level": 17,
          "sf": "isslotempty at dict.jl:171 [inlined]",
          "status": "Default",
          "x1": 2079,
          "x2": 2079.9
         },
         {
          "level": 18,
          "sf": "getindex at array.jl:924 [inlined]",
          "status": "Default",
          "x1": 2079,
          "x2": 2079.9
         },
         {
          "level": 16,
          "sf": "ht_keyindex(h::Dict{String, Any}, key::String) at dict.jl:291",
          "status": "Default",
          "x1": 2081,
          "x2": 2084.9
         },
         {
          "level": 16,
          "sf": "ht_keyindex(h::Dict{String, Any}, key::String) at operators.jl:0",
          "status": "Default",
          "x1": 2085,
          "x2": 2085.9
         },
         {
          "level": 14,
          "sf": "glauber_prob(deltaG::Float64, params::Dict{String, Any}) at Schelling.jl:297",
          "status": "Runtime dispatch",
          "x1": 2086,
          "x2": 2099.9
         },
         {
          "level": 14,
          "sf": "glauber_prob(deltaG::Float64, params::Dict{String, Any}) at Schelling.jl:303",
          "status": "Runtime dispatch",
          "x1": 2100,
          "x2": 2168.9
         },
         {
          "level": 15,
          "sf": "ht_keyindex(h::Dict{String, Any}, key::String) at dict.jl:291",
          "status": "Default",
          "x1": 2100,
          "x2": 2103.9
         },
         {
          "level": 14,
          "sf": "glauber_prob(deltaG::Float64, params::Dict{String, Any}) at Schelling.jl:306",
          "status": "Default",
          "x1": 2169,
          "x2": 2170.9
         },
         {
          "level": 13,
          "sf": "move!(state::Vector{Int64}, params::Dict{String, Any}, total_occupants::Int64) at Schelling.jl:228",
          "status": "Runtime dispatch",
          "x1": 2171,
          "x2": 2188.9
         },
         {
          "level": 14,
          "sf": "rand at Random.jl:257 [inlined]",
          "status": "Default",
          "x1": 2187,
          "x2": 2188.9
         },
         {
          "level": 15,
          "sf": "rand at Random.jl:257 [inlined]",
          "status": "Default",
          "x1": 2187,
          "x2": 2188.9
         },
         {
          "level": 16,
          "sf": "rand at Xoshiro.jl:210 [inlined]",
          "status": "Default",
          "x1": 2187,
          "x2": 2188.9
         },
         {
          "level": 17,
          "sf": "rand at Random.jl:257 [inlined]",
          "status": "Default",
          "x1": 2187,
          "x2": 2188.9
         },
         {
          "level": 18,
          "sf": "rand at Xoshiro.jl:137 [inlined]",
          "status": "Default",
          "x1": 2187,
          "x2": 2188.9
         },
         {
          "level": 19,
          "sf": "setproperty! at Base.jl:39 [inlined]",
          "status": "Default",
          "x1": 2187,
          "x2": 2188.9
         },
         {
          "level": 13,
          "sf": "move!(state::Vector{Int64}, params::Dict{String, Any}, total_occupants::Int64) at Schelling.jl:229",
          "status": "Runtime dispatch",
          "x1": 2189,
          "x2": 2242.9
         },
         {
          "level": 14,
          "sf": "getindex at array.jl:924 [inlined]",
          "status": "Default",
          "x1": 2189,
          "x2": 2191.9
         },
         {
          "level": 13,
          "sf": "move!(state::Vector{Int64}, params::Dict{String, Any}, total_occupants::Int64) at Schelling.jl:230",
          "status": "Runtime dispatch",
          "x1": 2243,
          "x2": 2296.9
         },
         {
          "level": 14,
          "sf": "setindex!(A::Vector{Int64}, x::Int64, i1::Int64) at array.jl:966",
          "status": "Default",
          "x1": 2243,
          "x2": 2243.9
         },
         {
          "level": 11,
          "sf": "macro expansion at Schelling.jl:65 [inlined]",
          "status": "Runtime dispatch",
          "x1": 2297,
          "x2": 2312.9
         },
         {
          "level": 12,
          "sf": "(::Main.Schelling.var\"#save##kw\")(::NamedTuple{(:sweep,), Tuple{Int64}}, ::typeof(Main.Schelling.save), state::Vector{Int64}, params::Dict{String, Any}) at Schelling.jl:369",
          "status": "Default",
          "x1": 2298,
          "x2": 2312.9
         },
         {
          "level": 13,
          "sf": "save(state::Vector{Int64}, params::Dict{String, Any}; sweep::Int64) at Schelling.jl:389",
          "status": "Runtime dispatch",
          "x1": 2298,
          "x2": 2312.9
         },
         {
          "level": 14,
          "sf": "h5open(::Function, ::String, ::String) at file.jl:91",
          "status": "Runtime dispatch",
          "x1": 2298,
          "x2": 2312.9
         },
         {
          "level": 15,
          "sf": "h5open(::Main.Schelling.var\"#8#9\"{Vector{Int64}, Dict{String, Any}}, ::String, ::Vararg{String}; context::HDF5.HDF5Context, pv::Base.Pairs{Symbol, Union{}, Tuple{}, NamedTuple{(), Tuple{}}}) at file.jl:92",
          "status": "Runtime dispatch",
          "x1": 2298,
          "x2": 2298.9
         },
         {
          "level": 16,
          "sf": "h5open(filename::String, mode::String) at file.jl:60",
          "status": "Default",
          "x1": 2298,
          "x2": 2298.9
         },
         {
          "level": 17,
          "sf": "h5open(filename::String, mode::String; swmr::Bool, fapl::HDF5.FileAccessProperties, fcpl::HDF5.FileCreateProperties, pv::Base.Pairs{Symbol, Union{}, Tuple{}, NamedTuple{(), Tuple{}}}) at file.jl:72",
          "status": "Default",
          "x1": 2298,
          "x2": 2298.9
         },
         {
          "level": 18,
          "sf": "h5open at file.jl:20 [inlined]",
          "status": "Default",
          "x1": 2298,
          "x2": 2298.9
         },
         {
          "level": 19,
          "sf": "h5open(filename::String, mode::String, fapl::HDF5.FileAccessProperties, fcpl::HDF5.FileCreateProperties; swmr::Bool) at file.jl:43",
          "status": "Default",
          "x1": 2298,
          "x2": 2298.9
         },
         {
          "level": 20,
          "sf": "h5f_create(pathname::String, flags::UInt16, fcpl_id::HDF5.FileCreateProperties, fapl_id::HDF5.FileAccessProperties) at functions.jl:1066",
          "status": "Default",
          "x1": 2298,
          "x2": 2298.9
         },
         {
          "level": 15,
          "sf": "h5open(::Main.Schelling.var\"#8#9\"{Vector{Int64}, Dict{String, Any}}, ::String, ::Vararg{String}; context::HDF5.HDF5Context, pv::Base.Pairs{Symbol, Union{}, Tuple{}, NamedTuple{(), Tuple{}}}) at file.jl:93",
          "status": "Default",
          "x1": 2299,
          "x2": 2311.9
         },
         {
          "level": 16,
          "sf": "task_local_storage(body::HDF5.var\"#17#18\"{HDF5.HDF5Context, Base.Pairs{Symbol, Union{}, Tuple{}, NamedTuple{(), Tuple{}}}, Main.Schelling.var\"#8#9\"{Vector{Int64}, Dict{String, Any}}, HDF5.File}, key::Symbol, val::HDF5.HDF5Context) at task.jl:292",
          "status": "Default",
          "x1": 2299,
          "x2": 2311.9
         },
         {
          "level": 17,
          "sf": "(::HDF5.var\"#17#18\"{HDF5.HDF5Context, Base.Pairs{Symbol, Union{}, Tuple{}, NamedTuple{(), Tuple{}}}, Main.Schelling.var\"#8#9\"{Vector{Int64}, Dict{String, Any}}, HDF5.File})() at file.jl:98",
          "status": "Default",
          "x1": 2299,
          "x2": 2307.9
         },
         {
          "level": 18,
          "sf": "(::Main.Schelling.var\"#8#9\"{Vector{Int64}, Dict{String, Any}})(fid::HDF5.File) at Schelling.jl:390",
          "status": "Default",
          "x1": 2300,
          "x2": 2302.9
         },
         {
          "level": 19,
          "sf": "create_group at groups.jl:39 [inlined]",
          "status": "Default",
          "x1": 2300,
          "x2": 2302.9
         },
         {
          "level": 20,
          "sf": "create_group(parent::HDF5.File, path::String; pv::Base.Pairs{Symbol, Union{}, Tuple{}, NamedTuple{(), Tuple{}}}) at groups.jl:45",
          "status": "Default",
          "x1": 2300,
          "x2": 2302.9
         },
         {
          "level": 21,
          "sf": "create_group at groups.jl:23 [inlined]",
          "status": "Default",
          "x1": 2300,
          "x2": 2302.9
         },
         {
          "level": 22,
          "sf": "#create_group#19 at groups.jl:37 [inlined]",
          "status": "Default",
          "x1": 2300,
          "x2": 2302.9
         },
         {
          "level": 23,
          "sf": "h5g_create(loc_id::HDF5.File, pathname::String, lcpl_id::HDF5.LinkCreateProperties, gcpl_id::HDF5.GroupCreateProperties, gapl_id::Int64) at functions.jl:1770",
          "status": "Default",
          "x1": 2300,
          "x2": 2302.9
         },
         {
          "level": 18,
          "sf": "(::Main.Schelling.var\"#8#9\"{Vector{Int64}, Dict{String, Any}})(fid::HDF5.File) at Schelling.jl:397",
          "status": "Runtime dispatch",
          "x1": 2303,
          "x2": 2307.9
         },
         {
          "level": 19,
          "sf": "setindex!(parent::HDF5.Group, val::String, path::String) at highlevel.jl:96",
          "status": "Default",
          "x1": 2303,
          "x2": 2303.9
         },
         {
          "level": 20,
          "sf": "#setindex!#108 at highlevel.jl:113 [inlined]",
          "status": "Default",
          "x1": 2303,
          "x2": 2303.9
         },
         {
          "level": 21,
          "sf": "write at datasets.jl:305 [inlined]",
          "status": "Default",
          "x1": 2303,
          "x2": 2303.9
         },
         {
          "level": 22,
          "sf": "#write#57 at datasets.jl:305 [inlined]",
          "status": "Default",
          "x1": 2303,
          "x2": 2303.9
         },
         {
          "level": 23,
          "sf": "write_dataset at datasets.jl:278 [inlined]",
          "status": "Default",
          "x1": 2303,
          "x2": 2303.9
         },
         {
          "level": 24,
          "sf": "write_dataset(parent::HDF5.Group, name::String, data::String; pv::Base.Pairs{Symbol, Union{}, Tuple{}, NamedTuple{(), Tuple{}}}) at datasets.jl:281",
          "status": "Default",
          "x1": 2303,
          "x2": 2303.9
         },
         {
          "level": 25,
          "sf": "create_dataset at datasets.jl:264 [inlined]",
          "status": "Default",
          "x1": 2303,
          "x2": 2303.9
         },
         {
          "level": 26,
          "sf": "create_dataset(parent::HDF5.Group, name::String, data::String; pv::Base.Pairs{Symbol, Union{}, Tuple{}, NamedTuple{(), Tuple{}}}) at datasets.jl:267",
          "status": "Default",
          "x1": 2303,
          "x2": 2303.9
         },
         {
          "level": 27,
          "sf": "datatype(str::String) at typeconversions.jl:212",
          "status": "Default",
          "x1": 2303,
          "x2": 2303.9
         },
         {
          "level": 28,
          "sf": "h5t_copy(dtype_id::Int64) at functions.jl:6744",
          "status": "Default",
          "x1": 2303,
          "x2": 2303.9
         },
         {
          "level": 29,
          "sf": "lock at lock.jl:103 [inlined]",
          "status": "Default",
          "x1": 2303,
          "x2": 2303.9
         },
         {
          "level": 30,
          "sf": "trylock at lock.jl:0 [inlined]",
          "status": "Default",
          "x1": 2303,
          "x2": 2303.9
         },
         {
          "level": 19,
          "sf": "setindex!(parent::HDF5.Group, val::Int64, path::String) at highlevel.jl:96",
          "status": "Default",
          "x1": 2304,
          "x2": 2307.9
         },
         {
          "level": 20,
          "sf": "#setindex!#108 at highlevel.jl:113 [inlined]",
          "status": "Default",
          "x1": 2304,
          "x2": 2307.9
         },
         {
          "level": 21,
          "sf": "write at datasets.jl:305 [inlined]",
          "status": "Default",
          "x1": 2304,
          "x2": 2307.9
         },
         {
          "level": 22,
          "sf": "#write#57 at datasets.jl:305 [inlined]",
          "status": "Default",
          "x1": 2304,
          "x2": 2307.9
         },
         {
          "level": 23,
          "sf": "write_dataset at datasets.jl:278 [inlined]",
          "status": "Default",
          "x1": 2304,
          "x2": 2307.9
         },
         {
          "level": 24,
          "sf": "write_dataset(parent::HDF5.Group, name::String, data::Float64; pv::Base.Pairs{Symbol, Union{}, Tuple{}, NamedTuple{(), Tuple{}}}) at datasets.jl:281",
          "status": "Default",
          "x1": 2304,
          "x2": 2306.9
         },
         {
          "level": 25,
          "sf": "create_dataset at datasets.jl:264 [inlined]",
          "status": "Default",
          "x1": 2304,
          "x2": 2306.9
         },
         {
          "level": 26,
          "sf": "create_dataset(parent::HDF5.Group, name::String, data::Float64; pv::Base.Pairs{Symbol, Union{}, Tuple{}, NamedTuple{(), Tuple{}}}) at datasets.jl:270",
          "status": "Default",
          "x1": 2304,
          "x2": 2306.9
         },
         {
          "level": 27,
          "sf": "create_dataset(parent::HDF5.Group, path::String, dtype::HDF5.Datatype, dspace::HDF5.Dataspace) at datasets.jl:40",
          "status": "Default",
          "x1": 2304,
          "x2": 2306.9
         },
         {
          "level": 28,
          "sf": "create_dataset(parent::HDF5.Group, path::String, dtype::HDF5.Datatype, dspace::HDF5.Dataspace; dcpl::HDF5.DatasetCreateProperties, dxpl::HDF5.DatasetTransferProperties, dapl::HDF5.DatasetAccessProperties, pv::Base.Pairs{Symbol, Union{}, Tuple{}, NamedTuple{(), Tuple{}}}) at datasets.jl:50",
          "status": "Default",
          "x1": 2304,
          "x2": 2304.9
         },
         {
          "level": 29,
          "sf": "haskey at groups.jl:123 [inlined]",
          "status": "Default",
          "x1": 2304,
          "x2": 2304.9
         },
         {
          "level": 30,
          "sf": "haskey(parent::HDF5.Group, path::String, lapl::HDF5.LinkAccessProperties) at groups.jl:127",
          "status": "Default",
          "x1": 2304,
          "x2": 2304.9
         },
         {
          "level": 31,
          "sf": "h5l_exists(loc_id::HDF5.Group, pathname::String, lapl_id::HDF5.LinkAccessProperties) at functions.jl:2058",
          "status": "Default",
          "x1": 2304,
          "x2": 2304.9
         },
         {
          "level": 28,
          "sf": "create_dataset(parent::HDF5.Group, path::String, dtype::HDF5.Datatype, dspace::HDF5.Dataspace; dcpl::HDF5.DatasetCreateProperties, dxpl::HDF5.DatasetTransferProperties, dapl::HDF5.DatasetAccessProperties, pv::Base.Pairs{Symbol, Union{}, Tuple{}, NamedTuple{(), Tuple{}}}) at datasets.jl:60",
          "status": "Default",
          "x1": 2305,
          "x2": 2306.9
         },
         {
          "level": 29,
          "sf": "h5d_create(loc_id::HDF5.Group, pathname::String, dtype_id::HDF5.Datatype, space_id::HDF5.Dataspace, lcpl_id::HDF5.LinkCreateProperties, dcpl_id::HDF5.DatasetCreateProperties, dapl_id::HDF5.DatasetAccessProperties) at functions.jl:470",
          "status": "Default",
          "x1": 2305,
          "x2": 2306.9
         },
         {
          "level": 24,
          "sf": "write_dataset(parent::HDF5.Group, name::String, data::Int64; pv::Base.Pairs{Symbol, Union{}, Tuple{}, NamedTuple{(), Tuple{}}}) at datasets.jl:288",
          "status": "Default",
          "x1": 2307,
          "x2": 2307.9
         },
         {
          "level": 25,
          "sf": "close at objects.jl:16 [inlined]",
          "status": "Default",
          "x1": 2307,
          "x2": 2307.9
         },
         {
          "level": 26,
          "sf": "h5o_close(object_id::HDF5.Dataset) at functions.jl:2158",
          "status": "Default",
          "x1": 2307,
          "x2": 2307.9
         },
         {
          "level": 17,
          "sf": "(::HDF5.var\"#17#18\"{HDF5.HDF5Context, Base.Pairs{Symbol, Union{}, Tuple{}, NamedTuple{(), Tuple{}}}, Main.Schelling.var\"#8#9\"{Vector{Int64}, Dict{String, Any}}, HDF5.File})() at file.jl:100",
          "status": "Default",
          "x1": 2308,
          "x2": 2310.9
         },
         {
          "level": 18,
          "sf": "close at file.jl:122 [inlined]",
          "status": "Default",
          "x1": 2308,
          "x2": 2310.9
         },
         {
          "level": 19,
          "sf": "h5f_close(file_id::HDF5.File) at functions.jl:1050",
          "status": "Default",
          "x1": 2308,
          "x2": 2310.9
         },
         {
          "level": 17,
          "sf": "(::HDF5.var\"#17#18\"{HDF5.HDF5Context, Base.Pairs{Symbol, Union{}, Tuple{}, NamedTuple{(), Tuple{}}}, Main.Schelling.var\"#8#9\"{Vector{Int64}, Dict{String, Any}}, HDF5.File})() at file.jl:101",
          "status": "Default",
          "x1": 2311,
          "x2": 2311.9
         },
         {
          "level": 18,
          "sf": "close at context.jl:63 [inlined]",
          "status": "Default",
          "x1": 2311,
          "x2": 2311.9
         },
         {
          "level": 19,
          "sf": "foreach at tuple.jl:555 [inlined]",
          "status": "Default",
          "x1": 2311,
          "x2": 2311.9
         },
         {
          "level": 20,
          "sf": "foldl at reduce.jl:193 [inlined]",
          "status": "Default",
          "x1": 2311,
          "x2": 2311.9
         },
         {
          "level": 21,
          "sf": "#foldl#260 at reduce.jl:193 [inlined]",
          "status": "Default",
          "x1": 2311,
          "x2": 2311.9
         },
         {
          "level": 22,
          "sf": "mapfoldl at reduce.jl:170 [inlined]",
          "status": "Default",
          "x1": 2311,
          "x2": 2311.9
         },
         {
          "level": 23,
          "sf": "#mapfoldl#259 at reduce.jl:170 [inlined]",
          "status": "Default",
          "x1": 2311,
          "x2": 2311.9
         },
         {
          "level": 24,
          "sf": "mapfoldl_impl at reduce.jl:44 [inlined]",
          "status": "Default",
          "x1": 2311,
          "x2": 2311.9
         },
         {
          "level": 25,
          "sf": "foldl_impl at reduce.jl:48 [inlined]",
          "status": "Default",
          "x1": 2311,
          "x2": 2311.9
         },
         {
          "level": 26,
          "sf": "_foldl_impl at tuple.jl:277 [inlined]",
          "status": "Default",
          "x1": 2311,
          "x2": 2311.9
         },
         {
          "level": 27,
          "sf": "afoldl(::Base.BottomRF{Base.var\"#57#58\"{HDF5.var\"#10#11\"{HDF5.HDF5Context}}}, ::Nothing, ::Symbol, ::Symbol, ::Symbol, ::Symbol, ::Symbol, ::Symbol, ::Symbol, ::Symbol, ::Symbol, ::Symbol, ::Symbol, ::Symbol, ::Symbol, ::Symbol, ::Symbol, ::Symbol, ::Symbol) at operators.jl:564",
          "status": "Default",
          "x1": 2311,
          "x2": 2311.9
         },
         {
          "level": 28,
          "sf": "BottomRF at reduce.jl:81 [inlined]",
          "status": "Default",
          "x1": 2311,
          "x2": 2311.9
         },
         {
          "level": 29,
          "sf": "#57 at tuple.jl:555 [inlined]",
          "status": "Default",
          "x1": 2311,
          "x2": 2311.9
         },
         {
          "level": 30,
          "sf": "(::HDF5.var\"#10#11\"{HDF5.HDF5Context})(n::Symbol) at context.jl:64",
          "status": "Runtime dispatch",
          "x1": 2311,
          "x2": 2311.9
         },
         {
          "level": 31,
          "sf": "close(obj::HDF5.StringCreateProperties) at properties.jl:11",
          "status": "Default",
          "x1": 2311,
          "x2": 2311.9
         },
         {
          "level": 32,
          "sf": "isvalid at properties.jl:19 [inlined]",
          "status": "Default",
          "x1": 2311,
          "x2": 2311.9
         },
         {
          "level": 33,
          "sf": "h5i_is_valid(obj_id::HDF5.StringCreateProperties) at functions.jl:1962",
          "status": "Default",
          "x1": 2311,
          "x2": 2311.9
         },
         {
          "level": 9,
          "sf": "move!(state::Vector{Int64}, params::Dict{String, Any}, total_occupants::Int64) at Schelling.jl:233",
          "status": "Default",
          "x1": 2313,
          "x2": 2315.9
         },
         {
          "level": 1,
          "sf": "/(x::Int64, y::Int64) at int.jl:97",
          "status": "Default",
          "x1": 2329,
          "x2": 2331.9
         },
         {
          "level": 2,
          "sf": "float at float.jl:269 [inlined]",
          "status": "Default",
          "x1": 2329,
          "x2": 2331.9
         },
         {
          "level": 3,
          "sf": "AbstractFloat at float.jl:243 [inlined]",
          "status": "Default",
          "x1": 2329,
          "x2": 2331.9
         },
         {
          "level": 4,
          "sf": "Float64 at float.jl:146 [inlined]",
          "status": "Default",
          "x1": 2329,
          "x2": 2331.9
         },
         {
          "level": 1,
          "sf": "<(x::Float64, y::Float64) at float.jl:412",
          "status": "Default",
          "x1": 2345,
          "x2": 2345.9
         },
         {
          "level": 1,
          "sf": "-(x::Float64, y::Float64) at float.jl:384",
          "status": "Default",
          "x1": 2346,
          "x2": 2352.9
         },
         {
          "level": 1,
          "sf": "+(x::Float64, y::Float64) at float.jl:383",
          "status": "Default",
          "x1": 2363,
          "x2": 2365.9
         },
         {
          "level": 1,
          "sf": "rand(rng::Random.TaskLocalRNG, sp::Random.SamplerRangeNDL{UInt64, Int64}) at generation.jl:342",
          "status": "Default",
          "x1": 2373,
          "x2": 2374.9
         },
         {
          "level": 1,
          "sf": "close(obj::HDF5.ObjectCopyProperties) at properties.jl:11",
          "status": "Default",
          "x1": 2380,
          "x2": 2380.9
         },
         {
          "level": 2,
          "sf": "isvalid at properties.jl:19 [inlined]",
          "status": "Default",
          "x1": 2380,
          "x2": 2380.9
         },
         {
          "level": 3,
          "sf": "h5i_is_valid(obj_id::HDF5.ObjectCopyProperties) at functions.jl:1959",
          "status": "Default",
          "x1": 2380,
          "x2": 2380.9
         },
         {
          "level": 1,
          "sf": "gain(from::Int64, to::Int64, params::Dict{String, Any}) at Schelling.jl:242",
          "status": "Default",
          "x1": 2381,
          "x2": 2382.9
         },
         {
          "level": 1,
          "sf": "gain(from::Int64, to::Int64, params::Dict{String, Any}) at Schelling.jl:246",
          "status": "Default",
          "x1": 2383,
          "x2": 2383.9
         },
         {
          "level": 2,
          "sf": "getindex at dict.jl:497 [inlined]",
          "status": "Default",
          "x1": 2383,
          "x2": 2383.9
         },
         {
          "level": 3,
          "sf": "ht_keyindex(h::Dict{String, Any}, key::String) at dict.jl:280",
          "status": "Default",
          "x1": 2383,
          "x2": 2383.9
         },
         {
          "level": 1,
          "sf": "glauber_prob(deltaG::Float64, params::Dict{String, Any}) at Schelling.jl:293",
          "status": "Default",
          "x1": 2384,
          "x2": 2385.9
         },
         {
          "level": 1,
          "sf": "glauber_prob(deltaG::Float64, params::Dict{String, Any}) at Schelling.jl:295",
          "status": "Default",
          "x1": 2386,
          "x2": 2386.9
         },
         {
          "level": 2,
          "sf": "getindex at dict.jl:497 [inlined]",
          "status": "Default",
          "x1": 2386,
          "x2": 2386.9
         },
         {
          "level": 3,
          "sf": "ht_keyindex(h::Dict{String, Any}, key::String) at dict.jl:280",
          "status": "Default",
          "x1": 2386,
          "x2": 2386.9
         },
         {
          "level": 1,
          "sf": "move!(state::Vector{Int64}, params::Dict{String, Any}, total_occupants::Int64) at Schelling.jl:209",
          "status": "Default",
          "x1": 2387,
          "x2": 2387.9
         },
         {
          "level": 1,
          "sf": "move!(state::Vector{Int64}, params::Dict{String, Any}, total_occupants::Int64) at Schelling.jl:214",
          "status": "Default",
          "x1": 2388,
          "x2": 2388.9
         },
         {
          "level": 2,
          "sf": "getindex at dict.jl:497 [inlined]",
          "status": "Default",
          "x1": 2388,
          "x2": 2388.9
         },
         {
          "level": 3,
          "sf": "ht_keyindex(h::Dict{String, Any}, key::String) at dict.jl:280",
          "status": "Default",
          "x1": 2388,
          "x2": 2388.9
         },
         {
          "level": 1,
          "sf": "move!(state::Vector{Int64}, params::Dict{String, Any}, total_occupants::Int64) at Schelling.jl:219",
          "status": "Default",
          "x1": 2389,
          "x2": 2390.9
         },
         {
          "level": 2,
          "sf": "pick_sites(state::Vector{Int64}, moveType::String, capacity::Int64, N::Int64) at Schelling.jl:171",
          "status": "Default",
          "x1": 2389,
          "x2": 2390.9
         },
         {
          "level": 1,
          "sf": "move!(state::Vector{Int64}, params::Dict{String, Any}, total_occupants::Int64) at Schelling.jl:222",
          "status": "Default",
          "x1": 2391,
          "x2": 2394.9
         },
         {
          "level": 2,
          "sf": "gain(from::Int64, to::Int64, params::Dict{String, Any}) at Schelling.jl:242",
          "status": "Default",
          "x1": 2391,
          "x2": 2394.9
         },
         {
          "level": 1,
          "sf": "pick_sites(state::Vector{Int64}, moveType::String, capacity::Int64, N::Int64) at Schelling.jl:171",
          "status": "Default",
          "x1": 2395,
          "x2": 2395.9
         },
         {
          "level": 1,
          "sf": "select_particle(density::Vector{Float64}) at Schelling.jl:151",
          "status": "Default",
          "x1": 2396,
          "x2": 2396.9
         },
         {
          "level": 1,
          "sf": "*(x::Float64, y::Float64) at float.jl:385",
          "status": "Default",
          "x1": 2668,
          "x2": 2672.9
         },
         {
          "level": 1,
          "sf": "==(x::Float64, y::Int64) at float.jl:448",
          "status": "Default",
          "x1": 2673,
          "x2": 2675.9
         },
         {
          "level": 2,
          "sf": "& at bool.jl:38 [inlined]",
          "status": "Default",
          "x1": 2673,
          "x2": 2673.9
         },
         {
          "level": 2,
          "sf": "== at float.jl:410 [inlined]",
          "status": "Default",
          "x1": 2674,
          "x2": 2675.9
         },
         {
          "level": 1,
          "sf": "+(x::Int64, y::Float64) at promotion.jl:388",
          "status": "Default",
          "x1": 2676,
          "x2": 2678.9
         },
         {
          "level": 2,
          "sf": "promote at promotion.jl:359 [inlined]",
          "status": "Default",
          "x1": 2676,
          "x2": 2678.9
         },
         {
          "level": 3,
          "sf": "_promote at promotion.jl:336 [inlined]",
          "status": "Default",
          "x1": 2676,
          "x2": 2678.9
         },
         {
          "level": 4,
          "sf": "convert at number.jl:7 [inlined]",
          "status": "Default",
          "x1": 2676,
          "x2": 2678.9
         },
         {
          "level": 5,
          "sf": "Float64 at float.jl:146 [inlined]",
          "status": "Default",
          "x1": 2676,
          "x2": 2678.9
         },
         {
          "level": 1,
          "sf": "exp(x::Float64) at exp.jl:326",
          "status": "Default",
          "x1": 2679,
          "x2": 2683.9
         },
         {
          "level": 2,
          "sf": "exp_impl at exp.jl:214 [inlined]",
          "status": "Default",
          "x1": 2679,
          "x2": 2679.9
         },
         {
          "level": 3,
          "sf": "muladd at float.jl:388 [inlined]",
          "status": "Default",
          "x1": 2679,
          "x2": 2679.9
         },
         {
          "level": 2,
          "sf": "exp_impl at exp.jl:218 [inlined]",
          "status": "Default",
          "x1": 2680,
          "x2": 2680.9
         },
         {
          "level": 3,
          "sf": "expm1b_kernel at exp.jl:78 [inlined]",
          "status": "Default",
          "x1": 2680,
          "x2": 2680.9
         },
         {
          "level": 4,
          "sf": "evalpoly at math.jl:177 [inlined]",
          "status": "Default",
          "x1": 2680,
          "x2": 2680.9
         },
         {
          "level": 5,
          "sf": "macro expansion at math.jl:178 [inlined]",
          "status": "Default",
          "x1": 2680,
          "x2": 2680.9
         },
         {
          "level": 6,
          "sf": "muladd at float.jl:388 [inlined]",
          "status": "Default",
          "x1": 2680,
          "x2": 2680.9
         },
         {
          "level": 2,
          "sf": "exp_impl at exp.jl:220 [inlined]",
          "status": "Default",
          "x1": 2681,
          "x2": 2683.9
         },
         {
          "level": 3,
          "sf": "abs at float.jl:486 [inlined]",
          "status": "Default",
          "x1": 2681,
          "x2": 2681.9
         },
         {
          "level": 1,
          "sf": "quadratic_utility(x::Float64, params::Dict{String, Any}) at Schelling.jl:361",
          "status": "Default",
          "x1": 2684,
          "x2": 2689.9
         }
        ]
       },
       "encoding": {
        "color": {
         "field": "status",
         "legend": {
          "orient": "bottom",
          "title": null
         },
         "type": "nominal"
        },
        "fillOpacity": {
         "condition": [
          {
           "selection": "highlight",
           "value": 0.6
          },
          {
           "selection": "select",
           "value": 0.5
          }
         ],
         "value": 1
        },
        "strokeWidth": {
         "condition": [
          {
           "selection": "highlight",
           "value": 0.5
          },
          {
           "selection": "select",
           "value": 0.5
          }
         ],
         "value": 0
        },
        "tooltip": {
         "field": "sf",
         "type": "nominal"
        },
        "x": {
         "axis": null,
         "field": "x1",
         "type": "quantitative"
        },
        "x2": {
         "field": "x2",
         "type": "quantitative"
        },
        "y": {
         "axis": null,
         "field": "level",
         "type": "quantitative"
        },
        "y2": {
         "field": "level2",
         "type": "quantitative"
        }
       },
       "height": 400,
       "mark": {
        "stroke": "#505050",
        "type": "rect"
       },
       "selection": {
        "grid": {
         "bind": "scales",
         "type": "interval"
        },
        "highlight": {
         "empty": "none",
         "on": "mouseover",
         "type": "single"
        },
        "select": {
         "empty": "none",
         "type": "multi"
        }
       },
       "title": "Profile Results",
       "transform": [
        {
         "as": "level2",
         "calculate": "datum.level+0.9"
        }
       ],
       "width": 800
      },
      "image/png": "[encoded data removed]",
      "image/svg+xml": [
       "<?xml version=\"1.0\" encoding=\"utf-8\"?>\n",
       "<!DOCTYPE svg PUBLIC \"-//W3C//DTD SVG 1.1//EN\" \"http://www.w3.org/Graphics/SVG/1.1/DTD/svg11.dtd\">\n",
       "<svg xmlns=\"http://www.w3.org/2000/svg\" xmlns:xlink=\"http://www.w3.org/1999/xlink\" version=\"1.1\" class=\"marks\" width=\"810\" height=\"458\" viewBox=\"0 0 810 458\"><rect width=\"810\" height=\"458\" fill=\"white\"/><g fill=\"none\" stroke-miterlimit=\"10\" transform=\"translate(5,22)\"><g class=\"mark-group role-frame root\" role=\"graphics-object\" aria-roledescription=\"group mark container\"><g transform=\"translate(0,0)\"><path class=\"background\" aria-hidden=\"true\" d=\"M0.5,0.5h800v400h-800Z\" stroke=\"#ddd\"/><g><g class=\"mark-rect role-mark marks\" clip-path=\"url(#clip1)\" role=\"graphics-object\" aria-roledescription=\"rect mark container\"><path aria-label=\"x1: 1; x2: 2766.9; level: 0; level2: 0.9; status: Runtime dispatch; sf: ip:0x0\" role=\"graphics-symbol\" aria-roledescription=\"rect mark\" d=\"M0.2857142857142857,389.7142857142857h790.2571428571429v10.285714285714278h-790.2571428571429Z\" fill=\"#e45756\" fill-opacity=\"1\" stroke=\"#505050\" stroke-width=\"0\"/><path aria-label=\"x1: 1; x2: 3.9; level: 1; level2: 1.9; status: Default; sf: findall(testf::Base.Fix2{typeof(&gt;), Int64}, A::Vector{Float64}) at array.jl:2311\" role=\"graphics-symbol\" aria-roledescription=\"rect mark\" d=\"M0.2857142857142857,378.2857142857143h0.8285714285714284v10.285714285714278h-0.8285714285714284Z\" fill=\"#4c78a8\" fill-opacity=\"1\" stroke=\"#505050\" stroke-width=\"0\"/><path aria-label=\"x1: 1; x2: 2.9; level: 2; level2: 2.9; status: Default; sf: materialize at broadcast.jl:860 [inlined]\" role=\"graphics-symbol\" aria-roledescription=\"rect mark\" d=\"M0.2857142857142857,366.85714285714283h0.5428571428571428v10.285714285714278h-0.5428571428571428Z\" fill=\"#4c78a8\" fill-opacity=\"1\" stroke=\"#505050\" stroke-width=\"0\"/><path aria-label=\"x1: 1; x2: 2.9; level: 3; level2: 3.9; status: Default; sf: copy at broadcast.jl:885 [inlined]\" role=\"graphics-symbol\" aria-roledescription=\"rect mark\" d=\"M0.2857142857142857,355.42857142857144h0.5428571428571428v10.285714285714278h-0.5428571428571428Z\" fill=\"#4c78a8\" fill-opacity=\"1\" stroke=\"#505050\" stroke-width=\"0\"/><path aria-label=\"x1: 1; x2: 2.9; level: 4; level2: 4.9; status: Default; sf: copyto! at broadcast.jl:913 [inlined]\" role=\"graphics-symbol\" aria-roledescription=\"rect mark\" d=\"M0.2857142857142857,344h0.5428571428571428v10.285714285714278h-0.5428571428571428Z\" fill=\"#4c78a8\" fill-opacity=\"1\" stroke=\"#505050\" stroke-width=\"0\"/><path aria-label=\"x1: 1; x2: 2.9; level: 5; level2: 5.9; status: Default; sf: copyto! at broadcast.jl:971 [inlined]\" role=\"graphics-symbol\" aria-roledescription=\"rect mark\" d=\"M0.2857142857142857,332.57142857142856h0.5428571428571428v10.285714285714334h-0.5428571428571428Z\" fill=\"#4c78a8\" fill-opacity=\"1\" stroke=\"#505050\" stroke-width=\"0\"/><path aria-label=\"x1: 1; x2: 2.9; level: 6; level2: 6.9; status: Default; sf: copyto! at broadcast.jl:957 [inlined]\" role=\"graphics-symbol\" aria-roledescription=\"rect mark\" d=\"M0.2857142857142857,321.1428571428571h0.5428571428571428v10.285714285714278h-0.5428571428571428Z\" fill=\"#4c78a8\" fill-opacity=\"1\" stroke=\"#505050\" stroke-width=\"0\"/><path aria-label=\"x1: 1; x2: 2.9; level: 7; level2: 7.9; status: Default; sf: preprocess at broadcast.jl:940 [inlined]\" role=\"graphics-symbol\" aria-roledescription=\"rect mark\" d=\"M0.2857142857142857,309.7142857142857h0.5428571428571428v10.285714285714278h-0.5428571428571428Z\" fill=\"#4c78a8\" fill-opacity=\"1\" stroke=\"#505050\" stroke-width=\"0\"/><path aria-label=\"x1: 1; x2: 2.9; level: 8; level2: 8.9; status: Default; sf: preprocess_args at broadcast.jl:944 [inlined]\" role=\"graphics-symbol\" aria-roledescription=\"rect mark\" d=\"M0.2857142857142857,298.28571428571433h0.5428571428571428v10.285714285714278h-0.5428571428571428Z\" fill=\"#4c78a8\" fill-opacity=\"1\" stroke=\"#505050\" stroke-width=\"0\"/><path aria-label=\"x1: 1; x2: 2.9; level: 9; level2: 9.9; status: Default; sf: preprocess at broadcast.jl:941 [inlined]\" role=\"graphics-symbol\" aria-roledescription=\"rect mark\" d=\"M0.2857142857142857,286.85714285714283h0.5428571428571428v10.285714285714334h-0.5428571428571428Z\" fill=\"#4c78a8\" fill-opacity=\"1\" stroke=\"#505050\" stroke-width=\"0\"/><path aria-label=\"x1: 1; x2: 2.9; level: 10; level2: 10.9; status: Default; sf: broadcast_unalias at broadcast.jl:934 [inlined]\" role=\"graphics-symbol\" aria-roledescription=\"rect mark\" d=\"M0.2857142857142857,275.42857142857144h0.5428571428571428v10.285714285714278h-0.5428571428571428Z\" fill=\"#4c78a8\" fill-opacity=\"1\" stroke=\"#505050\" stroke-width=\"0\"/><path aria-label=\"x1: 1; x2: 2.9; level: 11; level2: 11.9; status: Default; sf: unalias at abstractarray.jl:1427 [inlined]\" role=\"graphics-symbol\" aria-roledescription=\"rect mark\" d=\"M0.2857142857142857,263.99999999999994h0.5428571428571428v10.285714285714334h-0.5428571428571428Z\" fill=\"#4c78a8\" fill-opacity=\"1\" stroke=\"#505050\" stroke-width=\"0\"/><path aria-label=\"x1: 1; x2: 2.9; level: 12; level2: 12.9; status: Default; sf: mightalias at abstractarray.jl:1462 [inlined]\" role=\"graphics-symbol\" aria-roledescription=\"rect mark\" d=\"M0.2857142857142857,252.57142857142858h0.5428571428571428v10.28571428571425h-0.5428571428571428Z\" fill=\"#4c78a8\" fill-opacity=\"1\" stroke=\"#505050\" stroke-width=\"0\"/><path aria-label=\"x1: 1; x2: 2.9; level: 13; level2: 13.9; status: Default; sf: dataids at abstractarray.jl:1485 [inlined]\" role=\"graphics-symbol\" aria-roledescription=\"rect mark\" d=\"M0.2857142857142857,241.14285714285714h0.5428571428571428v10.285714285714278h-0.5428571428571428Z\" fill=\"#4c78a8\" fill-opacity=\"1\" stroke=\"#505050\" stroke-width=\"0\"/><path aria-label=\"x1: 1; x2: 2.9; level: 14; level2: 14.9; status: Default; sf: objectid at reflection.jl:340 [inlined]\" role=\"graphics-symbol\" aria-roledescription=\"rect mark\" d=\"M0.2857142857142857,229.71428571428572h0.5428571428571428v10.285714285714278h-0.5428571428571428Z\" fill=\"#4c78a8\" fill-opacity=\"1\" stroke=\"#505050\" stroke-width=\"0\"/><path aria-label=\"x1: 4; x2: 4.9; level: 1; level2: 1.9; status: Default; sf: /(A::Vector{Int64}, B::Int64) at arraymath.jl:24\" role=\"graphics-symbol\" aria-roledescription=\"rect mark\" d=\"M1.1428571428571428,378.2857142857143h0.25714285714285734v10.285714285714278h-0.25714285714285734Z\" fill=\"#4c78a8\" fill-opacity=\"1\" stroke=\"#505050\" stroke-width=\"0\"/><path aria-label=\"x1: 5; x2: 6.9; level: 1; level2: 1.9; status: Default; sf: allindices!(I::Vector{Int64}, B::BitVector) at bitarray.jl:1659\" role=\"graphics-symbol\" aria-roledescription=\"rect mark\" d=\"M1.4285714285714286,378.2857142857143h0.5428571428571429v10.285714285714278h-0.5428571428571429Z\" fill=\"#4c78a8\" fill-opacity=\"1\" stroke=\"#505050\" stroke-width=\"0\"/><path aria-label=\"x1: 7; x2: 7.9; level: 1; level2: 1.9; status: Default; sf: findall(B::BitVector) at bitarray.jl:1686\" role=\"graphics-symbol\" aria-roledescription=\"rect mark\" d=\"M2,378.2857142857143h0.2571428571428571v10.285714285714278h-0.2571428571428571Z\" fill=\"#4c78a8\" fill-opacity=\"1\" stroke=\"#505050\" stroke-width=\"0\"/><path aria-label=\"x1: 8; x2: 30.9; level: 1; level2: 1.9; status: Default; sf: ht_keyindex(h::Dict{String, Any}, key::String) at dict.jl:280\" role=\"graphics-symbol\" aria-roledescription=\"rect mark\" d=\"M2.2857142857142856,378.2857142857143h6.542857142857144v10.285714285714278h-6.542857142857144Z\" fill=\"#4c78a8\" fill-opacity=\"1\" stroke=\"#505050\" stroke-width=\"0\"/><path aria-label=\"x1: 31; x2: 32.9; level: 1; level2: 1.9; status: Default; sf: ht_keyindex(h::Dict{String, Any}, key::String) at dict.jl:291\" role=\"graphics-symbol\" aria-roledescription=\"rect mark\" d=\"M8.857142857142856,378.2857142857143h0.5428571428571445v10.285714285714278h-0.5428571428571445Z\" fill=\"#4c78a8\" fill-opacity=\"1\" stroke=\"#505050\" stroke-width=\"0\"/><path aria-label=\"x1: 31; x2: 32.9; level: 2; level2: 2.9; status: Default; sf: /(A::Vector{Int64}, B::Int64) at arraymath.jl:24\" role=\"graphics-symbol\" aria-roledescription=\"rect mark\" d=\"M8.857142857142856,366.85714285714283h0.5428571428571445v10.285714285714278h-0.5428571428571445Z\" fill=\"#4c78a8\" fill-opacity=\"1\" stroke=\"#505050\" stroke-width=\"0\"/><path aria-label=\"x1: 33; x2: 34.9; level: 1; level2: 1.9; status: Default; sf: _unsafe_getindex(#unused#::IndexLinear, A::Vector{Int64}, I::Base.LogicalIndex{Int64, Vector{Bool}}) at multidimensional.jl:884\" role=\"graphics-symbol\" aria-roledescription=\"rect mark\" d=\"M9.428571428571429,378.2857142857143h0.5428571428571427v10.285714285714278h-0.5428571428571427Z\" fill=\"#4c78a8\" fill-opacity=\"1\" stroke=\"#505050\" stroke-width=\"0\"/><path aria-label=\"x1: 35; x2: 37.9; level: 1; level2: 1.9; status: Default; sf: mapreduce_impl(f::typeof(identity), op::typeof(Base.add_sum), A::Vector{Int64}, ifirst::Int64, ilast::Int64, blksize::Int64) at reduce.jl:248\" role=\"graphics-symbol\" aria-roledescription=\"rect mark\" d=\"M10,378.2857142857143h0.8285714285714274v10.285714285714278h-0.8285714285714274Z\" fill=\"#4c78a8\" fill-opacity=\"1\" stroke=\"#505050\" stroke-width=\"0\"/><path aria-label=\"x1: 38; x2: 38.9; level: 1; level2: 1.9; status: Default; sf: task_local_storage(body::HDF5.var&quot;#17#18&quot;{HDF5.HDF5Context, Base.Pairs{Symbol, Union{}, Tuple{}, NamedTuple{(), Tuple{}}}, Main.Schelling.var&quot;#8#9&quot;{Vector{Int64}, Dict{String, Any}}, HDF5.File}, key::Symbol, val::HDF5.HDF5Context) at task.jl:286\" role=\"graphics-symbol\" aria-roledescription=\"rect mark\" d=\"M10.857142857142858,378.2857142857143h0.25714285714285623v10.285714285714278h-0.25714285714285623Z\" fill=\"#4c78a8\" fill-opacity=\"1\" stroke=\"#505050\" stroke-width=\"0\"/><path aria-label=\"x1: 234; x2: 2315.9; level: 1; level2: 1.9; status: Default; sf: (::IJulia.var&quot;#15#18&quot;)() at task.jl:484\" role=\"graphics-symbol\" aria-roledescription=\"rect mark\" d=\"M66.85714285714286,378.2857142857143h594.8285714285714v10.285714285714278h-594.8285714285714Z\" fill=\"#4c78a8\" fill-opacity=\"1\" stroke=\"#505050\" stroke-width=\"0\"/><path aria-label=\"x1: 234; x2: 2315.9; level: 2; level2: 2.9; status: Default; sf: eventloop(socket::ZMQ.Socket) at eventloop.jl:8\" role=\"graphics-symbol\" aria-roledescription=\"rect mark\" d=\"M66.85714285714286,366.85714285714283h594.8285714285714v10.285714285714278h-594.8285714285714Z\" fill=\"#4c78a8\" fill-opacity=\"1\" stroke=\"#505050\" stroke-width=\"0\"/><path aria-label=\"x1: 234; x2: 2315.9; level: 3; level2: 3.9; status: Default; sf: invokelatest at essentials.jl:726 [inlined]\" role=\"graphics-symbol\" aria-roledescription=\"rect mark\" d=\"M66.85714285714286,355.42857142857144h594.8285714285714v10.285714285714278h-594.8285714285714Z\" fill=\"#4c78a8\" fill-opacity=\"1\" stroke=\"#505050\" stroke-width=\"0\"/><path aria-label=\"x1: 234; x2: 2315.9; level: 4; level2: 4.9; status: Runtime dispatch; sf: #invokelatest#2 at essentials.jl:729 [inlined]\" role=\"graphics-symbol\" aria-roledescription=\"rect mark\" d=\"M66.85714285714286,344h594.8285714285714v10.285714285714278h-594.8285714285714Z\" fill=\"#e45756\" fill-opacity=\"1\" stroke=\"#505050\" stroke-width=\"0\"/><path aria-label=\"x1: 234; x2: 2315.9; level: 5; level2: 5.9; status: Runtime dispatch; sf: execute_request(socket::ZMQ.Socket, msg::IJulia.Msg) at execute_request.jl:67\" role=\"graphics-symbol\" aria-roledescription=\"rect mark\" d=\"M66.85714285714286,332.57142857142856h594.8285714285714v10.285714285714334h-594.8285714285714Z\" fill=\"#e45756\" fill-opacity=\"1\" stroke=\"#505050\" stroke-width=\"0\"/><path aria-label=\"x1: 234; x2: 2315.9; level: 6; level2: 6.9; status: Default; sf: softscope_include_string(m::Module, code::String, filename::String) at SoftGlobalScope.jl:65\" role=\"graphics-symbol\" aria-roledescription=\"rect mark\" d=\"M66.85714285714286,321.1428571428571h594.8285714285714v10.285714285714278h-594.8285714285714Z\" fill=\"#4c78a8\" fill-opacity=\"1\" stroke=\"#505050\" stroke-width=\"0\"/><path aria-label=\"x1: 234; x2: 2315.9; level: 7; level2: 7.9; status: Default; sf: include_string(mapexpr::typeof(REPL.softscope), mod::Module, code::String, filename::String) at loading.jl:1428\" role=\"graphics-symbol\" aria-roledescription=\"rect mark\" d=\"M66.85714285714286,309.7142857142857h594.8285714285714v10.285714285714278h-594.8285714285714Z\" fill=\"#4c78a8\" fill-opacity=\"1\" stroke=\"#505050\" stroke-width=\"0\"/><path aria-label=\"x1: 234; x2: 2315.9; level: 8; level2: 8.9; status: Runtime dispatch; sf: eval at boot.jl:368 [inlined]\" role=\"graphics-symbol\" aria-roledescription=\"rect mark\" d=\"M66.85714285714286,298.28571428571433h594.8285714285714v10.285714285714278h-594.8285714285714Z\" fill=\"#e45756\" fill-opacity=\"1\" stroke=\"#505050\" stroke-width=\"0\"/><path aria-label=\"x1: 234; x2: 238.9; level: 9; level2: 9.9; status: Default; sf: run_simulation!(state::Vector{Int64}, params::Dict{String, Any}) at Schelling.jl:55\" role=\"graphics-symbol\" aria-roledescription=\"rect mark\" d=\"M66.85714285714286,286.85714285714283h1.4000000000000057v10.285714285714334h-1.4000000000000057Z\" fill=\"#4c78a8\" fill-opacity=\"1\" stroke=\"#505050\" stroke-width=\"0\"/><path aria-label=\"x1: 234; x2: 238.9; level: 10; level2: 10.9; status: Default; sf: save at Schelling.jl:369 [inlined]\" role=\"graphics-symbol\" aria-roledescription=\"rect mark\" d=\"M66.85714285714286,275.42857142857144h1.4000000000000057v10.285714285714278h-1.4000000000000057Z\" fill=\"#4c78a8\" fill-opacity=\"1\" stroke=\"#505050\" stroke-width=\"0\"/><path aria-label=\"x1: 234; x2: 234.9; level: 11; level2: 11.9; status: Default; sf: save(state::Vector{Int64}, params::Dict{String, Any}; sweep::Int64) at Schelling.jl:378\" role=\"graphics-symbol\" aria-roledescription=\"rect mark\" d=\"M66.85714285714286,263.99999999999994h0.2571428571428527v10.285714285714334h-0.2571428571428527Z\" fill=\"#4c78a8\" fill-opacity=\"1\" stroke=\"#505050\" stroke-width=\"0\"/><path aria-label=\"x1: 234; x2: 234.9; level: 12; level2: 12.9; status: Default; sf: Printf.Format(f::String) at Printf.jl:199\" role=\"graphics-symbol\" aria-roledescription=\"rect mark\" d=\"M66.85714285714286,252.57142857142858h0.2571428571428527v10.28571428571425h-0.2571428571428527Z\" fill=\"#4c78a8\" fill-opacity=\"1\" stroke=\"#505050\" stroke-width=\"0\"/><path aria-label=\"x1: 234; x2: 234.9; level: 13; level2: 13.9; status: Default; sf: Tuple at tuple.jl:317 [inlined]\" role=\"graphics-symbol\" aria-roledescription=\"rect mark\" d=\"M66.85714285714286,241.14285714285714h0.2571428571428527v10.285714285714278h-0.2571428571428527Z\" fill=\"#4c78a8\" fill-opacity=\"1\" stroke=\"#505050\" stroke-width=\"0\"/><path aria-label=\"x1: 234; x2: 234.9; level: 14; level2: 14.9; status: Runtime dispatch; sf: _totuple at tuple.jl:352 [inlined]\" role=\"graphics-symbol\" aria-roledescription=\"rect mark\" d=\"M66.85714285714286,229.71428571428572h0.2571428571428527v10.285714285714278h-0.2571428571428527Z\" fill=\"#e45756\" fill-opacity=\"1\" stroke=\"#505050\" stroke-width=\"0\"/><path aria-label=\"x1: 235; x2: 238.9; level: 11; level2: 11.9; status: Runtime dispatch; sf: save(state::Vector{Int64}, params::Dict{String, Any}; sweep::Int64) at Schelling.jl:389\" role=\"graphics-symbol\" aria-roledescription=\"rect mark\" d=\"M67.14285714285714,263.99999999999994h1.114285714285728v10.285714285714334h-1.114285714285728Z\" fill=\"#e45756\" fill-opacity=\"1\" stroke=\"#505050\" stroke-width=\"0\"/><path aria-label=\"x1: 235; x2: 238.9; level: 12; level2: 12.9; status: Runtime dispatch; sf: h5open(::Function, ::String, ::String) at file.jl:91\" role=\"graphics-symbol\" aria-roledescription=\"rect mark\" d=\"M67.14285714285714,252.57142857142858h1.114285714285728v10.28571428571425h-1.114285714285728Z\" fill=\"#e45756\" fill-opacity=\"1\" stroke=\"#505050\" stroke-width=\"0\"/><path aria-label=\"x1: 235; x2: 237.9; level: 13; level2: 13.9; status: Default; sf: h5open(::Main.Schelling.var&quot;#8#9&quot;{Vector{Int64}, Dict{String, Any}}, ::String, ::Vararg{String}; context::HDF5.HDF5Context, pv::Base.Pairs{Symbol, Union{}, Tuple{}, NamedTuple{(), Tuple{}}}) at file.jl:93\" role=\"graphics-symbol\" aria-roledescription=\"rect mark\" d=\"M67.14285714285714,241.14285714285714h0.8285714285714363v10.285714285714278h-0.8285714285714363Z\" fill=\"#4c78a8\" fill-opacity=\"1\" stroke=\"#505050\" stroke-width=\"0\"/><path aria-label=\"x1: 235; x2: 237.9; level: 14; level2: 14.9; status: Default; sf: task_local_storage(body::HDF5.var&quot;#17#18&quot;{HDF5.HDF5Context, Base.Pairs{Symbol, Union{}, Tuple{}, NamedTuple{(), Tuple{}}}, Main.Schelling.var&quot;#8#9&quot;{Vector{Int64}, Dict{String, Any}}, HDF5.File}, key::Symbol, val::HDF5.HDF5Context) at task.jl:292\" role=\"graphics-symbol\" aria-roledescription=\"rect mark\" d=\"M67.14285714285714,229.71428571428572h0.8285714285714363v10.285714285714278h-0.8285714285714363Z\" fill=\"#4c78a8\" fill-opacity=\"1\" stroke=\"#505050\" stroke-width=\"0\"/><path aria-label=\"x1: 235; x2: 236.9; level: 15; level2: 15.9; status: Default; sf: (::HDF5.var&quot;#17#18&quot;{HDF5.HDF5Context, Base.Pairs{Symbol, Union{}, Tuple{}, NamedTuple{(), Tuple{}}}, Main.Schelling.var&quot;#8#9&quot;{Vector{Int64}, Dict{String, Any}}, HDF5.File})() at file.jl:98\" role=\"graphics-symbol\" aria-roledescription=\"rect mark\" d=\"M67.14285714285714,218.28571428571428h0.5428571428571445v10.285714285714278h-0.5428571428571445Z\" fill=\"#4c78a8\" fill-opacity=\"1\" stroke=\"#505050\" stroke-width=\"0\"/><path aria-label=\"x1: 235; x2: 235.9; level: 16; level2: 16.9; status: Default; sf: (::Main.Schelling.var&quot;#8#9&quot;{Vector{Int64}, Dict{String, Any}})(fid::HDF5.File) at Schelling.jl:392\" role=\"graphics-symbol\" aria-roledescription=\"rect mark\" d=\"M67.14285714285714,206.85714285714286h0.2571428571428669v10.285714285714306h-0.2571428571428669Z\" fill=\"#4c78a8\" fill-opacity=\"1\" stroke=\"#505050\" stroke-width=\"0\"/><path aria-label=\"x1: 235; x2: 235.9; level: 17; level2: 17.9; status: Default; sf: setindex! at highlevel.jl:96 [inlined]\" role=\"graphics-symbol\" aria-roledescription=\"rect mark\" d=\"M67.14285714285714,195.42857142857147h0.2571428571428669v10.28571428571422h-0.2571428571428669Z\" fill=\"#4c78a8\" fill-opacity=\"1\" stroke=\"#505050\" stroke-width=\"0\"/><path aria-label=\"x1: 235; x2: 235.9; level: 18; level2: 18.9; status: Default; sf: #setindex!#108 at highlevel.jl:113 [inlined]\" role=\"graphics-symbol\" aria-roledescription=\"rect mark\" d=\"M67.14285714285714,184.00000000000003h0.2571428571428669v10.285714285714278h-0.2571428571428669Z\" fill=\"#4c78a8\" fill-opacity=\"1\" stroke=\"#505050\" stroke-width=\"0\"/><path aria-label=\"x1: 235; x2: 235.9; level: 19; level2: 19.9; status: Default; sf: write at datasets.jl:305 [inlined]\" role=\"graphics-symbol\" aria-roledescription=\"rect mark\" d=\"M67.14285714285714,172.5714285714286h0.2571428571428669v10.28571428571425h-0.2571428571428669Z\" fill=\"#4c78a8\" fill-opacity=\"1\" stroke=\"#505050\" stroke-width=\"0\"/><path aria-label=\"x1: 235; x2: 235.9; level: 20; level2: 20.9; status: Default; sf: #write#57 at datasets.jl:305 [inlined]\" role=\"graphics-symbol\" aria-roledescription=\"rect mark\" d=\"M67.14285714285714,161.14285714285717h0.2571428571428669v10.285714285714278h-0.2571428571428669Z\" fill=\"#4c78a8\" fill-opacity=\"1\" stroke=\"#505050\" stroke-width=\"0\"/><path aria-label=\"x1: 235; x2: 235.9; level: 21; level2: 21.9; status: Default; sf: write_dataset at datasets.jl:278 [inlined]\" role=\"graphics-symbol\" aria-roledescription=\"rect mark\" d=\"M67.14285714285714,149.71428571428572h0.2571428571428669v10.285714285714278h-0.2571428571428669Z\" fill=\"#4c78a8\" fill-opacity=\"1\" stroke=\"#505050\" stroke-width=\"0\"/><path aria-label=\"x1: 235; x2: 235.9; level: 22; level2: 22.9; status: Default; sf: write_dataset(parent::HDF5.Group, name::String, data::Vector{Int64}; pv::Base.Pairs{Symbol, Union{}, Tuple{}, NamedTuple{(), Tuple{}}}) at datasets.jl:281\" role=\"graphics-symbol\" aria-roledescription=\"rect mark\" d=\"M67.14285714285714,138.2857142857143h0.2571428571428669v10.285714285714278h-0.2571428571428669Z\" fill=\"#4c78a8\" fill-opacity=\"1\" stroke=\"#505050\" stroke-width=\"0\"/><path aria-label=\"x1: 235; x2: 235.9; level: 23; level2: 23.9; status: Default; sf: create_dataset at datasets.jl:264 [inlined]\" role=\"graphics-symbol\" aria-roledescription=\"rect mark\" d=\"M67.14285714285714,126.85714285714286h0.2571428571428669v10.285714285714278h-0.2571428571428669Z\" fill=\"#4c78a8\" fill-opacity=\"1\" stroke=\"#505050\" stroke-width=\"0\"/><path aria-label=\"x1: 235; x2: 235.9; level: 24; level2: 24.9; status: Default; sf: create_dataset(parent::HDF5.Group, name::String, data::Vector{Int64}; pv::Base.Pairs{Symbol, Union{}, Tuple{}, NamedTuple{(), Tuple{}}}) at datasets.jl:270\" role=\"graphics-symbol\" aria-roledescription=\"rect mark\" d=\"M67.14285714285714,115.42857142857143h0.2571428571428669v10.285714285714278h-0.2571428571428669Z\" fill=\"#4c78a8\" fill-opacity=\"1\" stroke=\"#505050\" stroke-width=\"0\"/><path aria-label=\"x1: 235; x2: 235.9; level: 25; level2: 25.9; status: Default; sf: create_dataset(parent::HDF5.Group, path::String, dtype::HDF5.Datatype, dspace::HDF5.Dataspace) at datasets.jl:40\" role=\"graphics-symbol\" aria-roledescription=\"rect mark\" d=\"M67.14285714285714,104h0.2571428571428669v10.285714285714278h-0.2571428571428669Z\" fill=\"#4c78a8\" fill-opacity=\"1\" stroke=\"#505050\" stroke-width=\"0\"/><path aria-label=\"x1: 235; x2: 235.9; level: 26; level2: 26.9; status: Default; sf: create_dataset(parent::HDF5.Group, path::String, dtype::HDF5.Datatype, dspace::HDF5.Dataspace; dcpl::HDF5.DatasetCreateProperties, dxpl::HDF5.DatasetTransferProperties, dapl::HDF5.DatasetAccessProperties, pv::Base.Pairs{Symbol, Union{}, Tuple{}, NamedTuple{(), Tuple{}}}) at datasets.jl:60\" role=\"graphics-symbol\" aria-roledescription=\"rect mark\" d=\"M67.14285714285714,92.57142857142857h0.2571428571428669v10.285714285714278h-0.2571428571428669Z\" fill=\"#4c78a8\" fill-opacity=\"1\" stroke=\"#505050\" stroke-width=\"0\"/><path aria-label=\"x1: 235; x2: 235.9; level: 27; level2: 27.9; status: Default; sf: h5d_create(loc_id::HDF5.Group, pathname::String, dtype_id::HDF5.Datatype, space_id::HDF5.Dataspace, lcpl_id::HDF5.LinkCreateProperties, dcpl_id::HDF5.DatasetCreateProperties, dapl_id::HDF5.DatasetAccessProperties) at functions.jl:470\" role=\"graphics-symbol\" aria-roledescription=\"rect mark\" d=\"M67.14285714285714,81.14285714285714h0.2571428571428669v10.285714285714278h-0.2571428571428669Z\" fill=\"#4c78a8\" fill-opacity=\"1\" stroke=\"#505050\" stroke-width=\"0\"/><path aria-label=\"x1: 236; x2: 236.9; level: 16; level2: 16.9; status: Runtime dispatch; sf: (::Main.Schelling.var&quot;#8#9&quot;{Vector{Int64}, Dict{String, Any}})(fid::HDF5.File) at Schelling.jl:397\" role=\"graphics-symbol\" aria-roledescription=\"rect mark\" d=\"M67.42857142857143,206.85714285714286h0.2571428571428527v10.285714285714306h-0.2571428571428527Z\" fill=\"#e45756\" fill-opacity=\"1\" stroke=\"#505050\" stroke-width=\"0\"/><path aria-label=\"x1: 236; x2: 236.9; level: 17; level2: 17.9; status: Default; sf: setindex!(parent::HDF5.Group, val::String, path::String) at highlevel.jl:96\" role=\"graphics-symbol\" aria-roledescription=\"rect mark\" d=\"M67.42857142857143,195.42857142857147h0.2571428571428527v10.28571428571422h-0.2571428571428527Z\" fill=\"#4c78a8\" fill-opacity=\"1\" stroke=\"#505050\" stroke-width=\"0\"/><path aria-label=\"x1: 236; x2: 236.9; level: 18; level2: 18.9; status: Default; sf: #setindex!#108 at highlevel.jl:113 [inlined]\" role=\"graphics-symbol\" aria-roledescription=\"rect mark\" d=\"M67.42857142857143,184.00000000000003h0.2571428571428527v10.285714285714278h-0.2571428571428527Z\" fill=\"#4c78a8\" fill-opacity=\"1\" stroke=\"#505050\" stroke-width=\"0\"/><path aria-label=\"x1: 236; x2: 236.9; level: 19; level2: 19.9; status: Default; sf: write at datasets.jl:305 [inlined]\" role=\"graphics-symbol\" aria-roledescription=\"rect mark\" d=\"M67.42857142857143,172.5714285714286h0.2571428571428527v10.28571428571425h-0.2571428571428527Z\" fill=\"#4c78a8\" fill-opacity=\"1\" stroke=\"#505050\" stroke-width=\"0\"/><path aria-label=\"x1: 236; x2: 236.9; level: 20; level2: 20.9; status: Default; sf: #write#57 at datasets.jl:305 [inlined]\" role=\"graphics-symbol\" aria-roledescription=\"rect mark\" d=\"M67.42857142857143,161.14285714285717h0.2571428571428527v10.285714285714278h-0.2571428571428527Z\" fill=\"#4c78a8\" fill-opacity=\"1\" stroke=\"#505050\" stroke-width=\"0\"/><path aria-label=\"x1: 236; x2: 236.9; level: 21; level2: 21.9; status: Default; sf: write_dataset at datasets.jl:278 [inlined]\" role=\"graphics-symbol\" aria-roledescription=\"rect mark\" d=\"M67.42857142857143,149.71428571428572h0.2571428571428527v10.285714285714278h-0.2571428571428527Z\" fill=\"#4c78a8\" fill-opacity=\"1\" stroke=\"#505050\" stroke-width=\"0\"/><path aria-label=\"x1: 236; x2: 236.9; level: 22; level2: 22.9; status: Default; sf: write_dataset(parent::HDF5.Group, name::String, data::String; pv::Base.Pairs{Symbol, Union{}, Tuple{}, NamedTuple{(), Tuple{}}}) at datasets.jl:288\" role=\"graphics-symbol\" aria-roledescription=\"rect mark\" d=\"M67.42857142857143,138.2857142857143h0.2571428571428527v10.285714285714278h-0.2571428571428527Z\" fill=\"#4c78a8\" fill-opacity=\"1\" stroke=\"#505050\" stroke-width=\"0\"/><path aria-label=\"x1: 236; x2: 236.9; level: 23; level2: 23.9; status: Default; sf: close at objects.jl:16 [inlined]\" role=\"graphics-symbol\" aria-roledescription=\"rect mark\" d=\"M67.42857142857143,126.85714285714286h0.2571428571428527v10.285714285714278h-0.2571428571428527Z\" fill=\"#4c78a8\" fill-opacity=\"1\" stroke=\"#505050\" stroke-width=\"0\"/><path aria-label=\"x1: 236; x2: 236.9; level: 24; level2: 24.9; status: Default; sf: h5o_close(object_id::HDF5.Dataset) at functions.jl:2158\" role=\"graphics-symbol\" aria-roledescription=\"rect mark\" d=\"M67.42857142857143,115.42857142857143h0.2571428571428527v10.285714285714278h-0.2571428571428527Z\" fill=\"#4c78a8\" fill-opacity=\"1\" stroke=\"#505050\" stroke-width=\"0\"/><path aria-label=\"x1: 237; x2: 237.9; level: 15; level2: 15.9; status: Default; sf: (::HDF5.var&quot;#17#18&quot;{HDF5.HDF5Context, Base.Pairs{Symbol, Union{}, Tuple{}, NamedTuple{(), Tuple{}}}, Main.Schelling.var&quot;#8#9&quot;{Vector{Int64}, Dict{String, Any}}, HDF5.File})() at file.jl:101\" role=\"graphics-symbol\" aria-roledescription=\"rect mark\" d=\"M67.71428571428572,218.28571428571428h0.2571428571428527v10.285714285714278h-0.2571428571428527Z\" fill=\"#4c78a8\" fill-opacity=\"1\" stroke=\"#505050\" stroke-width=\"0\"/><path aria-label=\"x1: 237; x2: 237.9; level: 16; level2: 16.9; status: Default; sf: close at context.jl:63 [inlined]\" role=\"graphics-symbol\" aria-roledescription=\"rect mark\" d=\"M67.71428571428572,206.85714285714286h0.2571428571428527v10.285714285714306h-0.2571428571428527Z\" fill=\"#4c78a8\" fill-opacity=\"1\" stroke=\"#505050\" stroke-width=\"0\"/><path aria-label=\"x1: 237; x2: 237.9; level: 17; level2: 17.9; status: Default; sf: foreach at tuple.jl:555 [inlined]\" role=\"graphics-symbol\" aria-roledescription=\"rect mark\" d=\"M67.71428571428572,195.42857142857147h0.2571428571428527v10.28571428571422h-0.2571428571428527Z\" fill=\"#4c78a8\" fill-opacity=\"1\" stroke=\"#505050\" stroke-width=\"0\"/><path aria-label=\"x1: 237; x2: 237.9; level: 18; level2: 18.9; status: Default; sf: foldl at reduce.jl:193 [inlined]\" role=\"graphics-symbol\" aria-roledescription=\"rect mark\" d=\"M67.71428571428572,184.00000000000003h0.2571428571428527v10.285714285714278h-0.2571428571428527Z\" fill=\"#4c78a8\" fill-opacity=\"1\" stroke=\"#505050\" stroke-width=\"0\"/><path aria-label=\"x1: 237; x2: 237.9; level: 19; level2: 19.9; status: Default; sf: #foldl#260 at reduce.jl:193 [inlined]\" role=\"graphics-symbol\" aria-roledescription=\"rect mark\" d=\"M67.71428571428572,172.5714285714286h0.2571428571428527v10.28571428571425h-0.2571428571428527Z\" fill=\"#4c78a8\" fill-opacity=\"1\" stroke=\"#505050\" stroke-width=\"0\"/><path aria-label=\"x1: 237; x2: 237.9; level: 20; level2: 20.9; status: Default; sf: mapfoldl at reduce.jl:170 [inlined]\" role=\"graphics-symbol\" aria-roledescription=\"rect mark\" d=\"M67.71428571428572,161.14285714285717h0.2571428571428527v10.285714285714278h-0.2571428571428527Z\" fill=\"#4c78a8\" fill-opacity=\"1\" stroke=\"#505050\" stroke-width=\"0\"/><path aria-label=\"x1: 237; x2: 237.9; level: 21; level2: 21.9; status: Default; sf: #mapfoldl#259 at reduce.jl:170 [inlined]\" role=\"graphics-symbol\" aria-roledescription=\"rect mark\" d=\"M67.71428571428572,149.71428571428572h0.2571428571428527v10.285714285714278h-0.2571428571428527Z\" fill=\"#4c78a8\" fill-opacity=\"1\" stroke=\"#505050\" stroke-width=\"0\"/><path aria-label=\"x1: 237; x2: 237.9; level: 22; level2: 22.9; status: Default; sf: mapfoldl_impl at reduce.jl:44 [inlined]\" role=\"graphics-symbol\" aria-roledescription=\"rect mark\" d=\"M67.71428571428572,138.2857142857143h0.2571428571428527v10.285714285714278h-0.2571428571428527Z\" fill=\"#4c78a8\" fill-opacity=\"1\" stroke=\"#505050\" stroke-width=\"0\"/><path aria-label=\"x1: 237; x2: 237.9; level: 23; level2: 23.9; status: Default; sf: foldl_impl at reduce.jl:48 [inlined]\" role=\"graphics-symbol\" aria-roledescription=\"rect mark\" d=\"M67.71428571428572,126.85714285714286h0.2571428571428527v10.285714285714278h-0.2571428571428527Z\" fill=\"#4c78a8\" fill-opacity=\"1\" stroke=\"#505050\" stroke-width=\"0\"/><path aria-label=\"x1: 237; x2: 237.9; level: 24; level2: 24.9; status: Default; sf: _foldl_impl at tuple.jl:277 [inlined]\" role=\"graphics-symbol\" aria-roledescription=\"rect mark\" d=\"M67.71428571428572,115.42857142857143h0.2571428571428527v10.285714285714278h-0.2571428571428527Z\" fill=\"#4c78a8\" fill-opacity=\"1\" stroke=\"#505050\" stroke-width=\"0\"/><path aria-label=\"x1: 237; x2: 237.9; level: 25; level2: 25.9; status: Default; sf: afoldl(::Base.BottomRF{Base.var&quot;#57#58&quot;{HDF5.var&quot;#10#11&quot;{HDF5.HDF5Context}}}, ::Nothing, ::Symbol, ::Symbol, ::Symbol, ::Symbol, ::Symbol, ::Symbol, ::Symbol, ::Symbol, ::Symbol, ::Symbol, ::Symbol, ::Symbol, ::Symbol, ::Symbol, ::Symbol, ::Symbol, ::Symbol) at operators.jl:554\" role=\"graphics-symbol\" aria-roledescription=\"rect mark\" d=\"M67.71428571428572,104h0.2571428571428527v10.285714285714278h-0.2571428571428527Z\" fill=\"#4c78a8\" fill-opacity=\"1\" stroke=\"#505050\" stroke-width=\"0\"/><path aria-label=\"x1: 237; x2: 237.9; level: 26; level2: 26.9; status: Default; sf: BottomRF at reduce.jl:81 [inlined]\" role=\"graphics-symbol\" aria-roledescription=\"rect mark\" d=\"M67.71428571428572,92.57142857142857h0.2571428571428527v10.285714285714278h-0.2571428571428527Z\" fill=\"#4c78a8\" fill-opacity=\"1\" stroke=\"#505050\" stroke-width=\"0\"/><path aria-label=\"x1: 237; x2: 237.9; level: 27; level2: 27.9; status: Default; sf: #57 at tuple.jl:555 [inlined]\" role=\"graphics-symbol\" aria-roledescription=\"rect mark\" d=\"M67.71428571428572,81.14285714285714h0.2571428571428527v10.285714285714278h-0.2571428571428527Z\" fill=\"#4c78a8\" fill-opacity=\"1\" stroke=\"#505050\" stroke-width=\"0\"/><path aria-label=\"x1: 237; x2: 237.9; level: 28; level2: 28.9; status: Runtime dispatch; sf: (::HDF5.var&quot;#10#11&quot;{HDF5.HDF5Context})(n::Symbol) at context.jl:64\" role=\"graphics-symbol\" aria-roledescription=\"rect mark\" d=\"M67.71428571428572,69.71428571428575h0.2571428571428527v10.285714285714235h-0.2571428571428527Z\" fill=\"#e45756\" fill-opacity=\"1\" stroke=\"#505050\" stroke-width=\"0\"/><path aria-label=\"x1: 238; x2: 238.9; level: 13; level2: 13.9; status: Default; sf: copy(ctx::HDF5.HDF5Context) at context.jl:60\" role=\"graphics-symbol\" aria-roledescription=\"rect mark\" d=\"M68,241.14285714285714h0.2571428571428669v10.285714285714278h-0.2571428571428669Z\" fill=\"#4c78a8\" fill-opacity=\"1\" stroke=\"#505050\" stroke-width=\"0\"/><path aria-label=\"x1: 238; x2: 238.9; level: 14; level2: 14.9; status: Default; sf: map at tuple.jl:224 [inlined]\" role=\"graphics-symbol\" aria-roledescription=\"rect mark\" d=\"M68,229.71428571428572h0.2571428571428669v10.285714285714278h-0.2571428571428669Z\" fill=\"#4c78a8\" fill-opacity=\"1\" stroke=\"#505050\" stroke-width=\"0\"/><path aria-label=\"x1: 238; x2: 238.9; level: 15; level2: 15.9; status: Default; sf: map at tuple.jl:224 [inlined]\" role=\"graphics-symbol\" aria-roledescription=\"rect mark\" d=\"M68,218.28571428571428h0.2571428571428669v10.285714285714278h-0.2571428571428669Z\" fill=\"#4c78a8\" fill-opacity=\"1\" stroke=\"#505050\" stroke-width=\"0\"/><path aria-label=\"x1: 238; x2: 238.9; level: 16; level2: 16.9; status: Default; sf: map at tuple.jl:224 [inlined]\" role=\"graphics-symbol\" aria-roledescription=\"rect mark\" d=\"M68,206.85714285714286h0.2571428571428669v10.285714285714306h-0.2571428571428669Z\" fill=\"#4c78a8\" fill-opacity=\"1\" stroke=\"#505050\" stroke-width=\"0\"/><path aria-label=\"x1: 238; x2: 238.9; level: 17; level2: 17.9; status: Default; sf: map at tuple.jl:224 [inlined]\" role=\"graphics-symbol\" aria-roledescription=\"rect mark\" d=\"M68,195.42857142857147h0.2571428571428669v10.28571428571422h-0.2571428571428669Z\" fill=\"#4c78a8\" fill-opacity=\"1\" stroke=\"#505050\" stroke-width=\"0\"/><path aria-label=\"x1: 238; x2: 238.9; level: 18; level2: 18.9; status: Default; sf: map at tuple.jl:224 [inlined]\" role=\"graphics-symbol\" aria-roledescription=\"rect mark\" d=\"M68,184.00000000000003h0.2571428571428669v10.285714285714278h-0.2571428571428669Z\" fill=\"#4c78a8\" fill-opacity=\"1\" stroke=\"#505050\" stroke-width=\"0\"/><path aria-label=\"x1: 238; x2: 238.9; level: 19; level2: 19.9; status: Default; sf: map at tuple.jl:224 [inlined]\" role=\"graphics-symbol\" aria-roledescription=\"rect mark\" d=\"M68,172.5714285714286h0.2571428571428669v10.28571428571425h-0.2571428571428669Z\" fill=\"#4c78a8\" fill-opacity=\"1\" stroke=\"#505050\" stroke-width=\"0\"/><path aria-label=\"x1: 238; x2: 238.9; level: 20; level2: 20.9; status: Default; sf: map at tuple.jl:224 [inlined]\" role=\"graphics-symbol\" aria-roledescription=\"rect mark\" d=\"M68,161.14285714285717h0.2571428571428669v10.285714285714278h-0.2571428571428669Z\" fill=\"#4c78a8\" fill-opacity=\"1\" stroke=\"#505050\" stroke-width=\"0\"/><path aria-label=\"x1: 238; x2: 238.9; level: 21; level2: 21.9; status: Default; sf: map at tuple.jl:224 [inlined]\" role=\"graphics-symbol\" aria-roledescription=\"rect mark\" d=\"M68,149.71428571428572h0.2571428571428669v10.285714285714278h-0.2571428571428669Z\" fill=\"#4c78a8\" fill-opacity=\"1\" stroke=\"#505050\" stroke-width=\"0\"/><path aria-label=\"x1: 238; x2: 238.9; level: 22; level2: 22.9; status: Runtime dispatch; sf: (::HDF5.var&quot;#8#9&quot;{HDF5.HDF5Context})(n::Symbol) at context.jl:61\" role=\"graphics-symbol\" aria-roledescription=\"rect mark\" d=\"M68,138.2857142857143h0.2571428571428669v10.285714285714278h-0.2571428571428669Z\" fill=\"#e45756\" fill-opacity=\"1\" stroke=\"#505050\" stroke-width=\"0\"/><path aria-label=\"x1: 239; x2: 2312.9; level: 9; level2: 9.9; status: Default; sf: run_simulation!(state::Vector{Int64}, params::Dict{String, Any}) at Schelling.jl:58\" role=\"graphics-symbol\" aria-roledescription=\"rect mark\" d=\"M68.28571428571428,286.85714285714283h592.5428571428572v10.285714285714334h-592.5428571428572Z\" fill=\"#4c78a8\" fill-opacity=\"1\" stroke=\"#505050\" stroke-width=\"0\"/><path aria-label=\"x1: 239; x2: 2312.9; level: 10; level2: 10.9; status: Runtime dispatch; sf: macro expansion at ProgressMeter.jl:938 [inlined]\" role=\"graphics-symbol\" aria-roledescription=\"rect mark\" d=\"M68.28571428571428,275.42857142857144h592.5428571428572v10.285714285714278h-592.5428571428572Z\" fill=\"#e45756\" fill-opacity=\"1\" stroke=\"#505050\" stroke-width=\"0\"/><path aria-label=\"x1: 239; x2: 239.9; level: 11; level2: 11.9; status: Default; sf: iterate(wrap::ProgressMeter.ProgressWrapper{UnitRange{Int64}}, state::Int64) at ProgressMeter.jl:736\" role=\"graphics-symbol\" aria-roledescription=\"rect mark\" d=\"M68.28571428571428,263.99999999999994h0.2571428571428669v10.285714285714334h-0.2571428571428669Z\" fill=\"#4c78a8\" fill-opacity=\"1\" stroke=\"#505050\" stroke-width=\"0\"/><path aria-label=\"x1: 239; x2: 239.9; level: 12; level2: 12.9; status: Default; sf: finish! at ProgressMeter.jl:569 [inlined]\" role=\"graphics-symbol\" aria-roledescription=\"rect mark\" d=\"M68.28571428571428,252.57142857142858h0.2571428571428669v10.28571428571425h-0.2571428571428669Z\" fill=\"#4c78a8\" fill-opacity=\"1\" stroke=\"#505050\" stroke-width=\"0\"/><path aria-label=\"x1: 239; x2: 239.9; level: 13; level2: 13.9; status: Default; sf: #finish!#31 at ProgressMeter.jl:571 [inlined]\" role=\"graphics-symbol\" aria-roledescription=\"rect mark\" d=\"M68.28571428571428,241.14285714285714h0.2571428571428669v10.285714285714278h-0.2571428571428669Z\" fill=\"#4c78a8\" fill-opacity=\"1\" stroke=\"#505050\" stroke-width=\"0\"/><path aria-label=\"x1: 239; x2: 239.9; level: 14; level2: 14.9; status: Default; sf: update! at ProgressMeter.jl:518 [inlined]\" role=\"graphics-symbol\" aria-roledescription=\"rect mark\" d=\"M68.28571428571428,229.71428571428572h0.2571428571428669v10.285714285714278h-0.2571428571428669Z\" fill=\"#4c78a8\" fill-opacity=\"1\" stroke=\"#505050\" stroke-width=\"0\"/><path aria-label=\"x1: 239; x2: 239.9; level: 15; level2: 15.9; status: Default; sf: update! at ProgressMeter.jl:518 [inlined]\" role=\"graphics-symbol\" aria-roledescription=\"rect mark\" d=\"M68.28571428571428,218.28571428571428h0.2571428571428669v10.285714285714278h-0.2571428571428669Z\" fill=\"#4c78a8\" fill-opacity=\"1\" stroke=\"#505050\" stroke-width=\"0\"/><path aria-label=\"x1: 239; x2: 239.9; level: 16; level2: 16.9; status: Default; sf: #update!#22 at ProgressMeter.jl:519 [inlined]\" role=\"graphics-symbol\" aria-roledescription=\"rect mark\" d=\"M68.28571428571428,206.85714285714286h0.2571428571428669v10.285714285714306h-0.2571428571428669Z\" fill=\"#4c78a8\" fill-opacity=\"1\" stroke=\"#505050\" stroke-width=\"0\"/><path aria-label=\"x1: 239; x2: 239.9; level: 17; level2: 17.9; status: Default; sf: lock_if_threading at ProgressMeter.jl:480 [inlined]\" role=\"graphics-symbol\" aria-roledescription=\"rect mark\" d=\"M68.28571428571428,195.42857142857147h0.2571428571428669v10.28571428571422h-0.2571428571428669Z\" fill=\"#4c78a8\" fill-opacity=\"1\" stroke=\"#505050\" stroke-width=\"0\"/><path aria-label=\"x1: 239; x2: 239.9; level: 18; level2: 18.9; status: Default; sf: #23 at ProgressMeter.jl:523 [inlined]\" role=\"graphics-symbol\" aria-roledescription=\"rect mark\" d=\"M68.28571428571428,184.00000000000003h0.2571428571428669v10.285714285714278h-0.2571428571428669Z\" fill=\"#4c78a8\" fill-opacity=\"1\" stroke=\"#505050\" stroke-width=\"0\"/><path aria-label=\"x1: 239; x2: 239.9; level: 19; level2: 19.9; status: Default; sf: updateProgress! at ProgressMeter.jl:254 [inlined]\" role=\"graphics-symbol\" aria-roledescription=\"rect mark\" d=\"M68.28571428571428,172.5714285714286h0.2571428571428669v10.28571428571425h-0.2571428571428669Z\" fill=\"#4c78a8\" fill-opacity=\"1\" stroke=\"#505050\" stroke-width=\"0\"/><path aria-label=\"x1: 239; x2: 239.9; level: 20; level2: 20.9; status: Default; sf: updateProgress!(p::Progress; showvalues::Tuple{}, truncate_lines::Bool, valuecolor::Symbol, offset::Int64, keep::Bool, desc::Nothing, ignore_predictor::Bool) at ProgressMeter.jl:275\" role=\"graphics-symbol\" aria-roledescription=\"rect mark\" d=\"M68.28571428571428,161.14285714285717h0.2571428571428669v10.285714285714278h-0.2571428571428669Z\" fill=\"#4c78a8\" fill-opacity=\"1\" stroke=\"#505050\" stroke-width=\"0\"/><path aria-label=\"x1: 239; x2: 239.9; level: 21; level2: 21.9; status: Default; sf: durationstring(nsec::Float64) at ProgressMeter.jl:674\" role=\"graphics-symbol\" aria-roledescription=\"rect mark\" d=\"M68.28571428571428,149.71428571428572h0.2571428571428669v10.285714285714278h-0.2571428571428669Z\" fill=\"#4c78a8\" fill-opacity=\"1\" stroke=\"#505050\" stroke-width=\"0\"/><path aria-label=\"x1: 239; x2: 239.9; level: 22; level2: 22.9; status: Default; sf: format(::Printf.Format{Base.CodeUnits{UInt8, String}, Tuple{Printf.Spec{Val{'u'}}, Printf.Spec{Val{'u'}}, Printf.Spec{Val{'u'}}}}, ::Float64, ::Float64, ::Float64) at Printf.jl:831\" role=\"graphics-symbol\" aria-roledescription=\"rect mark\" d=\"M68.28571428571428,138.2857142857143h0.2571428571428669v10.285714285714278h-0.2571428571428669Z\" fill=\"#4c78a8\" fill-opacity=\"1\" stroke=\"#505050\" stroke-width=\"0\"/><path aria-label=\"x1: 239; x2: 239.9; level: 23; level2: 23.9; status: Default; sf: format at Printf.jl:734 [inlined]\" role=\"graphics-symbol\" aria-roledescription=\"rect mark\" d=\"M68.28571428571428,126.85714285714286h0.2571428571428669v10.285714285714278h-0.2571428571428669Z\" fill=\"#4c78a8\" fill-opacity=\"1\" stroke=\"#505050\" stroke-width=\"0\"/><path aria-label=\"x1: 239; x2: 239.9; level: 24; level2: 24.9; status: Default; sf: writefixed(buf::Vector{UInt8}, pos::Int64, v::Float64, precision::Int64, plus::Bool, space::Bool, hash::Bool, decchar::UInt8, trimtrailingzeros::Bool) at fixed.jl:1\" role=\"graphics-symbol\" aria-roledescription=\"rect mark\" d=\"M68.28571428571428,115.42857142857143h0.2571428571428669v10.285714285714278h-0.2571428571428669Z\" fill=\"#4c78a8\" fill-opacity=\"1\" stroke=\"#505050\" stroke-width=\"0\"/><path aria-label=\"x1: 240; x2: 2296.9; level: 11; level2: 11.9; status: Default; sf: macro expansion at Schelling.jl:59 [inlined]\" role=\"graphics-symbol\" aria-roledescription=\"rect mark\" d=\"M68.57142857142857,263.99999999999994h587.6857142857143v10.285714285714334h-587.6857142857143Z\" fill=\"#4c78a8\" fill-opacity=\"1\" stroke=\"#505050\" stroke-width=\"0\"/><path aria-label=\"x1: 240; x2: 2296.9; level: 12; level2: 12.9; status: Runtime dispatch; sf: run_sweep! at Schelling.jl:122 [inlined]\" role=\"graphics-symbol\" aria-roledescription=\"rect mark\" d=\"M68.57142857142857,252.57142857142858h587.6857142857143v10.28571428571425h-587.6857142857143Z\" fill=\"#e45756\" fill-opacity=\"1\" stroke=\"#505050\" stroke-width=\"0\"/><path aria-label=\"x1: 345; x2: 350.9; level: 13; level2: 13.9; status: Default; sf: move!(state::Vector{Int64}, params::Dict{String, Any}, total_occupants::Int64) at Schelling.jl:0\" role=\"graphics-symbol\" aria-roledescription=\"rect mark\" d=\"M98.57142857142858,241.14285714285714h1.6857142857142549v10.285714285714278h-1.6857142857142549Z\" fill=\"#4c78a8\" fill-opacity=\"1\" stroke=\"#505050\" stroke-width=\"0\"/><path aria-label=\"x1: 351; x2: 357.9; level: 13; level2: 13.9; status: Default; sf: move!(state::Vector{Int64}, params::Dict{String, Any}, total_occupants::Int64) at Schelling.jl:213\" role=\"graphics-symbol\" aria-roledescription=\"rect mark\" d=\"M100.28571428571429,241.14285714285714h1.9714285714285609v10.285714285714278h-1.9714285714285609Z\" fill=\"#4c78a8\" fill-opacity=\"1\" stroke=\"#505050\" stroke-width=\"0\"/><path aria-label=\"x1: 351; x2: 357.9; level: 14; level2: 14.9; status: Default; sf: getindex at dict.jl:497 [inlined]\" role=\"graphics-symbol\" aria-roledescription=\"rect mark\" d=\"M100.28571428571429,229.71428571428572h1.9714285714285609v10.285714285714278h-1.9714285714285609Z\" fill=\"#4c78a8\" fill-opacity=\"1\" stroke=\"#505050\" stroke-width=\"0\"/><path aria-label=\"x1: 351; x2: 351.9; level: 15; level2: 15.9; status: Default; sf: ht_keyindex(h::Dict{String, Any}, key::String) at dict.jl:284\" role=\"graphics-symbol\" aria-roledescription=\"rect mark\" d=\"M100.28571428571429,218.28571428571428h0.25714285714283847v10.285714285714278h-0.25714285714283847Z\" fill=\"#4c78a8\" fill-opacity=\"1\" stroke=\"#505050\" stroke-width=\"0\"/><path aria-label=\"x1: 351; x2: 351.9; level: 16; level2: 16.9; status: Default; sf: hashindex at dict.jl:169 [inlined]\" role=\"graphics-symbol\" aria-roledescription=\"rect mark\" d=\"M100.28571428571429,206.85714285714286h0.25714285714283847v10.285714285714306h-0.25714285714283847Z\" fill=\"#4c78a8\" fill-opacity=\"1\" stroke=\"#505050\" stroke-width=\"0\"/><path aria-label=\"x1: 351; x2: 351.9; level: 17; level2: 17.9; status: Default; sf: hash at hashing.jl:20 [inlined]\" role=\"graphics-symbol\" aria-roledescription=\"rect mark\" d=\"M100.28571428571429,195.42857142857147h0.25714285714283847v10.28571428571422h-0.25714285714283847Z\" fill=\"#4c78a8\" fill-opacity=\"1\" stroke=\"#505050\" stroke-width=\"0\"/><path aria-label=\"x1: 351; x2: 351.9; level: 18; level2: 18.9; status: Default; sf: hash at hashing.jl:107 [inlined]\" role=\"graphics-symbol\" aria-roledescription=\"rect mark\" d=\"M100.28571428571429,184.00000000000003h0.25714285714283847v10.285714285714278h-0.25714285714283847Z\" fill=\"#4c78a8\" fill-opacity=\"1\" stroke=\"#505050\" stroke-width=\"0\"/><path aria-label=\"x1: 352; x2: 352.9; level: 15; level2: 15.9; status: Default; sf: ht_keyindex(h::Dict{String, Any}, key::String) at dict.jl:288\" role=\"graphics-symbol\" aria-roledescription=\"rect mark\" d=\"M100.57142857142858,218.28571428571428h0.25714285714283847v10.285714285714278h-0.25714285714283847Z\" fill=\"#4c78a8\" fill-opacity=\"1\" stroke=\"#505050\" stroke-width=\"0\"/><path aria-label=\"x1: 352; x2: 352.9; level: 16; level2: 16.9; status: Default; sf: isslotempty at dict.jl:171 [inlined]\" role=\"graphics-symbol\" aria-roledescription=\"rect mark\" d=\"M100.57142857142858,206.85714285714286h0.25714285714283847v10.285714285714306h-0.25714285714283847Z\" fill=\"#4c78a8\" fill-opacity=\"1\" stroke=\"#505050\" stroke-width=\"0\"/><path aria-label=\"x1: 352; x2: 352.9; level: 17; level2: 17.9; status: Default; sf: getindex at array.jl:924 [inlined]\" role=\"graphics-symbol\" aria-roledescription=\"rect mark\" d=\"M100.57142857142858,195.42857142857147h0.25714285714283847v10.28571428571422h-0.25714285714283847Z\" fill=\"#4c78a8\" fill-opacity=\"1\" stroke=\"#505050\" stroke-width=\"0\"/><path aria-label=\"x1: 353; x2: 355.9; level: 15; level2: 15.9; status: Default; sf: ht_keyindex(h::Dict{String, Any}, key::String) at dict.jl:291\" role=\"graphics-symbol\" aria-roledescription=\"rect mark\" d=\"M100.85714285714286,218.28571428571428h0.8285714285714079v10.285714285714278h-0.8285714285714079Z\" fill=\"#4c78a8\" fill-opacity=\"1\" stroke=\"#505050\" stroke-width=\"0\"/><path aria-label=\"x1: 356; x2: 357.9; level: 15; level2: 15.9; status: Default; sf: ht_keyindex(h::Dict{String, Any}, key::String) at operators.jl:0\" role=\"graphics-symbol\" aria-roledescription=\"rect mark\" d=\"M101.71428571428571,218.28571428571428h0.5428571428571445v10.285714285714278h-0.5428571428571445Z\" fill=\"#4c78a8\" fill-opacity=\"1\" stroke=\"#505050\" stroke-width=\"0\"/><path aria-label=\"x1: 358; x2: 367.9; level: 13; level2: 13.9; status: Default; sf: move!(state::Vector{Int64}, params::Dict{String, Any}, total_occupants::Int64) at Schelling.jl:214\" role=\"graphics-symbol\" aria-roledescription=\"rect mark\" d=\"M102.28571428571429,241.14285714285714h2.828571428571422v10.285714285714278h-2.828571428571422Z\" fill=\"#4c78a8\" fill-opacity=\"1\" stroke=\"#505050\" stroke-width=\"0\"/><path aria-label=\"x1: 358; x2: 367.9; level: 14; level2: 14.9; status: Default; sf: getindex at dict.jl:497 [inlined]\" role=\"graphics-symbol\" aria-roledescription=\"rect mark\" d=\"M102.28571428571429,229.71428571428572h2.828571428571422v10.285714285714278h-2.828571428571422Z\" fill=\"#4c78a8\" fill-opacity=\"1\" stroke=\"#505050\" stroke-width=\"0\"/><path aria-label=\"x1: 358; x2: 358.9; level: 15; level2: 15.9; status: Default; sf: ht_keyindex(h::Dict{String, Any}, key::String) at dict.jl:280\" role=\"graphics-symbol\" aria-roledescription=\"rect mark\" d=\"M102.28571428571429,218.28571428571428h0.25714285714283847v10.285714285714278h-0.25714285714283847Z\" fill=\"#4c78a8\" fill-opacity=\"1\" stroke=\"#505050\" stroke-width=\"0\"/><path aria-label=\"x1: 359; x2: 359.9; level: 15; level2: 15.9; status: Default; sf: ht_keyindex(h::Dict{String, Any}, key::String) at dict.jl:281\" role=\"graphics-symbol\" aria-roledescription=\"rect mark\" d=\"M102.57142857142858,218.28571428571428h0.25714285714283847v10.285714285714278h-0.25714285714283847Z\" fill=\"#4c78a8\" fill-opacity=\"1\" stroke=\"#505050\" stroke-width=\"0\"/><path aria-label=\"x1: 359; x2: 359.9; level: 16; level2: 16.9; status: Default; sf: length at array.jl:215 [inlined]\" role=\"graphics-symbol\" aria-roledescription=\"rect mark\" d=\"M102.57142857142858,206.85714285714286h0.25714285714283847v10.285714285714306h-0.25714285714283847Z\" fill=\"#4c78a8\" fill-opacity=\"1\" stroke=\"#505050\" stroke-width=\"0\"/><path aria-label=\"x1: 360; x2: 361.9; level: 15; level2: 15.9; status: Default; sf: ht_keyindex(h::Dict{String, Any}, key::String) at dict.jl:284\" role=\"graphics-symbol\" aria-roledescription=\"rect mark\" d=\"M102.85714285714285,218.28571428571428h0.5428571428571587v10.285714285714278h-0.5428571428571587Z\" fill=\"#4c78a8\" fill-opacity=\"1\" stroke=\"#505050\" stroke-width=\"0\"/><path aria-label=\"x1: 360; x2: 361.9; level: 16; level2: 16.9; status: Default; sf: hashindex at dict.jl:169 [inlined]\" role=\"graphics-symbol\" aria-roledescription=\"rect mark\" d=\"M102.85714285714285,206.85714285714286h0.5428571428571587v10.285714285714306h-0.5428571428571587Z\" fill=\"#4c78a8\" fill-opacity=\"1\" stroke=\"#505050\" stroke-width=\"0\"/><path aria-label=\"x1: 360; x2: 361.9; level: 17; level2: 17.9; status: Default; sf: hash at hashing.jl:20 [inlined]\" role=\"graphics-symbol\" aria-roledescription=\"rect mark\" d=\"M102.85714285714285,195.42857142857147h0.5428571428571587v10.28571428571422h-0.5428571428571587Z\" fill=\"#4c78a8\" fill-opacity=\"1\" stroke=\"#505050\" stroke-width=\"0\"/><path aria-label=\"x1: 360; x2: 361.9; level: 18; level2: 18.9; status: Default; sf: hash at hashing.jl:107 [inlined]\" role=\"graphics-symbol\" aria-roledescription=\"rect mark\" d=\"M102.85714285714285,184.00000000000003h0.5428571428571587v10.285714285714278h-0.5428571428571587Z\" fill=\"#4c78a8\" fill-opacity=\"1\" stroke=\"#505050\" stroke-width=\"0\"/><path aria-label=\"x1: 362; x2: 367.9; level: 15; level2: 15.9; status: Default; sf: ht_keyindex(h::Dict{String, Any}, key::String) at dict.jl:291\" role=\"graphics-symbol\" aria-roledescription=\"rect mark\" d=\"M103.42857142857143,218.28571428571428h1.6857142857142833v10.285714285714278h-1.6857142857142833Z\" fill=\"#4c78a8\" fill-opacity=\"1\" stroke=\"#505050\" stroke-width=\"0\"/><path aria-label=\"x1: 368; x2: 377.9; level: 13; level2: 13.9; status: Default; sf: move!(state::Vector{Int64}, params::Dict{String, Any}, total_occupants::Int64) at Schelling.jl:215\" role=\"graphics-symbol\" aria-roledescription=\"rect mark\" d=\"M105.14285714285714,241.14285714285714h2.828571428571422v10.285714285714278h-2.828571428571422Z\" fill=\"#4c78a8\" fill-opacity=\"1\" stroke=\"#505050\" stroke-width=\"0\"/><path aria-label=\"x1: 368; x2: 377.9; level: 14; level2: 14.9; status: Default; sf: getindex at dict.jl:497 [inlined]\" role=\"graphics-symbol\" aria-roledescription=\"rect mark\" d=\"M105.14285714285714,229.71428571428572h2.828571428571422v10.285714285714278h-2.828571428571422Z\" fill=\"#4c78a8\" fill-opacity=\"1\" stroke=\"#505050\" stroke-width=\"0\"/><path aria-label=\"x1: 368; x2: 368.9; level: 15; level2: 15.9; status: Default; sf: ht_keyindex(h::Dict{String, Any}, key::String) at dict.jl:281\" role=\"graphics-symbol\" aria-roledescription=\"rect mark\" d=\"M105.14285714285714,218.28571428571428h0.25714285714283847v10.285714285714278h-0.25714285714283847Z\" fill=\"#4c78a8\" fill-opacity=\"1\" stroke=\"#505050\" stroke-width=\"0\"/><path aria-label=\"x1: 368; x2: 368.9; level: 16; level2: 16.9; status: Default; sf: length at array.jl:215 [inlined]\" role=\"graphics-symbol\" aria-roledescription=\"rect mark\" d=\"M105.14285714285714,206.85714285714286h0.25714285714283847v10.285714285714306h-0.25714285714283847Z\" fill=\"#4c78a8\" fill-opacity=\"1\" stroke=\"#505050\" stroke-width=\"0\"/><path aria-label=\"x1: 369; x2: 370.9; level: 15; level2: 15.9; status: Default; sf: ht_keyindex(h::Dict{String, Any}, key::String) at dict.jl:284\" role=\"graphics-symbol\" aria-roledescription=\"rect mark\" d=\"M105.42857142857143,218.28571428571428h0.5428571428571303v10.285714285714278h-0.5428571428571303Z\" fill=\"#4c78a8\" fill-opacity=\"1\" stroke=\"#505050\" stroke-width=\"0\"/><path aria-label=\"x1: 369; x2: 370.9; level: 16; level2: 16.9; status: Default; sf: hashindex at dict.jl:169 [inlined]\" role=\"graphics-symbol\" aria-roledescription=\"rect mark\" d=\"M105.42857142857143,206.85714285714286h0.5428571428571303v10.285714285714306h-0.5428571428571303Z\" fill=\"#4c78a8\" fill-opacity=\"1\" stroke=\"#505050\" stroke-width=\"0\"/><path aria-label=\"x1: 369; x2: 370.9; level: 17; level2: 17.9; status: Default; sf: hash at hashing.jl:20 [inlined]\" role=\"graphics-symbol\" aria-roledescription=\"rect mark\" d=\"M105.42857142857143,195.42857142857147h0.5428571428571303v10.28571428571422h-0.5428571428571303Z\" fill=\"#4c78a8\" fill-opacity=\"1\" stroke=\"#505050\" stroke-width=\"0\"/><path aria-label=\"x1: 369; x2: 370.9; level: 18; level2: 18.9; status: Default; sf: hash at hashing.jl:107 [inlined]\" role=\"graphics-symbol\" aria-roledescription=\"rect mark\" d=\"M105.42857142857143,184.00000000000003h0.5428571428571303v10.285714285714278h-0.5428571428571303Z\" fill=\"#4c78a8\" fill-opacity=\"1\" stroke=\"#505050\" stroke-width=\"0\"/><path aria-label=\"x1: 371; x2: 372.9; level: 15; level2: 15.9; status: Default; sf: ht_keyindex(h::Dict{String, Any}, key::String) at dict.jl:288\" role=\"graphics-symbol\" aria-roledescription=\"rect mark\" d=\"M106,218.28571428571428h0.5428571428571445v10.285714285714278h-0.5428571428571445Z\" fill=\"#4c78a8\" fill-opacity=\"1\" stroke=\"#505050\" stroke-width=\"0\"/><path aria-label=\"x1: 371; x2: 371.9; level: 16; level2: 16.9; status: Default; sf: isslotempty at dict.jl:171 [inlined]\" role=\"graphics-symbol\" aria-roledescription=\"rect mark\" d=\"M106,206.85714285714286h0.2571428571428527v10.285714285714306h-0.2571428571428527Z\" fill=\"#4c78a8\" fill-opacity=\"1\" stroke=\"#505050\" stroke-width=\"0\"/><path aria-label=\"x1: 371; x2: 371.9; level: 17; level2: 17.9; status: Default; sf: getindex at array.jl:924 [inlined]\" role=\"graphics-symbol\" aria-roledescription=\"rect mark\" d=\"M106,195.42857142857147h0.2571428571428527v10.28571428571422h-0.2571428571428527Z\" fill=\"#4c78a8\" fill-opacity=\"1\" stroke=\"#505050\" stroke-width=\"0\"/><path aria-label=\"x1: 373; x2: 377.9; level: 15; level2: 15.9; status: Default; sf: ht_keyindex(h::Dict{String, Any}, key::String) at dict.jl:291\" role=\"graphics-symbol\" aria-roledescription=\"rect mark\" d=\"M106.57142857142856,218.28571428571428h1.4000000000000057v10.285714285714278h-1.4000000000000057Z\" fill=\"#4c78a8\" fill-opacity=\"1\" stroke=\"#505050\" stroke-width=\"0\"/><path aria-label=\"x1: 378; x2: 1719.9; level: 13; level2: 13.9; status: Default; sf: move!(state::Vector{Int64}, params::Dict{String, Any}, total_occupants::Int64) at Schelling.jl:219\" role=\"graphics-symbol\" aria-roledescription=\"rect mark\" d=\"M108,241.14285714285714h383.40000000000003v10.285714285714278h-383.40000000000003Z\" fill=\"#4c78a8\" fill-opacity=\"1\" stroke=\"#505050\" stroke-width=\"0\"/><path aria-label=\"x1: 378; x2: 381.9; level: 14; level2: 14.9; status: Default; sf: collect(itr::Base.Generator{Vector{Int64}, Main.Schelling.var&quot;#3#5&quot;{Vector{Int64}, Int64}}) at array.jl:0\" role=\"graphics-symbol\" aria-roledescription=\"rect mark\" d=\"M108,229.71428571428572h1.1142857142856997v10.285714285714278h-1.1142857142856997Z\" fill=\"#4c78a8\" fill-opacity=\"1\" stroke=\"#505050\" stroke-width=\"0\"/><path aria-label=\"x1: 383; x2: 383.9; level: 14; level2: 14.9; status: Default; sf: pick_sites(state::Vector{Int64}, moveType::String, capacity::Int64, N::Int64) at Schelling.jl:171\" role=\"graphics-symbol\" aria-roledescription=\"rect mark\" d=\"M109.42857142857143,229.71428571428572h0.25714285714283847v10.285714285714278h-0.25714285714283847Z\" fill=\"#4c78a8\" fill-opacity=\"1\" stroke=\"#505050\" stroke-width=\"0\"/><path aria-label=\"x1: 384; x2: 1551.9; level: 14; level2: 14.9; status: Default; sf: pick_sites(state::Vector{Int64}, moveType::String, capacity::Int64, N::Int64) at Schelling.jl:176\" role=\"graphics-symbol\" aria-roledescription=\"rect mark\" d=\"M109.71428571428572,229.71428571428572h333.6857142857143v10.285714285714278h-333.6857142857143Z\" fill=\"#4c78a8\" fill-opacity=\"1\" stroke=\"#505050\" stroke-width=\"0\"/><path aria-label=\"x1: 384; x2: 386.9; level: 15; level2: 15.9; status: Default; sf: findall(testf::Base.Fix2{typeof(&gt;), Int64}, A::Vector{Float64}) at array.jl:2311\" role=\"graphics-symbol\" aria-roledescription=\"rect mark\" d=\"M109.71428571428572,218.28571428571428h0.8285714285714221v10.285714285714278h-0.8285714285714221Z\" fill=\"#4c78a8\" fill-opacity=\"1\" stroke=\"#505050\" stroke-width=\"0\"/><path aria-label=\"x1: 387; x2: 469.9; level: 15; level2: 15.9; status: Default; sf: /(A::Vector{Int64}, B::Int64) at arraymath.jl:24\" role=\"graphics-symbol\" aria-roledescription=\"rect mark\" d=\"M110.57142857142857,218.28571428571428h23.685714285714297v10.285714285714278h-23.685714285714297Z\" fill=\"#4c78a8\" fill-opacity=\"1\" stroke=\"#505050\" stroke-width=\"0\"/><path aria-label=\"x1: 387; x2: 465.9; level: 16; level2: 16.9; status: Default; sf: broadcast_preserving_zero_d at broadcast.jl:849 [inlined]\" role=\"graphics-symbol\" aria-roledescription=\"rect mark\" d=\"M110.57142857142857,206.85714285714286h22.54285714285716v10.285714285714306h-22.54285714285716Z\" fill=\"#4c78a8\" fill-opacity=\"1\" stroke=\"#505050\" stroke-width=\"0\"/><path aria-label=\"x1: 387; x2: 465.9; level: 17; level2: 17.9; status: Default; sf: materialize at broadcast.jl:860 [inlined]\" role=\"graphics-symbol\" aria-roledescription=\"rect mark\" d=\"M110.57142857142857,195.42857142857147h22.54285714285716v10.28571428571422h-22.54285714285716Z\" fill=\"#4c78a8\" fill-opacity=\"1\" stroke=\"#505050\" stroke-width=\"0\"/><path aria-label=\"x1: 387; x2: 465.9; level: 18; level2: 18.9; status: Default; sf: copy at broadcast.jl:885 [inlined]\" role=\"graphics-symbol\" aria-roledescription=\"rect mark\" d=\"M110.57142857142857,184.00000000000003h22.54285714285716v10.285714285714278h-22.54285714285716Z\" fill=\"#4c78a8\" fill-opacity=\"1\" stroke=\"#505050\" stroke-width=\"0\"/><path aria-label=\"x1: 387; x2: 404.9; level: 19; level2: 19.9; status: Default; sf: copyto! at broadcast.jl:913 [inlined]\" role=\"graphics-symbol\" aria-roledescription=\"rect mark\" d=\"M110.57142857142857,172.5714285714286h5.114285714285714v10.28571428571425h-5.114285714285714Z\" fill=\"#4c78a8\" fill-opacity=\"1\" stroke=\"#505050\" stroke-width=\"0\"/><path aria-label=\"x1: 387; x2: 387.9; level: 20; level2: 20.9; status: Default; sf: copyto! at broadcast.jl:957 [inlined]\" role=\"graphics-symbol\" aria-roledescription=\"rect mark\" d=\"M110.57142857142857,161.14285714285717h0.2571428571428669v10.285714285714278h-0.2571428571428669Z\" fill=\"#4c78a8\" fill-opacity=\"1\" stroke=\"#505050\" stroke-width=\"0\"/><path aria-label=\"x1: 387; x2: 387.9; level: 21; level2: 21.9; status: Default; sf: preprocess at broadcast.jl:940 [inlined]\" role=\"graphics-symbol\" aria-roledescription=\"rect mark\" d=\"M110.57142857142857,149.71428571428572h0.2571428571428669v10.285714285714278h-0.2571428571428669Z\" fill=\"#4c78a8\" fill-opacity=\"1\" stroke=\"#505050\" stroke-width=\"0\"/><path aria-label=\"x1: 387; x2: 387.9; level: 22; level2: 22.9; status: Default; sf: preprocess_args at broadcast.jl:943 [inlined]\" role=\"graphics-symbol\" aria-roledescription=\"rect mark\" d=\"M110.57142857142857,138.2857142857143h0.2571428571428669v10.285714285714278h-0.2571428571428669Z\" fill=\"#4c78a8\" fill-opacity=\"1\" stroke=\"#505050\" stroke-width=\"0\"/><path aria-label=\"x1: 387; x2: 387.9; level: 23; level2: 23.9; status: Default; sf: preprocess at broadcast.jl:941 [inlined]\" role=\"graphics-symbol\" aria-roledescription=\"rect mark\" d=\"M110.57142857142857,126.85714285714286h0.2571428571428669v10.285714285714278h-0.2571428571428669Z\" fill=\"#4c78a8\" fill-opacity=\"1\" stroke=\"#505050\" stroke-width=\"0\"/><path aria-label=\"x1: 387; x2: 387.9; level: 24; level2: 24.9; status: Default; sf: broadcast_unalias at broadcast.jl:934 [inlined]\" role=\"graphics-symbol\" aria-roledescription=\"rect mark\" d=\"M110.57142857142857,115.42857142857143h0.2571428571428669v10.285714285714278h-0.2571428571428669Z\" fill=\"#4c78a8\" fill-opacity=\"1\" stroke=\"#505050\" stroke-width=\"0\"/><path aria-label=\"x1: 387; x2: 387.9; level: 25; level2: 25.9; status: Default; sf: unalias at abstractarray.jl:1427 [inlined]\" role=\"graphics-symbol\" aria-roledescription=\"rect mark\" d=\"M110.57142857142857,104h0.2571428571428669v10.285714285714278h-0.2571428571428669Z\" fill=\"#4c78a8\" fill-opacity=\"1\" stroke=\"#505050\" stroke-width=\"0\"/><path aria-label=\"x1: 387; x2: 387.9; level: 26; level2: 26.9; status: Default; sf: mightalias at abstractarray.jl:1462 [inlined]\" role=\"graphics-symbol\" aria-roledescription=\"rect mark\" d=\"M110.57142857142857,92.57142857142857h0.2571428571428669v10.285714285714278h-0.2571428571428669Z\" fill=\"#4c78a8\" fill-opacity=\"1\" stroke=\"#505050\" stroke-width=\"0\"/><path aria-label=\"x1: 387; x2: 387.9; level: 27; level2: 27.9; status: Default; sf: isbits at reflection.jl:593 [inlined]\" role=\"graphics-symbol\" aria-roledescription=\"rect mark\" d=\"M110.57142857142857,81.14285714285714h0.2571428571428669v10.285714285714278h-0.2571428571428669Z\" fill=\"#4c78a8\" fill-opacity=\"1\" stroke=\"#505050\" stroke-width=\"0\"/><path aria-label=\"x1: 387; x2: 387.9; level: 28; level2: 28.9; status: Default; sf: getproperty at Base.jl:33 [inlined]\" role=\"graphics-symbol\" aria-roledescription=\"rect mark\" d=\"M110.57142857142857,69.71428571428575h0.2571428571428669v10.285714285714235h-0.2571428571428669Z\" fill=\"#4c78a8\" fill-opacity=\"1\" stroke=\"#505050\" stroke-width=\"0\"/><path aria-label=\"x1: 388; x2: 404.9; level: 20; level2: 20.9; status: Default; sf: copyto! at broadcast.jl:960 [inlined]\" role=\"graphics-symbol\" aria-roledescription=\"rect mark\" d=\"M110.85714285714286,161.14285714285717h4.828571428571422v10.285714285714278h-4.828571428571422Z\" fill=\"#4c78a8\" fill-opacity=\"1\" stroke=\"#505050\" stroke-width=\"0\"/><path aria-label=\"x1: 388; x2: 388.9; level: 21; level2: 21.9; status: Default; sf: macro expansion at simdloop.jl:75 [inlined]\" role=\"graphics-symbol\" aria-roledescription=\"rect mark\" d=\"M110.85714285714286,149.71428571428572h0.25714285714283847v10.285714285714278h-0.25714285714283847Z\" fill=\"#4c78a8\" fill-opacity=\"1\" stroke=\"#505050\" stroke-width=\"0\"/><path aria-label=\"x1: 388; x2: 388.9; level: 22; level2: 22.9; status: Default; sf: &lt; at int.jl:83 [inlined]\" role=\"graphics-symbol\" aria-roledescription=\"rect mark\" d=\"M110.85714285714286,138.2857142857143h0.25714285714283847v10.285714285714278h-0.25714285714283847Z\" fill=\"#4c78a8\" fill-opacity=\"1\" stroke=\"#505050\" stroke-width=\"0\"/><path aria-label=\"x1: 389; x2: 401.9; level: 21; level2: 21.9; status: Default; sf: macro expansion at simdloop.jl:77 [inlined]\" role=\"graphics-symbol\" aria-roledescription=\"rect mark\" d=\"M111.14285714285714,149.71428571428572h3.685714285714269v10.285714285714278h-3.685714285714269Z\" fill=\"#4c78a8\" fill-opacity=\"1\" stroke=\"#505050\" stroke-width=\"0\"/><path aria-label=\"x1: 389; x2: 401.9; level: 22; level2: 22.9; status: Default; sf: macro expansion at broadcast.jl:961 [inlined]\" role=\"graphics-symbol\" aria-roledescription=\"rect mark\" d=\"M111.14285714285714,138.2857142857143h3.685714285714269v10.285714285714278h-3.685714285714269Z\" fill=\"#4c78a8\" fill-opacity=\"1\" stroke=\"#505050\" stroke-width=\"0\"/><path aria-label=\"x1: 389; x2: 401.9; level: 23; level2: 23.9; status: Default; sf: getindex at broadcast.jl:597 [inlined]\" role=\"graphics-symbol\" aria-roledescription=\"rect mark\" d=\"M111.14285714285714,126.85714285714286h3.685714285714269v10.285714285714278h-3.685714285714269Z\" fill=\"#4c78a8\" fill-opacity=\"1\" stroke=\"#505050\" stroke-width=\"0\"/><path aria-label=\"x1: 389; x2: 401.9; level: 24; level2: 24.9; status: Default; sf: _broadcast_getindex at broadcast.jl:642 [inlined]\" role=\"graphics-symbol\" aria-roledescription=\"rect mark\" d=\"M111.14285714285714,115.42857142857143h3.685714285714269v10.285714285714278h-3.685714285714269Z\" fill=\"#4c78a8\" fill-opacity=\"1\" stroke=\"#505050\" stroke-width=\"0\"/><path aria-label=\"x1: 389; x2: 401.9; level: 25; level2: 25.9; status: Default; sf: _getindex at broadcast.jl:666 [inlined]\" role=\"graphics-symbol\" aria-roledescription=\"rect mark\" d=\"M111.14285714285714,104h3.685714285714269v10.285714285714278h-3.685714285714269Z\" fill=\"#4c78a8\" fill-opacity=\"1\" stroke=\"#505050\" stroke-width=\"0\"/><path aria-label=\"x1: 389; x2: 401.9; level: 26; level2: 26.9; status: Default; sf: _broadcast_getindex at broadcast.jl:636 [inlined]\" role=\"graphics-symbol\" aria-roledescription=\"rect mark\" d=\"M111.14285714285714,92.57142857142857h3.685714285714269v10.285714285714278h-3.685714285714269Z\" fill=\"#4c78a8\" fill-opacity=\"1\" stroke=\"#505050\" stroke-width=\"0\"/><path aria-label=\"x1: 389; x2: 401.9; level: 27; level2: 27.9; status: Default; sf: getindex at array.jl:924 [inlined]\" role=\"graphics-symbol\" aria-roledescription=\"rect mark\" d=\"M111.14285714285714,81.14285714285714h3.685714285714269v10.285714285714278h-3.685714285714269Z\" fill=\"#4c78a8\" fill-opacity=\"1\" stroke=\"#505050\" stroke-width=\"0\"/><path aria-label=\"x1: 402; x2: 404.9; level: 21; level2: 21.9; status: Default; sf: macro expansion at simdloop.jl:78 [inlined]\" role=\"graphics-symbol\" aria-roledescription=\"rect mark\" d=\"M114.85714285714286,149.71428571428572h0.8285714285714221v10.285714285714278h-0.8285714285714221Z\" fill=\"#4c78a8\" fill-opacity=\"1\" stroke=\"#505050\" stroke-width=\"0\"/><path aria-label=\"x1: 402; x2: 404.9; level: 22; level2: 22.9; status: Default; sf: + at int.jl:87 [inlined]\" role=\"graphics-symbol\" aria-roledescription=\"rect mark\" d=\"M114.85714285714286,138.2857142857143h0.8285714285714221v10.285714285714278h-0.8285714285714221Z\" fill=\"#4c78a8\" fill-opacity=\"1\" stroke=\"#505050\" stroke-width=\"0\"/><path aria-label=\"x1: 405; x2: 465.9; level: 19; level2: 19.9; status: Default; sf: similar at broadcast.jl:211 [inlined]\" role=\"graphics-symbol\" aria-roledescription=\"rect mark\" d=\"M115.71428571428572,172.5714285714286h17.400000000000006v10.28571428571425h-17.400000000000006Z\" fill=\"#4c78a8\" fill-opacity=\"1\" stroke=\"#505050\" stroke-width=\"0\"/><path aria-label=\"x1: 405; x2: 465.9; level: 20; level2: 20.9; status: Default; sf: similar at broadcast.jl:212 [inlined]\" role=\"graphics-symbol\" aria-roledescription=\"rect mark\" d=\"M115.71428571428572,161.14285714285717h17.400000000000006v10.285714285714278h-17.400000000000006Z\" fill=\"#4c78a8\" fill-opacity=\"1\" stroke=\"#505050\" stroke-width=\"0\"/><path aria-label=\"x1: 405; x2: 465.9; level: 21; level2: 21.9; status: Default; sf: similar at abstractarray.jl:840 [inlined]\" role=\"graphics-symbol\" aria-roledescription=\"rect mark\" d=\"M115.71428571428572,149.71428571428572h17.400000000000006v10.285714285714278h-17.400000000000006Z\" fill=\"#4c78a8\" fill-opacity=\"1\" stroke=\"#505050\" stroke-width=\"0\"/><path aria-label=\"x1: 405; x2: 465.9; level: 22; level2: 22.9; status: Default; sf: similar at abstractarray.jl:841 [inlined]\" role=\"graphics-symbol\" aria-roledescription=\"rect mark\" d=\"M115.71428571428572,138.2857142857143h17.400000000000006v10.285714285714278h-17.400000000000006Z\" fill=\"#4c78a8\" fill-opacity=\"1\" stroke=\"#505050\" stroke-width=\"0\"/><path aria-label=\"x1: 405; x2: 465.9; level: 23; level2: 23.9; status: Default; sf: Array at boot.jl:476 [inlined]\" role=\"graphics-symbol\" aria-roledescription=\"rect mark\" d=\"M115.71428571428572,126.85714285714286h17.400000000000006v10.285714285714278h-17.400000000000006Z\" fill=\"#4c78a8\" fill-opacity=\"1\" stroke=\"#505050\" stroke-width=\"0\"/><path aria-label=\"x1: 405; x2: 465.9; level: 24; level2: 24.9; status: Default; sf: Array at boot.jl:468 [inlined]\" role=\"graphics-symbol\" aria-roledescription=\"rect mark\" d=\"M115.71428571428572,115.42857142857143h17.400000000000006v10.285714285714278h-17.400000000000006Z\" fill=\"#4c78a8\" fill-opacity=\"1\" stroke=\"#505050\" stroke-width=\"0\"/><path aria-label=\"x1: 405; x2: 465.9; level: 25; level2: 25.9; status: Garbage collection; sf: Array at boot.jl:459 [inlined]\" role=\"graphics-symbol\" aria-roledescription=\"rect mark\" d=\"M115.71428571428572,104h17.400000000000006v10.285714285714278h-17.400000000000006Z\" fill=\"#f58518\" fill-opacity=\"1\" stroke=\"#505050\" stroke-width=\"0\"/><path aria-label=\"x1: 470; x2: 489.9; level: 15; level2: 15.9; status: Default; sf: sum at reducedim.jl:994 [inlined]\" role=\"graphics-symbol\" aria-roledescription=\"rect mark\" d=\"M134.28571428571428,218.28571428571428h5.685714285714283v10.285714285714278h-5.685714285714283Z\" fill=\"#4c78a8\" fill-opacity=\"1\" stroke=\"#505050\" stroke-width=\"0\"/><path aria-label=\"x1: 470; x2: 489.9; level: 16; level2: 16.9; status: Default; sf: #sum#772 at reducedim.jl:994 [inlined]\" role=\"graphics-symbol\" aria-roledescription=\"rect mark\" d=\"M134.28571428571428,206.85714285714286h5.685714285714283v10.285714285714306h-5.685714285714283Z\" fill=\"#4c78a8\" fill-opacity=\"1\" stroke=\"#505050\" stroke-width=\"0\"/><path aria-label=\"x1: 470; x2: 489.9; level: 17; level2: 17.9; status: Default; sf: _sum at reducedim.jl:998 [inlined]\" role=\"graphics-symbol\" aria-roledescription=\"rect mark\" d=\"M134.28571428571428,195.42857142857147h5.685714285714283v10.28571428571422h-5.685714285714283Z\" fill=\"#4c78a8\" fill-opacity=\"1\" stroke=\"#505050\" stroke-width=\"0\"/><path aria-label=\"x1: 470; x2: 489.9; level: 18; level2: 18.9; status: Default; sf: #_sum#774 at reducedim.jl:998 [inlined]\" role=\"graphics-symbol\" aria-roledescription=\"rect mark\" d=\"M134.28571428571428,184.00000000000003h5.685714285714283v10.285714285714278h-5.685714285714283Z\" fill=\"#4c78a8\" fill-opacity=\"1\" stroke=\"#505050\" stroke-width=\"0\"/><path aria-label=\"x1: 470; x2: 489.9; level: 19; level2: 19.9; status: Default; sf: _sum at reducedim.jl:999 [inlined]\" role=\"graphics-symbol\" aria-roledescription=\"rect mark\" d=\"M134.28571428571428,172.5714285714286h5.685714285714283v10.28571428571425h-5.685714285714283Z\" fill=\"#4c78a8\" fill-opacity=\"1\" stroke=\"#505050\" stroke-width=\"0\"/><path aria-label=\"x1: 470; x2: 489.9; level: 20; level2: 20.9; status: Default; sf: #_sum#775 at reducedim.jl:999 [inlined]\" role=\"graphics-symbol\" aria-roledescription=\"rect mark\" d=\"M134.28571428571428,161.14285714285717h5.685714285714283v10.285714285714278h-5.685714285714283Z\" fill=\"#4c78a8\" fill-opacity=\"1\" stroke=\"#505050\" stroke-width=\"0\"/><path aria-label=\"x1: 470; x2: 489.9; level: 21; level2: 21.9; status: Default; sf: mapreduce at reducedim.jl:357 [inlined]\" role=\"graphics-symbol\" aria-roledescription=\"rect mark\" d=\"M134.28571428571428,149.71428571428572h5.685714285714283v10.285714285714278h-5.685714285714283Z\" fill=\"#4c78a8\" fill-opacity=\"1\" stroke=\"#505050\" stroke-width=\"0\"/><path aria-label=\"x1: 470; x2: 489.9; level: 22; level2: 22.9; status: Default; sf: #mapreduce#765 at reducedim.jl:357 [inlined]\" role=\"graphics-symbol\" aria-roledescription=\"rect mark\" d=\"M134.28571428571428,138.2857142857143h5.685714285714283v10.285714285714278h-5.685714285714283Z\" fill=\"#4c78a8\" fill-opacity=\"1\" stroke=\"#505050\" stroke-width=\"0\"/><path aria-label=\"x1: 470; x2: 489.9; level: 23; level2: 23.9; status: Default; sf: _mapreduce_dim at reducedim.jl:365 [inlined]\" role=\"graphics-symbol\" aria-roledescription=\"rect mark\" d=\"M134.28571428571428,126.85714285714286h5.685714285714283v10.285714285714278h-5.685714285714283Z\" fill=\"#4c78a8\" fill-opacity=\"1\" stroke=\"#505050\" stroke-width=\"0\"/><path aria-label=\"x1: 470; x2: 470.9; level: 24; level2: 24.9; status: Default; sf: _mapreduce at reduce.jl:424 [inlined]\" role=\"graphics-symbol\" aria-roledescription=\"rect mark\" d=\"M134.28571428571428,115.42857142857143h0.2571428571428669v10.285714285714278h-0.2571428571428669Z\" fill=\"#4c78a8\" fill-opacity=\"1\" stroke=\"#505050\" stroke-width=\"0\"/><path aria-label=\"x1: 470; x2: 470.9; level: 25; level2: 25.9; status: Default; sf: LinearIndices at indices.jl:457 [inlined]\" role=\"graphics-symbol\" aria-roledescription=\"rect mark\" d=\"M134.28571428571428,104h0.2571428571428669v10.285714285714278h-0.2571428571428669Z\" fill=\"#4c78a8\" fill-opacity=\"1\" stroke=\"#505050\" stroke-width=\"0\"/><path aria-label=\"x1: 470; x2: 470.9; level: 26; level2: 26.9; status: Default; sf: axes at abstractarray.jl:95 [inlined]\" role=\"graphics-symbol\" aria-roledescription=\"rect mark\" d=\"M134.28571428571428,92.57142857142857h0.2571428571428669v10.285714285714278h-0.2571428571428669Z\" fill=\"#4c78a8\" fill-opacity=\"1\" stroke=\"#505050\" stroke-width=\"0\"/><path aria-label=\"x1: 470; x2: 470.9; level: 27; level2: 27.9; status: Default; sf: size at array.jl:151 [inlined]\" role=\"graphics-symbol\" aria-roledescription=\"rect mark\" d=\"M134.28571428571428,81.14285714285714h0.2571428571428669v10.285714285714278h-0.2571428571428669Z\" fill=\"#4c78a8\" fill-opacity=\"1\" stroke=\"#505050\" stroke-width=\"0\"/><path aria-label=\"x1: 471; x2: 472.9; level: 24; level2: 24.9; status: Default; sf: _mapreduce at reduce.jl:431 [inlined]\" role=\"graphics-symbol\" aria-roledescription=\"rect mark\" d=\"M134.57142857142856,115.42857142857143h0.5428571428571445v10.285714285714278h-0.5428571428571445Z\" fill=\"#4c78a8\" fill-opacity=\"1\" stroke=\"#505050\" stroke-width=\"0\"/><path aria-label=\"x1: 473; x2: 489.9; level: 24; level2: 24.9; status: Default; sf: _mapreduce at reduce.jl:442 [inlined]\" role=\"graphics-symbol\" aria-roledescription=\"rect mark\" d=\"M135.14285714285714,115.42857142857143h4.828571428571422v10.285714285714278h-4.828571428571422Z\" fill=\"#4c78a8\" fill-opacity=\"1\" stroke=\"#505050\" stroke-width=\"0\"/><path aria-label=\"x1: 473; x2: 489.9; level: 25; level2: 25.9; status: Default; sf: mapreduce_impl at reduce.jl:272 [inlined]\" role=\"graphics-symbol\" aria-roledescription=\"rect mark\" d=\"M135.14285714285714,104h4.828571428571422v10.285714285714278h-4.828571428571422Z\" fill=\"#4c78a8\" fill-opacity=\"1\" stroke=\"#505050\" stroke-width=\"0\"/><path aria-label=\"x1: 473; x2: 474.9; level: 26; level2: 26.9; status: Default; sf: mapreduce_impl(f::typeof(identity), op::typeof(Base.add_sum), A::Vector{Int64}, ifirst::Int64, ilast::Int64, blksize::Int64) at reduce.jl:0\" role=\"graphics-symbol\" aria-roledescription=\"rect mark\" d=\"M135.14285714285714,92.57142857142857h0.5428571428571445v10.285714285714278h-0.5428571428571445Z\" fill=\"#4c78a8\" fill-opacity=\"1\" stroke=\"#505050\" stroke-width=\"0\"/><path aria-label=\"x1: 475; x2: 489.9; level: 26; level2: 26.9; status: Default; sf: mapreduce_impl(f::typeof(identity), op::typeof(Base.add_sum), A::Vector{Int64}, ifirst::Int64, ilast::Int64, blksize::Int64) at reduce.jl:258\" role=\"graphics-symbol\" aria-roledescription=\"rect mark\" d=\"M135.71428571428572,92.57142857142857h4.2571428571428385v10.285714285714278h-4.2571428571428385Z\" fill=\"#4c78a8\" fill-opacity=\"1\" stroke=\"#505050\" stroke-width=\"0\"/><path aria-label=\"x1: 475; x2: 476.9; level: 27; level2: 27.9; status: Default; sf: macro expansion at simdloop.jl:72 [inlined]\" role=\"graphics-symbol\" aria-roledescription=\"rect mark\" d=\"M135.71428571428572,81.14285714285714h0.5428571428571445v10.285714285714278h-0.5428571428571445Z\" fill=\"#4c78a8\" fill-opacity=\"1\" stroke=\"#505050\" stroke-width=\"0\"/><path aria-label=\"x1: 477; x2: 477.9; level: 27; level2: 27.9; status: Default; sf: macro expansion at simdloop.jl:75 [inlined]\" role=\"graphics-symbol\" aria-roledescription=\"rect mark\" d=\"M136.28571428571428,81.14285714285714h0.2571428571428669v10.285714285714278h-0.2571428571428669Z\" fill=\"#4c78a8\" fill-opacity=\"1\" stroke=\"#505050\" stroke-width=\"0\"/><path aria-label=\"x1: 478; x2: 489.9; level: 27; level2: 27.9; status: Default; sf: macro expansion at simdloop.jl:77 [inlined]\" role=\"graphics-symbol\" aria-roledescription=\"rect mark\" d=\"M136.57142857142856,81.14285714285714h3.4000000000000057v10.285714285714278h-3.4000000000000057Z\" fill=\"#4c78a8\" fill-opacity=\"1\" stroke=\"#505050\" stroke-width=\"0\"/><path aria-label=\"x1: 478; x2: 489.9; level: 28; level2: 28.9; status: Default; sf: macro expansion at reduce.jl:259 [inlined]\" role=\"graphics-symbol\" aria-roledescription=\"rect mark\" d=\"M136.57142857142856,69.71428571428575h3.4000000000000057v10.285714285714235h-3.4000000000000057Z\" fill=\"#4c78a8\" fill-opacity=\"1\" stroke=\"#505050\" stroke-width=\"0\"/><path aria-label=\"x1: 478; x2: 489.9; level: 29; level2: 29.9; status: Default; sf: getindex at array.jl:924 [inlined]\" role=\"graphics-symbol\" aria-roledescription=\"rect mark\" d=\"M136.57142857142856,58.28571428571432h3.4000000000000057v10.285714285714235h-3.4000000000000057Z\" fill=\"#4c78a8\" fill-opacity=\"1\" stroke=\"#505050\" stroke-width=\"0\"/><path aria-label=\"x1: 490; x2: 490.9; level: 15; level2: 15.9; status: Default; sf: select_particle(density::Vector{Float64}) at Schelling.jl:151\" role=\"graphics-symbol\" aria-roledescription=\"rect mark\" d=\"M140,218.28571428571428h0.2571428571428669v10.285714285714278h-0.2571428571428669Z\" fill=\"#4c78a8\" fill-opacity=\"1\" stroke=\"#505050\" stroke-width=\"0\"/><path aria-label=\"x1: 491; x2: 1140.9; level: 15; level2: 15.9; status: Default; sf: select_particle(density::Vector{Float64}) at Schelling.jl:152\" role=\"graphics-symbol\" aria-roledescription=\"rect mark\" d=\"M140.28571428571428,218.28571428571428h185.6857142857143v10.285714285714278h-185.6857142857143Z\" fill=\"#4c78a8\" fill-opacity=\"1\" stroke=\"#505050\" stroke-width=\"0\"/><path aria-label=\"x1: 491; x2: 1127.9; level: 16; level2: 16.9; status: Default; sf: findall(testf::Base.Fix2{typeof(&gt;), Int64}, A::Vector{Float64}) at array.jl:2311\" role=\"graphics-symbol\" aria-roledescription=\"rect mark\" d=\"M140.28571428571428,206.85714285714286h181.9714285714286v10.285714285714306h-181.9714285714286Z\" fill=\"#4c78a8\" fill-opacity=\"1\" stroke=\"#505050\" stroke-width=\"0\"/><path aria-label=\"x1: 491; x2: 496.9; level: 17; level2: 17.9; status: Default; sf: findall(B::BitVector) at bitarray.jl:0\" role=\"graphics-symbol\" aria-roledescription=\"rect mark\" d=\"M140.28571428571428,195.42857142857147h1.6857142857142833v10.28571428571422h-1.6857142857142833Z\" fill=\"#4c78a8\" fill-opacity=\"1\" stroke=\"#505050\" stroke-width=\"0\"/><path aria-label=\"x1: 497; x2: 502.9; level: 17; level2: 17.9; status: Default; sf: findall(B::BitVector) at bitarray.jl:1687\" role=\"graphics-symbol\" aria-roledescription=\"rect mark\" d=\"M142,195.42857142857147h1.6857142857142833v10.28571428571422h-1.6857142857142833Z\" fill=\"#4c78a8\" fill-opacity=\"1\" stroke=\"#505050\" stroke-width=\"0\"/><path aria-label=\"x1: 497; x2: 502.9; level: 18; level2: 18.9; status: Default; sf: count at reducedim.jl:439 [inlined]\" role=\"graphics-symbol\" aria-roledescription=\"rect mark\" d=\"M142,184.00000000000003h1.6857142857142833v10.285714285714278h-1.6857142857142833Z\" fill=\"#4c78a8\" fill-opacity=\"1\" stroke=\"#505050\" stroke-width=\"0\"/><path aria-label=\"x1: 497; x2: 502.9; level: 19; level2: 19.9; status: Default; sf: #count#768 at reducedim.jl:439 [inlined]\" role=\"graphics-symbol\" aria-roledescription=\"rect mark\" d=\"M142,172.5714285714286h1.6857142857142833v10.28571428571425h-1.6857142857142833Z\" fill=\"#4c78a8\" fill-opacity=\"1\" stroke=\"#505050\" stroke-width=\"0\"/><path aria-label=\"x1: 497; x2: 502.9; level: 20; level2: 20.9; status: Default; sf: count at reducedim.jl:440 [inlined]\" role=\"graphics-symbol\" aria-roledescription=\"rect mark\" d=\"M142,161.14285714285717h1.6857142857142833v10.285714285714278h-1.6857142857142833Z\" fill=\"#4c78a8\" fill-opacity=\"1\" stroke=\"#505050\" stroke-width=\"0\"/><path aria-label=\"x1: 497; x2: 502.9; level: 21; level2: 21.9; status: Default; sf: #count#769 at reducedim.jl:440 [inlined]\" role=\"graphics-symbol\" aria-roledescription=\"rect mark\" d=\"M142,149.71428571428572h1.6857142857142833v10.285714285714278h-1.6857142857142833Z\" fill=\"#4c78a8\" fill-opacity=\"1\" stroke=\"#505050\" stroke-width=\"0\"/><path aria-label=\"x1: 497; x2: 502.9; level: 22; level2: 22.9; status: Default; sf: _count at bitarray.jl:1454 [inlined]\" role=\"graphics-symbol\" aria-roledescription=\"rect mark\" d=\"M142,138.2857142857143h1.6857142857142833v10.285714285714278h-1.6857142857142833Z\" fill=\"#4c78a8\" fill-opacity=\"1\" stroke=\"#505050\" stroke-width=\"0\"/><path aria-label=\"x1: 497; x2: 502.9; level: 23; level2: 23.9; status: Default; sf: bitcount at bitarray.jl:1446 [inlined]\" role=\"graphics-symbol\" aria-roledescription=\"rect mark\" d=\"M142,126.85714285714286h1.6857142857142833v10.285714285714278h-1.6857142857142833Z\" fill=\"#4c78a8\" fill-opacity=\"1\" stroke=\"#505050\" stroke-width=\"0\"/><path aria-label=\"x1: 497; x2: 497.9; level: 24; level2: 24.9; status: Default; sf: #bitcount#312 at bitarray.jl:0 [inlined]\" role=\"graphics-symbol\" aria-roledescription=\"rect mark\" d=\"M142,115.42857142857143h0.2571428571428669v10.285714285714278h-0.2571428571428669Z\" fill=\"#4c78a8\" fill-opacity=\"1\" stroke=\"#505050\" stroke-width=\"0\"/><path aria-label=\"x1: 498; x2: 500.9; level: 24; level2: 24.9; status: Default; sf: #bitcount#312 at bitarray.jl:1448 [inlined]\" role=\"graphics-symbol\" aria-roledescription=\"rect mark\" d=\"M142.28571428571428,115.42857142857143h0.8285714285714221v10.285714285714278h-0.8285714285714221Z\" fill=\"#4c78a8\" fill-opacity=\"1\" stroke=\"#505050\" stroke-width=\"0\"/><path aria-label=\"x1: 498; x2: 500.9; level: 25; level2: 25.9; status: Default; sf: length at array.jl:215 [inlined]\" role=\"graphics-symbol\" aria-roledescription=\"rect mark\" d=\"M142.28571428571428,104h0.8285714285714221v10.285714285714278h-0.8285714285714221Z\" fill=\"#4c78a8\" fill-opacity=\"1\" stroke=\"#505050\" stroke-width=\"0\"/><path aria-label=\"x1: 501; x2: 502.9; level: 24; level2: 24.9; status: Default; sf: #bitcount#312 at bitarray.jl:1449 [inlined]\" role=\"graphics-symbol\" aria-roledescription=\"rect mark\" d=\"M143.14285714285714,115.42857142857143h0.5428571428571445v10.285714285714278h-0.5428571428571445Z\" fill=\"#4c78a8\" fill-opacity=\"1\" stroke=\"#505050\" stroke-width=\"0\"/><path aria-label=\"x1: 501; x2: 502.9; level: 25; level2: 25.9; status: Default; sf: count_ones at int.jl:408 [inlined]\" role=\"graphics-symbol\" aria-roledescription=\"rect mark\" d=\"M143.14285714285714,104h0.5428571428571445v10.285714285714278h-0.5428571428571445Z\" fill=\"#4c78a8\" fill-opacity=\"1\" stroke=\"#505050\" stroke-width=\"0\"/><path aria-label=\"x1: 503; x2: 592.9; level: 17; level2: 17.9; status: Default; sf: findall(B::BitVector) at bitarray.jl:1688\" role=\"graphics-symbol\" aria-roledescription=\"rect mark\" d=\"M143.7142857142857,195.42857142857147h25.68571428571431v10.28571428571422h-25.68571428571431Z\" fill=\"#4c78a8\" fill-opacity=\"1\" stroke=\"#505050\" stroke-width=\"0\"/><path aria-label=\"x1: 503; x2: 592.9; level: 18; level2: 18.9; status: Garbage collection; sf: Array at boot.jl:459 [inlined]\" role=\"graphics-symbol\" aria-roledescription=\"rect mark\" d=\"M143.7142857142857,184.00000000000003h25.68571428571431v10.285714285714278h-25.68571428571431Z\" fill=\"#f58518\" fill-opacity=\"1\" stroke=\"#505050\" stroke-width=\"0\"/><path aria-label=\"x1: 593; x2: 611.9; level: 17; level2: 17.9; status: Default; sf: findall(B::BitVector) at bitarray.jl:1690\" role=\"graphics-symbol\" aria-roledescription=\"rect mark\" d=\"M169.42857142857144,195.42857142857147h5.399999999999977v10.28571428571422h-5.399999999999977Z\" fill=\"#4c78a8\" fill-opacity=\"1\" stroke=\"#505050\" stroke-width=\"0\"/><path aria-label=\"x1: 593; x2: 609.9; level: 18; level2: 18.9; status: Default; sf: allindices!(I::Vector{Int64}, B::BitVector) at bitarray.jl:1660\" role=\"graphics-symbol\" aria-roledescription=\"rect mark\" d=\"M169.42857142857144,184.00000000000003h4.828571428571394v10.285714285714278h-4.828571428571394Z\" fill=\"#4c78a8\" fill-opacity=\"1\" stroke=\"#505050\" stroke-width=\"0\"/><path aria-label=\"x1: 593; x2: 605.9; level: 19; level2: 19.9; status: Default; sf: materialize! at broadcast.jl:868 [inlined]\" role=\"graphics-symbol\" aria-roledescription=\"rect mark\" d=\"M169.42857142857144,172.5714285714286h3.685714285714255v10.28571428571425h-3.685714285714255Z\" fill=\"#4c78a8\" fill-opacity=\"1\" stroke=\"#505050\" stroke-width=\"0\"/><path aria-label=\"x1: 593; x2: 605.9; level: 20; level2: 20.9; status: Default; sf: materialize! at broadcast.jl:871 [inlined]\" role=\"graphics-symbol\" aria-roledescription=\"rect mark\" d=\"M169.42857142857144,161.14285714285717h3.685714285714255v10.285714285714278h-3.685714285714255Z\" fill=\"#4c78a8\" fill-opacity=\"1\" stroke=\"#505050\" stroke-width=\"0\"/><path aria-label=\"x1: 593; x2: 605.9; level: 21; level2: 21.9; status: Default; sf: copyto! at broadcast.jl:913 [inlined]\" role=\"graphics-symbol\" aria-roledescription=\"rect mark\" d=\"M169.42857142857144,149.71428571428572h3.685714285714255v10.285714285714278h-3.685714285714255Z\" fill=\"#4c78a8\" fill-opacity=\"1\" stroke=\"#505050\" stroke-width=\"0\"/><path aria-label=\"x1: 593; x2: 605.9; level: 22; level2: 22.9; status: Default; sf: copyto! at broadcast.jl:954 [inlined]\" role=\"graphics-symbol\" aria-roledescription=\"rect mark\" d=\"M169.42857142857144,138.2857142857143h3.685714285714255v10.285714285714278h-3.685714285714255Z\" fill=\"#4c78a8\" fill-opacity=\"1\" stroke=\"#505050\" stroke-width=\"0\"/><path aria-label=\"x1: 593; x2: 605.9; level: 23; level2: 23.9; status: Default; sf: copyto! at abstractarray.jl:1018 [inlined]\" role=\"graphics-symbol\" aria-roledescription=\"rect mark\" d=\"M169.42857142857144,126.85714285714286h3.685714285714255v10.285714285714278h-3.685714285714255Z\" fill=\"#4c78a8\" fill-opacity=\"1\" stroke=\"#505050\" stroke-width=\"0\"/><path aria-label=\"x1: 593; x2: 602.9; level: 24; level2: 24.9; status: Default; sf: copyto_unaliased! at abstractarray.jl:0 [inlined]\" role=\"graphics-symbol\" aria-roledescription=\"rect mark\" d=\"M169.42857142857144,115.42857142857143h2.8285714285713937v10.285714285714278h-2.8285714285713937Z\" fill=\"#4c78a8\" fill-opacity=\"1\" stroke=\"#505050\" stroke-width=\"0\"/><path aria-label=\"x1: 603; x2: 604.9; level: 24; level2: 24.9; status: Default; sf: copyto_unaliased! at abstractarray.jl:1038 [inlined]\" role=\"graphics-symbol\" aria-roledescription=\"rect mark\" d=\"M172.28571428571428,115.42857142857143h0.5428571428571445v10.285714285714278h-0.5428571428571445Z\" fill=\"#4c78a8\" fill-opacity=\"1\" stroke=\"#505050\" stroke-width=\"0\"/><path aria-label=\"x1: 603; x2: 604.9; level: 25; level2: 25.9; status: Default; sf: setindex! at subarray.jl:347 [inlined]\" role=\"graphics-symbol\" aria-roledescription=\"rect mark\" d=\"M172.28571428571428,104h0.5428571428571445v10.285714285714278h-0.5428571428571445Z\" fill=\"#4c78a8\" fill-opacity=\"1\" stroke=\"#505050\" stroke-width=\"0\"/><path aria-label=\"x1: 603; x2: 604.9; level: 26; level2: 26.9; status: Default; sf: setindex! at array.jl:966 [inlined]\" role=\"graphics-symbol\" aria-roledescription=\"rect mark\" d=\"M172.28571428571428,92.57142857142857h0.5428571428571445v10.285714285714278h-0.5428571428571445Z\" fill=\"#4c78a8\" fill-opacity=\"1\" stroke=\"#505050\" stroke-width=\"0\"/><path aria-label=\"x1: 605; x2: 605.9; level: 24; level2: 24.9; status: Default; sf: copyto_unaliased! at abstractarray.jl:1039 [inlined]\" role=\"graphics-symbol\" aria-roledescription=\"rect mark\" d=\"M172.85714285714286,115.42857142857143h0.25714285714283847v10.285714285714278h-0.25714285714283847Z\" fill=\"#4c78a8\" fill-opacity=\"1\" stroke=\"#505050\" stroke-width=\"0\"/><path aria-label=\"x1: 610; x2: 611.9; level: 18; level2: 18.9; status: Default; sf: length at bitarray.jl:103 [inlined]\" role=\"graphics-symbol\" aria-roledescription=\"rect mark\" d=\"M174.28571428571428,184.00000000000003h0.5428571428571445v10.285714285714278h-0.5428571428571445Z\" fill=\"#4c78a8\" fill-opacity=\"1\" stroke=\"#505050\" stroke-width=\"0\"/><path aria-label=\"x1: 610; x2: 611.9; level: 19; level2: 19.9; status: Default; sf: getproperty at Base.jl:38 [inlined]\" role=\"graphics-symbol\" aria-roledescription=\"rect mark\" d=\"M174.28571428571428,172.5714285714286h0.5428571428571445v10.28571428571425h-0.5428571428571445Z\" fill=\"#4c78a8\" fill-opacity=\"1\" stroke=\"#505050\" stroke-width=\"0\"/><path aria-label=\"x1: 612; x2: 612.9; level: 17; level2: 17.9; status: Default; sf: findall(B::BitVector) at bitarray.jl:1695\" role=\"graphics-symbol\" aria-roledescription=\"rect mark\" d=\"M174.85714285714286,195.42857142857147h0.25714285714283847v10.28571428571422h-0.25714285714283847Z\" fill=\"#4c78a8\" fill-opacity=\"1\" stroke=\"#505050\" stroke-width=\"0\"/><path aria-label=\"x1: 612; x2: 612.9; level: 18; level2: 18.9; status: Default; sf: getindex at array.jl:924 [inlined]\" role=\"graphics-symbol\" aria-roledescription=\"rect mark\" d=\"M174.85714285714286,184.00000000000003h0.25714285714283847v10.285714285714278h-0.25714285714283847Z\" fill=\"#4c78a8\" fill-opacity=\"1\" stroke=\"#505050\" stroke-width=\"0\"/><path aria-label=\"x1: 613; x2: 623.9; level: 17; level2: 17.9; status: Default; sf: findall(B::BitVector) at bitarray.jl:1697\" role=\"graphics-symbol\" aria-roledescription=\"rect mark\" d=\"M175.14285714285714,195.42857142857147h3.1142857142856997v10.28571428571422h-3.1142857142856997Z\" fill=\"#4c78a8\" fill-opacity=\"1\" stroke=\"#505050\" stroke-width=\"0\"/><path aria-label=\"x1: 624; x2: 629.9; level: 17; level2: 17.9; status: Default; sf: findall(B::BitVector) at bitarray.jl:1704\" role=\"graphics-symbol\" aria-roledescription=\"rect mark\" d=\"M178.28571428571428,195.42857142857147h1.6857142857142833v10.28571428571422h-1.6857142857142833Z\" fill=\"#4c78a8\" fill-opacity=\"1\" stroke=\"#505050\" stroke-width=\"0\"/><path aria-label=\"x1: 624; x2: 629.9; level: 18; level2: 18.9; status: Default; sf: trailing_zeros at int.jl:434 [inlined]\" role=\"graphics-symbol\" aria-roledescription=\"rect mark\" d=\"M178.28571428571428,184.00000000000003h1.6857142857142833v10.285714285714278h-1.6857142857142833Z\" fill=\"#4c78a8\" fill-opacity=\"1\" stroke=\"#505050\" stroke-width=\"0\"/><path aria-label=\"x1: 630; x2: 687.9; level: 17; level2: 17.9; status: Default; sf: findall(B::BitVector) at bitarray.jl:1708\" role=\"graphics-symbol\" aria-roledescription=\"rect mark\" d=\"M180,195.42857142857147h16.542857142857144v10.28571428571422h-16.542857142857144Z\" fill=\"#4c78a8\" fill-opacity=\"1\" stroke=\"#505050\" stroke-width=\"0\"/><path aria-label=\"x1: 630; x2: 687.9; level: 18; level2: 18.9; status: Default; sf: setindex! at array.jl:966 [inlined]\" role=\"graphics-symbol\" aria-roledescription=\"rect mark\" d=\"M180,184.00000000000003h16.542857142857144v10.285714285714278h-16.542857142857144Z\" fill=\"#4c78a8\" fill-opacity=\"1\" stroke=\"#505050\" stroke-width=\"0\"/><path aria-label=\"x1: 688; x2: 688.9; level: 17; level2: 17.9; status: Default; sf: findall(B::BitVector) at bitarray.jl:1709\" role=\"graphics-symbol\" aria-roledescription=\"rect mark\" d=\"M196.57142857142858,195.42857142857147h0.25714285714283847v10.28571428571422h-0.25714285714283847Z\" fill=\"#4c78a8\" fill-opacity=\"1\" stroke=\"#505050\" stroke-width=\"0\"/><path aria-label=\"x1: 688; x2: 688.9; level: 18; level2: 18.9; status: Default; sf: + at int.jl:87 [inlined]\" role=\"graphics-symbol\" aria-roledescription=\"rect mark\" d=\"M196.57142857142858,184.00000000000003h0.25714285714283847v10.285714285714278h-0.25714285714283847Z\" fill=\"#4c78a8\" fill-opacity=\"1\" stroke=\"#505050\" stroke-width=\"0\"/><path aria-label=\"x1: 689; x2: 1124.9; level: 17; level2: 17.9; status: Default; sf: materialize at broadcast.jl:860 [inlined]\" role=\"graphics-symbol\" aria-roledescription=\"rect mark\" d=\"M196.85714285714286,195.42857142857147h124.54285714285717v10.28571428571422h-124.54285714285717Z\" fill=\"#4c78a8\" fill-opacity=\"1\" stroke=\"#505050\" stroke-width=\"0\"/><path aria-label=\"x1: 689; x2: 1123.9; level: 18; level2: 18.9; status: Default; sf: copy at broadcast.jl:885 [inlined]\" role=\"graphics-symbol\" aria-roledescription=\"rect mark\" d=\"M196.85714285714286,184.00000000000003h124.2571428571429v10.285714285714278h-124.2571428571429Z\" fill=\"#4c78a8\" fill-opacity=\"1\" stroke=\"#505050\" stroke-width=\"0\"/><path aria-label=\"x1: 689; x2: 1013.9; level: 19; level2: 19.9; status: Default; sf: copyto! at broadcast.jl:913 [inlined]\" role=\"graphics-symbol\" aria-roledescription=\"rect mark\" d=\"M196.85714285714286,172.5714285714286h92.8285714285714v10.28571428571425h-92.8285714285714Z\" fill=\"#4c78a8\" fill-opacity=\"1\" stroke=\"#505050\" stroke-width=\"0\"/><path aria-label=\"x1: 689; x2: 1013.9; level: 20; level2: 20.9; status: Default; sf: copyto! at broadcast.jl:971 [inlined]\" role=\"graphics-symbol\" aria-roledescription=\"rect mark\" d=\"M196.85714285714286,161.14285714285717h92.8285714285714v10.285714285714278h-92.8285714285714Z\" fill=\"#4c78a8\" fill-opacity=\"1\" stroke=\"#505050\" stroke-width=\"0\"/><path aria-label=\"x1: 689; x2: 693.9; level: 21; level2: 21.9; status: Default; sf: copyto! at broadcast.jl:957 [inlined]\" role=\"graphics-symbol\" aria-roledescription=\"rect mark\" d=\"M196.85714285714286,149.71428571428572h1.3999999999999773v10.285714285714278h-1.3999999999999773Z\" fill=\"#4c78a8\" fill-opacity=\"1\" stroke=\"#505050\" stroke-width=\"0\"/><path aria-label=\"x1: 689; x2: 693.9; level: 22; level2: 22.9; status: Default; sf: preprocess at broadcast.jl:940 [inlined]\" role=\"graphics-symbol\" aria-roledescription=\"rect mark\" d=\"M196.85714285714286,138.2857142857143h1.3999999999999773v10.285714285714278h-1.3999999999999773Z\" fill=\"#4c78a8\" fill-opacity=\"1\" stroke=\"#505050\" stroke-width=\"0\"/><path aria-label=\"x1: 689; x2: 693.9; level: 23; level2: 23.9; status: Default; sf: preprocess_args at broadcast.jl:944 [inlined]\" role=\"graphics-symbol\" aria-roledescription=\"rect mark\" d=\"M196.85714285714286,126.85714285714286h1.3999999999999773v10.285714285714278h-1.3999999999999773Z\" fill=\"#4c78a8\" fill-opacity=\"1\" stroke=\"#505050\" stroke-width=\"0\"/><path aria-label=\"x1: 689; x2: 693.9; level: 24; level2: 24.9; status: Default; sf: preprocess at broadcast.jl:941 [inlined]\" role=\"graphics-symbol\" aria-roledescription=\"rect mark\" d=\"M196.85714285714286,115.42857142857143h1.3999999999999773v10.285714285714278h-1.3999999999999773Z\" fill=\"#4c78a8\" fill-opacity=\"1\" stroke=\"#505050\" stroke-width=\"0\"/><path aria-label=\"x1: 689; x2: 692.9; level: 25; level2: 25.9; status: Default; sf: broadcast_unalias at broadcast.jl:934 [inlined]\" role=\"graphics-symbol\" aria-roledescription=\"rect mark\" d=\"M196.85714285714286,104h1.114285714285728v10.285714285714278h-1.114285714285728Z\" fill=\"#4c78a8\" fill-opacity=\"1\" stroke=\"#505050\" stroke-width=\"0\"/><path aria-label=\"x1: 689; x2: 692.9; level: 26; level2: 26.9; status: Default; sf: unalias at abstractarray.jl:1427 [inlined]\" role=\"graphics-symbol\" aria-roledescription=\"rect mark\" d=\"M196.85714285714286,92.57142857142857h1.114285714285728v10.285714285714278h-1.114285714285728Z\" fill=\"#4c78a8\" fill-opacity=\"1\" stroke=\"#505050\" stroke-width=\"0\"/><path aria-label=\"x1: 689; x2: 689.9; level: 27; level2: 27.9; status: Default; sf: mightalias at abstractarray.jl:0 [inlined]\" role=\"graphics-symbol\" aria-roledescription=\"rect mark\" d=\"M196.85714285714286,81.14285714285714h0.25714285714283847v10.285714285714278h-0.25714285714283847Z\" fill=\"#4c78a8\" fill-opacity=\"1\" stroke=\"#505050\" stroke-width=\"0\"/><path aria-label=\"x1: 690; x2: 692.9; level: 27; level2: 27.9; status: Default; sf: mightalias at abstractarray.jl:1462 [inlined]\" role=\"graphics-symbol\" aria-roledescription=\"rect mark\" d=\"M197.14285714285717,81.14285714285714h0.8285714285714221v10.285714285714278h-0.8285714285714221Z\" fill=\"#4c78a8\" fill-opacity=\"1\" stroke=\"#505050\" stroke-width=\"0\"/><path aria-label=\"x1: 690; x2: 692.9; level: 28; level2: 28.9; status: Default; sf: dataids at abstractarray.jl:1485 [inlined]\" role=\"graphics-symbol\" aria-roledescription=\"rect mark\" d=\"M197.14285714285717,69.71428571428575h0.8285714285714221v10.285714285714235h-0.8285714285714221Z\" fill=\"#4c78a8\" fill-opacity=\"1\" stroke=\"#505050\" stroke-width=\"0\"/><path aria-label=\"x1: 690; x2: 692.9; level: 29; level2: 29.9; status: Default; sf: objectid at reflection.jl:340 [inlined]\" role=\"graphics-symbol\" aria-roledescription=\"rect mark\" d=\"M197.14285714285717,58.28571428571432h0.8285714285714221v10.285714285714235h-0.8285714285714221Z\" fill=\"#4c78a8\" fill-opacity=\"1\" stroke=\"#505050\" stroke-width=\"0\"/><path aria-label=\"x1: 693; x2: 693.9; level: 25; level2: 25.9; status: Default; sf: extrude at broadcast.jl:637 [inlined]\" role=\"graphics-symbol\" aria-roledescription=\"rect mark\" d=\"M198,104h0.25714285714283847v10.285714285714278h-0.25714285714283847Z\" fill=\"#4c78a8\" fill-opacity=\"1\" stroke=\"#505050\" stroke-width=\"0\"/><path aria-label=\"x1: 693; x2: 693.9; level: 26; level2: 26.9; status: Default; sf: newindexer at broadcast.jl:586 [inlined]\" role=\"graphics-symbol\" aria-roledescription=\"rect mark\" d=\"M198,92.57142857142857h0.25714285714283847v10.285714285714278h-0.25714285714283847Z\" fill=\"#4c78a8\" fill-opacity=\"1\" stroke=\"#505050\" stroke-width=\"0\"/><path aria-label=\"x1: 693; x2: 693.9; level: 27; level2: 27.9; status: Default; sf: axes at abstractarray.jl:95 [inlined]\" role=\"graphics-symbol\" aria-roledescription=\"rect mark\" d=\"M198,81.14285714285714h0.25714285714283847v10.285714285714278h-0.25714285714283847Z\" fill=\"#4c78a8\" fill-opacity=\"1\" stroke=\"#505050\" stroke-width=\"0\"/><path aria-label=\"x1: 693; x2: 693.9; level: 28; level2: 28.9; status: Default; sf: size at array.jl:151 [inlined]\" role=\"graphics-symbol\" aria-roledescription=\"rect mark\" d=\"M198,69.71428571428575h0.25714285714283847v10.285714285714235h-0.25714285714283847Z\" fill=\"#4c78a8\" fill-opacity=\"1\" stroke=\"#505050\" stroke-width=\"0\"/><path aria-label=\"x1: 694; x2: 1012.9; level: 21; level2: 21.9; status: Default; sf: copyto! at broadcast.jl:960 [inlined]\" role=\"graphics-symbol\" aria-roledescription=\"rect mark\" d=\"M198.28571428571428,149.71428571428572h91.11428571428576v10.285714285714278h-91.11428571428576Z\" fill=\"#4c78a8\" fill-opacity=\"1\" stroke=\"#505050\" stroke-width=\"0\"/><path aria-label=\"x1: 694; x2: 695.9; level: 22; level2: 22.9; status: Default; sf: macro expansion at simdloop.jl:72 [inlined]\" role=\"graphics-symbol\" aria-roledescription=\"rect mark\" d=\"M198.28571428571428,138.2857142857143h0.5428571428571445v10.285714285714278h-0.5428571428571445Z\" fill=\"#4c78a8\" fill-opacity=\"1\" stroke=\"#505050\" stroke-width=\"0\"/><path aria-label=\"x1: 696; x2: 705.9; level: 22; level2: 22.9; status: Default; sf: macro expansion at simdloop.jl:75 [inlined]\" role=\"graphics-symbol\" aria-roledescription=\"rect mark\" d=\"M198.85714285714286,138.2857142857143h2.828571428571422v10.285714285714278h-2.828571428571422Z\" fill=\"#4c78a8\" fill-opacity=\"1\" stroke=\"#505050\" stroke-width=\"0\"/><path aria-label=\"x1: 706; x2: 1010.9; level: 22; level2: 22.9; status: Default; sf: macro expansion at simdloop.jl:77 [inlined]\" role=\"graphics-symbol\" aria-roledescription=\"rect mark\" d=\"M201.71428571428572,138.2857142857143h87.1142857142857v10.285714285714278h-87.1142857142857Z\" fill=\"#4c78a8\" fill-opacity=\"1\" stroke=\"#505050\" stroke-width=\"0\"/><path aria-label=\"x1: 706; x2: 1010.9; level: 23; level2: 23.9; status: Default; sf: macro expansion at broadcast.jl:961 [inlined]\" role=\"graphics-symbol\" aria-roledescription=\"rect mark\" d=\"M201.71428571428572,126.85714285714286h87.1142857142857v10.285714285714278h-87.1142857142857Z\" fill=\"#4c78a8\" fill-opacity=\"1\" stroke=\"#505050\" stroke-width=\"0\"/><path aria-label=\"x1: 706; x2: 961.9; level: 24; level2: 24.9; status: Default; sf: setindex! at bitarray.jl:702 [inlined]\" role=\"graphics-symbol\" aria-roledescription=\"rect mark\" d=\"M201.71428571428572,115.42857142857143h73.1142857142857v10.285714285714278h-73.1142857142857Z\" fill=\"#4c78a8\" fill-opacity=\"1\" stroke=\"#505050\" stroke-width=\"0\"/><path aria-label=\"x1: 706; x2: 728.9; level: 25; level2: 25.9; status: Default; sf: unsafe_bitsetindex! at bitarray.jl:688 [inlined]\" role=\"graphics-symbol\" aria-roledescription=\"rect mark\" d=\"M201.71428571428572,104h6.542857142857116v10.285714285714278h-6.542857142857116Z\" fill=\"#4c78a8\" fill-opacity=\"1\" stroke=\"#505050\" stroke-width=\"0\"/><path aria-label=\"x1: 706; x2: 728.9; level: 26; level2: 26.9; status: Default; sf: get_chunks_id at bitarray.jl:126 [inlined]\" role=\"graphics-symbol\" aria-roledescription=\"rect mark\" d=\"M201.71428571428572,92.57142857142857h6.542857142857116v10.285714285714278h-6.542857142857116Z\" fill=\"#4c78a8\" fill-opacity=\"1\" stroke=\"#505050\" stroke-width=\"0\"/><path aria-label=\"x1: 706; x2: 728.9; level: 27; level2: 27.9; status: Default; sf: _div64 at bitarray.jl:119 [inlined]\" role=\"graphics-symbol\" aria-roledescription=\"rect mark\" d=\"M201.71428571428572,81.14285714285714h6.542857142857116v10.285714285714278h-6.542857142857116Z\" fill=\"#4c78a8\" fill-opacity=\"1\" stroke=\"#505050\" stroke-width=\"0\"/><path aria-label=\"x1: 706; x2: 728.9; level: 28; level2: 28.9; status: Default; sf: &gt;&gt; at int.jl:501 [inlined]\" role=\"graphics-symbol\" aria-roledescription=\"rect mark\" d=\"M201.71428571428572,69.71428571428575h6.542857142857116v10.285714285714235h-6.542857142857116Z\" fill=\"#4c78a8\" fill-opacity=\"1\" stroke=\"#505050\" stroke-width=\"0\"/><path aria-label=\"x1: 706; x2: 728.9; level: 29; level2: 29.9; status: Default; sf: &gt;&gt; at int.jl:494 [inlined]\" role=\"graphics-symbol\" aria-roledescription=\"rect mark\" d=\"M201.71428571428572,58.28571428571432h6.542857142857116v10.285714285714235h-6.542857142857116Z\" fill=\"#4c78a8\" fill-opacity=\"1\" stroke=\"#505050\" stroke-width=\"0\"/><path aria-label=\"x1: 729; x2: 961.9; level: 25; level2: 25.9; status: Default; sf: unsafe_bitsetindex! at bitarray.jl:689 [inlined]\" role=\"graphics-symbol\" aria-roledescription=\"rect mark\" d=\"M208.28571428571428,104h66.54285714285714v10.285714285714278h-66.54285714285714Z\" fill=\"#4c78a8\" fill-opacity=\"1\" stroke=\"#505050\" stroke-width=\"0\"/><path aria-label=\"x1: 729; x2: 730.9; level: 26; level2: 26.9; status: Default; sf: _unsafe_bitsetindex! at bitarray.jl:693 [inlined]\" role=\"graphics-symbol\" aria-roledescription=\"rect mark\" d=\"M208.28571428571428,92.57142857142857h0.5428571428571445v10.285714285714278h-0.5428571428571445Z\" fill=\"#4c78a8\" fill-opacity=\"1\" stroke=\"#505050\" stroke-width=\"0\"/><path aria-label=\"x1: 729; x2: 730.9; level: 27; level2: 27.9; status: Default; sf: &lt;&lt; at int.jl:503 [inlined]\" role=\"graphics-symbol\" aria-roledescription=\"rect mark\" d=\"M208.28571428571428,81.14285714285714h0.5428571428571445v10.285714285714278h-0.5428571428571445Z\" fill=\"#4c78a8\" fill-opacity=\"1\" stroke=\"#505050\" stroke-width=\"0\"/><path aria-label=\"x1: 729; x2: 730.9; level: 28; level2: 28.9; status: Default; sf: &lt;&lt; at int.jl:496 [inlined]\" role=\"graphics-symbol\" aria-roledescription=\"rect mark\" d=\"M208.28571428571428,69.71428571428575h0.5428571428571445v10.285714285714235h-0.5428571428571445Z\" fill=\"#4c78a8\" fill-opacity=\"1\" stroke=\"#505050\" stroke-width=\"0\"/><path aria-label=\"x1: 731; x2: 788.9; level: 26; level2: 26.9; status: Default; sf: _unsafe_bitsetindex! at bitarray.jl:695 [inlined]\" role=\"graphics-symbol\" aria-roledescription=\"rect mark\" d=\"M208.85714285714286,92.57142857142857h16.542857142857144v10.285714285714278h-16.542857142857144Z\" fill=\"#4c78a8\" fill-opacity=\"1\" stroke=\"#505050\" stroke-width=\"0\"/><path aria-label=\"x1: 731; x2: 788.9; level: 27; level2: 27.9; status: Default; sf: getindex at array.jl:924 [inlined]\" role=\"graphics-symbol\" aria-roledescription=\"rect mark\" d=\"M208.85714285714286,81.14285714285714h16.542857142857144v10.285714285714278h-16.542857142857144Z\" fill=\"#4c78a8\" fill-opacity=\"1\" stroke=\"#505050\" stroke-width=\"0\"/><path aria-label=\"x1: 789; x2: 961.9; level: 26; level2: 26.9; status: Default; sf: _unsafe_bitsetindex! at bitarray.jl:696 [inlined]\" role=\"graphics-symbol\" aria-roledescription=\"rect mark\" d=\"M225.42857142857144,92.57142857142857h49.39999999999998v10.285714285714278h-49.39999999999998Z\" fill=\"#4c78a8\" fill-opacity=\"1\" stroke=\"#505050\" stroke-width=\"0\"/><path aria-label=\"x1: 789; x2: 953.9; level: 27; level2: 27.9; status: Default; sf: setindex! at array.jl:966 [inlined]\" role=\"graphics-symbol\" aria-roledescription=\"rect mark\" d=\"M225.42857142857144,81.14285714285714h47.1142857142857v10.285714285714278h-47.1142857142857Z\" fill=\"#4c78a8\" fill-opacity=\"1\" stroke=\"#505050\" stroke-width=\"0\"/><path aria-label=\"x1: 954; x2: 956.9; level: 27; level2: 27.9; status: Default; sf: ifelse at essentials.jl:489 [inlined]\" role=\"graphics-symbol\" aria-roledescription=\"rect mark\" d=\"M272.57142857142856,81.14285714285714h0.8285714285714221v10.285714285714278h-0.8285714285714221Z\" fill=\"#4c78a8\" fill-opacity=\"1\" stroke=\"#505050\" stroke-width=\"0\"/><path aria-label=\"x1: 957; x2: 957.9; level: 27; level2: 27.9; status: Default; sf: &amp; at int.jl:340 [inlined]\" role=\"graphics-symbol\" aria-roledescription=\"rect mark\" d=\"M273.42857142857144,81.14285714285714h0.25714285714281004v10.285714285714278h-0.25714285714281004Z\" fill=\"#4c78a8\" fill-opacity=\"1\" stroke=\"#505050\" stroke-width=\"0\"/><path aria-label=\"x1: 958; x2: 961.9; level: 27; level2: 27.9; status: Default; sf: | at int.jl:365 [inlined]\" role=\"graphics-symbol\" aria-roledescription=\"rect mark\" d=\"M273.7142857142857,81.14285714285714h1.1142857142856997v10.285714285714278h-1.1142857142856997Z\" fill=\"#4c78a8\" fill-opacity=\"1\" stroke=\"#505050\" stroke-width=\"0\"/><path aria-label=\"x1: 962; x2: 1010.9; level: 24; level2: 24.9; status: Default; sf: getindex at broadcast.jl:597 [inlined]\" role=\"graphics-symbol\" aria-roledescription=\"rect mark\" d=\"M274.8571428571429,115.42857142857143h13.971428571428532v10.285714285714278h-13.971428571428532Z\" fill=\"#4c78a8\" fill-opacity=\"1\" stroke=\"#505050\" stroke-width=\"0\"/><path aria-label=\"x1: 962; x2: 1005.9; level: 25; level2: 25.9; status: Default; sf: _broadcast_getindex at broadcast.jl:642 [inlined]\" role=\"graphics-symbol\" aria-roledescription=\"rect mark\" d=\"M274.8571428571429,104h12.542857142857144v10.285714285714278h-12.542857142857144Z\" fill=\"#4c78a8\" fill-opacity=\"1\" stroke=\"#505050\" stroke-width=\"0\"/><path aria-label=\"x1: 962; x2: 1005.9; level: 26; level2: 26.9; status: Default; sf: _getindex at broadcast.jl:667 [inlined]\" role=\"graphics-symbol\" aria-roledescription=\"rect mark\" d=\"M274.8571428571429,92.57142857142857h12.542857142857144v10.285714285714278h-12.542857142857144Z\" fill=\"#4c78a8\" fill-opacity=\"1\" stroke=\"#505050\" stroke-width=\"0\"/><path aria-label=\"x1: 962; x2: 1005.9; level: 27; level2: 27.9; status: Default; sf: _broadcast_getindex at broadcast.jl:636 [inlined]\" role=\"graphics-symbol\" aria-roledescription=\"rect mark\" d=\"M274.8571428571429,81.14285714285714h12.542857142857144v10.285714285714278h-12.542857142857144Z\" fill=\"#4c78a8\" fill-opacity=\"1\" stroke=\"#505050\" stroke-width=\"0\"/><path aria-label=\"x1: 962; x2: 1005.9; level: 28; level2: 28.9; status: Default; sf: getindex at array.jl:924 [inlined]\" role=\"graphics-symbol\" aria-roledescription=\"rect mark\" d=\"M274.8571428571429,69.71428571428575h12.542857142857144v10.285714285714235h-12.542857142857144Z\" fill=\"#4c78a8\" fill-opacity=\"1\" stroke=\"#505050\" stroke-width=\"0\"/><path aria-label=\"x1: 1006; x2: 1010.9; level: 25; level2: 25.9; status: Default; sf: _broadcast_getindex at broadcast.jl:643 [inlined]\" role=\"graphics-symbol\" aria-roledescription=\"rect mark\" d=\"M287.4285714285714,104h1.400000000000034v10.285714285714278h-1.400000000000034Z\" fill=\"#4c78a8\" fill-opacity=\"1\" stroke=\"#505050\" stroke-width=\"0\"/><path aria-label=\"x1: 1006; x2: 1010.9; level: 26; level2: 26.9; status: Default; sf: _broadcast_getindex_evalf at broadcast.jl:670 [inlined]\" role=\"graphics-symbol\" aria-roledescription=\"rect mark\" d=\"M287.4285714285714,92.57142857142857h1.400000000000034v10.285714285714278h-1.400000000000034Z\" fill=\"#4c78a8\" fill-opacity=\"1\" stroke=\"#505050\" stroke-width=\"0\"/><path aria-label=\"x1: 1006; x2: 1010.9; level: 27; level2: 27.9; status: Default; sf: Fix2 at operators.jl:1113 [inlined]\" role=\"graphics-symbol\" aria-roledescription=\"rect mark\" d=\"M287.4285714285714,81.14285714285714h1.400000000000034v10.285714285714278h-1.400000000000034Z\" fill=\"#4c78a8\" fill-opacity=\"1\" stroke=\"#505050\" stroke-width=\"0\"/><path aria-label=\"x1: 1006; x2: 1010.9; level: 28; level2: 28.9; status: Default; sf: &gt; at operators.jl:382 [inlined]\" role=\"graphics-symbol\" aria-roledescription=\"rect mark\" d=\"M287.4285714285714,69.71428571428575h1.400000000000034v10.285714285714235h-1.400000000000034Z\" fill=\"#4c78a8\" fill-opacity=\"1\" stroke=\"#505050\" stroke-width=\"0\"/><path aria-label=\"x1: 1006; x2: 1010.9; level: 29; level2: 29.9; status: Default; sf: &lt; at float.jl:454 [inlined]\" role=\"graphics-symbol\" aria-roledescription=\"rect mark\" d=\"M287.4285714285714,58.28571428571432h1.400000000000034v10.285714285714235h-1.400000000000034Z\" fill=\"#4c78a8\" fill-opacity=\"1\" stroke=\"#505050\" stroke-width=\"0\"/><path aria-label=\"x1: 1006; x2: 1007.9; level: 30; level2: 30.9; status: Default; sf: &amp; at bool.jl:38 [inlined]\" role=\"graphics-symbol\" aria-roledescription=\"rect mark\" d=\"M287.4285714285714,46.85714285714289h0.5428571428571445v10.28571428571427h-0.5428571428571445Z\" fill=\"#4c78a8\" fill-opacity=\"1\" stroke=\"#505050\" stroke-width=\"0\"/><path aria-label=\"x1: 1008; x2: 1009.9; level: 30; level2: 30.9; status: Default; sf: &lt; at float.jl:412 [inlined]\" role=\"graphics-symbol\" aria-roledescription=\"rect mark\" d=\"M288,46.85714285714289h0.5428571428571445v10.28571428571427h-0.5428571428571445Z\" fill=\"#4c78a8\" fill-opacity=\"1\" stroke=\"#505050\" stroke-width=\"0\"/><path aria-label=\"x1: 1010; x2: 1010.9; level: 30; level2: 30.9; status: Default; sf: == at float.jl:410 [inlined]\" role=\"graphics-symbol\" aria-roledescription=\"rect mark\" d=\"M288.57142857142856,46.85714285714289h0.2571428571428669v10.28571428571427h-0.2571428571428669Z\" fill=\"#4c78a8\" fill-opacity=\"1\" stroke=\"#505050\" stroke-width=\"0\"/><path aria-label=\"x1: 1011; x2: 1012.9; level: 22; level2: 22.9; status: Default; sf: macro expansion at simdloop.jl:78 [inlined]\" role=\"graphics-symbol\" aria-roledescription=\"rect mark\" d=\"M288.8571428571429,138.2857142857143h0.5428571428571445v10.285714285714278h-0.5428571428571445Z\" fill=\"#4c78a8\" fill-opacity=\"1\" stroke=\"#505050\" stroke-width=\"0\"/><path aria-label=\"x1: 1011; x2: 1012.9; level: 23; level2: 23.9; status: Default; sf: + at int.jl:87 [inlined]\" role=\"graphics-symbol\" aria-roledescription=\"rect mark\" d=\"M288.8571428571429,126.85714285714286h0.5428571428571445v10.285714285714278h-0.5428571428571445Z\" fill=\"#4c78a8\" fill-opacity=\"1\" stroke=\"#505050\" stroke-width=\"0\"/><path aria-label=\"x1: 1014; x2: 1123.9; level: 19; level2: 19.9; status: Default; sf: similar at broadcast.jl:211 [inlined]\" role=\"graphics-symbol\" aria-roledescription=\"rect mark\" d=\"M289.7142857142857,172.5714285714286h31.400000000000034v10.28571428571425h-31.400000000000034Z\" fill=\"#4c78a8\" fill-opacity=\"1\" stroke=\"#505050\" stroke-width=\"0\"/><path aria-label=\"x1: 1014; x2: 1123.9; level: 20; level2: 20.9; status: Default; sf: similar at broadcast.jl:214 [inlined]\" role=\"graphics-symbol\" aria-roledescription=\"rect mark\" d=\"M289.7142857142857,161.14285714285717h31.400000000000034v10.285714285714278h-31.400000000000034Z\" fill=\"#4c78a8\" fill-opacity=\"1\" stroke=\"#505050\" stroke-width=\"0\"/><path aria-label=\"x1: 1014; x2: 1123.9; level: 21; level2: 21.9; status: Default; sf: similar at abstractarray.jl:840 [inlined]\" role=\"graphics-symbol\" aria-roledescription=\"rect mark\" d=\"M289.7142857142857,149.71428571428572h31.400000000000034v10.285714285714278h-31.400000000000034Z\" fill=\"#4c78a8\" fill-opacity=\"1\" stroke=\"#505050\" stroke-width=\"0\"/><path aria-label=\"x1: 1014; x2: 1123.9; level: 22; level2: 22.9; status: Default; sf: similar at abstractarray.jl:841 [inlined]\" role=\"graphics-symbol\" aria-roledescription=\"rect mark\" d=\"M289.7142857142857,138.2857142857143h31.400000000000034v10.285714285714278h-31.400000000000034Z\" fill=\"#4c78a8\" fill-opacity=\"1\" stroke=\"#505050\" stroke-width=\"0\"/><path aria-label=\"x1: 1014; x2: 1123.9; level: 23; level2: 23.9; status: Default; sf: BitArray at bitarray.jl:71 [inlined]\" role=\"graphics-symbol\" aria-roledescription=\"rect mark\" d=\"M289.7142857142857,126.85714285714286h31.400000000000034v10.285714285714278h-31.400000000000034Z\" fill=\"#4c78a8\" fill-opacity=\"1\" stroke=\"#505050\" stroke-width=\"0\"/><path aria-label=\"x1: 1014; x2: 1115.9; level: 24; level2: 24.9; status: Default; sf: BitArray at bitarray.jl:37 [inlined]\" role=\"graphics-symbol\" aria-roledescription=\"rect mark\" d=\"M289.7142857142857,115.42857142857143h29.114285714285757v10.285714285714278h-29.114285714285757Z\" fill=\"#4c78a8\" fill-opacity=\"1\" stroke=\"#505050\" stroke-width=\"0\"/><path aria-label=\"x1: 1014; x2: 1115.9; level: 25; level2: 25.9; status: Garbage collection; sf: Array at boot.jl:459 [inlined]\" role=\"graphics-symbol\" aria-roledescription=\"rect mark\" d=\"M289.7142857142857,104h29.114285714285757v10.285714285714278h-29.114285714285757Z\" fill=\"#f58518\" fill-opacity=\"1\" stroke=\"#505050\" stroke-width=\"0\"/><path aria-label=\"x1: 1116; x2: 1119.9; level: 24; level2: 24.9; status: Default; sf: BitArray at bitarray.jl:38 [inlined]\" role=\"graphics-symbol\" aria-roledescription=\"rect mark\" d=\"M318.8571428571429,115.42857142857143h1.1142857142857565v10.285714285714278h-1.1142857142857565Z\" fill=\"#4c78a8\" fill-opacity=\"1\" stroke=\"#505050\" stroke-width=\"0\"/><path aria-label=\"x1: 1116; x2: 1119.9; level: 25; level2: 25.9; status: Default; sf: lastindex at abstractarray.jl:378 [inlined]\" role=\"graphics-symbol\" aria-roledescription=\"rect mark\" d=\"M318.8571428571429,104h1.1142857142857565v10.285714285714278h-1.1142857142857565Z\" fill=\"#4c78a8\" fill-opacity=\"1\" stroke=\"#505050\" stroke-width=\"0\"/><path aria-label=\"x1: 1116; x2: 1119.9; level: 26; level2: 26.9; status: Default; sf: eachindex at abstractarray.jl:341 [inlined]\" role=\"graphics-symbol\" aria-roledescription=\"rect mark\" d=\"M318.8571428571429,92.57142857142857h1.1142857142857565v10.285714285714278h-1.1142857142857565Z\" fill=\"#4c78a8\" fill-opacity=\"1\" stroke=\"#505050\" stroke-width=\"0\"/><path aria-label=\"x1: 1116; x2: 1119.9; level: 27; level2: 27.9; status: Default; sf: axes1 at abstractarray.jl:116 [inlined]\" role=\"graphics-symbol\" aria-roledescription=\"rect mark\" d=\"M318.8571428571429,81.14285714285714h1.1142857142857565v10.285714285714278h-1.1142857142857565Z\" fill=\"#4c78a8\" fill-opacity=\"1\" stroke=\"#505050\" stroke-width=\"0\"/><path aria-label=\"x1: 1116; x2: 1119.9; level: 28; level2: 28.9; status: Default; sf: axes at abstractarray.jl:95 [inlined]\" role=\"graphics-symbol\" aria-roledescription=\"rect mark\" d=\"M318.8571428571429,69.71428571428575h1.1142857142857565v10.285714285714235h-1.1142857142857565Z\" fill=\"#4c78a8\" fill-opacity=\"1\" stroke=\"#505050\" stroke-width=\"0\"/><path aria-label=\"x1: 1116; x2: 1119.9; level: 29; level2: 29.9; status: Default; sf: size at array.jl:151 [inlined]\" role=\"graphics-symbol\" aria-roledescription=\"rect mark\" d=\"M318.8571428571429,58.28571428571432h1.1142857142857565v10.285714285714235h-1.1142857142857565Z\" fill=\"#4c78a8\" fill-opacity=\"1\" stroke=\"#505050\" stroke-width=\"0\"/><path aria-label=\"x1: 1120; x2: 1123.9; level: 24; level2: 24.9; status: Default; sf: BitArray at bitarray.jl:39 [inlined]\" role=\"graphics-symbol\" aria-roledescription=\"rect mark\" d=\"M320,115.42857142857143h1.1142857142857565v10.285714285714278h-1.1142857142857565Z\" fill=\"#4c78a8\" fill-opacity=\"1\" stroke=\"#505050\" stroke-width=\"0\"/><path aria-label=\"x1: 1124; x2: 1124.9; level: 18; level2: 18.9; status: Default; sf: instantiate at broadcast.jl:281 [inlined]\" role=\"graphics-symbol\" aria-roledescription=\"rect mark\" d=\"M321.1428571428571,184.00000000000003h0.25714285714292373v10.285714285714278h-0.25714285714292373Z\" fill=\"#4c78a8\" fill-opacity=\"1\" stroke=\"#505050\" stroke-width=\"0\"/><path aria-label=\"x1: 1124; x2: 1124.9; level: 19; level2: 19.9; status: Default; sf: combine_axes at broadcast.jl:500 [inlined]\" role=\"graphics-symbol\" aria-roledescription=\"rect mark\" d=\"M321.1428571428571,172.5714285714286h0.25714285714292373v10.28571428571425h-0.25714285714292373Z\" fill=\"#4c78a8\" fill-opacity=\"1\" stroke=\"#505050\" stroke-width=\"0\"/><path aria-label=\"x1: 1124; x2: 1124.9; level: 20; level2: 20.9; status: Default; sf: axes at abstractarray.jl:95 [inlined]\" role=\"graphics-symbol\" aria-roledescription=\"rect mark\" d=\"M321.1428571428571,161.14285714285717h0.25714285714292373v10.285714285714278h-0.25714285714292373Z\" fill=\"#4c78a8\" fill-opacity=\"1\" stroke=\"#505050\" stroke-width=\"0\"/><path aria-label=\"x1: 1124; x2: 1124.9; level: 21; level2: 21.9; status: Default; sf: size at array.jl:151 [inlined]\" role=\"graphics-symbol\" aria-roledescription=\"rect mark\" d=\"M321.1428571428571,149.71428571428572h0.25714285714292373v10.285714285714278h-0.25714285714292373Z\" fill=\"#4c78a8\" fill-opacity=\"1\" stroke=\"#505050\" stroke-width=\"0\"/><path aria-label=\"x1: 1128; x2: 1129.9; level: 16; level2: 16.9; status: Default; sf: findall(B::BitVector) at bitarray.jl:0\" role=\"graphics-symbol\" aria-roledescription=\"rect mark\" d=\"M322.2857142857143,206.85714285714286h0.5428571428572013v10.285714285714306h-0.5428571428572013Z\" fill=\"#4c78a8\" fill-opacity=\"1\" stroke=\"#505050\" stroke-width=\"0\"/><path aria-label=\"x1: 1130; x2: 1132.9; level: 16; level2: 16.9; status: Default; sf: findall(B::BitVector) at bitarray.jl:1686\" role=\"graphics-symbol\" aria-roledescription=\"rect mark\" d=\"M322.8571428571429,206.85714285714286h0.8285714285714221v10.285714285714306h-0.8285714285714221Z\" fill=\"#4c78a8\" fill-opacity=\"1\" stroke=\"#505050\" stroke-width=\"0\"/><path aria-label=\"x1: 1133; x2: 1139.9; level: 16; level2: 16.9; status: Default; sf: findall(testf::Base.Fix2{typeof(&gt;), Int64}, A::Vector{Float64}) at simdloop.jl:0\" role=\"graphics-symbol\" aria-roledescription=\"rect mark\" d=\"M323.7142857142857,206.85714285714286h1.9714285714285893v10.285714285714306h-1.9714285714285893Z\" fill=\"#4c78a8\" fill-opacity=\"1\" stroke=\"#505050\" stroke-width=\"0\"/><path aria-label=\"x1: 1141; x2: 1141.9; level: 15; level2: 15.9; status: Default; sf: select_particle(density::Vector{Float64}) at Schelling.jl:154\" role=\"graphics-symbol\" aria-roledescription=\"rect mark\" d=\"M326,218.28571428571428h0.2571428571428669v10.285714285714278h-0.2571428571428669Z\" fill=\"#4c78a8\" fill-opacity=\"1\" stroke=\"#505050\" stroke-width=\"0\"/><path aria-label=\"x1: 1141; x2: 1141.9; level: 16; level2: 16.9; status: Default; sf: rand at Random.jl:257 [inlined]\" role=\"graphics-symbol\" aria-roledescription=\"rect mark\" d=\"M326,206.85714285714286h0.2571428571428669v10.285714285714306h-0.2571428571428669Z\" fill=\"#4c78a8\" fill-opacity=\"1\" stroke=\"#505050\" stroke-width=\"0\"/><path aria-label=\"x1: 1141; x2: 1141.9; level: 17; level2: 17.9; status: Default; sf: rand at Random.jl:257 [inlined]\" role=\"graphics-symbol\" aria-roledescription=\"rect mark\" d=\"M326,195.42857142857147h0.2571428571428669v10.28571428571422h-0.2571428571428669Z\" fill=\"#4c78a8\" fill-opacity=\"1\" stroke=\"#505050\" stroke-width=\"0\"/><path aria-label=\"x1: 1141; x2: 1141.9; level: 18; level2: 18.9; status: Default; sf: rand at Xoshiro.jl:210 [inlined]\" role=\"graphics-symbol\" aria-roledescription=\"rect mark\" d=\"M326,184.00000000000003h0.2571428571428669v10.285714285714278h-0.2571428571428669Z\" fill=\"#4c78a8\" fill-opacity=\"1\" stroke=\"#505050\" stroke-width=\"0\"/><path aria-label=\"x1: 1141; x2: 1141.9; level: 19; level2: 19.9; status: Default; sf: * at float.jl:385 [inlined]\" role=\"graphics-symbol\" aria-roledescription=\"rect mark\" d=\"M326,172.5714285714286h0.2571428571428669v10.28571428571425h-0.2571428571428669Z\" fill=\"#4c78a8\" fill-opacity=\"1\" stroke=\"#505050\" stroke-width=\"0\"/><path aria-label=\"x1: 1142; x2: 1218.9; level: 15; level2: 15.9; status: Default; sf: select_particle(density::Vector{Float64}) at Schelling.jl:156\" role=\"graphics-symbol\" aria-roledescription=\"rect mark\" d=\"M326.2857142857143,218.28571428571428h21.97142857142859v10.285714285714278h-21.97142857142859Z\" fill=\"#4c78a8\" fill-opacity=\"1\" stroke=\"#505050\" stroke-width=\"0\"/><path aria-label=\"x1: 1142; x2: 1189.9; level: 16; level2: 16.9; status: Default; sf: &lt; at float.jl:412 [inlined]\" role=\"graphics-symbol\" aria-roledescription=\"rect mark\" d=\"M326.2857142857143,206.85714285714286h13.685714285714312v10.285714285714306h-13.685714285714312Z\" fill=\"#4c78a8\" fill-opacity=\"1\" stroke=\"#505050\" stroke-width=\"0\"/><path aria-label=\"x1: 1219; x2: 1284.9; level: 15; level2: 15.9; status: Default; sf: select_particle(density::Vector{Float64}) at Schelling.jl:157\" role=\"graphics-symbol\" aria-roledescription=\"rect mark\" d=\"M348.2857142857143,218.28571428571428h18.828571428571422v10.285714285714278h-18.828571428571422Z\" fill=\"#4c78a8\" fill-opacity=\"1\" stroke=\"#505050\" stroke-width=\"0\"/><path aria-label=\"x1: 1219; x2: 1284.9; level: 16; level2: 16.9; status: Default; sf: getindex at array.jl:924 [inlined]\" role=\"graphics-symbol\" aria-roledescription=\"rect mark\" d=\"M348.2857142857143,206.85714285714286h18.828571428571422v10.285714285714306h-18.828571428571422Z\" fill=\"#4c78a8\" fill-opacity=\"1\" stroke=\"#505050\" stroke-width=\"0\"/><path aria-label=\"x1: 1285; x2: 1288.9; level: 15; level2: 15.9; status: Default; sf: select_particle(density::Vector{Float64}) at Schelling.jl:158\" role=\"graphics-symbol\" aria-roledescription=\"rect mark\" d=\"M367.1428571428571,218.28571428571428h1.1142857142857565v10.285714285714278h-1.1142857142857565Z\" fill=\"#4c78a8\" fill-opacity=\"1\" stroke=\"#505050\" stroke-width=\"0\"/><path aria-label=\"x1: 1285; x2: 1288.9; level: 16; level2: 16.9; status: Default; sf: + at int.jl:87 [inlined]\" role=\"graphics-symbol\" aria-roledescription=\"rect mark\" d=\"M367.1428571428571,206.85714285714286h1.1142857142857565v10.285714285714306h-1.1142857142857565Z\" fill=\"#4c78a8\" fill-opacity=\"1\" stroke=\"#505050\" stroke-width=\"0\"/><path aria-label=\"x1: 1289; x2: 1374.9; level: 15; level2: 15.9; status: Default; sf: select_particle(density::Vector{Float64}) at Schelling.jl:159\" role=\"graphics-symbol\" aria-roledescription=\"rect mark\" d=\"M368.2857142857143,218.28571428571428h24.542857142857144v10.285714285714278h-24.542857142857144Z\" fill=\"#4c78a8\" fill-opacity=\"1\" stroke=\"#505050\" stroke-width=\"0\"/><path aria-label=\"x1: 1375; x2: 1550.9; level: 15; level2: 15.9; status: Default; sf: select_particle(density::Vector{Float64}) at Schelling.jl:160\" role=\"graphics-symbol\" aria-roledescription=\"rect mark\" d=\"M392.85714285714283,218.28571428571428h50.257142857142924v10.285714285714278h-50.257142857142924Z\" fill=\"#4c78a8\" fill-opacity=\"1\" stroke=\"#505050\" stroke-width=\"0\"/><path aria-label=\"x1: 1375; x2: 1550.9; level: 16; level2: 16.9; status: Default; sf: getindex at array.jl:924 [inlined]\" role=\"graphics-symbol\" aria-roledescription=\"rect mark\" d=\"M392.85714285714283,206.85714285714286h50.257142857142924v10.285714285714306h-50.257142857142924Z\" fill=\"#4c78a8\" fill-opacity=\"1\" stroke=\"#505050\" stroke-width=\"0\"/><path aria-label=\"x1: 1552; x2: 1553.9; level: 14; level2: 14.9; status: Default; sf: pick_sites(state::Vector{Int64}, moveType::String, capacity::Int64, N::Int64) at Schelling.jl:178\" role=\"graphics-symbol\" aria-roledescription=\"rect mark\" d=\"M443.42857142857144,229.71428571428572h0.5428571428572013v10.285714285714278h-0.5428571428572013Z\" fill=\"#4c78a8\" fill-opacity=\"1\" stroke=\"#505050\" stroke-width=\"0\"/><path aria-label=\"x1: 1552; x2: 1552.9; level: 15; level2: 15.9; status: Default; sf: ==(a::String, b::String) at string.jl:125\" role=\"graphics-symbol\" aria-roledescription=\"rect mark\" d=\"M443.42857142857144,218.28571428571428h0.2571428571428669v10.285714285714278h-0.2571428571428669Z\" fill=\"#4c78a8\" fill-opacity=\"1\" stroke=\"#505050\" stroke-width=\"0\"/><path aria-label=\"x1: 1552; x2: 1552.9; level: 16; level2: 16.9; status: Default; sf: sizeof at Base.jl:179 [inlined]\" role=\"graphics-symbol\" aria-roledescription=\"rect mark\" d=\"M443.42857142857144,206.85714285714286h0.2571428571428669v10.285714285714306h-0.2571428571428669Z\" fill=\"#4c78a8\" fill-opacity=\"1\" stroke=\"#505050\" stroke-width=\"0\"/><path aria-label=\"x1: 1554; x2: 1555.9; level: 14; level2: 14.9; status: Default; sf: pick_sites(state::Vector{Int64}, moveType::String, capacity::Int64, N::Int64) at Schelling.jl:188\" role=\"graphics-symbol\" aria-roledescription=\"rect mark\" d=\"M444.00000000000006,229.71428571428572h0.5428571428571445v10.285714285714278h-0.5428571428571445Z\" fill=\"#4c78a8\" fill-opacity=\"1\" stroke=\"#505050\" stroke-width=\"0\"/><path aria-label=\"x1: 1554; x2: 1555.9; level: 15; level2: 15.9; status: Default; sf: ==(a::String, b::String) at string.jl:0\" role=\"graphics-symbol\" aria-roledescription=\"rect mark\" d=\"M444.00000000000006,218.28571428571428h0.5428571428571445v10.285714285714278h-0.5428571428571445Z\" fill=\"#4c78a8\" fill-opacity=\"1\" stroke=\"#505050\" stroke-width=\"0\"/><path aria-label=\"x1: 1556; x2: 1644.9; level: 14; level2: 14.9; status: Default; sf: pick_sites(state::Vector{Int64}, moveType::String, capacity::Int64, N::Int64) at Schelling.jl:189\" role=\"graphics-symbol\" aria-roledescription=\"rect mark\" d=\"M444.57142857142856,229.71428571428572h25.40000000000009v10.285714285714278h-25.40000000000009Z\" fill=\"#4c78a8\" fill-opacity=\"1\" stroke=\"#505050\" stroke-width=\"0\"/><path aria-label=\"x1: 1556; x2: 1638.9; level: 15; level2: 15.9; status: Default; sf: vect at array.jl:126 [inlined]\" role=\"graphics-symbol\" aria-roledescription=\"rect mark\" d=\"M444.57142857142856,218.28571428571428h23.68571428571437v10.285714285714278h-23.68571428571437Z\" fill=\"#4c78a8\" fill-opacity=\"1\" stroke=\"#505050\" stroke-width=\"0\"/><path aria-label=\"x1: 1556; x2: 1638.9; level: 16; level2: 16.9; status: Default; sf: _array_for at array.jl:679 [inlined]\" role=\"graphics-symbol\" aria-roledescription=\"rect mark\" d=\"M444.57142857142856,206.85714285714286h23.68571428571437v10.285714285714306h-23.68571428571437Z\" fill=\"#4c78a8\" fill-opacity=\"1\" stroke=\"#505050\" stroke-width=\"0\"/><path aria-label=\"x1: 1556; x2: 1638.9; level: 17; level2: 17.9; status: Default; sf: _array_for at array.jl:676 [inlined]\" role=\"graphics-symbol\" aria-roledescription=\"rect mark\" d=\"M444.57142857142856,195.42857142857147h23.68571428571437v10.28571428571422h-23.68571428571437Z\" fill=\"#4c78a8\" fill-opacity=\"1\" stroke=\"#505050\" stroke-width=\"0\"/><path aria-label=\"x1: 1556; x2: 1638.9; level: 18; level2: 18.9; status: Default; sf: similar at abstractarray.jl:840 [inlined]\" role=\"graphics-symbol\" aria-roledescription=\"rect mark\" d=\"M444.57142857142856,184.00000000000003h23.68571428571437v10.285714285714278h-23.68571428571437Z\" fill=\"#4c78a8\" fill-opacity=\"1\" stroke=\"#505050\" stroke-width=\"0\"/><path aria-label=\"x1: 1556; x2: 1638.9; level: 19; level2: 19.9; status: Default; sf: similar at abstractarray.jl:841 [inlined]\" role=\"graphics-symbol\" aria-roledescription=\"rect mark\" d=\"M444.57142857142856,172.5714285714286h23.68571428571437v10.28571428571425h-23.68571428571437Z\" fill=\"#4c78a8\" fill-opacity=\"1\" stroke=\"#505050\" stroke-width=\"0\"/><path aria-label=\"x1: 1556; x2: 1638.9; level: 20; level2: 20.9; status: Default; sf: Array at boot.jl:468 [inlined]\" role=\"graphics-symbol\" aria-roledescription=\"rect mark\" d=\"M444.57142857142856,161.14285714285717h23.68571428571437v10.285714285714278h-23.68571428571437Z\" fill=\"#4c78a8\" fill-opacity=\"1\" stroke=\"#505050\" stroke-width=\"0\"/><path aria-label=\"x1: 1556; x2: 1638.9; level: 21; level2: 21.9; status: Garbage collection; sf: Array at boot.jl:459 [inlined]\" role=\"graphics-symbol\" aria-roledescription=\"rect mark\" d=\"M444.57142857142856,149.71428571428572h23.68571428571437v10.285714285714278h-23.68571428571437Z\" fill=\"#f58518\" fill-opacity=\"1\" stroke=\"#505050\" stroke-width=\"0\"/><path aria-label=\"x1: 1639; x2: 1644.9; level: 15; level2: 15.9; status: Default; sf: mod1 at operators.jl:834 [inlined]\" role=\"graphics-symbol\" aria-roledescription=\"rect mark\" d=\"M468.28571428571433,218.28571428571428h1.6857142857143117v10.285714285714278h-1.6857142857143117Z\" fill=\"#4c78a8\" fill-opacity=\"1\" stroke=\"#505050\" stroke-width=\"0\"/><path aria-label=\"x1: 1639; x2: 1639.9; level: 16; level2: 16.9; status: Default; sf: mod at int.jl:279 [inlined]\" role=\"graphics-symbol\" aria-roledescription=\"rect mark\" d=\"M468.28571428571433,206.85714285714286h0.2571428571428669v10.285714285714306h-0.2571428571428669Z\" fill=\"#4c78a8\" fill-opacity=\"1\" stroke=\"#505050\" stroke-width=\"0\"/><path aria-label=\"x1: 1640; x2: 1644.9; level: 16; level2: 16.9; status: Default; sf: mod at int.jl:280 [inlined]\" role=\"graphics-symbol\" aria-roledescription=\"rect mark\" d=\"M468.5714285714286,206.85714285714286h1.400000000000034v10.285714285714306h-1.400000000000034Z\" fill=\"#4c78a8\" fill-opacity=\"1\" stroke=\"#505050\" stroke-width=\"0\"/><path aria-label=\"x1: 1640; x2: 1644.9; level: 17; level2: 17.9; status: Default; sf: fld at div.jl:292 [inlined]\" role=\"graphics-symbol\" aria-roledescription=\"rect mark\" d=\"M468.5714285714286,195.42857142857147h1.400000000000034v10.28571428571422h-1.400000000000034Z\" fill=\"#4c78a8\" fill-opacity=\"1\" stroke=\"#505050\" stroke-width=\"0\"/><path aria-label=\"x1: 1640; x2: 1644.9; level: 18; level2: 18.9; status: Default; sf: div at div.jl:327 [inlined]\" role=\"graphics-symbol\" aria-roledescription=\"rect mark\" d=\"M468.5714285714286,184.00000000000003h1.400000000000034v10.285714285714278h-1.400000000000034Z\" fill=\"#4c78a8\" fill-opacity=\"1\" stroke=\"#505050\" stroke-width=\"0\"/><path aria-label=\"x1: 1640; x2: 1644.9; level: 19; level2: 19.9; status: Default; sf: &amp; at bool.jl:38 [inlined]\" role=\"graphics-symbol\" aria-roledescription=\"rect mark\" d=\"M468.5714285714286,172.5714285714286h1.400000000000034v10.28571428571425h-1.400000000000034Z\" fill=\"#4c78a8\" fill-opacity=\"1\" stroke=\"#505050\" stroke-width=\"0\"/><path aria-label=\"x1: 1645; x2: 1675.9; level: 14; level2: 14.9; status: Default; sf: pick_sites(state::Vector{Int64}, moveType::String, capacity::Int64, N::Int64) at Schelling.jl:191\" role=\"graphics-symbol\" aria-roledescription=\"rect mark\" d=\"M470,229.71428571428572h8.828571428571422v10.285714285714278h-8.828571428571422Z\" fill=\"#4c78a8\" fill-opacity=\"1\" stroke=\"#505050\" stroke-width=\"0\"/><path aria-label=\"x1: 1645; x2: 1672.9; level: 15; level2: 15.9; status: Garbage collection; sf: collect(itr::Base.Generator{Vector{Int64}, Main.Schelling.var&quot;#3#5&quot;{Vector{Int64}, Int64}}) at array.jl:0\" role=\"graphics-symbol\" aria-roledescription=\"rect mark\" d=\"M470,218.28571428571428h7.971428571428646v10.285714285714278h-7.971428571428646Z\" fill=\"#f58518\" fill-opacity=\"1\" stroke=\"#505050\" stroke-width=\"0\"/><path aria-label=\"x1: 1673; x2: 1673.9; level: 15; level2: 15.9; status: Default; sf: collect(itr::Base.Generator{Vector{Int64}, Main.Schelling.var&quot;#3#5&quot;{Vector{Int64}, Int64}}) at array.jl:787\" role=\"graphics-symbol\" aria-roledescription=\"rect mark\" d=\"M478,218.28571428571428h0.2571428571428669v10.285714285714278h-0.2571428571428669Z\" fill=\"#4c78a8\" fill-opacity=\"1\" stroke=\"#505050\" stroke-width=\"0\"/><path aria-label=\"x1: 1673; x2: 1673.9; level: 16; level2: 16.9; status: Default; sf: iterate at generator.jl:47 [inlined]\" role=\"graphics-symbol\" aria-roledescription=\"rect mark\" d=\"M478,206.85714285714286h0.2571428571428669v10.285714285714306h-0.2571428571428669Z\" fill=\"#4c78a8\" fill-opacity=\"1\" stroke=\"#505050\" stroke-width=\"0\"/><path aria-label=\"x1: 1673; x2: 1673.9; level: 17; level2: 17.9; status: Default; sf: #3 at none:0 [inlined]\" role=\"graphics-symbol\" aria-roledescription=\"rect mark\" d=\"M478,195.42857142857147h0.2571428571428669v10.28571428571422h-0.2571428571428669Z\" fill=\"#4c78a8\" fill-opacity=\"1\" stroke=\"#505050\" stroke-width=\"0\"/><path aria-label=\"x1: 1673; x2: 1673.9; level: 18; level2: 18.9; status: Default; sf: getindex at array.jl:924 [inlined]\" role=\"graphics-symbol\" aria-roledescription=\"rect mark\" d=\"M478,184.00000000000003h0.2571428571428669v10.285714285714278h-0.2571428571428669Z\" fill=\"#4c78a8\" fill-opacity=\"1\" stroke=\"#505050\" stroke-width=\"0\"/><path aria-label=\"x1: 1674; x2: 1675.9; level: 15; level2: 15.9; status: Default; sf: collect(itr::Base.Generator{Vector{Int64}, Main.Schelling.var&quot;#3#5&quot;{Vector{Int64}, Int64}}) at array.jl:797\" role=\"graphics-symbol\" aria-roledescription=\"rect mark\" d=\"M478.2857142857143,218.28571428571428h0.5428571428571445v10.285714285714278h-0.5428571428571445Z\" fill=\"#4c78a8\" fill-opacity=\"1\" stroke=\"#505050\" stroke-width=\"0\"/><path aria-label=\"x1: 1674; x2: 1674.9; level: 16; level2: 16.9; status: Default; sf: collect_to_with_first! at array.jl:822 [inlined]\" role=\"graphics-symbol\" aria-roledescription=\"rect mark\" d=\"M478.2857142857143,206.85714285714286h0.2571428571428669v10.285714285714306h-0.2571428571428669Z\" fill=\"#4c78a8\" fill-opacity=\"1\" stroke=\"#505050\" stroke-width=\"0\"/><path aria-label=\"x1: 1674; x2: 1674.9; level: 17; level2: 17.9; status: Default; sf: setindex! at array.jl:966 [inlined]\" role=\"graphics-symbol\" aria-roledescription=\"rect mark\" d=\"M478.2857142857143,195.42857142857147h0.2571428571428669v10.28571428571422h-0.2571428571428669Z\" fill=\"#4c78a8\" fill-opacity=\"1\" stroke=\"#505050\" stroke-width=\"0\"/><path aria-label=\"x1: 1675; x2: 1675.9; level: 16; level2: 16.9; status: Default; sf: collect_to_with_first! at array.jl:823 [inlined]\" role=\"graphics-symbol\" aria-roledescription=\"rect mark\" d=\"M478.57142857142856,206.85714285714286h0.2571428571428669v10.285714285714306h-0.2571428571428669Z\" fill=\"#4c78a8\" fill-opacity=\"1\" stroke=\"#505050\" stroke-width=\"0\"/><path aria-label=\"x1: 1675; x2: 1675.9; level: 17; level2: 17.9; status: Default; sf: collect_to! at array.jl:845 [inlined]\" role=\"graphics-symbol\" aria-roledescription=\"rect mark\" d=\"M478.57142857142856,195.42857142857147h0.2571428571428669v10.28571428571422h-0.2571428571428669Z\" fill=\"#4c78a8\" fill-opacity=\"1\" stroke=\"#505050\" stroke-width=\"0\"/><path aria-label=\"x1: 1675; x2: 1675.9; level: 18; level2: 18.9; status: Default; sf: iterate at generator.jl:44 [inlined]\" role=\"graphics-symbol\" aria-roledescription=\"rect mark\" d=\"M478.57142857142856,184.00000000000003h0.2571428571428669v10.285714285714278h-0.2571428571428669Z\" fill=\"#4c78a8\" fill-opacity=\"1\" stroke=\"#505050\" stroke-width=\"0\"/><path aria-label=\"x1: 1675; x2: 1675.9; level: 19; level2: 19.9; status: Default; sf: iterate at array.jl:898 [inlined]\" role=\"graphics-symbol\" aria-roledescription=\"rect mark\" d=\"M478.57142857142856,172.5714285714286h0.2571428571428669v10.28571428571425h-0.2571428571428669Z\" fill=\"#4c78a8\" fill-opacity=\"1\" stroke=\"#505050\" stroke-width=\"0\"/><path aria-label=\"x1: 1675; x2: 1675.9; level: 20; level2: 20.9; status: Default; sf: getindex at array.jl:924 [inlined]\" role=\"graphics-symbol\" aria-roledescription=\"rect mark\" d=\"M478.57142857142856,161.14285714285717h0.2571428571428669v10.285714285714278h-0.2571428571428669Z\" fill=\"#4c78a8\" fill-opacity=\"1\" stroke=\"#505050\" stroke-width=\"0\"/><path aria-label=\"x1: 1676; x2: 1685.9; level: 14; level2: 14.9; status: Default; sf: pick_sites(state::Vector{Int64}, moveType::String, capacity::Int64, N::Int64) at Schelling.jl:194\" role=\"graphics-symbol\" aria-roledescription=\"rect mark\" d=\"M478.85714285714283,229.71428571428572h2.828571428571422v10.285714285714278h-2.828571428571422Z\" fill=\"#4c78a8\" fill-opacity=\"1\" stroke=\"#505050\" stroke-width=\"0\"/><path aria-label=\"x1: 1676; x2: 1685.9; level: 15; level2: 15.9; status: Default; sf: sum at reduce.jl:558 [inlined]\" role=\"graphics-symbol\" aria-roledescription=\"rect mark\" d=\"M478.85714285714283,218.28571428571428h2.828571428571422v10.285714285714278h-2.828571428571422Z\" fill=\"#4c78a8\" fill-opacity=\"1\" stroke=\"#505050\" stroke-width=\"0\"/><path aria-label=\"x1: 1676; x2: 1685.9; level: 16; level2: 16.9; status: Default; sf: #sum#268 at reduce.jl:558 [inlined]\" role=\"graphics-symbol\" aria-roledescription=\"rect mark\" d=\"M478.85714285714283,206.85714285714286h2.828571428571422v10.285714285714306h-2.828571428571422Z\" fill=\"#4c78a8\" fill-opacity=\"1\" stroke=\"#505050\" stroke-width=\"0\"/><path aria-label=\"x1: 1676; x2: 1685.9; level: 17; level2: 17.9; status: Default; sf: count at reducedim.jl:439 [inlined]\" role=\"graphics-symbol\" aria-roledescription=\"rect mark\" d=\"M478.85714285714283,195.42857142857147h2.828571428571422v10.28571428571422h-2.828571428571422Z\" fill=\"#4c78a8\" fill-opacity=\"1\" stroke=\"#505050\" stroke-width=\"0\"/><path aria-label=\"x1: 1676; x2: 1685.9; level: 18; level2: 18.9; status: Default; sf: #count#768 at reducedim.jl:439 [inlined]\" role=\"graphics-symbol\" aria-roledescription=\"rect mark\" d=\"M478.85714285714283,184.00000000000003h2.828571428571422v10.285714285714278h-2.828571428571422Z\" fill=\"#4c78a8\" fill-opacity=\"1\" stroke=\"#505050\" stroke-width=\"0\"/><path aria-label=\"x1: 1676; x2: 1685.9; level: 19; level2: 19.9; status: Default; sf: count at reducedim.jl:440 [inlined]\" role=\"graphics-symbol\" aria-roledescription=\"rect mark\" d=\"M478.85714285714283,172.5714285714286h2.828571428571422v10.28571428571425h-2.828571428571422Z\" fill=\"#4c78a8\" fill-opacity=\"1\" stroke=\"#505050\" stroke-width=\"0\"/><path aria-label=\"x1: 1676; x2: 1685.9; level: 20; level2: 20.9; status: Default; sf: #count#769 at reducedim.jl:440 [inlined]\" role=\"graphics-symbol\" aria-roledescription=\"rect mark\" d=\"M478.85714285714283,161.14285714285717h2.828571428571422v10.285714285714278h-2.828571428571422Z\" fill=\"#4c78a8\" fill-opacity=\"1\" stroke=\"#505050\" stroke-width=\"0\"/><path aria-label=\"x1: 1676; x2: 1685.9; level: 21; level2: 21.9; status: Default; sf: _count at reducedim.jl:442 [inlined]\" role=\"graphics-symbol\" aria-roledescription=\"rect mark\" d=\"M478.85714285714283,149.71428571428572h2.828571428571422v10.285714285714278h-2.828571428571422Z\" fill=\"#4c78a8\" fill-opacity=\"1\" stroke=\"#505050\" stroke-width=\"0\"/><path aria-label=\"x1: 1676; x2: 1676.9; level: 22; level2: 22.9; status: Default; sf: _simple_count(::typeof(identity), x::Vector{Bool}, init::Int64) at reduce.jl:1317\" role=\"graphics-symbol\" aria-roledescription=\"rect mark\" d=\"M478.85714285714283,138.2857142857143h0.25714285714292373v10.285714285714278h-0.25714285714292373Z\" fill=\"#4c78a8\" fill-opacity=\"1\" stroke=\"#505050\" stroke-width=\"0\"/><path aria-label=\"x1: 1676; x2: 1676.9; level: 23; level2: 23.9; status: Default; sf: * at int.jl:88 [inlined]\" role=\"graphics-symbol\" aria-roledescription=\"rect mark\" d=\"M478.85714285714283,126.85714285714286h0.25714285714292373v10.285714285714278h-0.25714285714292373Z\" fill=\"#4c78a8\" fill-opacity=\"1\" stroke=\"#505050\" stroke-width=\"0\"/><path aria-label=\"x1: 1677; x2: 1685.9; level: 22; level2: 22.9; status: Default; sf: _simple_count(::typeof(identity), x::Vector{Bool}, init::Int64) at reduce.jl:1318\" role=\"graphics-symbol\" aria-roledescription=\"rect mark\" d=\"M479.14285714285717,138.2857142857143h2.5428571428570876v10.285714285714278h-2.5428571428570876Z\" fill=\"#4c78a8\" fill-opacity=\"1\" stroke=\"#505050\" stroke-width=\"0\"/><path aria-label=\"x1: 1677; x2: 1678.9; level: 23; level2: 23.9; status: Default; sf: getindex at array.jl:924 [inlined]\" role=\"graphics-symbol\" aria-roledescription=\"rect mark\" d=\"M479.14285714285717,126.85714285714286h0.5428571428571445v10.285714285714278h-0.5428571428571445Z\" fill=\"#4c78a8\" fill-opacity=\"1\" stroke=\"#505050\" stroke-width=\"0\"/><path aria-label=\"x1: 1679; x2: 1685.9; level: 23; level2: 23.9; status: Default; sf: + at int.jl:989 [inlined]\" role=\"graphics-symbol\" aria-roledescription=\"rect mark\" d=\"M479.7142857142857,126.85714285714286h1.9714285714285325v10.285714285714278h-1.9714285714285325Z\" fill=\"#4c78a8\" fill-opacity=\"1\" stroke=\"#505050\" stroke-width=\"0\"/><path aria-label=\"x1: 1679; x2: 1685.9; level: 24; level2: 24.9; status: Default; sf: rem at int.jl:513 [inlined]\" role=\"graphics-symbol\" aria-roledescription=\"rect mark\" d=\"M479.7142857142857,115.42857142857143h1.9714285714285325v10.285714285714278h-1.9714285714285325Z\" fill=\"#4c78a8\" fill-opacity=\"1\" stroke=\"#505050\" stroke-width=\"0\"/><path aria-label=\"x1: 1679; x2: 1685.9; level: 25; level2: 25.9; status: Default; sf: convert at number.jl:7 [inlined]\" role=\"graphics-symbol\" aria-roledescription=\"rect mark\" d=\"M479.7142857142857,104h1.9714285714285325v10.285714285714278h-1.9714285714285325Z\" fill=\"#4c78a8\" fill-opacity=\"1\" stroke=\"#505050\" stroke-width=\"0\"/><path aria-label=\"x1: 1679; x2: 1685.9; level: 26; level2: 26.9; status: Default; sf: Int64 at boot.jl:764 [inlined]\" role=\"graphics-symbol\" aria-roledescription=\"rect mark\" d=\"M479.7142857142857,92.57142857142857h1.9714285714285325v10.285714285714278h-1.9714285714285325Z\" fill=\"#4c78a8\" fill-opacity=\"1\" stroke=\"#505050\" stroke-width=\"0\"/><path aria-label=\"x1: 1679; x2: 1685.9; level: 27; level2: 27.9; status: Default; sf: toInt64 at boot.jl:691 [inlined]\" role=\"graphics-symbol\" aria-roledescription=\"rect mark\" d=\"M479.7142857142857,81.14285714285714h1.9714285714285325v10.285714285714278h-1.9714285714285325Z\" fill=\"#4c78a8\" fill-opacity=\"1\" stroke=\"#505050\" stroke-width=\"0\"/><path aria-label=\"x1: 1686; x2: 1716.9; level: 14; level2: 14.9; status: Default; sf: pick_sites(state::Vector{Int64}, moveType::String, capacity::Int64, N::Int64) at Schelling.jl:200\" role=\"graphics-symbol\" aria-roledescription=\"rect mark\" d=\"M481.71428571428567,229.71428571428572h8.828571428571479v10.285714285714278h-8.828571428571479Z\" fill=\"#4c78a8\" fill-opacity=\"1\" stroke=\"#505050\" stroke-width=\"0\"/><path aria-label=\"x1: 1686; x2: 1714.9; level: 15; level2: 15.9; status: Default; sf: getindex at abstractarray.jl:1241 [inlined]\" role=\"graphics-symbol\" aria-roledescription=\"rect mark\" d=\"M481.71428571428567,218.28571428571428h8.25714285714298v10.285714285714278h-8.25714285714298Z\" fill=\"#4c78a8\" fill-opacity=\"1\" stroke=\"#505050\" stroke-width=\"0\"/><path aria-label=\"x1: 1686; x2: 1714.9; level: 16; level2: 16.9; status: Default; sf: _getindex at multidimensional.jl:875 [inlined]\" role=\"graphics-symbol\" aria-roledescription=\"rect mark\" d=\"M481.71428571428567,206.85714285714286h8.25714285714298v10.285714285714306h-8.25714285714298Z\" fill=\"#4c78a8\" fill-opacity=\"1\" stroke=\"#505050\" stroke-width=\"0\"/><path aria-label=\"x1: 1686; x2: 1707.9; level: 17; level2: 17.9; status: Default; sf: _unsafe_getindex(#unused#::IndexLinear, A::Vector{Int64}, I::Base.LogicalIndex{Int64, Vector{Bool}}) at multidimensional.jl:887\" role=\"graphics-symbol\" aria-roledescription=\"rect mark\" d=\"M481.71428571428567,195.42857142857147h6.257142857142924v10.28571428571422h-6.257142857142924Z\" fill=\"#4c78a8\" fill-opacity=\"1\" stroke=\"#505050\" stroke-width=\"0\"/><path aria-label=\"x1: 1686; x2: 1707.9; level: 18; level2: 18.9; status: Default; sf: similar at abstractarray.jl:795 [inlined]\" role=\"graphics-symbol\" aria-roledescription=\"rect mark\" d=\"M481.71428571428567,184.00000000000003h6.257142857142924v10.285714285714278h-6.257142857142924Z\" fill=\"#4c78a8\" fill-opacity=\"1\" stroke=\"#505050\" stroke-width=\"0\"/><path aria-label=\"x1: 1686; x2: 1707.9; level: 19; level2: 19.9; status: Default; sf: similar at array.jl:378 [inlined]\" role=\"graphics-symbol\" aria-roledescription=\"rect mark\" d=\"M481.71428571428567,172.5714285714286h6.257142857142924v10.28571428571425h-6.257142857142924Z\" fill=\"#4c78a8\" fill-opacity=\"1\" stroke=\"#505050\" stroke-width=\"0\"/><path aria-label=\"x1: 1686; x2: 1707.9; level: 20; level2: 20.9; status: Default; sf: Array at boot.jl:468 [inlined]\" role=\"graphics-symbol\" aria-roledescription=\"rect mark\" d=\"M481.71428571428567,161.14285714285717h6.257142857142924v10.285714285714278h-6.257142857142924Z\" fill=\"#4c78a8\" fill-opacity=\"1\" stroke=\"#505050\" stroke-width=\"0\"/><path aria-label=\"x1: 1686; x2: 1707.9; level: 21; level2: 21.9; status: Garbage collection; sf: Array at boot.jl:459 [inlined]\" role=\"graphics-symbol\" aria-roledescription=\"rect mark\" d=\"M481.71428571428567,149.71428571428572h6.257142857142924v10.285714285714278h-6.257142857142924Z\" fill=\"#f58518\" fill-opacity=\"1\" stroke=\"#505050\" stroke-width=\"0\"/><path aria-label=\"x1: 1708; x2: 1714.9; level: 17; level2: 17.9; status: Default; sf: _unsafe_getindex(#unused#::IndexLinear, A::Vector{Int64}, I::Base.LogicalIndex{Int64, Vector{Bool}}) at multidimensional.jl:889\" role=\"graphics-symbol\" aria-roledescription=\"rect mark\" d=\"M488,195.42857142857147h1.9714285714286461v10.28571428571422h-1.9714285714286461Z\" fill=\"#4c78a8\" fill-opacity=\"1\" stroke=\"#505050\" stroke-width=\"0\"/><path aria-label=\"x1: 1708; x2: 1714.9; level: 18; level2: 18.9; status: Default; sf: _unsafe_getindex! at multidimensional.jl:898 [inlined]\" role=\"graphics-symbol\" aria-roledescription=\"rect mark\" d=\"M488,184.00000000000003h1.9714285714286461v10.285714285714278h-1.9714285714286461Z\" fill=\"#4c78a8\" fill-opacity=\"1\" stroke=\"#505050\" stroke-width=\"0\"/><path aria-label=\"x1: 1708; x2: 1712.9; level: 19; level2: 19.9; status: Default; sf: macro expansion at cartesian.jl:62 [inlined]\" role=\"graphics-symbol\" aria-roledescription=\"rect mark\" d=\"M488,172.5714285714286h1.400000000000034v10.28571428571425h-1.400000000000034Z\" fill=\"#4c78a8\" fill-opacity=\"1\" stroke=\"#505050\" stroke-width=\"0\"/><path aria-label=\"x1: 1708; x2: 1712.9; level: 20; level2: 20.9; status: Default; sf: iterate at multidimensional.jl:0 [inlined]\" role=\"graphics-symbol\" aria-roledescription=\"rect mark\" d=\"M488,161.14285714285717h1.400000000000034v10.285714285714278h-1.400000000000034Z\" fill=\"#4c78a8\" fill-opacity=\"1\" stroke=\"#505050\" stroke-width=\"0\"/><path aria-label=\"x1: 1713; x2: 1713.9; level: 19; level2: 19.9; status: Default; sf: macro expansion at cartesian.jl:64 [inlined]\" role=\"graphics-symbol\" aria-roledescription=\"rect mark\" d=\"M489.4285714285714,172.5714285714286h0.2571428571428669v10.28571428571425h-0.2571428571428669Z\" fill=\"#4c78a8\" fill-opacity=\"1\" stroke=\"#505050\" stroke-width=\"0\"/><path aria-label=\"x1: 1713; x2: 1713.9; level: 20; level2: 20.9; status: Default; sf: macro expansion at multidimensional.jl:903 [inlined]\" role=\"graphics-symbol\" aria-roledescription=\"rect mark\" d=\"M489.4285714285714,161.14285714285717h0.2571428571428669v10.285714285714278h-0.2571428571428669Z\" fill=\"#4c78a8\" fill-opacity=\"1\" stroke=\"#505050\" stroke-width=\"0\"/><path aria-label=\"x1: 1713; x2: 1713.9; level: 21; level2: 21.9; status: Default; sf: setindex! at array.jl:966 [inlined]\" role=\"graphics-symbol\" aria-roledescription=\"rect mark\" d=\"M489.4285714285714,149.71428571428572h0.2571428571428669v10.285714285714278h-0.2571428571428669Z\" fill=\"#4c78a8\" fill-opacity=\"1\" stroke=\"#505050\" stroke-width=\"0\"/><path aria-label=\"x1: 1714; x2: 1714.9; level: 19; level2: 19.9; status: Default; sf: macro expansion at multidimensional.jl:0 [inlined]\" role=\"graphics-symbol\" aria-roledescription=\"rect mark\" d=\"M489.71428571428567,172.5714285714286h0.2571428571429806v10.28571428571425h-0.2571428571429806Z\" fill=\"#4c78a8\" fill-opacity=\"1\" stroke=\"#505050\" stroke-width=\"0\"/><path aria-label=\"x1: 1715; x2: 1716.9; level: 15; level2: 15.9; status: Default; sf: rand at Random.jl:259 [inlined]\" role=\"graphics-symbol\" aria-roledescription=\"rect mark\" d=\"M490.00000000000006,218.28571428571428h0.5428571428570876v10.285714285714278h-0.5428571428570876Z\" fill=\"#4c78a8\" fill-opacity=\"1\" stroke=\"#505050\" stroke-width=\"0\"/><path aria-label=\"x1: 1715; x2: 1716.9; level: 16; level2: 16.9; status: Default; sf: rand at Random.jl:254 [inlined]\" role=\"graphics-symbol\" aria-roledescription=\"rect mark\" d=\"M490.00000000000006,206.85714285714286h0.5428571428570876v10.285714285714306h-0.5428571428570876Z\" fill=\"#4c78a8\" fill-opacity=\"1\" stroke=\"#505050\" stroke-width=\"0\"/><path aria-label=\"x1: 1715; x2: 1716.9; level: 17; level2: 17.9; status: Default; sf: rand at generation.jl:421 [inlined]\" role=\"graphics-symbol\" aria-roledescription=\"rect mark\" d=\"M490.00000000000006,195.42857142857147h0.5428571428570876v10.28571428571422h-0.5428571428570876Z\" fill=\"#4c78a8\" fill-opacity=\"1\" stroke=\"#505050\" stroke-width=\"0\"/><path aria-label=\"x1: 1715; x2: 1716.9; level: 18; level2: 18.9; status: Default; sf: rand(rng::Random.TaskLocalRNG, sp::Random.SamplerRangeNDL{UInt64, Int64}) at generation.jl:342\" role=\"graphics-symbol\" aria-roledescription=\"rect mark\" d=\"M490.00000000000006,184.00000000000003h0.5428571428570876v10.285714285714278h-0.5428571428570876Z\" fill=\"#4c78a8\" fill-opacity=\"1\" stroke=\"#505050\" stroke-width=\"0\"/><path aria-label=\"x1: 1717; x2: 1717.9; level: 14; level2: 14.9; status: Default; sf: select_particle(density::Vector{Float64}) at Schelling.jl:161\" role=\"graphics-symbol\" aria-roledescription=\"rect mark\" d=\"M490.57142857142856,229.71428571428572h0.2571428571428669v10.285714285714278h-0.2571428571428669Z\" fill=\"#4c78a8\" fill-opacity=\"1\" stroke=\"#505050\" stroke-width=\"0\"/><path aria-label=\"x1: 1720; x2: 2074.9; level: 13; level2: 13.9; status: Default; sf: move!(state::Vector{Int64}, params::Dict{String, Any}, total_occupants::Int64) at Schelling.jl:222\" role=\"graphics-symbol\" aria-roledescription=\"rect mark\" d=\"M491.42857142857144,241.14285714285714h101.40000000000009v10.285714285714278h-101.40000000000009Z\" fill=\"#4c78a8\" fill-opacity=\"1\" stroke=\"#505050\" stroke-width=\"0\"/><path aria-label=\"x1: 1720; x2: 1733.9; level: 14; level2: 14.9; status: Default; sf: gain(from::Int64, to::Int64, params::Dict{String, Any}) at Schelling.jl:246\" role=\"graphics-symbol\" aria-roledescription=\"rect mark\" d=\"M491.42857142857144,229.71428571428572h3.971428571428646v10.285714285714278h-3.971428571428646Z\" fill=\"#4c78a8\" fill-opacity=\"1\" stroke=\"#505050\" stroke-width=\"0\"/><path aria-label=\"x1: 1720; x2: 1733.9; level: 15; level2: 15.9; status: Default; sf: getindex at dict.jl:497 [inlined]\" role=\"graphics-symbol\" aria-roledescription=\"rect mark\" d=\"M491.42857142857144,218.28571428571428h3.971428571428646v10.285714285714278h-3.971428571428646Z\" fill=\"#4c78a8\" fill-opacity=\"1\" stroke=\"#505050\" stroke-width=\"0\"/><path aria-label=\"x1: 1720; x2: 1721.9; level: 16; level2: 16.9; status: Default; sf: ht_keyindex(h::Dict{String, Any}, key::String) at dict.jl:280\" role=\"graphics-symbol\" aria-roledescription=\"rect mark\" d=\"M491.42857142857144,206.85714285714286h0.5428571428571445v10.285714285714306h-0.5428571428571445Z\" fill=\"#4c78a8\" fill-opacity=\"1\" stroke=\"#505050\" stroke-width=\"0\"/><path aria-label=\"x1: 1722; x2: 1722.9; level: 16; level2: 16.9; status: Default; sf: ht_keyindex(h::Dict{String, Any}, key::String) at dict.jl:281\" role=\"graphics-symbol\" aria-roledescription=\"rect mark\" d=\"M492,206.85714285714286h0.2571428571428669v10.285714285714306h-0.2571428571428669Z\" fill=\"#4c78a8\" fill-opacity=\"1\" stroke=\"#505050\" stroke-width=\"0\"/><path aria-label=\"x1: 1722; x2: 1722.9; level: 17; level2: 17.9; status: Default; sf: length at array.jl:215 [inlined]\" role=\"graphics-symbol\" aria-roledescription=\"rect mark\" d=\"M492,195.42857142857147h0.2571428571428669v10.28571428571422h-0.2571428571428669Z\" fill=\"#4c78a8\" fill-opacity=\"1\" stroke=\"#505050\" stroke-width=\"0\"/><path aria-label=\"x1: 1723; x2: 1728.9; level: 16; level2: 16.9; status: Default; sf: ht_keyindex(h::Dict{String, Any}, key::String) at dict.jl:284\" role=\"graphics-symbol\" aria-roledescription=\"rect mark\" d=\"M492.2857142857143,206.85714285714286h1.6857142857143685v10.285714285714306h-1.6857142857143685Z\" fill=\"#4c78a8\" fill-opacity=\"1\" stroke=\"#505050\" stroke-width=\"0\"/><path aria-label=\"x1: 1723; x2: 1728.9; level: 17; level2: 17.9; status: Default; sf: hashindex at dict.jl:169 [inlined]\" role=\"graphics-symbol\" aria-roledescription=\"rect mark\" d=\"M492.2857142857143,195.42857142857147h1.6857142857143685v10.28571428571422h-1.6857142857143685Z\" fill=\"#4c78a8\" fill-opacity=\"1\" stroke=\"#505050\" stroke-width=\"0\"/><path aria-label=\"x1: 1723; x2: 1728.9; level: 18; level2: 18.9; status: Default; sf: hash at hashing.jl:20 [inlined]\" role=\"graphics-symbol\" aria-roledescription=\"rect mark\" d=\"M492.2857142857143,184.00000000000003h1.6857142857143685v10.285714285714278h-1.6857142857143685Z\" fill=\"#4c78a8\" fill-opacity=\"1\" stroke=\"#505050\" stroke-width=\"0\"/><path aria-label=\"x1: 1723; x2: 1728.9; level: 19; level2: 19.9; status: Default; sf: hash at hashing.jl:107 [inlined]\" role=\"graphics-symbol\" aria-roledescription=\"rect mark\" d=\"M492.2857142857143,172.5714285714286h1.6857142857143685v10.28571428571425h-1.6857142857143685Z\" fill=\"#4c78a8\" fill-opacity=\"1\" stroke=\"#505050\" stroke-width=\"0\"/><path aria-label=\"x1: 1729; x2: 1730.9; level: 16; level2: 16.9; status: Default; sf: ht_keyindex(h::Dict{String, Any}, key::String) at dict.jl:288\" role=\"graphics-symbol\" aria-roledescription=\"rect mark\" d=\"M494.00000000000006,206.85714285714286h0.5428571428571445v10.285714285714306h-0.5428571428571445Z\" fill=\"#4c78a8\" fill-opacity=\"1\" stroke=\"#505050\" stroke-width=\"0\"/><path aria-label=\"x1: 1729; x2: 1729.9; level: 17; level2: 17.9; status: Default; sf: isslotempty at dict.jl:171 [inlined]\" role=\"graphics-symbol\" aria-roledescription=\"rect mark\" d=\"M494.00000000000006,195.42857142857147h0.2571428571428669v10.28571428571422h-0.2571428571428669Z\" fill=\"#4c78a8\" fill-opacity=\"1\" stroke=\"#505050\" stroke-width=\"0\"/><path aria-label=\"x1: 1729; x2: 1729.9; level: 18; level2: 18.9; status: Default; sf: getindex at array.jl:924 [inlined]\" role=\"graphics-symbol\" aria-roledescription=\"rect mark\" d=\"M494.00000000000006,184.00000000000003h0.2571428571428669v10.285714285714278h-0.2571428571428669Z\" fill=\"#4c78a8\" fill-opacity=\"1\" stroke=\"#505050\" stroke-width=\"0\"/><path aria-label=\"x1: 1731; x2: 1731.9; level: 16; level2: 16.9; status: Default; sf: ht_keyindex(h::Dict{String, Any}, key::String) at dict.jl:291\" role=\"graphics-symbol\" aria-roledescription=\"rect mark\" d=\"M494.57142857142856,206.85714285714286h0.2571428571428669v10.285714285714306h-0.2571428571428669Z\" fill=\"#4c78a8\" fill-opacity=\"1\" stroke=\"#505050\" stroke-width=\"0\"/><path aria-label=\"x1: 1732; x2: 1733.9; level: 16; level2: 16.9; status: Default; sf: ht_keyindex(h::Dict{String, Any}, key::String) at operators.jl:0\" role=\"graphics-symbol\" aria-roledescription=\"rect mark\" d=\"M494.85714285714283,206.85714285714286h0.5428571428572582v10.285714285714306h-0.5428571428572582Z\" fill=\"#4c78a8\" fill-opacity=\"1\" stroke=\"#505050\" stroke-width=\"0\"/><path aria-label=\"x1: 1734; x2: 1747.9; level: 14; level2: 14.9; status: Default; sf: gain(from::Int64, to::Int64, params::Dict{String, Any}) at Schelling.jl:247\" role=\"graphics-symbol\" aria-roledescription=\"rect mark\" d=\"M495.42857142857144,229.71428571428572h3.971428571428646v10.285714285714278h-3.971428571428646Z\" fill=\"#4c78a8\" fill-opacity=\"1\" stroke=\"#505050\" stroke-width=\"0\"/><path aria-label=\"x1: 1734; x2: 1747.9; level: 15; level2: 15.9; status: Default; sf: getindex at dict.jl:497 [inlined]\" role=\"graphics-symbol\" aria-roledescription=\"rect mark\" d=\"M495.42857142857144,218.28571428571428h3.971428571428646v10.285714285714278h-3.971428571428646Z\" fill=\"#4c78a8\" fill-opacity=\"1\" stroke=\"#505050\" stroke-width=\"0\"/><path aria-label=\"x1: 1734; x2: 1734.9; level: 16; level2: 16.9; status: Default; sf: ht_keyindex(h::Dict{String, Any}, key::String) at dict.jl:281\" role=\"graphics-symbol\" aria-roledescription=\"rect mark\" d=\"M495.42857142857144,206.85714285714286h0.2571428571428669v10.285714285714306h-0.2571428571428669Z\" fill=\"#4c78a8\" fill-opacity=\"1\" stroke=\"#505050\" stroke-width=\"0\"/><path aria-label=\"x1: 1734; x2: 1734.9; level: 17; level2: 17.9; status: Default; sf: length at array.jl:215 [inlined]\" role=\"graphics-symbol\" aria-roledescription=\"rect mark\" d=\"M495.42857142857144,195.42857142857147h0.2571428571428669v10.28571428571422h-0.2571428571428669Z\" fill=\"#4c78a8\" fill-opacity=\"1\" stroke=\"#505050\" stroke-width=\"0\"/><path aria-label=\"x1: 1735; x2: 1735.9; level: 16; level2: 16.9; status: Default; sf: ht_keyindex(h::Dict{String, Any}, key::String) at dict.jl:283\" role=\"graphics-symbol\" aria-roledescription=\"rect mark\" d=\"M495.7142857142857,206.85714285714286h0.2571428571428669v10.285714285714306h-0.2571428571428669Z\" fill=\"#4c78a8\" fill-opacity=\"1\" stroke=\"#505050\" stroke-width=\"0\"/><path aria-label=\"x1: 1735; x2: 1735.9; level: 17; level2: 17.9; status: Default; sf: getproperty at Base.jl:38 [inlined]\" role=\"graphics-symbol\" aria-roledescription=\"rect mark\" d=\"M495.7142857142857,195.42857142857147h0.2571428571428669v10.28571428571422h-0.2571428571428669Z\" fill=\"#4c78a8\" fill-opacity=\"1\" stroke=\"#505050\" stroke-width=\"0\"/><path aria-label=\"x1: 1736; x2: 1738.9; level: 16; level2: 16.9; status: Default; sf: ht_keyindex(h::Dict{String, Any}, key::String) at dict.jl:284\" role=\"graphics-symbol\" aria-roledescription=\"rect mark\" d=\"M496,206.85714285714286h0.8285714285714789v10.285714285714306h-0.8285714285714789Z\" fill=\"#4c78a8\" fill-opacity=\"1\" stroke=\"#505050\" stroke-width=\"0\"/><path aria-label=\"x1: 1736; x2: 1738.9; level: 17; level2: 17.9; status: Default; sf: hashindex at dict.jl:169 [inlined]\" role=\"graphics-symbol\" aria-roledescription=\"rect mark\" d=\"M496,195.42857142857147h0.8285714285714789v10.28571428571422h-0.8285714285714789Z\" fill=\"#4c78a8\" fill-opacity=\"1\" stroke=\"#505050\" stroke-width=\"0\"/><path aria-label=\"x1: 1736; x2: 1738.9; level: 18; level2: 18.9; status: Default; sf: hash at hashing.jl:20 [inlined]\" role=\"graphics-symbol\" aria-roledescription=\"rect mark\" d=\"M496,184.00000000000003h0.8285714285714789v10.285714285714278h-0.8285714285714789Z\" fill=\"#4c78a8\" fill-opacity=\"1\" stroke=\"#505050\" stroke-width=\"0\"/><path aria-label=\"x1: 1736; x2: 1738.9; level: 19; level2: 19.9; status: Default; sf: hash at hashing.jl:107 [inlined]\" role=\"graphics-symbol\" aria-roledescription=\"rect mark\" d=\"M496,172.5714285714286h0.8285714285714789v10.28571428571425h-0.8285714285714789Z\" fill=\"#4c78a8\" fill-opacity=\"1\" stroke=\"#505050\" stroke-width=\"0\"/><path aria-label=\"x1: 1739; x2: 1739.9; level: 16; level2: 16.9; status: Default; sf: ht_keyindex(h::Dict{String, Any}, key::String) at dict.jl:288\" role=\"graphics-symbol\" aria-roledescription=\"rect mark\" d=\"M496.8571428571429,206.85714285714286h0.2571428571428669v10.285714285714306h-0.2571428571428669Z\" fill=\"#4c78a8\" fill-opacity=\"1\" stroke=\"#505050\" stroke-width=\"0\"/><path aria-label=\"x1: 1740; x2: 1746.9; level: 16; level2: 16.9; status: Default; sf: ht_keyindex(h::Dict{String, Any}, key::String) at dict.jl:291\" role=\"graphics-symbol\" aria-roledescription=\"rect mark\" d=\"M497.14285714285717,206.85714285714286h1.9714285714285325v10.285714285714306h-1.9714285714285325Z\" fill=\"#4c78a8\" fill-opacity=\"1\" stroke=\"#505050\" stroke-width=\"0\"/><path aria-label=\"x1: 1740; x2: 1740.9; level: 17; level2: 17.9; status: Default; sf: getindex at array.jl:924 [inlined]\" role=\"graphics-symbol\" aria-roledescription=\"rect mark\" d=\"M497.14285714285717,195.42857142857147h0.2571428571428669v10.28571428571422h-0.2571428571428669Z\" fill=\"#4c78a8\" fill-opacity=\"1\" stroke=\"#505050\" stroke-width=\"0\"/><path aria-label=\"x1: 1747; x2: 1747.9; level: 16; level2: 16.9; status: Default; sf: ht_keyindex(h::Dict{String, Any}, key::String) at operators.jl:0\" role=\"graphics-symbol\" aria-roledescription=\"rect mark\" d=\"M499.1428571428571,206.85714285714286h0.2571428571429806v10.285714285714306h-0.2571428571429806Z\" fill=\"#4c78a8\" fill-opacity=\"1\" stroke=\"#505050\" stroke-width=\"0\"/><path aria-label=\"x1: 1748; x2: 1756.9; level: 14; level2: 14.9; status: Default; sf: gain(from::Int64, to::Int64, params::Dict{String, Any}) at Schelling.jl:248\" role=\"graphics-symbol\" aria-roledescription=\"rect mark\" d=\"M499.42857142857144,229.71428571428572h2.5428571428570876v10.285714285714278h-2.5428571428570876Z\" fill=\"#4c78a8\" fill-opacity=\"1\" stroke=\"#505050\" stroke-width=\"0\"/><path aria-label=\"x1: 1748; x2: 1755.9; level: 15; level2: 15.9; status: Default; sf: getindex at dict.jl:497 [inlined]\" role=\"graphics-symbol\" aria-roledescription=\"rect mark\" d=\"M499.42857142857144,218.28571428571428h2.257142857142867v10.285714285714278h-2.257142857142867Z\" fill=\"#4c78a8\" fill-opacity=\"1\" stroke=\"#505050\" stroke-width=\"0\"/><path aria-label=\"x1: 1748; x2: 1748.9; level: 16; level2: 16.9; status: Default; sf: ht_keyindex(h::Dict{String, Any}, key::String) at dict.jl:280\" role=\"graphics-symbol\" aria-roledescription=\"rect mark\" d=\"M499.42857142857144,206.85714285714286h0.2571428571428669v10.285714285714306h-0.2571428571428669Z\" fill=\"#4c78a8\" fill-opacity=\"1\" stroke=\"#505050\" stroke-width=\"0\"/><path aria-label=\"x1: 1749; x2: 1751.9; level: 16; level2: 16.9; status: Default; sf: ht_keyindex(h::Dict{String, Any}, key::String) at dict.jl:284\" role=\"graphics-symbol\" aria-roledescription=\"rect mark\" d=\"M499.7142857142857,206.85714285714286h0.8285714285714221v10.285714285714306h-0.8285714285714221Z\" fill=\"#4c78a8\" fill-opacity=\"1\" stroke=\"#505050\" stroke-width=\"0\"/><path aria-label=\"x1: 1749; x2: 1751.9; level: 17; level2: 17.9; status: Default; sf: hashindex at dict.jl:169 [inlined]\" role=\"graphics-symbol\" aria-roledescription=\"rect mark\" d=\"M499.7142857142857,195.42857142857147h0.8285714285714221v10.28571428571422h-0.8285714285714221Z\" fill=\"#4c78a8\" fill-opacity=\"1\" stroke=\"#505050\" stroke-width=\"0\"/><path aria-label=\"x1: 1749; x2: 1751.9; level: 18; level2: 18.9; status: Default; sf: hash at hashing.jl:20 [inlined]\" role=\"graphics-symbol\" aria-roledescription=\"rect mark\" d=\"M499.7142857142857,184.00000000000003h0.8285714285714221v10.285714285714278h-0.8285714285714221Z\" fill=\"#4c78a8\" fill-opacity=\"1\" stroke=\"#505050\" stroke-width=\"0\"/><path aria-label=\"x1: 1749; x2: 1751.9; level: 19; level2: 19.9; status: Default; sf: hash at hashing.jl:107 [inlined]\" role=\"graphics-symbol\" aria-roledescription=\"rect mark\" d=\"M499.7142857142857,172.5714285714286h0.8285714285714221v10.28571428571425h-0.8285714285714221Z\" fill=\"#4c78a8\" fill-opacity=\"1\" stroke=\"#505050\" stroke-width=\"0\"/><path aria-label=\"x1: 1752; x2: 1755.9; level: 16; level2: 16.9; status: Default; sf: ht_keyindex(h::Dict{String, Any}, key::String) at dict.jl:291\" role=\"graphics-symbol\" aria-roledescription=\"rect mark\" d=\"M500.57142857142856,206.85714285714286h1.1142857142857565v10.285714285714306h-1.1142857142857565Z\" fill=\"#4c78a8\" fill-opacity=\"1\" stroke=\"#505050\" stroke-width=\"0\"/><path aria-label=\"x1: 1756; x2: 1756.9; level: 15; level2: 15.9; status: Default; sf: getindex at dict.jl:498 [inlined]\" role=\"graphics-symbol\" aria-roledescription=\"rect mark\" d=\"M501.71428571428567,218.28571428571428h0.2571428571428669v10.285714285714278h-0.2571428571428669Z\" fill=\"#4c78a8\" fill-opacity=\"1\" stroke=\"#505050\" stroke-width=\"0\"/><path aria-label=\"x1: 1756; x2: 1756.9; level: 16; level2: 16.9; status: Default; sf: getindex at array.jl:924 [inlined]\" role=\"graphics-symbol\" aria-roledescription=\"rect mark\" d=\"M501.71428571428567,206.85714285714286h0.2571428571428669v10.285714285714306h-0.2571428571428669Z\" fill=\"#4c78a8\" fill-opacity=\"1\" stroke=\"#505050\" stroke-width=\"0\"/><path aria-label=\"x1: 1757; x2: 1784.9; level: 14; level2: 14.9; status: Garbage collection; sf: gain(from::Int64, to::Int64, params::Dict{String, Any}) at Schelling.jl:251\" role=\"graphics-symbol\" aria-roledescription=\"rect mark\" d=\"M501.99999999999994,229.71428571428572h7.971428571428646v10.285714285714278h-7.971428571428646Z\" fill=\"#f58518\" fill-opacity=\"1\" stroke=\"#505050\" stroke-width=\"0\"/><path aria-label=\"x1: 1785; x2: 1803.9; level: 14; level2: 14.9; status: Runtime dispatch; sf: gain(from::Int64, to::Int64, params::Dict{String, Any}) at Schelling.jl:252\" role=\"graphics-symbol\" aria-roledescription=\"rect mark\" d=\"M509.99999999999994,229.71428571428572h5.400000000000034v10.285714285714278h-5.400000000000034Z\" fill=\"#e45756\" fill-opacity=\"1\" stroke=\"#505050\" stroke-width=\"0\"/><path aria-label=\"x1: 1804; x2: 1870.9; level: 14; level2: 14.9; status: Runtime dispatch; sf: gain(from::Int64, to::Int64, params::Dict{String, Any}) at Schelling.jl:253\" role=\"graphics-symbol\" aria-roledescription=\"rect mark\" d=\"M515.4285714285714,229.71428571428572h19.114285714285757v10.285714285714278h-19.114285714285757Z\" fill=\"#e45756\" fill-opacity=\"1\" stroke=\"#505050\" stroke-width=\"0\"/><path aria-label=\"x1: 1871; x2: 1889.9; level: 14; level2: 14.9; status: Runtime dispatch; sf: gain(from::Int64, to::Int64, params::Dict{String, Any}) at Schelling.jl:254\" role=\"graphics-symbol\" aria-roledescription=\"rect mark\" d=\"M534.5714285714286,229.71428571428572h5.400000000000091v10.285714285714278h-5.400000000000091Z\" fill=\"#e45756\" fill-opacity=\"1\" stroke=\"#505050\" stroke-width=\"0\"/><path aria-label=\"x1: 1890; x2: 1904.9; level: 14; level2: 14.9; status: Runtime dispatch; sf: gain(from::Int64, to::Int64, params::Dict{String, Any}) at Schelling.jl:257\" role=\"graphics-symbol\" aria-roledescription=\"rect mark\" d=\"M540,229.71428571428572h4.257142857142867v10.285714285714278h-4.257142857142867Z\" fill=\"#e45756\" fill-opacity=\"1\" stroke=\"#505050\" stroke-width=\"0\"/><path aria-label=\"x1: 1905; x2: 1916.9; level: 14; level2: 14.9; status: Runtime dispatch; sf: gain(from::Int64, to::Int64, params::Dict{String, Any}) at Schelling.jl:258\" role=\"graphics-symbol\" aria-roledescription=\"rect mark\" d=\"M544.2857142857143,229.71428571428572h3.3999999999999773v10.285714285714278h-3.3999999999999773Z\" fill=\"#e45756\" fill-opacity=\"1\" stroke=\"#505050\" stroke-width=\"0\"/><path aria-label=\"x1: 1917; x2: 1930.9; level: 14; level2: 14.9; status: Runtime dispatch; sf: gain(from::Int64, to::Int64, params::Dict{String, Any}) at Schelling.jl:259\" role=\"graphics-symbol\" aria-roledescription=\"rect mark\" d=\"M547.7142857142857,229.71428571428572h3.971428571428646v10.285714285714278h-3.971428571428646Z\" fill=\"#e45756\" fill-opacity=\"1\" stroke=\"#505050\" stroke-width=\"0\"/><path aria-label=\"x1: 1917; x2: 1918.9; level: 15; level2: 15.9; status: Default; sf: ht_keyindex(h::Dict{String, Any}, key::String) at dict.jl:291\" role=\"graphics-symbol\" aria-roledescription=\"rect mark\" d=\"M547.7142857142857,218.28571428571428h0.5428571428572013v10.285714285714278h-0.5428571428572013Z\" fill=\"#4c78a8\" fill-opacity=\"1\" stroke=\"#505050\" stroke-width=\"0\"/><path aria-label=\"x1: 1931; x2: 1942.9; level: 14; level2: 14.9; status: Runtime dispatch; sf: gain(from::Int64, to::Int64, params::Dict{String, Any}) at Schelling.jl:260\" role=\"graphics-symbol\" aria-roledescription=\"rect mark\" d=\"M551.7142857142857,229.71428571428572h3.400000000000091v10.285714285714278h-3.400000000000091Z\" fill=\"#e45756\" fill-opacity=\"1\" stroke=\"#505050\" stroke-width=\"0\"/><path aria-label=\"x1: 1931; x2: 1932.9; level: 15; level2: 15.9; status: Default; sf: ht_keyindex(h::Dict{String, Any}, key::String) at dict.jl:291\" role=\"graphics-symbol\" aria-roledescription=\"rect mark\" d=\"M551.7142857142857,218.28571428571428h0.5428571428572013v10.285714285714278h-0.5428571428572013Z\" fill=\"#4c78a8\" fill-opacity=\"1\" stroke=\"#505050\" stroke-width=\"0\"/><path aria-label=\"x1: 1943; x2: 1962.9; level: 14; level2: 14.9; status: Runtime dispatch; sf: gain(from::Int64, to::Int64, params::Dict{String, Any}) at Schelling.jl:263\" role=\"graphics-symbol\" aria-roledescription=\"rect mark\" d=\"M555.1428571428571,229.71428571428572h5.685714285714312v10.285714285714278h-5.685714285714312Z\" fill=\"#e45756\" fill-opacity=\"1\" stroke=\"#505050\" stroke-width=\"0\"/><path aria-label=\"x1: 1963; x2: 2073.9; level: 14; level2: 14.9; status: Runtime dispatch; sf: gain(from::Int64, to::Int64, params::Dict{String, Any}) at Schelling.jl:265\" role=\"graphics-symbol\" aria-roledescription=\"rect mark\" d=\"M560.8571428571429,229.71428571428572h31.685714285714198v10.285714285714278h-31.685714285714198Z\" fill=\"#e45756\" fill-opacity=\"1\" stroke=\"#505050\" stroke-width=\"0\"/><path aria-label=\"x1: 1963; x2: 1965.9; level: 15; level2: 15.9; status: Default; sf: ht_keyindex(h::Dict{String, Any}, key::String) at dict.jl:291\" role=\"graphics-symbol\" aria-roledescription=\"rect mark\" d=\"M560.8571428571429,218.28571428571428h0.8285714285714221v10.285714285714278h-0.8285714285714221Z\" fill=\"#4c78a8\" fill-opacity=\"1\" stroke=\"#505050\" stroke-width=\"0\"/><path aria-label=\"x1: 2074; x2: 2074.9; level: 14; level2: 14.9; status: Default; sf: gain(from::Int64, to::Int64, params::Dict{String, Any}) at Schelling.jl:270\" role=\"graphics-symbol\" aria-roledescription=\"rect mark\" d=\"M592.5714285714287,229.71428571428572h0.2571428571428669v10.285714285714278h-0.2571428571428669Z\" fill=\"#4c78a8\" fill-opacity=\"1\" stroke=\"#505050\" stroke-width=\"0\"/><path aria-label=\"x1: 2075; x2: 2170.9; level: 13; level2: 13.9; status: Default; sf: move!(state::Vector{Int64}, params::Dict{String, Any}, total_occupants::Int64) at Schelling.jl:225\" role=\"graphics-symbol\" aria-roledescription=\"rect mark\" d=\"M592.8571428571429,241.14285714285714h27.399999999999977v10.285714285714278h-27.399999999999977Z\" fill=\"#4c78a8\" fill-opacity=\"1\" stroke=\"#505050\" stroke-width=\"0\"/><path aria-label=\"x1: 2075; x2: 2076.9; level: 14; level2: 14.9; status: Default; sf: glauber_prob(deltaG::Float64, params::Dict{String, Any}) at Schelling.jl:0\" role=\"graphics-symbol\" aria-roledescription=\"rect mark\" d=\"M592.8571428571429,229.71428571428572h0.5428571428570876v10.285714285714278h-0.5428571428570876Z\" fill=\"#4c78a8\" fill-opacity=\"1\" stroke=\"#505050\" stroke-width=\"0\"/><path aria-label=\"x1: 2077; x2: 2085.9; level: 14; level2: 14.9; status: Default; sf: glauber_prob(deltaG::Float64, params::Dict{String, Any}) at Schelling.jl:295\" role=\"graphics-symbol\" aria-roledescription=\"rect mark\" d=\"M593.4285714285714,229.71428571428572h2.5428571428572013v10.285714285714278h-2.5428571428572013Z\" fill=\"#4c78a8\" fill-opacity=\"1\" stroke=\"#505050\" stroke-width=\"0\"/><path aria-label=\"x1: 2077; x2: 2085.9; level: 15; level2: 15.9; status: Default; sf: getindex at dict.jl:497 [inlined]\" role=\"graphics-symbol\" aria-roledescription=\"rect mark\" d=\"M593.4285714285714,218.28571428571428h2.5428571428572013v10.285714285714278h-2.5428571428572013Z\" fill=\"#4c78a8\" fill-opacity=\"1\" stroke=\"#505050\" stroke-width=\"0\"/><path aria-label=\"x1: 2077; x2: 2078.9; level: 16; level2: 16.9; status: Default; sf: ht_keyindex(h::Dict{String, Any}, key::String) at dict.jl:284\" role=\"graphics-symbol\" aria-roledescription=\"rect mark\" d=\"M593.4285714285714,206.85714285714286h0.5428571428572013v10.285714285714306h-0.5428571428572013Z\" fill=\"#4c78a8\" fill-opacity=\"1\" stroke=\"#505050\" stroke-width=\"0\"/><path aria-label=\"x1: 2077; x2: 2078.9; level: 17; level2: 17.9; status: Default; sf: hashindex at dict.jl:169 [inlined]\" role=\"graphics-symbol\" aria-roledescription=\"rect mark\" d=\"M593.4285714285714,195.42857142857147h0.5428571428572013v10.28571428571422h-0.5428571428572013Z\" fill=\"#4c78a8\" fill-opacity=\"1\" stroke=\"#505050\" stroke-width=\"0\"/><path aria-label=\"x1: 2077; x2: 2078.9; level: 18; level2: 18.9; status: Default; sf: hash at hashing.jl:20 [inlined]\" role=\"graphics-symbol\" aria-roledescription=\"rect mark\" d=\"M593.4285714285714,184.00000000000003h0.5428571428572013v10.285714285714278h-0.5428571428572013Z\" fill=\"#4c78a8\" fill-opacity=\"1\" stroke=\"#505050\" stroke-width=\"0\"/><path aria-label=\"x1: 2077; x2: 2078.9; level: 19; level2: 19.9; status: Default; sf: hash at hashing.jl:107 [inlined]\" role=\"graphics-symbol\" aria-roledescription=\"rect mark\" d=\"M593.4285714285714,172.5714285714286h0.5428571428572013v10.28571428571425h-0.5428571428572013Z\" fill=\"#4c78a8\" fill-opacity=\"1\" stroke=\"#505050\" stroke-width=\"0\"/><path aria-label=\"x1: 2079; x2: 2080.9; level: 16; level2: 16.9; status: Default; sf: ht_keyindex(h::Dict{String, Any}, key::String) at dict.jl:288\" role=\"graphics-symbol\" aria-roledescription=\"rect mark\" d=\"M594,206.85714285714286h0.5428571428572013v10.285714285714306h-0.5428571428572013Z\" fill=\"#4c78a8\" fill-opacity=\"1\" stroke=\"#505050\" stroke-width=\"0\"/><path aria-label=\"x1: 2079; x2: 2079.9; level: 17; level2: 17.9; status: Default; sf: isslotempty at dict.jl:171 [inlined]\" role=\"graphics-symbol\" aria-roledescription=\"rect mark\" d=\"M594,195.42857142857147h0.2571428571428669v10.28571428571422h-0.2571428571428669Z\" fill=\"#4c78a8\" fill-opacity=\"1\" stroke=\"#505050\" stroke-width=\"0\"/><path aria-label=\"x1: 2079; x2: 2079.9; level: 18; level2: 18.9; status: Default; sf: getindex at array.jl:924 [inlined]\" role=\"graphics-symbol\" aria-roledescription=\"rect mark\" d=\"M594,184.00000000000003h0.2571428571428669v10.285714285714278h-0.2571428571428669Z\" fill=\"#4c78a8\" fill-opacity=\"1\" stroke=\"#505050\" stroke-width=\"0\"/><path aria-label=\"x1: 2081; x2: 2084.9; level: 16; level2: 16.9; status: Default; sf: ht_keyindex(h::Dict{String, Any}, key::String) at dict.jl:291\" role=\"graphics-symbol\" aria-roledescription=\"rect mark\" d=\"M594.5714285714286,206.85714285714286h1.1142857142857565v10.285714285714306h-1.1142857142857565Z\" fill=\"#4c78a8\" fill-opacity=\"1\" stroke=\"#505050\" stroke-width=\"0\"/><path aria-label=\"x1: 2085; x2: 2085.9; level: 16; level2: 16.9; status: Default; sf: ht_keyindex(h::Dict{String, Any}, key::String) at operators.jl:0\" role=\"graphics-symbol\" aria-roledescription=\"rect mark\" d=\"M595.7142857142858,206.85714285714286h0.2571428571428669v10.285714285714306h-0.2571428571428669Z\" fill=\"#4c78a8\" fill-opacity=\"1\" stroke=\"#505050\" stroke-width=\"0\"/><path aria-label=\"x1: 2086; x2: 2099.9; level: 14; level2: 14.9; status: Runtime dispatch; sf: glauber_prob(deltaG::Float64, params::Dict{String, Any}) at Schelling.jl:297\" role=\"graphics-symbol\" aria-roledescription=\"rect mark\" d=\"M596,229.71428571428572h3.971428571428646v10.285714285714278h-3.971428571428646Z\" fill=\"#e45756\" fill-opacity=\"1\" stroke=\"#505050\" stroke-width=\"0\"/><path aria-label=\"x1: 2100; x2: 2168.9; level: 14; level2: 14.9; status: Runtime dispatch; sf: glauber_prob(deltaG::Float64, params::Dict{String, Any}) at Schelling.jl:303\" role=\"graphics-symbol\" aria-roledescription=\"rect mark\" d=\"M600,229.71428571428572h19.68571428571431v10.285714285714278h-19.68571428571431Z\" fill=\"#e45756\" fill-opacity=\"1\" stroke=\"#505050\" stroke-width=\"0\"/><path aria-label=\"x1: 2100; x2: 2103.9; level: 15; level2: 15.9; status: Default; sf: ht_keyindex(h::Dict{String, Any}, key::String) at dict.jl:291\" role=\"graphics-symbol\" aria-roledescription=\"rect mark\" d=\"M600,218.28571428571428h1.1142857142857565v10.285714285714278h-1.1142857142857565Z\" fill=\"#4c78a8\" fill-opacity=\"1\" stroke=\"#505050\" stroke-width=\"0\"/><path aria-label=\"x1: 2169; x2: 2170.9; level: 14; level2: 14.9; status: Default; sf: glauber_prob(deltaG::Float64, params::Dict{String, Any}) at Schelling.jl:306\" role=\"graphics-symbol\" aria-roledescription=\"rect mark\" d=\"M619.7142857142858,229.71428571428572h0.5428571428570876v10.285714285714278h-0.5428571428570876Z\" fill=\"#4c78a8\" fill-opacity=\"1\" stroke=\"#505050\" stroke-width=\"0\"/><path aria-label=\"x1: 2171; x2: 2188.9; level: 13; level2: 13.9; status: Runtime dispatch; sf: move!(state::Vector{Int64}, params::Dict{String, Any}, total_occupants::Int64) at Schelling.jl:228\" role=\"graphics-symbol\" aria-roledescription=\"rect mark\" d=\"M620.2857142857143,241.14285714285714h5.1142857142857565v10.285714285714278h-5.1142857142857565Z\" fill=\"#e45756\" fill-opacity=\"1\" stroke=\"#505050\" stroke-width=\"0\"/><path aria-label=\"x1: 2187; x2: 2188.9; level: 14; level2: 14.9; status: Default; sf: rand at Random.jl:257 [inlined]\" role=\"graphics-symbol\" aria-roledescription=\"rect mark\" d=\"M624.8571428571428,229.71428571428572h0.542857142857315v10.285714285714278h-0.542857142857315Z\" fill=\"#4c78a8\" fill-opacity=\"1\" stroke=\"#505050\" stroke-width=\"0\"/><path aria-label=\"x1: 2187; x2: 2188.9; level: 15; level2: 15.9; status: Default; sf: rand at Random.jl:257 [inlined]\" role=\"graphics-symbol\" aria-roledescription=\"rect mark\" d=\"M624.8571428571428,218.28571428571428h0.542857142857315v10.285714285714278h-0.542857142857315Z\" fill=\"#4c78a8\" fill-opacity=\"1\" stroke=\"#505050\" stroke-width=\"0\"/><path aria-label=\"x1: 2187; x2: 2188.9; level: 16; level2: 16.9; status: Default; sf: rand at Xoshiro.jl:210 [inlined]\" role=\"graphics-symbol\" aria-roledescription=\"rect mark\" d=\"M624.8571428571428,206.85714285714286h0.542857142857315v10.285714285714306h-0.542857142857315Z\" fill=\"#4c78a8\" fill-opacity=\"1\" stroke=\"#505050\" stroke-width=\"0\"/><path aria-label=\"x1: 2187; x2: 2188.9; level: 17; level2: 17.9; status: Default; sf: rand at Random.jl:257 [inlined]\" role=\"graphics-symbol\" aria-roledescription=\"rect mark\" d=\"M624.8571428571428,195.42857142857147h0.542857142857315v10.28571428571422h-0.542857142857315Z\" fill=\"#4c78a8\" fill-opacity=\"1\" stroke=\"#505050\" stroke-width=\"0\"/><path aria-label=\"x1: 2187; x2: 2188.9; level: 18; level2: 18.9; status: Default; sf: rand at Xoshiro.jl:137 [inlined]\" role=\"graphics-symbol\" aria-roledescription=\"rect mark\" d=\"M624.8571428571428,184.00000000000003h0.542857142857315v10.285714285714278h-0.542857142857315Z\" fill=\"#4c78a8\" fill-opacity=\"1\" stroke=\"#505050\" stroke-width=\"0\"/><path aria-label=\"x1: 2187; x2: 2188.9; level: 19; level2: 19.9; status: Default; sf: setproperty! at Base.jl:39 [inlined]\" role=\"graphics-symbol\" aria-roledescription=\"rect mark\" d=\"M624.8571428571428,172.5714285714286h0.542857142857315v10.28571428571425h-0.542857142857315Z\" fill=\"#4c78a8\" fill-opacity=\"1\" stroke=\"#505050\" stroke-width=\"0\"/><path aria-label=\"x1: 2189; x2: 2242.9; level: 13; level2: 13.9; status: Runtime dispatch; sf: move!(state::Vector{Int64}, params::Dict{String, Any}, total_occupants::Int64) at Schelling.jl:229\" role=\"graphics-symbol\" aria-roledescription=\"rect mark\" d=\"M625.4285714285714,241.14285714285714h15.399999999999977v10.285714285714278h-15.399999999999977Z\" fill=\"#e45756\" fill-opacity=\"1\" stroke=\"#505050\" stroke-width=\"0\"/><path aria-label=\"x1: 2189; x2: 2191.9; level: 14; level2: 14.9; status: Default; sf: getindex at array.jl:924 [inlined]\" role=\"graphics-symbol\" aria-roledescription=\"rect mark\" d=\"M625.4285714285714,229.71428571428572h0.8285714285714221v10.285714285714278h-0.8285714285714221Z\" fill=\"#4c78a8\" fill-opacity=\"1\" stroke=\"#505050\" stroke-width=\"0\"/><path aria-label=\"x1: 2243; x2: 2296.9; level: 13; level2: 13.9; status: Runtime dispatch; sf: move!(state::Vector{Int64}, params::Dict{String, Any}, total_occupants::Int64) at Schelling.jl:230\" role=\"graphics-symbol\" aria-roledescription=\"rect mark\" d=\"M640.8571428571429,241.14285714285714h15.399999999999977v10.285714285714278h-15.399999999999977Z\" fill=\"#e45756\" fill-opacity=\"1\" stroke=\"#505050\" stroke-width=\"0\"/><path aria-label=\"x1: 2243; x2: 2243.9; level: 14; level2: 14.9; status: Default; sf: setindex!(A::Vector{Int64}, x::Int64, i1::Int64) at array.jl:966\" role=\"graphics-symbol\" aria-roledescription=\"rect mark\" d=\"M640.8571428571429,229.71428571428572h0.2571428571428669v10.285714285714278h-0.2571428571428669Z\" fill=\"#4c78a8\" fill-opacity=\"1\" stroke=\"#505050\" stroke-width=\"0\"/><path aria-label=\"x1: 2297; x2: 2312.9; level: 11; level2: 11.9; status: Runtime dispatch; sf: macro expansion at Schelling.jl:65 [inlined]\" role=\"graphics-symbol\" aria-roledescription=\"rect mark\" d=\"M656.2857142857143,263.99999999999994h4.542857142857088v10.285714285714334h-4.542857142857088Z\" fill=\"#e45756\" fill-opacity=\"1\" stroke=\"#505050\" stroke-width=\"0\"/><path aria-label=\"x1: 2298; x2: 2312.9; level: 12; level2: 12.9; status: Default; sf: (::Main.Schelling.var&quot;#save##kw&quot;)(::NamedTuple{(:sweep,), Tuple{Int64}}, ::typeof(Main.Schelling.save), state::Vector{Int64}, params::Dict{String, Any}) at Schelling.jl:369\" role=\"graphics-symbol\" aria-roledescription=\"rect mark\" d=\"M656.5714285714286,252.57142857142858h4.257142857142867v10.28571428571425h-4.257142857142867Z\" fill=\"#4c78a8\" fill-opacity=\"1\" stroke=\"#505050\" stroke-width=\"0\"/><path aria-label=\"x1: 2298; x2: 2312.9; level: 13; level2: 13.9; status: Runtime dispatch; sf: save(state::Vector{Int64}, params::Dict{String, Any}; sweep::Int64) at Schelling.jl:389\" role=\"graphics-symbol\" aria-roledescription=\"rect mark\" d=\"M656.5714285714286,241.14285714285714h4.257142857142867v10.285714285714278h-4.257142857142867Z\" fill=\"#e45756\" fill-opacity=\"1\" stroke=\"#505050\" stroke-width=\"0\"/><path aria-label=\"x1: 2298; x2: 2312.9; level: 14; level2: 14.9; status: Runtime dispatch; sf: h5open(::Function, ::String, ::String) at file.jl:91\" role=\"graphics-symbol\" aria-roledescription=\"rect mark\" d=\"M656.5714285714286,229.71428571428572h4.257142857142867v10.285714285714278h-4.257142857142867Z\" fill=\"#e45756\" fill-opacity=\"1\" stroke=\"#505050\" stroke-width=\"0\"/><path aria-label=\"x1: 2298; x2: 2298.9; level: 15; level2: 15.9; status: Runtime dispatch; sf: h5open(::Main.Schelling.var&quot;#8#9&quot;{Vector{Int64}, Dict{String, Any}}, ::String, ::Vararg{String}; context::HDF5.HDF5Context, pv::Base.Pairs{Symbol, Union{}, Tuple{}, NamedTuple{(), Tuple{}}}) at file.jl:92\" role=\"graphics-symbol\" aria-roledescription=\"rect mark\" d=\"M656.5714285714286,218.28571428571428h0.2571428571428669v10.285714285714278h-0.2571428571428669Z\" fill=\"#e45756\" fill-opacity=\"1\" stroke=\"#505050\" stroke-width=\"0\"/><path aria-label=\"x1: 2298; x2: 2298.9; level: 16; level2: 16.9; status: Default; sf: h5open(filename::String, mode::String) at file.jl:60\" role=\"graphics-symbol\" aria-roledescription=\"rect mark\" d=\"M656.5714285714286,206.85714285714286h0.2571428571428669v10.285714285714306h-0.2571428571428669Z\" fill=\"#4c78a8\" fill-opacity=\"1\" stroke=\"#505050\" stroke-width=\"0\"/><path aria-label=\"x1: 2298; x2: 2298.9; level: 17; level2: 17.9; status: Default; sf: h5open(filename::String, mode::String; swmr::Bool, fapl::HDF5.FileAccessProperties, fcpl::HDF5.FileCreateProperties, pv::Base.Pairs{Symbol, Union{}, Tuple{}, NamedTuple{(), Tuple{}}}) at file.jl:72\" role=\"graphics-symbol\" aria-roledescription=\"rect mark\" d=\"M656.5714285714286,195.42857142857147h0.2571428571428669v10.28571428571422h-0.2571428571428669Z\" fill=\"#4c78a8\" fill-opacity=\"1\" stroke=\"#505050\" stroke-width=\"0\"/><path aria-label=\"x1: 2298; x2: 2298.9; level: 18; level2: 18.9; status: Default; sf: h5open at file.jl:20 [inlined]\" role=\"graphics-symbol\" aria-roledescription=\"rect mark\" d=\"M656.5714285714286,184.00000000000003h0.2571428571428669v10.285714285714278h-0.2571428571428669Z\" fill=\"#4c78a8\" fill-opacity=\"1\" stroke=\"#505050\" stroke-width=\"0\"/><path aria-label=\"x1: 2298; x2: 2298.9; level: 19; level2: 19.9; status: Default; sf: h5open(filename::String, mode::String, fapl::HDF5.FileAccessProperties, fcpl::HDF5.FileCreateProperties; swmr::Bool) at file.jl:43\" role=\"graphics-symbol\" aria-roledescription=\"rect mark\" d=\"M656.5714285714286,172.5714285714286h0.2571428571428669v10.28571428571425h-0.2571428571428669Z\" fill=\"#4c78a8\" fill-opacity=\"1\" stroke=\"#505050\" stroke-width=\"0\"/><path aria-label=\"x1: 2298; x2: 2298.9; level: 20; level2: 20.9; status: Default; sf: h5f_create(pathname::String, flags::UInt16, fcpl_id::HDF5.FileCreateProperties, fapl_id::HDF5.FileAccessProperties) at functions.jl:1066\" role=\"graphics-symbol\" aria-roledescription=\"rect mark\" d=\"M656.5714285714286,161.14285714285717h0.2571428571428669v10.285714285714278h-0.2571428571428669Z\" fill=\"#4c78a8\" fill-opacity=\"1\" stroke=\"#505050\" stroke-width=\"0\"/><path aria-label=\"x1: 2299; x2: 2311.9; level: 15; level2: 15.9; status: Default; sf: h5open(::Main.Schelling.var&quot;#8#9&quot;{Vector{Int64}, Dict{String, Any}}, ::String, ::Vararg{String}; context::HDF5.HDF5Context, pv::Base.Pairs{Symbol, Union{}, Tuple{}, NamedTuple{(), Tuple{}}}) at file.jl:93\" role=\"graphics-symbol\" aria-roledescription=\"rect mark\" d=\"M656.8571428571429,218.28571428571428h3.6857142857143117v10.285714285714278h-3.6857142857143117Z\" fill=\"#4c78a8\" fill-opacity=\"1\" stroke=\"#505050\" stroke-width=\"0\"/><path aria-label=\"x1: 2299; x2: 2311.9; level: 16; level2: 16.9; status: Default; sf: task_local_storage(body::HDF5.var&quot;#17#18&quot;{HDF5.HDF5Context, Base.Pairs{Symbol, Union{}, Tuple{}, NamedTuple{(), Tuple{}}}, Main.Schelling.var&quot;#8#9&quot;{Vector{Int64}, Dict{String, Any}}, HDF5.File}, key::Symbol, val::HDF5.HDF5Context) at task.jl:292\" role=\"graphics-symbol\" aria-roledescription=\"rect mark\" d=\"M656.8571428571429,206.85714285714286h3.6857142857143117v10.285714285714306h-3.6857142857143117Z\" fill=\"#4c78a8\" fill-opacity=\"1\" stroke=\"#505050\" stroke-width=\"0\"/><path aria-label=\"x1: 2299; x2: 2307.9; level: 17; level2: 17.9; status: Default; sf: (::HDF5.var&quot;#17#18&quot;{HDF5.HDF5Context, Base.Pairs{Symbol, Union{}, Tuple{}, NamedTuple{(), Tuple{}}}, Main.Schelling.var&quot;#8#9&quot;{Vector{Int64}, Dict{String, Any}}, HDF5.File})() at file.jl:98\" role=\"graphics-symbol\" aria-roledescription=\"rect mark\" d=\"M656.8571428571429,195.42857142857147h2.5428571428570876v10.28571428571422h-2.5428571428570876Z\" fill=\"#4c78a8\" fill-opacity=\"1\" stroke=\"#505050\" stroke-width=\"0\"/><path aria-label=\"x1: 2300; x2: 2302.9; level: 18; level2: 18.9; status: Default; sf: (::Main.Schelling.var&quot;#8#9&quot;{Vector{Int64}, Dict{String, Any}})(fid::HDF5.File) at Schelling.jl:390\" role=\"graphics-symbol\" aria-roledescription=\"rect mark\" d=\"M657.1428571428571,184.00000000000003h0.8285714285715358v10.285714285714278h-0.8285714285715358Z\" fill=\"#4c78a8\" fill-opacity=\"1\" stroke=\"#505050\" stroke-width=\"0\"/><path aria-label=\"x1: 2300; x2: 2302.9; level: 19; level2: 19.9; status: Default; sf: create_group at groups.jl:39 [inlined]\" role=\"graphics-symbol\" aria-roledescription=\"rect mark\" d=\"M657.1428571428571,172.5714285714286h0.8285714285715358v10.28571428571425h-0.8285714285715358Z\" fill=\"#4c78a8\" fill-opacity=\"1\" stroke=\"#505050\" stroke-width=\"0\"/><path aria-label=\"x1: 2300; x2: 2302.9; level: 20; level2: 20.9; status: Default; sf: create_group(parent::HDF5.File, path::String; pv::Base.Pairs{Symbol, Union{}, Tuple{}, NamedTuple{(), Tuple{}}}) at groups.jl:45\" role=\"graphics-symbol\" aria-roledescription=\"rect mark\" d=\"M657.1428571428571,161.14285714285717h0.8285714285715358v10.285714285714278h-0.8285714285715358Z\" fill=\"#4c78a8\" fill-opacity=\"1\" stroke=\"#505050\" stroke-width=\"0\"/><path aria-label=\"x1: 2300; x2: 2302.9; level: 21; level2: 21.9; status: Default; sf: create_group at groups.jl:23 [inlined]\" role=\"graphics-symbol\" aria-roledescription=\"rect mark\" d=\"M657.1428571428571,149.71428571428572h0.8285714285715358v10.285714285714278h-0.8285714285715358Z\" fill=\"#4c78a8\" fill-opacity=\"1\" stroke=\"#505050\" stroke-width=\"0\"/><path aria-label=\"x1: 2300; x2: 2302.9; level: 22; level2: 22.9; status: Default; sf: #create_group#19 at groups.jl:37 [inlined]\" role=\"graphics-symbol\" aria-roledescription=\"rect mark\" d=\"M657.1428571428571,138.2857142857143h0.8285714285715358v10.285714285714278h-0.8285714285715358Z\" fill=\"#4c78a8\" fill-opacity=\"1\" stroke=\"#505050\" stroke-width=\"0\"/><path aria-label=\"x1: 2300; x2: 2302.9; level: 23; level2: 23.9; status: Default; sf: h5g_create(loc_id::HDF5.File, pathname::String, lcpl_id::HDF5.LinkCreateProperties, gcpl_id::HDF5.GroupCreateProperties, gapl_id::Int64) at functions.jl:1770\" role=\"graphics-symbol\" aria-roledescription=\"rect mark\" d=\"M657.1428571428571,126.85714285714286h0.8285714285715358v10.285714285714278h-0.8285714285715358Z\" fill=\"#4c78a8\" fill-opacity=\"1\" stroke=\"#505050\" stroke-width=\"0\"/><path aria-label=\"x1: 2303; x2: 2307.9; level: 18; level2: 18.9; status: Runtime dispatch; sf: (::Main.Schelling.var&quot;#8#9&quot;{Vector{Int64}, Dict{String, Any}})(fid::HDF5.File) at Schelling.jl:397\" role=\"graphics-symbol\" aria-roledescription=\"rect mark\" d=\"M658,184.00000000000003h1.3999999999999773v10.285714285714278h-1.3999999999999773Z\" fill=\"#e45756\" fill-opacity=\"1\" stroke=\"#505050\" stroke-width=\"0\"/><path aria-label=\"x1: 2303; x2: 2303.9; level: 19; level2: 19.9; status: Default; sf: setindex!(parent::HDF5.Group, val::String, path::String) at highlevel.jl:96\" role=\"graphics-symbol\" aria-roledescription=\"rect mark\" d=\"M658,172.5714285714286h0.2571428571428669v10.28571428571425h-0.2571428571428669Z\" fill=\"#4c78a8\" fill-opacity=\"1\" stroke=\"#505050\" stroke-width=\"0\"/><path aria-label=\"x1: 2303; x2: 2303.9; level: 20; level2: 20.9; status: Default; sf: #setindex!#108 at highlevel.jl:113 [inlined]\" role=\"graphics-symbol\" aria-roledescription=\"rect mark\" d=\"M658,161.14285714285717h0.2571428571428669v10.285714285714278h-0.2571428571428669Z\" fill=\"#4c78a8\" fill-opacity=\"1\" stroke=\"#505050\" stroke-width=\"0\"/><path aria-label=\"x1: 2303; x2: 2303.9; level: 21; level2: 21.9; status: Default; sf: write at datasets.jl:305 [inlined]\" role=\"graphics-symbol\" aria-roledescription=\"rect mark\" d=\"M658,149.71428571428572h0.2571428571428669v10.285714285714278h-0.2571428571428669Z\" fill=\"#4c78a8\" fill-opacity=\"1\" stroke=\"#505050\" stroke-width=\"0\"/><path aria-label=\"x1: 2303; x2: 2303.9; level: 22; level2: 22.9; status: Default; sf: #write#57 at datasets.jl:305 [inlined]\" role=\"graphics-symbol\" aria-roledescription=\"rect mark\" d=\"M658,138.2857142857143h0.2571428571428669v10.285714285714278h-0.2571428571428669Z\" fill=\"#4c78a8\" fill-opacity=\"1\" stroke=\"#505050\" stroke-width=\"0\"/><path aria-label=\"x1: 2303; x2: 2303.9; level: 23; level2: 23.9; status: Default; sf: write_dataset at datasets.jl:278 [inlined]\" role=\"graphics-symbol\" aria-roledescription=\"rect mark\" d=\"M658,126.85714285714286h0.2571428571428669v10.285714285714278h-0.2571428571428669Z\" fill=\"#4c78a8\" fill-opacity=\"1\" stroke=\"#505050\" stroke-width=\"0\"/><path aria-label=\"x1: 2303; x2: 2303.9; level: 24; level2: 24.9; status: Default; sf: write_dataset(parent::HDF5.Group, name::String, data::String; pv::Base.Pairs{Symbol, Union{}, Tuple{}, NamedTuple{(), Tuple{}}}) at datasets.jl:281\" role=\"graphics-symbol\" aria-roledescription=\"rect mark\" d=\"M658,115.42857142857143h0.2571428571428669v10.285714285714278h-0.2571428571428669Z\" fill=\"#4c78a8\" fill-opacity=\"1\" stroke=\"#505050\" stroke-width=\"0\"/><path aria-label=\"x1: 2303; x2: 2303.9; level: 25; level2: 25.9; status: Default; sf: create_dataset at datasets.jl:264 [inlined]\" role=\"graphics-symbol\" aria-roledescription=\"rect mark\" d=\"M658,104h0.2571428571428669v10.285714285714278h-0.2571428571428669Z\" fill=\"#4c78a8\" fill-opacity=\"1\" stroke=\"#505050\" stroke-width=\"0\"/><path aria-label=\"x1: 2303; x2: 2303.9; level: 26; level2: 26.9; status: Default; sf: create_dataset(parent::HDF5.Group, name::String, data::String; pv::Base.Pairs{Symbol, Union{}, Tuple{}, NamedTuple{(), Tuple{}}}) at datasets.jl:267\" role=\"graphics-symbol\" aria-roledescription=\"rect mark\" d=\"M658,92.57142857142857h0.2571428571428669v10.285714285714278h-0.2571428571428669Z\" fill=\"#4c78a8\" fill-opacity=\"1\" stroke=\"#505050\" stroke-width=\"0\"/><path aria-label=\"x1: 2303; x2: 2303.9; level: 27; level2: 27.9; status: Default; sf: datatype(str::String) at typeconversions.jl:212\" role=\"graphics-symbol\" aria-roledescription=\"rect mark\" d=\"M658,81.14285714285714h0.2571428571428669v10.285714285714278h-0.2571428571428669Z\" fill=\"#4c78a8\" fill-opacity=\"1\" stroke=\"#505050\" stroke-width=\"0\"/><path aria-label=\"x1: 2303; x2: 2303.9; level: 28; level2: 28.9; status: Default; sf: h5t_copy(dtype_id::Int64) at functions.jl:6744\" role=\"graphics-symbol\" aria-roledescription=\"rect mark\" d=\"M658,69.71428571428575h0.2571428571428669v10.285714285714235h-0.2571428571428669Z\" fill=\"#4c78a8\" fill-opacity=\"1\" stroke=\"#505050\" stroke-width=\"0\"/><path aria-label=\"x1: 2303; x2: 2303.9; level: 29; level2: 29.9; status: Default; sf: lock at lock.jl:103 [inlined]\" role=\"graphics-symbol\" aria-roledescription=\"rect mark\" d=\"M658,58.28571428571432h0.2571428571428669v10.285714285714235h-0.2571428571428669Z\" fill=\"#4c78a8\" fill-opacity=\"1\" stroke=\"#505050\" stroke-width=\"0\"/><path aria-label=\"x1: 2303; x2: 2303.9; level: 30; level2: 30.9; status: Default; sf: trylock at lock.jl:0 [inlined]\" role=\"graphics-symbol\" aria-roledescription=\"rect mark\" d=\"M658,46.85714285714289h0.2571428571428669v10.28571428571427h-0.2571428571428669Z\" fill=\"#4c78a8\" fill-opacity=\"1\" stroke=\"#505050\" stroke-width=\"0\"/><path aria-label=\"x1: 2304; x2: 2307.9; level: 19; level2: 19.9; status: Default; sf: setindex!(parent::HDF5.Group, val::Int64, path::String) at highlevel.jl:96\" role=\"graphics-symbol\" aria-roledescription=\"rect mark\" d=\"M658.2857142857142,172.5714285714286h1.1142857142857565v10.28571428571425h-1.1142857142857565Z\" fill=\"#4c78a8\" fill-opacity=\"1\" stroke=\"#505050\" stroke-width=\"0\"/><path aria-label=\"x1: 2304; x2: 2307.9; level: 20; level2: 20.9; status: Default; sf: #setindex!#108 at highlevel.jl:113 [inlined]\" role=\"graphics-symbol\" aria-roledescription=\"rect mark\" d=\"M658.2857142857142,161.14285714285717h1.1142857142857565v10.285714285714278h-1.1142857142857565Z\" fill=\"#4c78a8\" fill-opacity=\"1\" stroke=\"#505050\" stroke-width=\"0\"/><path aria-label=\"x1: 2304; x2: 2307.9; level: 21; level2: 21.9; status: Default; sf: write at datasets.jl:305 [inlined]\" role=\"graphics-symbol\" aria-roledescription=\"rect mark\" d=\"M658.2857142857142,149.71428571428572h1.1142857142857565v10.285714285714278h-1.1142857142857565Z\" fill=\"#4c78a8\" fill-opacity=\"1\" stroke=\"#505050\" stroke-width=\"0\"/><path aria-label=\"x1: 2304; x2: 2307.9; level: 22; level2: 22.9; status: Default; sf: #write#57 at datasets.jl:305 [inlined]\" role=\"graphics-symbol\" aria-roledescription=\"rect mark\" d=\"M658.2857142857142,138.2857142857143h1.1142857142857565v10.285714285714278h-1.1142857142857565Z\" fill=\"#4c78a8\" fill-opacity=\"1\" stroke=\"#505050\" stroke-width=\"0\"/><path aria-label=\"x1: 2304; x2: 2307.9; level: 23; level2: 23.9; status: Default; sf: write_dataset at datasets.jl:278 [inlined]\" role=\"graphics-symbol\" aria-roledescription=\"rect mark\" d=\"M658.2857142857142,126.85714285714286h1.1142857142857565v10.285714285714278h-1.1142857142857565Z\" fill=\"#4c78a8\" fill-opacity=\"1\" stroke=\"#505050\" stroke-width=\"0\"/><path aria-label=\"x1: 2304; x2: 2306.9; level: 24; level2: 24.9; status: Default; sf: write_dataset(parent::HDF5.Group, name::String, data::Float64; pv::Base.Pairs{Symbol, Union{}, Tuple{}, NamedTuple{(), Tuple{}}}) at datasets.jl:281\" role=\"graphics-symbol\" aria-roledescription=\"rect mark\" d=\"M658.2857142857142,115.42857142857143h0.8285714285715358v10.285714285714278h-0.8285714285715358Z\" fill=\"#4c78a8\" fill-opacity=\"1\" stroke=\"#505050\" stroke-width=\"0\"/><path aria-label=\"x1: 2304; x2: 2306.9; level: 25; level2: 25.9; status: Default; sf: create_dataset at datasets.jl:264 [inlined]\" role=\"graphics-symbol\" aria-roledescription=\"rect mark\" d=\"M658.2857142857142,104h0.8285714285715358v10.285714285714278h-0.8285714285715358Z\" fill=\"#4c78a8\" fill-opacity=\"1\" stroke=\"#505050\" stroke-width=\"0\"/><path aria-label=\"x1: 2304; x2: 2306.9; level: 26; level2: 26.9; status: Default; sf: create_dataset(parent::HDF5.Group, name::String, data::Float64; pv::Base.Pairs{Symbol, Union{}, Tuple{}, NamedTuple{(), Tuple{}}}) at datasets.jl:270\" role=\"graphics-symbol\" aria-roledescription=\"rect mark\" d=\"M658.2857142857142,92.57142857142857h0.8285714285715358v10.285714285714278h-0.8285714285715358Z\" fill=\"#4c78a8\" fill-opacity=\"1\" stroke=\"#505050\" stroke-width=\"0\"/><path aria-label=\"x1: 2304; x2: 2306.9; level: 27; level2: 27.9; status: Default; sf: create_dataset(parent::HDF5.Group, path::String, dtype::HDF5.Datatype, dspace::HDF5.Dataspace) at datasets.jl:40\" role=\"graphics-symbol\" aria-roledescription=\"rect mark\" d=\"M658.2857142857142,81.14285714285714h0.8285714285715358v10.285714285714278h-0.8285714285715358Z\" fill=\"#4c78a8\" fill-opacity=\"1\" stroke=\"#505050\" stroke-width=\"0\"/><path aria-label=\"x1: 2304; x2: 2304.9; level: 28; level2: 28.9; status: Default; sf: create_dataset(parent::HDF5.Group, path::String, dtype::HDF5.Datatype, dspace::HDF5.Dataspace; dcpl::HDF5.DatasetCreateProperties, dxpl::HDF5.DatasetTransferProperties, dapl::HDF5.DatasetAccessProperties, pv::Base.Pairs{Symbol, Union{}, Tuple{}, NamedTuple{(), Tuple{}}}) at datasets.jl:50\" role=\"graphics-symbol\" aria-roledescription=\"rect mark\" d=\"M658.2857142857142,69.71428571428575h0.2571428571428669v10.285714285714235h-0.2571428571428669Z\" fill=\"#4c78a8\" fill-opacity=\"1\" stroke=\"#505050\" stroke-width=\"0\"/><path aria-label=\"x1: 2304; x2: 2304.9; level: 29; level2: 29.9; status: Default; sf: haskey at groups.jl:123 [inlined]\" role=\"graphics-symbol\" aria-roledescription=\"rect mark\" d=\"M658.2857142857142,58.28571428571432h0.2571428571428669v10.285714285714235h-0.2571428571428669Z\" fill=\"#4c78a8\" fill-opacity=\"1\" stroke=\"#505050\" stroke-width=\"0\"/><path aria-label=\"x1: 2304; x2: 2304.9; level: 30; level2: 30.9; status: Default; sf: haskey(parent::HDF5.Group, path::String, lapl::HDF5.LinkAccessProperties) at groups.jl:127\" role=\"graphics-symbol\" aria-roledescription=\"rect mark\" d=\"M658.2857142857142,46.85714285714289h0.2571428571428669v10.28571428571427h-0.2571428571428669Z\" fill=\"#4c78a8\" fill-opacity=\"1\" stroke=\"#505050\" stroke-width=\"0\"/><path aria-label=\"x1: 2304; x2: 2304.9; level: 31; level2: 31.9; status: Default; sf: h5l_exists(loc_id::HDF5.Group, pathname::String, lapl_id::HDF5.LinkAccessProperties) at functions.jl:2058\" role=\"graphics-symbol\" aria-roledescription=\"rect mark\" d=\"M658.2857142857142,35.42857142857145h0.2571428571428669v10.285714285714278h-0.2571428571428669Z\" fill=\"#4c78a8\" fill-opacity=\"1\" stroke=\"#505050\" stroke-width=\"0\"/><path aria-label=\"x1: 2305; x2: 2306.9; level: 28; level2: 28.9; status: Default; sf: create_dataset(parent::HDF5.Group, path::String, dtype::HDF5.Datatype, dspace::HDF5.Dataspace; dcpl::HDF5.DatasetCreateProperties, dxpl::HDF5.DatasetTransferProperties, dapl::HDF5.DatasetAccessProperties, pv::Base.Pairs{Symbol, Union{}, Tuple{}, NamedTuple{(), Tuple{}}}) at datasets.jl:60\" role=\"graphics-symbol\" aria-roledescription=\"rect mark\" d=\"M658.5714285714286,69.71428571428575h0.5428571428572013v10.285714285714235h-0.5428571428572013Z\" fill=\"#4c78a8\" fill-opacity=\"1\" stroke=\"#505050\" stroke-width=\"0\"/><path aria-label=\"x1: 2305; x2: 2306.9; level: 29; level2: 29.9; status: Default; sf: h5d_create(loc_id::HDF5.Group, pathname::String, dtype_id::HDF5.Datatype, space_id::HDF5.Dataspace, lcpl_id::HDF5.LinkCreateProperties, dcpl_id::HDF5.DatasetCreateProperties, dapl_id::HDF5.DatasetAccessProperties) at functions.jl:470\" role=\"graphics-symbol\" aria-roledescription=\"rect mark\" d=\"M658.5714285714286,58.28571428571432h0.5428571428572013v10.285714285714235h-0.5428571428572013Z\" fill=\"#4c78a8\" fill-opacity=\"1\" stroke=\"#505050\" stroke-width=\"0\"/><path aria-label=\"x1: 2307; x2: 2307.9; level: 24; level2: 24.9; status: Default; sf: write_dataset(parent::HDF5.Group, name::String, data::Int64; pv::Base.Pairs{Symbol, Union{}, Tuple{}, NamedTuple{(), Tuple{}}}) at datasets.jl:288\" role=\"graphics-symbol\" aria-roledescription=\"rect mark\" d=\"M659.1428571428571,115.42857142857143h0.2571428571428669v10.285714285714278h-0.2571428571428669Z\" fill=\"#4c78a8\" fill-opacity=\"1\" stroke=\"#505050\" stroke-width=\"0\"/><path aria-label=\"x1: 2307; x2: 2307.9; level: 25; level2: 25.9; status: Default; sf: close at objects.jl:16 [inlined]\" role=\"graphics-symbol\" aria-roledescription=\"rect mark\" d=\"M659.1428571428571,104h0.2571428571428669v10.285714285714278h-0.2571428571428669Z\" fill=\"#4c78a8\" fill-opacity=\"1\" stroke=\"#505050\" stroke-width=\"0\"/><path aria-label=\"x1: 2307; x2: 2307.9; level: 26; level2: 26.9; status: Default; sf: h5o_close(object_id::HDF5.Dataset) at functions.jl:2158\" role=\"graphics-symbol\" aria-roledescription=\"rect mark\" d=\"M659.1428571428571,92.57142857142857h0.2571428571428669v10.285714285714278h-0.2571428571428669Z\" fill=\"#4c78a8\" fill-opacity=\"1\" stroke=\"#505050\" stroke-width=\"0\"/><path aria-label=\"x1: 2308; x2: 2310.9; level: 17; level2: 17.9; status: Default; sf: (::HDF5.var&quot;#17#18&quot;{HDF5.HDF5Context, Base.Pairs{Symbol, Union{}, Tuple{}, NamedTuple{(), Tuple{}}}, Main.Schelling.var&quot;#8#9&quot;{Vector{Int64}, Dict{String, Any}}, HDF5.File})() at file.jl:100\" role=\"graphics-symbol\" aria-roledescription=\"rect mark\" d=\"M659.4285714285714,195.42857142857147h0.8285714285714221v10.28571428571422h-0.8285714285714221Z\" fill=\"#4c78a8\" fill-opacity=\"1\" stroke=\"#505050\" stroke-width=\"0\"/><path aria-label=\"x1: 2308; x2: 2310.9; level: 18; level2: 18.9; status: Default; sf: close at file.jl:122 [inlined]\" role=\"graphics-symbol\" aria-roledescription=\"rect mark\" d=\"M659.4285714285714,184.00000000000003h0.8285714285714221v10.285714285714278h-0.8285714285714221Z\" fill=\"#4c78a8\" fill-opacity=\"1\" stroke=\"#505050\" stroke-width=\"0\"/><path aria-label=\"x1: 2308; x2: 2310.9; level: 19; level2: 19.9; status: Default; sf: h5f_close(file_id::HDF5.File) at functions.jl:1050\" role=\"graphics-symbol\" aria-roledescription=\"rect mark\" d=\"M659.4285714285714,172.5714285714286h0.8285714285714221v10.28571428571425h-0.8285714285714221Z\" fill=\"#4c78a8\" fill-opacity=\"1\" stroke=\"#505050\" stroke-width=\"0\"/><path aria-label=\"x1: 2311; x2: 2311.9; level: 17; level2: 17.9; status: Default; sf: (::HDF5.var&quot;#17#18&quot;{HDF5.HDF5Context, Base.Pairs{Symbol, Union{}, Tuple{}, NamedTuple{(), Tuple{}}}, Main.Schelling.var&quot;#8#9&quot;{Vector{Int64}, Dict{String, Any}}, HDF5.File})() at file.jl:101\" role=\"graphics-symbol\" aria-roledescription=\"rect mark\" d=\"M660.2857142857143,195.42857142857147h0.2571428571428669v10.28571428571422h-0.2571428571428669Z\" fill=\"#4c78a8\" fill-opacity=\"1\" stroke=\"#505050\" stroke-width=\"0\"/><path aria-label=\"x1: 2311; x2: 2311.9; level: 18; level2: 18.9; status: Default; sf: close at context.jl:63 [inlined]\" role=\"graphics-symbol\" aria-roledescription=\"rect mark\" d=\"M660.2857142857143,184.00000000000003h0.2571428571428669v10.285714285714278h-0.2571428571428669Z\" fill=\"#4c78a8\" fill-opacity=\"1\" stroke=\"#505050\" stroke-width=\"0\"/><path aria-label=\"x1: 2311; x2: 2311.9; level: 19; level2: 19.9; status: Default; sf: foreach at tuple.jl:555 [inlined]\" role=\"graphics-symbol\" aria-roledescription=\"rect mark\" d=\"M660.2857142857143,172.5714285714286h0.2571428571428669v10.28571428571425h-0.2571428571428669Z\" fill=\"#4c78a8\" fill-opacity=\"1\" stroke=\"#505050\" stroke-width=\"0\"/><path aria-label=\"x1: 2311; x2: 2311.9; level: 20; level2: 20.9; status: Default; sf: foldl at reduce.jl:193 [inlined]\" role=\"graphics-symbol\" aria-roledescription=\"rect mark\" d=\"M660.2857142857143,161.14285714285717h0.2571428571428669v10.285714285714278h-0.2571428571428669Z\" fill=\"#4c78a8\" fill-opacity=\"1\" stroke=\"#505050\" stroke-width=\"0\"/><path aria-label=\"x1: 2311; x2: 2311.9; level: 21; level2: 21.9; status: Default; sf: #foldl#260 at reduce.jl:193 [inlined]\" role=\"graphics-symbol\" aria-roledescription=\"rect mark\" d=\"M660.2857142857143,149.71428571428572h0.2571428571428669v10.285714285714278h-0.2571428571428669Z\" fill=\"#4c78a8\" fill-opacity=\"1\" stroke=\"#505050\" stroke-width=\"0\"/><path aria-label=\"x1: 2311; x2: 2311.9; level: 22; level2: 22.9; status: Default; sf: mapfoldl at reduce.jl:170 [inlined]\" role=\"graphics-symbol\" aria-roledescription=\"rect mark\" d=\"M660.2857142857143,138.2857142857143h0.2571428571428669v10.285714285714278h-0.2571428571428669Z\" fill=\"#4c78a8\" fill-opacity=\"1\" stroke=\"#505050\" stroke-width=\"0\"/><path aria-label=\"x1: 2311; x2: 2311.9; level: 23; level2: 23.9; status: Default; sf: #mapfoldl#259 at reduce.jl:170 [inlined]\" role=\"graphics-symbol\" aria-roledescription=\"rect mark\" d=\"M660.2857142857143,126.85714285714286h0.2571428571428669v10.285714285714278h-0.2571428571428669Z\" fill=\"#4c78a8\" fill-opacity=\"1\" stroke=\"#505050\" stroke-width=\"0\"/><path aria-label=\"x1: 2311; x2: 2311.9; level: 24; level2: 24.9; status: Default; sf: mapfoldl_impl at reduce.jl:44 [inlined]\" role=\"graphics-symbol\" aria-roledescription=\"rect mark\" d=\"M660.2857142857143,115.42857142857143h0.2571428571428669v10.285714285714278h-0.2571428571428669Z\" fill=\"#4c78a8\" fill-opacity=\"1\" stroke=\"#505050\" stroke-width=\"0\"/><path aria-label=\"x1: 2311; x2: 2311.9; level: 25; level2: 25.9; status: Default; sf: foldl_impl at reduce.jl:48 [inlined]\" role=\"graphics-symbol\" aria-roledescription=\"rect mark\" d=\"M660.2857142857143,104h0.2571428571428669v10.285714285714278h-0.2571428571428669Z\" fill=\"#4c78a8\" fill-opacity=\"1\" stroke=\"#505050\" stroke-width=\"0\"/><path aria-label=\"x1: 2311; x2: 2311.9; level: 26; level2: 26.9; status: Default; sf: _foldl_impl at tuple.jl:277 [inlined]\" role=\"graphics-symbol\" aria-roledescription=\"rect mark\" d=\"M660.2857142857143,92.57142857142857h0.2571428571428669v10.285714285714278h-0.2571428571428669Z\" fill=\"#4c78a8\" fill-opacity=\"1\" stroke=\"#505050\" stroke-width=\"0\"/><path aria-label=\"x1: 2311; x2: 2311.9; level: 27; level2: 27.9; status: Default; sf: afoldl(::Base.BottomRF{Base.var&quot;#57#58&quot;{HDF5.var&quot;#10#11&quot;{HDF5.HDF5Context}}}, ::Nothing, ::Symbol, ::Symbol, ::Symbol, ::Symbol, ::Symbol, ::Symbol, ::Symbol, ::Symbol, ::Symbol, ::Symbol, ::Symbol, ::Symbol, ::Symbol, ::Symbol, ::Symbol, ::Symbol, ::Symbol) at operators.jl:564\" role=\"graphics-symbol\" aria-roledescription=\"rect mark\" d=\"M660.2857142857143,81.14285714285714h0.2571428571428669v10.285714285714278h-0.2571428571428669Z\" fill=\"#4c78a8\" fill-opacity=\"1\" stroke=\"#505050\" stroke-width=\"0\"/><path aria-label=\"x1: 2311; x2: 2311.9; level: 28; level2: 28.9; status: Default; sf: BottomRF at reduce.jl:81 [inlined]\" role=\"graphics-symbol\" aria-roledescription=\"rect mark\" d=\"M660.2857142857143,69.71428571428575h0.2571428571428669v10.285714285714235h-0.2571428571428669Z\" fill=\"#4c78a8\" fill-opacity=\"1\" stroke=\"#505050\" stroke-width=\"0\"/><path aria-label=\"x1: 2311; x2: 2311.9; level: 29; level2: 29.9; status: Default; sf: #57 at tuple.jl:555 [inlined]\" role=\"graphics-symbol\" aria-roledescription=\"rect mark\" d=\"M660.2857142857143,58.28571428571432h0.2571428571428669v10.285714285714235h-0.2571428571428669Z\" fill=\"#4c78a8\" fill-opacity=\"1\" stroke=\"#505050\" stroke-width=\"0\"/><path aria-label=\"x1: 2311; x2: 2311.9; level: 30; level2: 30.9; status: Runtime dispatch; sf: (::HDF5.var&quot;#10#11&quot;{HDF5.HDF5Context})(n::Symbol) at context.jl:64\" role=\"graphics-symbol\" aria-roledescription=\"rect mark\" d=\"M660.2857142857143,46.85714285714289h0.2571428571428669v10.28571428571427h-0.2571428571428669Z\" fill=\"#e45756\" fill-opacity=\"1\" stroke=\"#505050\" stroke-width=\"0\"/><path aria-label=\"x1: 2311; x2: 2311.9; level: 31; level2: 31.9; status: Default; sf: close(obj::HDF5.StringCreateProperties) at properties.jl:11\" role=\"graphics-symbol\" aria-roledescription=\"rect mark\" d=\"M660.2857142857143,35.42857142857145h0.2571428571428669v10.285714285714278h-0.2571428571428669Z\" fill=\"#4c78a8\" fill-opacity=\"1\" stroke=\"#505050\" stroke-width=\"0\"/><path aria-label=\"x1: 2311; x2: 2311.9; level: 32; level2: 32.9; status: Default; sf: isvalid at properties.jl:19 [inlined]\" role=\"graphics-symbol\" aria-roledescription=\"rect mark\" d=\"M660.2857142857143,24.00000000000002h0.2571428571428669v10.285714285714278h-0.2571428571428669Z\" fill=\"#4c78a8\" fill-opacity=\"1\" stroke=\"#505050\" stroke-width=\"0\"/><path aria-label=\"x1: 2311; x2: 2311.9; level: 33; level2: 33.9; status: Default; sf: h5i_is_valid(obj_id::HDF5.StringCreateProperties) at functions.jl:1962\" role=\"graphics-symbol\" aria-roledescription=\"rect mark\" d=\"M660.2857142857143,12.571428571428589h0.2571428571428669v10.285714285714276h-0.2571428571428669Z\" fill=\"#4c78a8\" fill-opacity=\"1\" stroke=\"#505050\" stroke-width=\"0\"/><path aria-label=\"x1: 2313; x2: 2315.9; level: 9; level2: 9.9; status: Default; sf: move!(state::Vector{Int64}, params::Dict{String, Any}, total_occupants::Int64) at Schelling.jl:233\" role=\"graphics-symbol\" aria-roledescription=\"rect mark\" d=\"M660.8571428571429,286.85714285714283h0.8285714285714221v10.285714285714334h-0.8285714285714221Z\" fill=\"#4c78a8\" fill-opacity=\"1\" stroke=\"#505050\" stroke-width=\"0\"/><path aria-label=\"x1: 2329; x2: 2331.9; level: 1; level2: 1.9; status: Default; sf: /(x::Int64, y::Int64) at int.jl:97\" role=\"graphics-symbol\" aria-roledescription=\"rect mark\" d=\"M665.4285714285714,378.2857142857143h0.8285714285714221v10.285714285714278h-0.8285714285714221Z\" fill=\"#4c78a8\" fill-opacity=\"1\" stroke=\"#505050\" stroke-width=\"0\"/><path aria-label=\"x1: 2329; x2: 2331.9; level: 2; level2: 2.9; status: Default; sf: float at float.jl:269 [inlined]\" role=\"graphics-symbol\" aria-roledescription=\"rect mark\" d=\"M665.4285714285714,366.85714285714283h0.8285714285714221v10.285714285714278h-0.8285714285714221Z\" fill=\"#4c78a8\" fill-opacity=\"1\" stroke=\"#505050\" stroke-width=\"0\"/><path aria-label=\"x1: 2329; x2: 2331.9; level: 3; level2: 3.9; status: Default; sf: AbstractFloat at float.jl:243 [inlined]\" role=\"graphics-symbol\" aria-roledescription=\"rect mark\" d=\"M665.4285714285714,355.42857142857144h0.8285714285714221v10.285714285714278h-0.8285714285714221Z\" fill=\"#4c78a8\" fill-opacity=\"1\" stroke=\"#505050\" stroke-width=\"0\"/><path aria-label=\"x1: 2329; x2: 2331.9; level: 4; level2: 4.9; status: Default; sf: Float64 at float.jl:146 [inlined]\" role=\"graphics-symbol\" aria-roledescription=\"rect mark\" d=\"M665.4285714285714,344h0.8285714285714221v10.285714285714278h-0.8285714285714221Z\" fill=\"#4c78a8\" fill-opacity=\"1\" stroke=\"#505050\" stroke-width=\"0\"/><path aria-label=\"x1: 2345; x2: 2345.9; level: 1; level2: 1.9; status: Default; sf: &lt;(x::Float64, y::Float64) at float.jl:412\" role=\"graphics-symbol\" aria-roledescription=\"rect mark\" d=\"M670,378.2857142857143h0.2571428571428669v10.285714285714278h-0.2571428571428669Z\" fill=\"#4c78a8\" fill-opacity=\"1\" stroke=\"#505050\" stroke-width=\"0\"/><path aria-label=\"x1: 2346; x2: 2352.9; level: 1; level2: 1.9; status: Default; sf: -(x::Float64, y::Float64) at float.jl:384\" role=\"graphics-symbol\" aria-roledescription=\"rect mark\" d=\"M670.2857142857143,378.2857142857143h1.9714285714285325v10.285714285714278h-1.9714285714285325Z\" fill=\"#4c78a8\" fill-opacity=\"1\" stroke=\"#505050\" stroke-width=\"0\"/><path aria-label=\"x1: 2363; x2: 2365.9; level: 1; level2: 1.9; status: Default; sf: +(x::Float64, y::Float64) at float.jl:383\" role=\"graphics-symbol\" aria-roledescription=\"rect mark\" d=\"M675.1428571428572,378.2857142857143h0.8285714285713084v10.285714285714278h-0.8285714285713084Z\" fill=\"#4c78a8\" fill-opacity=\"1\" stroke=\"#505050\" stroke-width=\"0\"/><path aria-label=\"x1: 2373; x2: 2374.9; level: 1; level2: 1.9; status: Default; sf: rand(rng::Random.TaskLocalRNG, sp::Random.SamplerRangeNDL{UInt64, Int64}) at generation.jl:342\" role=\"graphics-symbol\" aria-roledescription=\"rect mark\" d=\"M678,378.2857142857143h0.5428571428572013v10.285714285714278h-0.5428571428572013Z\" fill=\"#4c78a8\" fill-opacity=\"1\" stroke=\"#505050\" stroke-width=\"0\"/><path aria-label=\"x1: 2380; x2: 2380.9; level: 1; level2: 1.9; status: Default; sf: close(obj::HDF5.ObjectCopyProperties) at properties.jl:11\" role=\"graphics-symbol\" aria-roledescription=\"rect mark\" d=\"M680,378.2857142857143h0.2571428571428669v10.285714285714278h-0.2571428571428669Z\" fill=\"#4c78a8\" fill-opacity=\"1\" stroke=\"#505050\" stroke-width=\"0\"/><path aria-label=\"x1: 2380; x2: 2380.9; level: 2; level2: 2.9; status: Default; sf: isvalid at properties.jl:19 [inlined]\" role=\"graphics-symbol\" aria-roledescription=\"rect mark\" d=\"M680,366.85714285714283h0.2571428571428669v10.285714285714278h-0.2571428571428669Z\" fill=\"#4c78a8\" fill-opacity=\"1\" stroke=\"#505050\" stroke-width=\"0\"/><path aria-label=\"x1: 2380; x2: 2380.9; level: 3; level2: 3.9; status: Default; sf: h5i_is_valid(obj_id::HDF5.ObjectCopyProperties) at functions.jl:1959\" role=\"graphics-symbol\" aria-roledescription=\"rect mark\" d=\"M680,355.42857142857144h0.2571428571428669v10.285714285714278h-0.2571428571428669Z\" fill=\"#4c78a8\" fill-opacity=\"1\" stroke=\"#505050\" stroke-width=\"0\"/><path aria-label=\"x1: 2381; x2: 2382.9; level: 1; level2: 1.9; status: Default; sf: gain(from::Int64, to::Int64, params::Dict{String, Any}) at Schelling.jl:242\" role=\"graphics-symbol\" aria-roledescription=\"rect mark\" d=\"M680.2857142857142,378.2857142857143h0.5428571428572013v10.285714285714278h-0.5428571428572013Z\" fill=\"#4c78a8\" fill-opacity=\"1\" stroke=\"#505050\" stroke-width=\"0\"/><path aria-label=\"x1: 2383; x2: 2383.9; level: 1; level2: 1.9; status: Default; sf: gain(from::Int64, to::Int64, params::Dict{String, Any}) at Schelling.jl:246\" role=\"graphics-symbol\" aria-roledescription=\"rect mark\" d=\"M680.8571428571429,378.2857142857143h0.2571428571428669v10.285714285714278h-0.2571428571428669Z\" fill=\"#4c78a8\" fill-opacity=\"1\" stroke=\"#505050\" stroke-width=\"0\"/><path aria-label=\"x1: 2383; x2: 2383.9; level: 2; level2: 2.9; status: Default; sf: getindex at dict.jl:497 [inlined]\" role=\"graphics-symbol\" aria-roledescription=\"rect mark\" d=\"M680.8571428571429,366.85714285714283h0.2571428571428669v10.285714285714278h-0.2571428571428669Z\" fill=\"#4c78a8\" fill-opacity=\"1\" stroke=\"#505050\" stroke-width=\"0\"/><path aria-label=\"x1: 2383; x2: 2383.9; level: 3; level2: 3.9; status: Default; sf: ht_keyindex(h::Dict{String, Any}, key::String) at dict.jl:280\" role=\"graphics-symbol\" aria-roledescription=\"rect mark\" d=\"M680.8571428571429,355.42857142857144h0.2571428571428669v10.285714285714278h-0.2571428571428669Z\" fill=\"#4c78a8\" fill-opacity=\"1\" stroke=\"#505050\" stroke-width=\"0\"/><path aria-label=\"x1: 2384; x2: 2385.9; level: 1; level2: 1.9; status: Default; sf: glauber_prob(deltaG::Float64, params::Dict{String, Any}) at Schelling.jl:293\" role=\"graphics-symbol\" aria-roledescription=\"rect mark\" d=\"M681.1428571428571,378.2857142857143h0.5428571428572013v10.285714285714278h-0.5428571428572013Z\" fill=\"#4c78a8\" fill-opacity=\"1\" stroke=\"#505050\" stroke-width=\"0\"/><path aria-label=\"x1: 2386; x2: 2386.9; level: 1; level2: 1.9; status: Default; sf: glauber_prob(deltaG::Float64, params::Dict{String, Any}) at Schelling.jl:295\" role=\"graphics-symbol\" aria-roledescription=\"rect mark\" d=\"M681.7142857142857,378.2857142857143h0.2571428571429806v10.285714285714278h-0.2571428571429806Z\" fill=\"#4c78a8\" fill-opacity=\"1\" stroke=\"#505050\" stroke-width=\"0\"/><path aria-label=\"x1: 2386; x2: 2386.9; level: 2; level2: 2.9; status: Default; sf: getindex at dict.jl:497 [inlined]\" role=\"graphics-symbol\" aria-roledescription=\"rect mark\" d=\"M681.7142857142857,366.85714285714283h0.2571428571429806v10.285714285714278h-0.2571428571429806Z\" fill=\"#4c78a8\" fill-opacity=\"1\" stroke=\"#505050\" stroke-width=\"0\"/><path aria-label=\"x1: 2386; x2: 2386.9; level: 3; level2: 3.9; status: Default; sf: ht_keyindex(h::Dict{String, Any}, key::String) at dict.jl:280\" role=\"graphics-symbol\" aria-roledescription=\"rect mark\" d=\"M681.7142857142857,355.42857142857144h0.2571428571429806v10.285714285714278h-0.2571428571429806Z\" fill=\"#4c78a8\" fill-opacity=\"1\" stroke=\"#505050\" stroke-width=\"0\"/><path aria-label=\"x1: 2387; x2: 2387.9; level: 1; level2: 1.9; status: Default; sf: move!(state::Vector{Int64}, params::Dict{String, Any}, total_occupants::Int64) at Schelling.jl:209\" role=\"graphics-symbol\" aria-roledescription=\"rect mark\" d=\"M682,378.2857142857143h0.2571428571428669v10.285714285714278h-0.2571428571428669Z\" fill=\"#4c78a8\" fill-opacity=\"1\" stroke=\"#505050\" stroke-width=\"0\"/><path aria-label=\"x1: 2388; x2: 2388.9; level: 1; level2: 1.9; status: Default; sf: move!(state::Vector{Int64}, params::Dict{String, Any}, total_occupants::Int64) at Schelling.jl:214\" role=\"graphics-symbol\" aria-roledescription=\"rect mark\" d=\"M682.2857142857143,378.2857142857143h0.2571428571428669v10.285714285714278h-0.2571428571428669Z\" fill=\"#4c78a8\" fill-opacity=\"1\" stroke=\"#505050\" stroke-width=\"0\"/><path aria-label=\"x1: 2388; x2: 2388.9; level: 2; level2: 2.9; status: Default; sf: getindex at dict.jl:497 [inlined]\" role=\"graphics-symbol\" aria-roledescription=\"rect mark\" d=\"M682.2857142857143,366.85714285714283h0.2571428571428669v10.285714285714278h-0.2571428571428669Z\" fill=\"#4c78a8\" fill-opacity=\"1\" stroke=\"#505050\" stroke-width=\"0\"/><path aria-label=\"x1: 2388; x2: 2388.9; level: 3; level2: 3.9; status: Default; sf: ht_keyindex(h::Dict{String, Any}, key::String) at dict.jl:280\" role=\"graphics-symbol\" aria-roledescription=\"rect mark\" d=\"M682.2857142857143,355.42857142857144h0.2571428571428669v10.285714285714278h-0.2571428571428669Z\" fill=\"#4c78a8\" fill-opacity=\"1\" stroke=\"#505050\" stroke-width=\"0\"/><path aria-label=\"x1: 2389; x2: 2390.9; level: 1; level2: 1.9; status: Default; sf: move!(state::Vector{Int64}, params::Dict{String, Any}, total_occupants::Int64) at Schelling.jl:219\" role=\"graphics-symbol\" aria-roledescription=\"rect mark\" d=\"M682.5714285714286,378.2857142857143h0.5428571428570876v10.285714285714278h-0.5428571428570876Z\" fill=\"#4c78a8\" fill-opacity=\"1\" stroke=\"#505050\" stroke-width=\"0\"/><path aria-label=\"x1: 2389; x2: 2390.9; level: 2; level2: 2.9; status: Default; sf: pick_sites(state::Vector{Int64}, moveType::String, capacity::Int64, N::Int64) at Schelling.jl:171\" role=\"graphics-symbol\" aria-roledescription=\"rect mark\" d=\"M682.5714285714286,366.85714285714283h0.5428571428570876v10.285714285714278h-0.5428571428570876Z\" fill=\"#4c78a8\" fill-opacity=\"1\" stroke=\"#505050\" stroke-width=\"0\"/><path aria-label=\"x1: 2391; x2: 2394.9; level: 1; level2: 1.9; status: Default; sf: move!(state::Vector{Int64}, params::Dict{String, Any}, total_occupants::Int64) at Schelling.jl:222\" role=\"graphics-symbol\" aria-roledescription=\"rect mark\" d=\"M683.1428571428572,378.2857142857143h1.1142857142856428v10.285714285714278h-1.1142857142856428Z\" fill=\"#4c78a8\" fill-opacity=\"1\" stroke=\"#505050\" stroke-width=\"0\"/><path aria-label=\"x1: 2391; x2: 2394.9; level: 2; level2: 2.9; status: Default; sf: gain(from::Int64, to::Int64, params::Dict{String, Any}) at Schelling.jl:242\" role=\"graphics-symbol\" aria-roledescription=\"rect mark\" d=\"M683.1428571428572,366.85714285714283h1.1142857142856428v10.285714285714278h-1.1142857142856428Z\" fill=\"#4c78a8\" fill-opacity=\"1\" stroke=\"#505050\" stroke-width=\"0\"/><path aria-label=\"x1: 2395; x2: 2395.9; level: 1; level2: 1.9; status: Default; sf: pick_sites(state::Vector{Int64}, moveType::String, capacity::Int64, N::Int64) at Schelling.jl:171\" role=\"graphics-symbol\" aria-roledescription=\"rect mark\" d=\"M684.2857142857142,378.2857142857143h0.2571428571429806v10.285714285714278h-0.2571428571429806Z\" fill=\"#4c78a8\" fill-opacity=\"1\" stroke=\"#505050\" stroke-width=\"0\"/><path aria-label=\"x1: 2396; x2: 2396.9; level: 1; level2: 1.9; status: Default; sf: select_particle(density::Vector{Float64}) at Schelling.jl:151\" role=\"graphics-symbol\" aria-roledescription=\"rect mark\" d=\"M684.5714285714286,378.2857142857143h0.2571428571428669v10.285714285714278h-0.2571428571428669Z\" fill=\"#4c78a8\" fill-opacity=\"1\" stroke=\"#505050\" stroke-width=\"0\"/><path aria-label=\"x1: 2668; x2: 2672.9; level: 1; level2: 1.9; status: Default; sf: *(x::Float64, y::Float64) at float.jl:385\" role=\"graphics-symbol\" aria-roledescription=\"rect mark\" d=\"M762.2857142857142,378.2857142857143h1.400000000000091v10.285714285714278h-1.400000000000091Z\" fill=\"#4c78a8\" fill-opacity=\"1\" stroke=\"#505050\" stroke-width=\"0\"/><path aria-label=\"x1: 2673; x2: 2675.9; level: 1; level2: 1.9; status: Default; sf: ==(x::Float64, y::Int64) at float.jl:448\" role=\"graphics-symbol\" aria-roledescription=\"rect mark\" d=\"M763.7142857142857,378.2857142857143h0.8285714285715358v10.285714285714278h-0.8285714285715358Z\" fill=\"#4c78a8\" fill-opacity=\"1\" stroke=\"#505050\" stroke-width=\"0\"/><path aria-label=\"x1: 2673; x2: 2673.9; level: 2; level2: 2.9; status: Default; sf: &amp; at bool.jl:38 [inlined]\" role=\"graphics-symbol\" aria-roledescription=\"rect mark\" d=\"M763.7142857142857,366.85714285714283h0.2571428571428669v10.285714285714278h-0.2571428571428669Z\" fill=\"#4c78a8\" fill-opacity=\"1\" stroke=\"#505050\" stroke-width=\"0\"/><path aria-label=\"x1: 2674; x2: 2675.9; level: 2; level2: 2.9; status: Default; sf: == at float.jl:410 [inlined]\" role=\"graphics-symbol\" aria-roledescription=\"rect mark\" d=\"M764,366.85714285714283h0.5428571428572013v10.285714285714278h-0.5428571428572013Z\" fill=\"#4c78a8\" fill-opacity=\"1\" stroke=\"#505050\" stroke-width=\"0\"/><path aria-label=\"x1: 2676; x2: 2678.9; level: 1; level2: 1.9; status: Default; sf: +(x::Int64, y::Float64) at promotion.jl:388\" role=\"graphics-symbol\" aria-roledescription=\"rect mark\" d=\"M764.5714285714286,378.2857142857143h0.8285714285714221v10.285714285714278h-0.8285714285714221Z\" fill=\"#4c78a8\" fill-opacity=\"1\" stroke=\"#505050\" stroke-width=\"0\"/><path aria-label=\"x1: 2676; x2: 2678.9; level: 2; level2: 2.9; status: Default; sf: promote at promotion.jl:359 [inlined]\" role=\"graphics-symbol\" aria-roledescription=\"rect mark\" d=\"M764.5714285714286,366.85714285714283h0.8285714285714221v10.285714285714278h-0.8285714285714221Z\" fill=\"#4c78a8\" fill-opacity=\"1\" stroke=\"#505050\" stroke-width=\"0\"/><path aria-label=\"x1: 2676; x2: 2678.9; level: 3; level2: 3.9; status: Default; sf: _promote at promotion.jl:336 [inlined]\" role=\"graphics-symbol\" aria-roledescription=\"rect mark\" d=\"M764.5714285714286,355.42857142857144h0.8285714285714221v10.285714285714278h-0.8285714285714221Z\" fill=\"#4c78a8\" fill-opacity=\"1\" stroke=\"#505050\" stroke-width=\"0\"/><path aria-label=\"x1: 2676; x2: 2678.9; level: 4; level2: 4.9; status: Default; sf: convert at number.jl:7 [inlined]\" role=\"graphics-symbol\" aria-roledescription=\"rect mark\" d=\"M764.5714285714286,344h0.8285714285714221v10.285714285714278h-0.8285714285714221Z\" fill=\"#4c78a8\" fill-opacity=\"1\" stroke=\"#505050\" stroke-width=\"0\"/><path aria-label=\"x1: 2676; x2: 2678.9; level: 5; level2: 5.9; status: Default; sf: Float64 at float.jl:146 [inlined]\" role=\"graphics-symbol\" aria-roledescription=\"rect mark\" d=\"M764.5714285714286,332.57142857142856h0.8285714285714221v10.285714285714334h-0.8285714285714221Z\" fill=\"#4c78a8\" fill-opacity=\"1\" stroke=\"#505050\" stroke-width=\"0\"/><path aria-label=\"x1: 2679; x2: 2683.9; level: 1; level2: 1.9; status: Default; sf: exp(x::Float64) at exp.jl:326\" role=\"graphics-symbol\" aria-roledescription=\"rect mark\" d=\"M765.4285714285714,378.2857142857143h1.3999999999999773v10.285714285714278h-1.3999999999999773Z\" fill=\"#4c78a8\" fill-opacity=\"1\" stroke=\"#505050\" stroke-width=\"0\"/><path aria-label=\"x1: 2679; x2: 2679.9; level: 2; level2: 2.9; status: Default; sf: exp_impl at exp.jl:214 [inlined]\" role=\"graphics-symbol\" aria-roledescription=\"rect mark\" d=\"M765.4285714285714,366.85714285714283h0.2571428571428669v10.285714285714278h-0.2571428571428669Z\" fill=\"#4c78a8\" fill-opacity=\"1\" stroke=\"#505050\" stroke-width=\"0\"/><path aria-label=\"x1: 2679; x2: 2679.9; level: 3; level2: 3.9; status: Default; sf: muladd at float.jl:388 [inlined]\" role=\"graphics-symbol\" aria-roledescription=\"rect mark\" d=\"M765.4285714285714,355.42857142857144h0.2571428571428669v10.285714285714278h-0.2571428571428669Z\" fill=\"#4c78a8\" fill-opacity=\"1\" stroke=\"#505050\" stroke-width=\"0\"/><path aria-label=\"x1: 2680; x2: 2680.9; level: 2; level2: 2.9; status: Default; sf: exp_impl at exp.jl:218 [inlined]\" role=\"graphics-symbol\" aria-roledescription=\"rect mark\" d=\"M765.7142857142858,366.85714285714283h0.2571428571428669v10.285714285714278h-0.2571428571428669Z\" fill=\"#4c78a8\" fill-opacity=\"1\" stroke=\"#505050\" stroke-width=\"0\"/><path aria-label=\"x1: 2680; x2: 2680.9; level: 3; level2: 3.9; status: Default; sf: expm1b_kernel at exp.jl:78 [inlined]\" role=\"graphics-symbol\" aria-roledescription=\"rect mark\" d=\"M765.7142857142858,355.42857142857144h0.2571428571428669v10.285714285714278h-0.2571428571428669Z\" fill=\"#4c78a8\" fill-opacity=\"1\" stroke=\"#505050\" stroke-width=\"0\"/><path aria-label=\"x1: 2680; x2: 2680.9; level: 4; level2: 4.9; status: Default; sf: evalpoly at math.jl:177 [inlined]\" role=\"graphics-symbol\" aria-roledescription=\"rect mark\" d=\"M765.7142857142858,344h0.2571428571428669v10.285714285714278h-0.2571428571428669Z\" fill=\"#4c78a8\" fill-opacity=\"1\" stroke=\"#505050\" stroke-width=\"0\"/><path aria-label=\"x1: 2680; x2: 2680.9; level: 5; level2: 5.9; status: Default; sf: macro expansion at math.jl:178 [inlined]\" role=\"graphics-symbol\" aria-roledescription=\"rect mark\" d=\"M765.7142857142858,332.57142857142856h0.2571428571428669v10.285714285714334h-0.2571428571428669Z\" fill=\"#4c78a8\" fill-opacity=\"1\" stroke=\"#505050\" stroke-width=\"0\"/><path aria-label=\"x1: 2680; x2: 2680.9; level: 6; level2: 6.9; status: Default; sf: muladd at float.jl:388 [inlined]\" role=\"graphics-symbol\" aria-roledescription=\"rect mark\" d=\"M765.7142857142858,321.1428571428571h0.2571428571428669v10.285714285714278h-0.2571428571428669Z\" fill=\"#4c78a8\" fill-opacity=\"1\" stroke=\"#505050\" stroke-width=\"0\"/><path aria-label=\"x1: 2681; x2: 2683.9; level: 2; level2: 2.9; status: Default; sf: exp_impl at exp.jl:220 [inlined]\" role=\"graphics-symbol\" aria-roledescription=\"rect mark\" d=\"M766,366.85714285714283h0.8285714285714221v10.285714285714278h-0.8285714285714221Z\" fill=\"#4c78a8\" fill-opacity=\"1\" stroke=\"#505050\" stroke-width=\"0\"/><path aria-label=\"x1: 2681; x2: 2681.9; level: 3; level2: 3.9; status: Default; sf: abs at float.jl:486 [inlined]\" role=\"graphics-symbol\" aria-roledescription=\"rect mark\" d=\"M766,355.42857142857144h0.2571428571428669v10.285714285714278h-0.2571428571428669Z\" fill=\"#4c78a8\" fill-opacity=\"1\" stroke=\"#505050\" stroke-width=\"0\"/><path aria-label=\"x1: 2684; x2: 2689.9; level: 1; level2: 1.9; status: Default; sf: quadratic_utility(x::Float64, params::Dict{String, Any}) at Schelling.jl:361\" role=\"graphics-symbol\" aria-roledescription=\"rect mark\" d=\"M766.8571428571428,378.2857142857143h1.6857142857144254v10.285714285714278h-1.6857142857144254Z\" fill=\"#4c78a8\" fill-opacity=\"1\" stroke=\"#505050\" stroke-width=\"0\"/></g><g class=\"mark-group role-legend\" role=\"graphics-symbol\" aria-roledescription=\"legend\" aria-label=\"Symbol legend for fill color with 3 values: Default, Garbage collection, Runtime dispatch\"><g transform=\"translate(0,418)\"><path class=\"background\" aria-hidden=\"true\" d=\"M0,0h270v13h-270Z\" pointer-events=\"none\"/><g><g class=\"mark-group role-legend-entry\"><g transform=\"translate(0,0)\"><path class=\"background\" aria-hidden=\"true\" d=\"M0,0h0v0h0Z\" pointer-events=\"none\"/><g><g class=\"mark-group role-scope\" role=\"graphics-object\" aria-roledescription=\"group mark container\"><g transform=\"translate(0,0.25)\"><path class=\"background\" aria-hidden=\"true\" d=\"M0,0h49v12.5h-49Z\" pointer-events=\"none\" opacity=\"1\"/><g><g class=\"mark-symbol role-legend-symbol\" pointer-events=\"none\"><path transform=\"translate(6,6)\" d=\"M-5,-5h10v10h-10Z\" fill=\"#4c78a8\" stroke=\"#505050\" stroke-width=\"1.5\" opacity=\"1\"/></g><g class=\"mark-text role-legend-label\" pointer-events=\"none\"><text text-anchor=\"start\" transform=\"translate(16,9)\" font-family=\"sans-serif\" font-size=\"10px\" fill=\"#000\" opacity=\"1\">Default</text></g></g><path class=\"foreground\" aria-hidden=\"true\" d=\"\" pointer-events=\"none\" display=\"none\"/></g><g transform=\"translate(60,0.25)\"><path class=\"background\" aria-hidden=\"true\" d=\"M0,0h103v12.5h-103Z\" pointer-events=\"none\" opacity=\"1\"/><g><g class=\"mark-symbol role-legend-symbol\" pointer-events=\"none\"><path transform=\"translate(6,6)\" d=\"M-5,-5h10v10h-10Z\" fill=\"#f58518\" stroke=\"#505050\" stroke-width=\"1.5\" opacity=\"1\"/></g><g class=\"mark-text role-legend-label\" pointer-events=\"none\"><text text-anchor=\"start\" transform=\"translate(16,9)\" font-family=\"sans-serif\" font-size=\"10px\" fill=\"#000\" opacity=\"1\">Garbage collection</text></g></g><path class=\"foreground\" aria-hidden=\"true\" d=\"\" pointer-events=\"none\" display=\"none\"/></g><g transform=\"translate(174,0.25)\"><path class=\"background\" aria-hidden=\"true\" d=\"M0,0h96v12.5h-96Z\" pointer-events=\"none\" opacity=\"1\"/><g><g class=\"mark-symbol role-legend-symbol\" pointer-events=\"none\"><path transform=\"translate(6,6)\" d=\"M-5,-5h10v10h-10Z\" fill=\"#e45756\" stroke=\"#505050\" stroke-width=\"1.5\" opacity=\"1\"/></g><g class=\"mark-text role-legend-label\" pointer-events=\"none\"><text text-anchor=\"start\" transform=\"translate(16,9)\" font-family=\"sans-serif\" font-size=\"10px\" fill=\"#000\" opacity=\"1\">Runtime dispatch</text></g></g><path class=\"foreground\" aria-hidden=\"true\" d=\"\" pointer-events=\"none\" display=\"none\"/></g></g></g><path class=\"foreground\" aria-hidden=\"true\" d=\"\" pointer-events=\"none\" display=\"none\"/></g></g></g><path class=\"foreground\" aria-hidden=\"true\" d=\"\" pointer-events=\"none\" display=\"none\"/></g></g><g class=\"mark-group role-title\"><g transform=\"translate(400,-17)\"><path class=\"background\" aria-hidden=\"true\" d=\"M0,0h0v0h0Z\" pointer-events=\"none\"/><g><g class=\"mark-text role-title-text\" role=\"graphics-symbol\" aria-roledescription=\"title\" aria-label=\"Title text 'Profile Results'\" pointer-events=\"none\"><text text-anchor=\"middle\" transform=\"translate(0,10)\" font-family=\"sans-serif\" font-size=\"13px\" font-weight=\"bold\" fill=\"#000\" opacity=\"1\">Profile Results</text></g></g><path class=\"foreground\" aria-hidden=\"true\" d=\"\" pointer-events=\"none\" display=\"none\"/></g></g></g><path class=\"foreground\" aria-hidden=\"true\" d=\"\" display=\"none\"/></g></g></g><defs><clipPath id=\"clip1\"><rect x=\"0\" y=\"0\" width=\"800\" height=\"400\"/></clipPath></defs></svg>\n"
      ],
      "text/plain": [
       "@vlplot(\n",
       "    mark={\n",
       "        type=\"rect\",\n",
       "        stroke=\"#505050\"\n",
       "    },\n",
       "    transform=[\n",
       "        {\n",
       "            calculate=\"datum.level+0.9\",\n",
       "            as=\"level2\"\n",
       "        }\n",
       "    ],\n",
       "    selection={\n",
       "        grid={\n",
       "            type=\"interval\",\n",
       "            bind=\"scales\"\n",
       "        },\n",
       "        highlight={\n",
       "            type=\"single\",\n",
       "            on=\"mouseover\",\n",
       "            empty=\"none\"\n",
       "        },\n",
       "        select={\n",
       "            type=\"multi\",\n",
       "            empty=\"none\"\n",
       "        }\n",
       "    },\n",
       "    width=800,\n",
       "    height=400,\n",
       "    title=\"Profile Results\",\n",
       "    encoding={\n",
       "        x={\n",
       "            axis=nothing,\n",
       "            field=\"x1\"\n",
       "        },\n",
       "        x2={\n",
       "            field=\"x2\"\n",
       "        },\n",
       "        y={\n",
       "            axis=nothing,\n",
       "            field=\"level\",\n",
       "            type=\"quantitative\"\n",
       "        },\n",
       "        y2={\n",
       "            field=\"level2\",\n",
       "            type=\"quantitative\"\n",
       "        },\n",
       "        fillOpacity={\n",
       "            condition=[\n",
       "                {\n",
       "                    selection=\"highlight\",\n",
       "                    value=0.6\n",
       "                },\n",
       "                {\n",
       "                    selection=\"select\",\n",
       "                    value=0.5\n",
       "                }\n",
       "            ],\n",
       "            value=1\n",
       "        },\n",
       "        strokeWidth={\n",
       "            condition=[\n",
       "                {\n",
       "                    selection=\"highlight\",\n",
       "                    value=0.5\n",
       "                },\n",
       "                {\n",
       "                    selection=\"select\",\n",
       "                    value=0.5\n",
       "                }\n",
       "            ],\n",
       "            value=0\n",
       "        },\n",
       "        color={\n",
       "            legend={\n",
       "                title=nothing,\n",
       "                orient=\"bottom\"\n",
       "            },\n",
       "            field=\"status\",\n",
       "            type=\"nominal\"\n",
       "        },\n",
       "        tooltip={\n",
       "            field=\"sf\"\n",
       "        }\n",
       "    },\n",
       "    data={\n",
       "        values=...\n",
       "    }\n",
       ")"
      ]
     },
     "execution_count": 9,
     "metadata": {},
     "output_type": "execute_result"
    }
   ],
   "source": [
    "run_simulation!(state, params)"
   ]
  },
  {
   "cell_type": "code",
   "execution_count": 10,
   "id": "846f26b3-db8a-4185-8a26-b790b88b1a7f",
   "metadata": {},
   "outputs": [
    {
     "data": {
      "text/plain": [
       "101-element Vector{String}:\n",
       " \"/Users/danny/Library/CloudStora\" ⋯ 72 bytes ⋯ \"ng/2023-03-22_1DTest/t0000.hdf5\"\n",
       " \"/Users/danny/Library/CloudStora\" ⋯ 72 bytes ⋯ \"ng/2023-03-22_1DTest/t0010.hdf5\"\n",
       " \"/Users/danny/Library/CloudStora\" ⋯ 72 bytes ⋯ \"ng/2023-03-22_1DTest/t0020.hdf5\"\n",
       " \"/Users/danny/Library/CloudStora\" ⋯ 72 bytes ⋯ \"ng/2023-03-22_1DTest/t0030.hdf5\"\n",
       " \"/Users/danny/Library/CloudStora\" ⋯ 72 bytes ⋯ \"ng/2023-03-22_1DTest/t0040.hdf5\"\n",
       " \"/Users/danny/Library/CloudStora\" ⋯ 72 bytes ⋯ \"ng/2023-03-22_1DTest/t0050.hdf5\"\n",
       " \"/Users/danny/Library/CloudStora\" ⋯ 72 bytes ⋯ \"ng/2023-03-22_1DTest/t0060.hdf5\"\n",
       " \"/Users/danny/Library/CloudStora\" ⋯ 72 bytes ⋯ \"ng/2023-03-22_1DTest/t0070.hdf5\"\n",
       " \"/Users/danny/Library/CloudStora\" ⋯ 72 bytes ⋯ \"ng/2023-03-22_1DTest/t0080.hdf5\"\n",
       " \"/Users/danny/Library/CloudStora\" ⋯ 72 bytes ⋯ \"ng/2023-03-22_1DTest/t0090.hdf5\"\n",
       " \"/Users/danny/Library/CloudStora\" ⋯ 72 bytes ⋯ \"ng/2023-03-22_1DTest/t0100.hdf5\"\n",
       " \"/Users/danny/Library/CloudStora\" ⋯ 72 bytes ⋯ \"ng/2023-03-22_1DTest/t0110.hdf5\"\n",
       " \"/Users/danny/Library/CloudStora\" ⋯ 72 bytes ⋯ \"ng/2023-03-22_1DTest/t0120.hdf5\"\n",
       " ⋮\n",
       " \"/Users/danny/Library/CloudStora\" ⋯ 72 bytes ⋯ \"ng/2023-03-22_1DTest/t0890.hdf5\"\n",
       " \"/Users/danny/Library/CloudStora\" ⋯ 72 bytes ⋯ \"ng/2023-03-22_1DTest/t0900.hdf5\"\n",
       " \"/Users/danny/Library/CloudStora\" ⋯ 72 bytes ⋯ \"ng/2023-03-22_1DTest/t0910.hdf5\"\n",
       " \"/Users/danny/Library/CloudStora\" ⋯ 72 bytes ⋯ \"ng/2023-03-22_1DTest/t0920.hdf5\"\n",
       " \"/Users/danny/Library/CloudStora\" ⋯ 72 bytes ⋯ \"ng/2023-03-22_1DTest/t0930.hdf5\"\n",
       " \"/Users/danny/Library/CloudStora\" ⋯ 72 bytes ⋯ \"ng/2023-03-22_1DTest/t0940.hdf5\"\n",
       " \"/Users/danny/Library/CloudStora\" ⋯ 72 bytes ⋯ \"ng/2023-03-22_1DTest/t0950.hdf5\"\n",
       " \"/Users/danny/Library/CloudStora\" ⋯ 72 bytes ⋯ \"ng/2023-03-22_1DTest/t0960.hdf5\"\n",
       " \"/Users/danny/Library/CloudStora\" ⋯ 72 bytes ⋯ \"ng/2023-03-22_1DTest/t0970.hdf5\"\n",
       " \"/Users/danny/Library/CloudStora\" ⋯ 72 bytes ⋯ \"ng/2023-03-22_1DTest/t0980.hdf5\"\n",
       " \"/Users/danny/Library/CloudStora\" ⋯ 72 bytes ⋯ \"ng/2023-03-22_1DTest/t0990.hdf5\"\n",
       " \"/Users/danny/Library/CloudStora\" ⋯ 72 bytes ⋯ \"ng/2023-03-22_1DTest/t1000.hdf5\""
      ]
     },
     "execution_count": 10,
     "metadata": {},
     "output_type": "execute_result"
    }
   ],
   "source": [
    "files = readdir(params[\"savepath\"], join=true)[2:end]"
   ]
  },
  {
   "cell_type": "code",
   "execution_count": 14,
   "id": "07675369-dc14-47f5-bd8b-1dde84126412",
   "metadata": {},
   "outputs": [
    {
     "data": {
      "image/png": "[encoded data removed]",
      "text/plain": [
       "Figure(PyObject <Figure size 450x450 with 1 Axes>)"
      ]
     },
     "metadata": {},
     "output_type": "display_data"
    }
   ],
   "source": [
    "r = -50:50\n",
    "t = 0:params[\"snapshot\"]:params[\"n_sweeps\"]\n",
    "standard_deviation = zeros(length(files))\n",
    "\n",
    "for (idx, file) in enumerate(files)\n",
    "    state = zeros(Int64, params[\"grid_size\"])\n",
    "    fid = h5open(file, \"r\")\n",
    "    s = fid[\"data\"][\"state\"]\n",
    "    state = s[:]\n",
    "    close(fid)\n",
    "    meanr = sum(r .* state) / sum(state)\n",
    "    meanrsq = sum(r.^2 .* state) / sum(state)\n",
    "    standard_deviation[idx] = sqrt(meanrsq - meanr^2)\n",
    "end\n",
    "\n",
    "fig, ax = plt.subplots(dpi=150, figsize=(3, 3))\n",
    "ax.plot(t, standard_deviation, \"ko\", alpha=0.5, label=\"data\")\n",
    "# ax.plot(t, sqrt.(2 * 0.5 * t), \"C3-.\", label=L\"$\\sqrt{2Dt}$\")\n",
    "ax.plot(t, sqrt.(2 * 0.25 * t), \"C3--\", label=L\"$\\sqrt{2Dt}$\")\n",
    "ax.set(xlabel=\"time\", ylabel=L\"$\\sqrt{\\langle x^2 \\rangle - \\langle x \\rangle^2}$\")\n",
    "ax.legend(loc=\"lower right\")\n",
    "fig.savefig(drivefolder * \"2023-03-31_1D1SpeciesDiffusionTest.pdf\", bbox_inches=\"tight\")"
   ]
  },
  {
   "cell_type": "code",
   "execution_count": 17,
   "id": "4eb33446-bdad-4d06-b8c8-c01e1704dc0d",
   "metadata": {},
   "outputs": [
    {
     "data": {
      "image/png": "[encoded data removed]",
      "text/plain": [
       "Figure(PyObject <Figure size 450x450 with 2 Axes>)"
      ]
     },
     "metadata": {},
     "output_type": "display_data"
    }
   ],
   "source": [
    "state = zeros(Int64, params[\"grid_size\"], length(files))\n",
    "r = -50:50\n",
    "t = 0:params[\"snapshot\"]:params[\"n_sweeps\"]\n",
    "\n",
    "for (idx, file) in enumerate(files)\n",
    "    fid = h5open(file, \"r\")\n",
    "    s = fid[\"data\"][\"state\"]\n",
    "    state[:, idx] = s[:]\n",
    "    close(fid)\n",
    "end\n",
    "\n",
    "fig, ax = plt.subplots(dpi=150, figsize=(3,3))\n",
    "a = ax.pcolormesh(r, t, transpose(state), vmin=0, vmax=300, rasterized=true)\n",
    "cbar = fig.colorbar(a, ax=ax, extend=\"max\")\n",
    "cbar.ax.set(title=L\"$n$\")\n",
    "ax.set(xlabel=\"space\", ylabel=\"sweeps\")\n",
    "fig.savefig(drivefolder * \"2023-03-31_1D1SpeciesDiffusionTestKymo.pdf\", bbox_inches=\"tight\")"
   ]
  },
  {
   "cell_type": "markdown",
   "id": "4f502c48-6f06-48d8-b541-21a06cf18277",
   "metadata": {},
   "source": [
    "# coarse-grained implementation"
   ]
  },
  {
   "cell_type": "code",
   "execution_count": 8,
   "id": "c4759d5f-7dc4-4dab-8eac-f77d54a8443f",
   "metadata": {},
   "outputs": [
    {
     "data": {
      "image/png": "[encoded data removed]",
      "text/plain": [
       "Figure(PyObject <Figure size 640x480 with 1 Axes>)"
      ]
     },
     "metadata": {},
     "output_type": "display_data"
    },
    {
     "data": {
      "text/plain": [
       "1-element Vector{Tuple{Float64, Float64}}:\n",
       " (-1.0, 201.0)"
      ]
     },
     "execution_count": 8,
     "metadata": {},
     "output_type": "execute_result"
    }
   ],
   "source": [
    "params = Dict(\"capacity\" => 200,\n",
    "              \"temperature\" => 0.05,\n",
    "              \"preferred_density\" => 0.5,\n",
    "              \"m\" => 0.0,\n",
    "              \"alpha\" => 0.0,\n",
    "              \"n_sweeps\" => 200,\n",
    "              \"moveType\" => \"local\",\n",
    "              \"grid_size\" => 101,\n",
    "              \"fill\" => 0.5,\n",
    "              \"utility_func\" => quadratic_utility,\n",
    "              \"snapshot\" => 5,\n",
    "              \"kernel_size\" => 7,\n",
    "              \"savepath\" => drivefolder * \"2023-04-12_cgTest\");\n",
    "\n",
    "state = random_state(params)\n",
    "\n",
    "fig, ax = plt.subplots()\n",
    "ax.plot(state, drawstyle=\"steps-mid\")\n",
    "ax.set(ylim=[-1, params[\"capacity\"] + 1])"
   ]
  },
  {
   "cell_type": "code",
   "execution_count": 6,
   "id": "f12463e8-a9f7-4f35-afa1-4e621e9e313a",
   "metadata": {
    "collapsed": true,
    "jupyter": {
     "outputs_hidden": true,
     "source_hidden": true
    },
    "tags": []
   },
   "outputs": [
    {
     "name": "stderr",
     "output_type": "stream",
     "text": [
      "\u001b[32mProgress: 100%|█████████████████████████████████████████| Time: 0:00:28\u001b[39m\n"
     ]
    }
   ],
   "source": [
    "# taking convolution over full sample\n",
    "run_simulation!(state, params);"
   ]
  },
  {
   "cell_type": "code",
   "execution_count": 9,
   "id": "0095a3a3-5b8a-43f5-916e-d30cd6868281",
   "metadata": {},
   "outputs": [
    {
     "name": "stderr",
     "output_type": "stream",
     "text": [
      "\u001b[32mProgress: 100%|█████████████████████████████████████████| Time: 0:00:21\u001b[39m\n"
     ]
    }
   ],
   "source": [
    "# taking convolution only locally\n",
    "run_simulation!(state, params);"
   ]
  },
  {
   "cell_type": "code",
   "execution_count": 10,
   "id": "9d2aa746-c506-4fec-9a10-eb629797fb34",
   "metadata": {},
   "outputs": [],
   "source": [
    "files = readdir(params[\"savepath\"], join=true)[2:end]\n",
    "states = zeros(Int64, params[\"grid_size\"], length(files))\n",
    "for (fidx, file) in enumerate(files)\n",
    "    fid = h5open(file, \"r\")\n",
    "    states[:, fidx] = fid[\"data\"][\"state\"][:]\n",
    "    close(fid)\n",
    "end"
   ]
  },
  {
   "cell_type": "markdown",
   "id": "1e09edd3-ee8c-4b85-8fdd-9360815e53cc",
   "metadata": {},
   "source": [
    "$\\alpha = 0$, local $\\phi$, $T = 0.05$"
   ]
  },
  {
   "cell_type": "code",
   "execution_count": 42,
   "id": "d8505a9c-e5f1-434c-b3ef-41087f51be16",
   "metadata": {},
   "outputs": [
    {
     "data": {
      "image/png": "[encoded data removed]",
      "text/plain": [
       "Figure(PyObject <Figure size 640x480 with 1 Axes>)"
      ]
     },
     "metadata": {},
     "output_type": "display_data"
    },
    {
     "data": {
      "text/plain": [
       "PyObject <matplotlib.collections.QuadMesh object at 0x17e664ee0>"
      ]
     },
     "execution_count": 42,
     "metadata": {},
     "output_type": "execute_result"
    }
   ],
   "source": [
    "plt.pcolormesh(transpose(states), vmin=0, vmax=params[\"capacity\"])"
   ]
  },
  {
   "cell_type": "markdown",
   "id": "448c0157-f043-47f7-90f8-1a80471052d2",
   "metadata": {},
   "source": [
    "$\\alpha = 0$, spatial mean, $T = 0.05$, $L_{kernel} = 11$"
   ]
  },
  {
   "cell_type": "code",
   "execution_count": 38,
   "id": "6ad69034-1282-41a5-953d-6b2417d1436d",
   "metadata": {},
   "outputs": [
    {
     "data": {
      "image/png": "[encoded data removed]",
      "text/plain": [
       "Figure(PyObject <Figure size 640x480 with 1 Axes>)"
      ]
     },
     "metadata": {},
     "output_type": "display_data"
    },
    {
     "data": {
      "text/plain": [
       "PyObject <matplotlib.collections.QuadMesh object at 0x17e5b4130>"
      ]
     },
     "execution_count": 38,
     "metadata": {},
     "output_type": "execute_result"
    }
   ],
   "source": [
    "plt.pcolormesh(transpose(states), vmin=0, vmax=params[\"capacity\"])"
   ]
  },
  {
   "cell_type": "markdown",
   "id": "9ea4f7cf-2a29-4d75-90af-3292a69f12e1",
   "metadata": {},
   "source": [
    "$\\alpha = 0$, spatial mean, $T = 0.05$, $L_{kernel} = 7$"
   ]
  },
  {
   "cell_type": "code",
   "execution_count": 11,
   "id": "aa3a7c40-fb61-4aa9-bf27-e51868d03293",
   "metadata": {},
   "outputs": [
    {
     "data": {
      "image/png": "[encoded data removed]",
      "text/plain": [
       "Figure(PyObject <Figure size 640x480 with 1 Axes>)"
      ]
     },
     "metadata": {},
     "output_type": "display_data"
    },
    {
     "data": {
      "text/plain": [
       "PyObject <matplotlib.collections.QuadMesh object at 0x164314730>"
      ]
     },
     "execution_count": 11,
     "metadata": {},
     "output_type": "execute_result"
    }
   ],
   "source": [
    "plt.pcolormesh(transpose(states), vmin=0, vmax=params[\"capacity\"])"
   ]
  },
  {
   "cell_type": "markdown",
   "id": "438cd7ee-86c8-4a82-b411-7f6440bbe8d9",
   "metadata": {},
   "source": [
    "$\\alpha = 0$, spatial mean, $T = 0.1$, $L_{kernel} = 5$"
   ]
  },
  {
   "cell_type": "code",
   "execution_count": 30,
   "id": "12c45972-92b7-463a-af42-c279c809687c",
   "metadata": {},
   "outputs": [
    {
     "data": {
      "image/png": "[encoded data removed]",
      "text/plain": [
       "Figure(PyObject <Figure size 640x480 with 1 Axes>)"
      ]
     },
     "metadata": {},
     "output_type": "display_data"
    },
    {
     "data": {
      "text/plain": [
       "PyObject <matplotlib.collections.QuadMesh object at 0x17e3f2310>"
      ]
     },
     "execution_count": 30,
     "metadata": {},
     "output_type": "execute_result"
    }
   ],
   "source": [
    "plt.pcolormesh(transpose(states), vmin=0, vmax=params[\"capacity\"])"
   ]
  },
  {
   "cell_type": "markdown",
   "id": "6b80ba86-d5cb-4491-afd6-5b95f502273a",
   "metadata": {},
   "source": [
    "$\\alpha = 0$, spatial mean, $T = 0.05$, $L_{kernel} = 5$"
   ]
  },
  {
   "cell_type": "code",
   "execution_count": 73,
   "id": "050de46d-b5a6-4f23-9358-4b066035ad2c",
   "metadata": {},
   "outputs": [
    {
     "data": {
      "image/png": "[encoded data removed]",
      "text/plain": [
       "Figure(PyObject <Figure size 640x480 with 1 Axes>)"
      ]
     },
     "metadata": {},
     "output_type": "display_data"
    },
    {
     "data": {
      "text/plain": [
       "PyObject <matplotlib.collections.QuadMesh object at 0x2a8f635e0>"
      ]
     },
     "execution_count": 73,
     "metadata": {},
     "output_type": "execute_result"
    }
   ],
   "source": [
    "plt.pcolormesh(transpose(states), vmin=0, vmax=params[\"capacity\"])"
   ]
  },
  {
   "cell_type": "markdown",
   "id": "eadcbeed-2977-4868-9fa4-ae4e7edd6e35",
   "metadata": {},
   "source": [
    "$\\alpha =1$, spatial mean"
   ]
  },
  {
   "cell_type": "code",
   "execution_count": 6,
   "id": "0e2d25fd-1cdf-4981-987a-446617f08ee6",
   "metadata": {},
   "outputs": [
    {
     "data": {
      "image/png": "[encoded data removed]",
      "text/plain": [
       "Figure(PyObject <Figure size 640x480 with 1 Axes>)"
      ]
     },
     "metadata": {},
     "output_type": "display_data"
    },
    {
     "data": {
      "text/plain": [
       "PyObject <matplotlib.collections.QuadMesh object at 0x29789ca90>"
      ]
     },
     "execution_count": 6,
     "metadata": {},
     "output_type": "execute_result"
    }
   ],
   "source": [
    "plt.pcolormesh(transpose(states), vmin=0, vmax=params[\"capacity\"])"
   ]
  },
  {
   "cell_type": "code",
   "execution_count": 72,
   "id": "f68bd85e-88c2-4f4f-bea4-40193ef58ffd",
   "metadata": {},
   "outputs": [
    {
     "data": {
      "image/png": "[encoded data removed]",
      "text/plain": [
       "Figure(PyObject <Figure size 600x450 with 1 Axes>)"
      ]
     },
     "metadata": {},
     "output_type": "display_data"
    }
   ],
   "source": [
    "fig, ax = plt.subplots(dpi=150, figsize=(4,3))\n",
    "for size in [3, 5, 7, 9, 11]\n",
    "    window = Windows.gaussian(size, 0.1)\n",
    "    x = -Int(floor(size / 2)):1:Int(floor(size / 2))\n",
    "    ax.plot(x, window / sum(window), \"o-\", label=L\"$L = $\" * string(size), alpha=0.5)\n",
    "end\n",
    "ax.set(ylabel=\"weight\", xlabel=\"site index\", yscale=\"linear\")\n",
    "ax.legend()\n",
    "fig.savefig(drivefolder * \"/2023-05-01_gaussianKernels.pdf\", bbox_inches=\"tight\")"
   ]
  },
  {
   "cell_type": "code",
   "execution_count": 27,
   "id": "5708b6f4-702b-4ecd-ad84-cee0fbddf710",
   "metadata": {},
   "outputs": [
    {
     "data": {
      "image/png": "[encoded data removed]",
      "text/plain": [
       "Figure(PyObject <Figure size 600x200 with 1 Axes>)"
      ]
     },
     "metadata": {},
     "output_type": "display_data"
    },
    {
     "data": {
      "text/plain": [
       "1-element Vector{PyCall.PyObject}:\n",
       " PyObject <matplotlib.lines.Line2D object at 0x15af372e0>"
      ]
     },
     "execution_count": 27,
     "metadata": {},
     "output_type": "execute_result"
    }
   ],
   "source": [
    "box_size = 7\n",
    "half_box = Int(floor(box_size / 2))\n",
    "arr = state\n",
    "arr_periodic = cat(arr[end-half_box+1:end], arr, arr[1:half_box], dims=1)\n",
    "\n",
    "fig, ax = plt.subplots(figsize=[6,2])\n",
    "ax.plot(-50:50, state, \"o-\", color=\"C0\")\n",
    "ax.plot(-50 - half_box:50 + half_box, arr_periodic, \"o-\", color=\"C0\", alpha=0.5)"
   ]
  },
  {
   "cell_type": "code",
   "execution_count": 14,
   "id": "59e30839-7e06-40be-938f-8dfbeda54586",
   "metadata": {},
   "outputs": [
    {
     "data": {
      "text/plain": [
       "94"
      ]
     },
     "execution_count": 14,
     "metadata": {},
     "output_type": "execute_result"
    }
   ],
   "source": [
    "state[1]"
   ]
  },
  {
   "cell_type": "code",
   "execution_count": 28,
   "id": "1ca1702b-9bee-497d-ae1b-ce4932cecb59",
   "metadata": {},
   "outputs": [
    {
     "name": "stdout",
     "output_type": "stream",
     "text": [
      "117\n",
      "[112, 105, 104, 117, 96, 104, 104]\n",
      "111.30799165062479\n"
     ]
    }
   ],
   "source": [
    "site = 20\n",
    "window = Windows.gaussian(box_size, 0.1)\n",
    "window /= sum(window)\n",
    "psite = half_box + site\n",
    "println(state[site])\n",
    "println(arr_periodic[psite - half_box:psite + half_box])\n",
    "println(sum(arr_periodic[psite - half_box:psite + half_box] .* window))"
   ]
  }
 ],
 "metadata": {
  "kernelspec": {
   "display_name": "Julia 1.8.2",
   "language": "julia",
   "name": "julia-1.8"
  },
  "language_info": {
   "file_extension": ".jl",
   "mimetype": "application/julia",
   "name": "julia",
   "version": "1.8.2"
  }
 },
 "nbformat": 4,
 "nbformat_minor": 5
}
