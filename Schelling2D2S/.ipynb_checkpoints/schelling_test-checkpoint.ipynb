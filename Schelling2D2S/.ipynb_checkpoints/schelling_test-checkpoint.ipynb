{
 "cells": [
  {
   "cell_type": "code",
   "execution_count": 1,
   "id": "303f9199-51f2-42a6-8dfb-760c6304e3bd",
   "metadata": {},
   "outputs": [],
   "source": [
    "using Pkg\n",
    "using PyPlot\n",
    "using HDF5\n",
    "using StatsBase\n",
    "using ProgressMeter\n",
    "include(\"src/Schelling2.jl\")\n",
    "using .Schelling2"
   ]
  },
  {
   "cell_type": "code",
   "execution_count": 2,
   "id": "9e505eeb-bfe0-467f-af3d-0bf5b1d65e1a",
   "metadata": {},
   "outputs": [
    {
     "data": {
      "text/plain": [
       "\"/Users/danny/Library/CloudStorage/GoogleDrive-dsseara@uchicago.edu/My Drive/uchicago/adaptation/schelling/\""
      ]
     },
     "execution_count": 2,
     "metadata": {},
     "output_type": "execute_result"
    }
   ],
   "source": [
    "drivefolder = \"/Users/danny/Library/CloudStorage/GoogleDrive-dsseara@uchicago.edu/My Drive/uchicago/adaptation/schelling/\""
   ]
  },
  {
   "cell_type": "code",
   "execution_count": null,
   "id": "dbecb220-d74d-4d43-9d9e-1fcacd9c71e8",
   "metadata": {
    "tags": []
   },
   "outputs": [],
   "source": [
    "params = Dict(\"capacity\" => 50,\n",
    "              \"temperature\" => 0.01,\n",
    "              \"preferred_density\" => 0.5,\n",
    "              \"m\" => 0.0,\n",
    "              \"alpha\" => 0.0,\n",
    "              \"n_sweeps\" => 100,\n",
    "              \"moveType\" => \"local\",\n",
    "              \"grid_size\" => 32,\n",
    "              \"fill\" => [0.25, 0.25],\n",
    "              \"utility_func\" => quadratic_utility,\n",
    "              \"delta\" => 0.0,\n",
    "              \"snapshot\" => -1,\n",
    "              \"savepath\" => drivefolder * \"2023-03-11_2speciesTest\");\n",
    "\n",
    "# random initial condition\n",
    "state = random_state(params);\n",
    "state_init = deepcopy(state)\n",
    "\n",
    "fig, ax = plt.subplots(1, 3, sharey=true)\n",
    "ax[1].imshow(state_init[:, :, 1],\n",
    "             vmin=0,\n",
    "             vmax=params[\"capacity\"],\n",
    "             cmap=\"RdBu_r\")\n",
    "ax[2].imshow(state_init[:, :, 2],\n",
    "             vmin=0,\n",
    "             vmax=params[\"capacity\"],\n",
    "             cmap=\"RdBu_r\")\n",
    "a = ax[3].imshow(sum(state_init, dims=3),\n",
    "                 vmin=0,\n",
    "                 vmax=params[\"capacity\"],\n",
    "                 cmap=\"RdBu_r\")\n",
    "\n",
    "\n",
    "cax = ax[3].inset_axes([1.05, 0, 0.05, 1])\n",
    "fig.colorbar(a, ax=ax[3], cax=cax)\n",
    "ax[1].set(title=\"species A\")\n",
    "ax[2].set(title=\"species B\")\n",
    "ax[3].set(title=\"sum\")"
   ]
  },
  {
   "cell_type": "code",
   "execution_count": null,
   "id": "8a29c99c-ebd5-44a8-b4f3-ac7a635aab45",
   "metadata": {},
   "outputs": [],
   "source": [
    "# run simulation\n",
    "run_simulation!(state, params);"
   ]
  },
  {
   "cell_type": "code",
   "execution_count": null,
   "id": "39e7ddcb-1497-4d4a-b6b8-aa3658de5855",
   "metadata": {},
   "outputs": [],
   "source": [
    "fig, ax = plt.subplots(1, 3, sharey=true)\n",
    "ax[1].imshow(state[:, :, 1],\n",
    "             vmin=0,\n",
    "             vmax=params[\"capacity\"],\n",
    "             cmap=\"RdBu_r\")\n",
    "ax[2].imshow(state[:, :, 2],\n",
    "             vmin=0,\n",
    "             vmax=params[\"capacity\"],\n",
    "             cmap=\"RdBu_r\")\n",
    "a = ax[3].imshow(sum(state, dims=3),\n",
    "                 vmin=0,\n",
    "                 vmax=params[\"capacity\"],\n",
    "                 cmap=\"RdBu_r\")\n",
    "\n",
    "\n",
    "cax = ax[3].inset_axes([1.05, 0, 0.05, 1])\n",
    "fig.colorbar(a, ax=ax[3], cax=cax)\n",
    "ax[1].set(title=\"species A\")\n",
    "ax[2].set(title=\"species B\")\n",
    "ax[3].set(title=\"sum\")"
   ]
  },
  {
   "cell_type": "code",
   "execution_count": null,
   "id": "15d00df1-0742-4d7c-a6e0-0faa458695e1",
   "metadata": {},
   "outputs": [],
   "source": [
    "plt.hist((state[:, :, 1] / params[\"capacity\"])[:], bins=0:0.05:1, alpha=0.5);\n",
    "plt.hist((state[:, :, 2] / params[\"capacity\"])[:], bins=0:0.05:1, alpha=0.5);"
   ]
  },
  {
   "cell_type": "code",
   "execution_count": null,
   "id": "3dad5c44-c3bb-4259-b382-708ef95aab0f",
   "metadata": {},
   "outputs": [],
   "source": [
    "x = 0:0.01:1\n",
    "fig, ax = plt.subplots()\n",
    "ax.plot((state[:, :, 1] / params[\"capacity\"])[:],\n",
    "         (state[:, :, 2] / params[\"capacity\"])[:],\n",
    "         \"k.\", alpha=0.1)\n",
    "ax.set(xlim=[-0.1, 1.1], ylim=[-0.1, 1.1])\n",
    "ax.plot(x, 1 .- x, \"C3--\")\n",
    "ax.set_aspect(1)"
   ]
  },
  {
   "cell_type": "markdown",
   "id": "890f6669-3fa5-4137-8dd3-f842ccb7752f",
   "metadata": {},
   "source": [
    "# Testing"
   ]
  },
  {
   "cell_type": "markdown",
   "id": "a3ab3a29-d9a0-48e3-ad0f-06215e6cee4a",
   "metadata": {},
   "source": [
    "## Pure diffusion\n",
    "\n",
    "In a version of the code where `glauber_prob` always returns 0.5, which should simulate regular diffusion with a diffusion constant $D = 1/2$"
   ]
  },
  {
   "cell_type": "code",
   "execution_count": 3,
   "id": "c19f19e6-c4f4-4934-b764-0d6c5aa3f9a7",
   "metadata": {},
   "outputs": [
    {
     "data": {
      "image/png": "[encoded data removed]",
      "text/plain": [
       "Figure(PyObject <Figure size 640x480 with 1 Axes>)"
      ]
     },
     "metadata": {},
     "output_type": "display_data"
    },
    {
     "data": {
      "text/plain": [
       "PyObject <matplotlib.image.AxesImage object at 0x1660b0cd0>"
      ]
     },
     "execution_count": 3,
     "metadata": {},
     "output_type": "execute_result"
    }
   ],
   "source": [
    "params = Dict(\"capacity\" => 100000,\n",
    "              \"temperature\" => 0.01,\n",
    "              \"preferred_density\" => 0.5,\n",
    "              \"m\" => 0.0,\n",
    "              \"alpha\" => 0.0,\n",
    "              \"n_sweeps\" => 1000,\n",
    "              \"moveType\" => \"local\",\n",
    "              \"grid_size\" => 101,\n",
    "              \"fill\" => [0.25, 0.25],\n",
    "              \"utility_func\" => quadratic_utility,\n",
    "              \"delta\" => 1.0,\n",
    "              \"snapshot\" => 10,\n",
    "              \"savepath\" => drivefolder * \"2023-03-11_2speciesDiffusionTest\");\n",
    "\n",
    "state = zeros(Int64, params[\"grid_size\"], params[\"grid_size\"], 2)\n",
    "state[Int(round(params[\"grid_size\"]/2)), Int(round(params[\"grid_size\"]/2)), :] = [1000, 1000]\n",
    "\n",
    "plt.imshow(state[:, :, 1])"
   ]
  },
  {
   "cell_type": "code",
   "execution_count": 4,
   "id": "5deb4341-a2ef-44f3-a8a2-be667bd7a25b",
   "metadata": {},
   "outputs": [
    {
     "name": "stderr",
     "output_type": "stream",
     "text": [
      "\u001b[32mProgress: 100%|█████████████████████████████████████████| Time: 0:01:01\u001b[39m\n"
     ]
    }
   ],
   "source": [
    "run_simulation!(state, params);"
   ]
  },
  {
   "cell_type": "code",
   "execution_count": 7,
   "id": "580b7bcc-4a92-48e2-993b-7e8bff7a4982",
   "metadata": {
    "tags": []
   },
   "outputs": [
    {
     "data": {
      "text/plain": [
       "101-element Vector{String}:\n",
       " \"/Users/danny/Library/CloudStora\" ⋯ 87 bytes ⋯ \"speciesDiffusionTest/t0000.hdf5\"\n",
       " \"/Users/danny/Library/CloudStora\" ⋯ 87 bytes ⋯ \"speciesDiffusionTest/t0010.hdf5\"\n",
       " \"/Users/danny/Library/CloudStora\" ⋯ 87 bytes ⋯ \"speciesDiffusionTest/t0020.hdf5\"\n",
       " \"/Users/danny/Library/CloudStora\" ⋯ 87 bytes ⋯ \"speciesDiffusionTest/t0030.hdf5\"\n",
       " \"/Users/danny/Library/CloudStora\" ⋯ 87 bytes ⋯ \"speciesDiffusionTest/t0040.hdf5\"\n",
       " \"/Users/danny/Library/CloudStora\" ⋯ 87 bytes ⋯ \"speciesDiffusionTest/t0050.hdf5\"\n",
       " \"/Users/danny/Library/CloudStora\" ⋯ 87 bytes ⋯ \"speciesDiffusionTest/t0060.hdf5\"\n",
       " \"/Users/danny/Library/CloudStora\" ⋯ 87 bytes ⋯ \"speciesDiffusionTest/t0070.hdf5\"\n",
       " \"/Users/danny/Library/CloudStora\" ⋯ 87 bytes ⋯ \"speciesDiffusionTest/t0080.hdf5\"\n",
       " \"/Users/danny/Library/CloudStora\" ⋯ 87 bytes ⋯ \"speciesDiffusionTest/t0090.hdf5\"\n",
       " \"/Users/danny/Library/CloudStora\" ⋯ 87 bytes ⋯ \"speciesDiffusionTest/t0100.hdf5\"\n",
       " \"/Users/danny/Library/CloudStora\" ⋯ 87 bytes ⋯ \"speciesDiffusionTest/t0110.hdf5\"\n",
       " \"/Users/danny/Library/CloudStora\" ⋯ 87 bytes ⋯ \"speciesDiffusionTest/t0120.hdf5\"\n",
       " ⋮\n",
       " \"/Users/danny/Library/CloudStora\" ⋯ 87 bytes ⋯ \"speciesDiffusionTest/t0890.hdf5\"\n",
       " \"/Users/danny/Library/CloudStora\" ⋯ 87 bytes ⋯ \"speciesDiffusionTest/t0900.hdf5\"\n",
       " \"/Users/danny/Library/CloudStora\" ⋯ 87 bytes ⋯ \"speciesDiffusionTest/t0910.hdf5\"\n",
       " \"/Users/danny/Library/CloudStora\" ⋯ 87 bytes ⋯ \"speciesDiffusionTest/t0920.hdf5\"\n",
       " \"/Users/danny/Library/CloudStora\" ⋯ 87 bytes ⋯ \"speciesDiffusionTest/t0930.hdf5\"\n",
       " \"/Users/danny/Library/CloudStora\" ⋯ 87 bytes ⋯ \"speciesDiffusionTest/t0940.hdf5\"\n",
       " \"/Users/danny/Library/CloudStora\" ⋯ 87 bytes ⋯ \"speciesDiffusionTest/t0950.hdf5\"\n",
       " \"/Users/danny/Library/CloudStora\" ⋯ 87 bytes ⋯ \"speciesDiffusionTest/t0960.hdf5\"\n",
       " \"/Users/danny/Library/CloudStora\" ⋯ 87 bytes ⋯ \"speciesDiffusionTest/t0970.hdf5\"\n",
       " \"/Users/danny/Library/CloudStora\" ⋯ 87 bytes ⋯ \"speciesDiffusionTest/t0980.hdf5\"\n",
       " \"/Users/danny/Library/CloudStora\" ⋯ 87 bytes ⋯ \"speciesDiffusionTest/t0990.hdf5\"\n",
       " \"/Users/danny/Library/CloudStora\" ⋯ 87 bytes ⋯ \"speciesDiffusionTest/t1000.hdf5\""
      ]
     },
     "execution_count": 7,
     "metadata": {},
     "output_type": "execute_result"
    }
   ],
   "source": [
    "files = readdir(params[\"savepath\"], join=true)[2:end]"
   ]
  },
  {
   "cell_type": "code",
   "execution_count": 9,
   "id": "3a91211b-5788-4108-8d67-1366c10e6807",
   "metadata": {},
   "outputs": [
    {
     "data": {
      "image/png": "[encoded data removed]",
      "text/plain": [
       "Figure(PyObject <Figure size 450x450 with 1 Axes>)"
      ]
     },
     "metadata": {},
     "output_type": "display_data"
    }
   ],
   "source": [
    "r = [(x^2 + y^2)^(0.5) for x in -50:50, y in -50:50]\n",
    "t = 0:params[\"snapshot\"]:params[\"n_sweeps\"]\n",
    "\n",
    "fig, ax = plt.subplots(dpi=150, figsize=(3,3))\n",
    "for (idx, file) in enumerate(files)\n",
    "    state = zeros(Int64, params[\"grid_size\"], params[\"grid_size\"], 2)\n",
    "    fid = h5open(file, \"r\")\n",
    "    s = fid[\"data\"][\"state\"]\n",
    "    state = s[:, :, :]\n",
    "    close(fid)\n",
    "    hr = fit(Histogram, r[:], 1:51)\n",
    "    hp = fit(Histogram, r[:], weights(state[:, :, 1][:]),  1:51)\n",
    "    pr = hp.weights ./ hr.weights\n",
    "    pr = cat(pr[end:-1:2], pr, dims=1)\n",
    "    meanr = sum((-49:49) .* pr) / sum(pr)\n",
    "    meanrsq = sum((-49:49).^2 .* pr) / sum(pr)\n",
    "    standard_deviation = sqrt(meanrsq - meanr^2)\n",
    "    ax.plot(t[idx], standard_deviation, \"k.\")\n",
    "end\n",
    "ax.plot(t, sqrt.((4 - pi) * 0.25 * t), \"C3--\", label=\"theory\")\n",
    "ax.set(xlabel=\"sweeps\", ylabel=L\"$\\sqrt{\\langle r^2 \\rangle - \\langle r \\rangle^2}$\")\n",
    "ax.legend(loc=\"lower right\")\n",
    "fig.savefig(params[\"savepath\"] * \"/2023-03-11_stdVsTime.pdf\", bbox_inches=\"tight\")"
   ]
  },
  {
   "cell_type": "markdown",
   "id": "932d603f-4d91-4930-9683-ba3263606bf0",
   "metadata": {},
   "source": [
    "For the theory comparison, I assumed that the true distribution is given by\n",
    "$$p(r, \\theta, t) = \\dfrac{1}{2 \\pi \\sigma^2} e^{-\\frac{r^2}{2 \\sigma^2}}$$\n",
    "where $\\sigma^2 = 2 D t$.\n",
    "\n",
    "Then, we have $\\sigma_r^2 = \\langle r^2 \\rangle - \\langle r \\rangle^2$\n",
    "$$\\begin{aligned}\n",
    "\\langle r \\rangle &= \\int_{-\\pi}^\\pi \\int_0^\\infty r p(r) \\ r dr d\\theta\n",
    "\\\\\n",
    "&= \\dfrac{1}{\\sigma^2} \\int_0^\\infty r^2 e^{-\\frac{r^2}{2 \\sigma^2}} dr\n",
    "\\\\\n",
    "&= \\sqrt{\\dfrac{\\pi}{2}} \\sigma\n",
    "\\end{aligned}$$\n",
    "\n",
    "$$\\begin{aligned}\n",
    "\\langle r^2 \\rangle &= \\int_{-\\pi}^\\pi \\int_0^\\infty r^2 p(r) \\ r dr d\\theta\n",
    "\\\\\n",
    "&= \\dfrac{1}{\\sigma^2} \\int_0^\\infty r^3 e^{-\\frac{r^2}{2 \\sigma^2}} dr\n",
    "\\\\\n",
    "&= 2 \\sigma^2\n",
    "\\end{aligned}$$\n",
    "\n",
    "Finally, this gives us\n",
    "$$\\sigma_r^2 = \\langle r^2 \\rangle - \\langle r \\rangle^2 = \\left(2 - \\dfrac{\\pi}{2} \\right) \\sigma^2 = (4 - \\pi) D t$$\n",
    "\n"
   ]
  },
  {
   "cell_type": "markdown",
   "id": "b01f66e8-2e4f-4a6e-8622-0db19957d3b8",
   "metadata": {},
   "source": [
    "Now, we start a system in a random configuration and see what the dynamics look like as it approaches the uniform state. This is done to assess the kind of noise we are getting for some specific number of particles in the system"
   ]
  },
  {
   "cell_type": "code",
   "execution_count": 63,
   "id": "a1cb1ea2-5310-4e6c-ac70-793ca3044117",
   "metadata": {},
   "outputs": [
    {
     "data": {
      "image/png": "[encoded data removed]",
      "text/plain": [
       "Figure(PyObject <Figure size 640x480 with 1 Axes>)"
      ]
     },
     "metadata": {},
     "output_type": "display_data"
    },
    {
     "data": {
      "text/plain": [
       "PyObject <matplotlib.image.AxesImage object at 0x2a9a6dd90>"
      ]
     },
     "execution_count": 63,
     "metadata": {},
     "output_type": "execute_result"
    }
   ],
   "source": [
    "params = Dict(\"capacity\" => 200,\n",
    "              \"temperature\" => 0.1,\n",
    "              \"preferred_density\" => 0.5,\n",
    "              \"m\" => 0.0,\n",
    "              \"alpha\" => 0.0,\n",
    "              \"n_sweeps\" => 1000,\n",
    "              \"moveType\" => \"local\",\n",
    "              \"grid_size\" => 64,\n",
    "              \"fill\" => [0.25, 0.25],\n",
    "              \"utility_func\" => quadratic_utility,\n",
    "              \"delta\" => 1.0,\n",
    "              \"snapshot\" => 10,\n",
    "              \"savepath\" => drivefolder * \"2023-03-22_1ptclDiffusionTest\");\n",
    "\n",
    "state = random_state(params)\n",
    "# state = zeros(Int64, params[\"grid_size\"], params[\"grid_size\"], 2)\n",
    "# state[Int(round(params[\"grid_size\"]/2)), Int(round(params[\"grid_size\"]/2)), :] = [1, 1]\n",
    "\n",
    "\n",
    "plt.imshow(state[:, :, 1], vmin=0, vmax=params[\"capacity\"], cmap=\"RdBu_r\")"
   ]
  },
  {
   "cell_type": "code",
   "execution_count": 64,
   "id": "3041bc03-617b-40ca-9892-d54e55d3bad0",
   "metadata": {},
   "outputs": [
    {
     "name": "stderr",
     "output_type": "stream",
     "text": [
      "\u001b[32mProgress: 100%|█████████████████████████████████████████| Time: 0:00:01\u001b[39m\n"
     ]
    }
   ],
   "source": [
    "run_simulation!(state, params);"
   ]
  },
  {
   "cell_type": "code",
   "execution_count": 50,
   "id": "97dee3d9-b521-4225-9f71-194be4e1a690",
   "metadata": {},
   "outputs": [
    {
     "data": {
      "image/png": "[encoded data removed]",
      "text/plain": [
       "Figure(PyObject <Figure size 640x480 with 1 Axes>)"
      ]
     },
     "metadata": {},
     "output_type": "display_data"
    }
   ],
   "source": [
    "plt.hist(sum(state, dims=3)[:], bins=0:2:params[\"capacity\"]);"
   ]
  },
  {
   "cell_type": "code",
   "execution_count": null,
   "id": "625c1edf-8f96-4df2-876e-16511d9f4625",
   "metadata": {},
   "outputs": [],
   "source": []
  }
 ],
 "metadata": {
  "kernelspec": {
   "display_name": "Julia 1.8.2",
   "language": "julia",
   "name": "julia-1.8"
  },
  "language_info": {
   "file_extension": ".jl",
   "mimetype": "application/julia",
   "name": "julia",
   "version": "1.8.2"
  }
 },
 "nbformat": 4,
 "nbformat_minor": 5
}
