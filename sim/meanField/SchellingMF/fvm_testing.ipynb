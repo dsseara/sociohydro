{
 "cells": [
  {
   "cell_type": "code",
   "execution_count": 1,
   "id": "2cc0137e-f784-4c9b-9b14-599311787c6d",
   "metadata": {},
   "outputs": [
    {
     "name": "stderr",
     "output_type": "stream",
     "text": [
      "\u001b[32m\u001b[1m  Activating\u001b[22m\u001b[39m project at `~/code/projects/FiniteVolumeMethod.jl`\n",
      "\u001b[32m\u001b[1mPrecompiling\u001b[22m\u001b[39m project...\n",
      "\u001b[32m  ✓ \u001b[39m\u001b[90mPlots → UnitfulExt\u001b[39m\n",
      "  1 dependency successfully precompiled in 35 seconds. 236 already precompiled.\n"
     ]
    }
   ],
   "source": [
    "import Pkg\n",
    "Pkg.activate(\"/Users/danny/code/projects/FiniteVolumeMethod.jl/\")\n",
    "Pkg.instantiate()"
   ]
  },
  {
   "cell_type": "markdown",
   "id": "a8160ae6-762a-4ec8-a4e4-a7f51d1d5808",
   "metadata": {},
   "source": [
    "Following [tutorial for solving the Keller-Segel model](https://danielvandh.github.io/FiniteVolumeMethod.jl/stable/tutorials/keller_segel_chemotaxis/).\n",
    "\n",
    "Solving the equations\n",
    "$$\n",
    "\\begin{aligned}\n",
    "\\dfrac{\\partial \\rho(\\mathbf{x}, t)}{\\partial t} &= - \\nabla \\cdot \\left( -\\nabla \\rho + \\dfrac{k \\rho}{1 + \\rho^2} \\nabla c \\right) + \\rho(1-\\rho)\\\\\n",
    "\\dfrac{\\partial c(\\mathbf{x}, t)}{\\partial t} &= D \\nabla^2 c + \\rho - a c\n",
    "\\end{aligned}\n",
    "$$\n",
    "\n",
    "where $\\rho$ is a density of cells and $c$ is the concentration of a chemoattractant that is secreted by the cells and decays at a constant rate.\n",
    "\n",
    "We will simulate this on a square grid $[0, 100]^2$ with Neumann boundary conditions, $\\hat{n} \\cdot \\mathbf{J} = 0$, where $\\mathbf{J}$ is the flux function, i.e. the thing we take the derivative of."
   ]
  },
  {
   "cell_type": "code",
   "execution_count": 2,
   "id": "de0e2567-eb30-457d-a59e-82b4f40bf4b7",
   "metadata": {},
   "outputs": [
    {
     "name": "stderr",
     "output_type": "stream",
     "text": [
      "\u001b[36m\u001b[1m[ \u001b[22m\u001b[39m\u001b[36m\u001b[1mInfo: \u001b[22m\u001b[39mPrecompiling Plots [91a5bcdd-55d7-5caf-9e0b-520d859cae80]\n",
      "\u001b[36m\u001b[1m[ \u001b[22m\u001b[39m\u001b[36m\u001b[1mInfo: \u001b[22m\u001b[39mPrecompiling IJuliaExt [2f4121a4-3b3a-5ce6-9c5e-1f2673ce168a]\n"
     ]
    }
   ],
   "source": [
    "using FiniteVolumeMethod\n",
    "using DelaunayTriangulation\n",
    "using Plots\n",
    "using LaTeXStrings"
   ]
  },
  {
   "cell_type": "code",
   "execution_count": 4,
   "id": "7d5d3eee-4da6-4d6a-bb1e-798a63cfed98",
   "metadata": {},
   "outputs": [
    {
     "data": {
      "text/plain": [
       "FVMGeometry with 62500 control volumes, 124002 triangles, and 186501 edges"
      ]
     },
     "execution_count": 4,
     "metadata": {},
     "output_type": "execute_result"
    }
   ],
   "source": [
    "# define mesh\n",
    "Lx = Ly = 100\n",
    "Nx = Ny = 250\n",
    "tri = triangulate_rectangle(0, Lx, 0, Ly, Nx, Ny, single_boundary=true)\n",
    "mesh = FVMGeometry(tri)"
   ]
  },
  {
   "cell_type": "code",
   "execution_count": 17,
   "id": "31362f8f-9fa3-44e6-8297-d2cee62d86de",
   "metadata": {},
   "outputs": [
    {
     "ename": "LoadError",
     "evalue": "Cannot convert SimpleGraphs.UndirectedGraph{Int64} to series data for plotting",
     "output_type": "error",
     "traceback": [
      "Cannot convert SimpleGraphs.UndirectedGraph{Int64} to series data for plotting",
      "",
      "Stacktrace:",
      "  [1] error(s::String)",
      "    @ Base ./error.jl:35",
      "  [2] _prepare_series_data(x::SimpleGraphs.UndirectedGraph{Int64})",
      "    @ RecipesPipeline ~/.julia/packages/RecipesPipeline/BGM3l/src/series.jl:8",
      "  [3] _series_data_vector(x::SimpleGraphs.UndirectedGraph{Int64}, plotattributes::Dict{Symbol, Any})",
      "    @ RecipesPipeline ~/.julia/packages/RecipesPipeline/BGM3l/src/series.jl:36",
      "  [4] macro expansion",
      "    @ ~/.julia/packages/RecipesPipeline/BGM3l/src/series.jl:129 [inlined]",
      "  [5] apply_recipe(plotattributes::AbstractDict{Symbol, Any}, #unused#::Type{RecipesPipeline.SliceIt}, x::Any, y::Any, z::Any)",
      "    @ RecipesPipeline ~/.julia/packages/RecipesBase/BRe07/src/RecipesBase.jl:300",
      "  [6] _process_userrecipes!(plt::Any, plotattributes::Any, args::Any)",
      "    @ RecipesPipeline ~/.julia/packages/RecipesPipeline/BGM3l/src/user_recipe.jl:38",
      "  [7] recipe_pipeline!(plt::Any, plotattributes::Any, args::Any)",
      "    @ RecipesPipeline ~/.julia/packages/RecipesPipeline/BGM3l/src/RecipesPipeline.jl:72",
      "  [8] _plot!(plt::Plots.Plot, plotattributes::Any, args::Any)",
      "    @ Plots ~/.julia/packages/Plots/sxUvK/src/plot.jl:223",
      "  [9] #plot#188",
      "    @ ~/.julia/packages/Plots/sxUvK/src/plot.jl:102 [inlined]",
      " [10] plot(args::Any)",
      "    @ Plots ~/.julia/packages/Plots/sxUvK/src/plot.jl:93",
      " [11] top-level scope",
      "    @ In[17]:1"
     ]
    }
   ],
   "source": []
  },
  {
   "cell_type": "code",
   "execution_count": null,
   "id": "594998bc-0c0d-4318-8fde-6b9312ea211c",
   "metadata": {},
   "outputs": [],
   "source": []
  }
 ],
 "metadata": {
  "kernelspec": {
   "display_name": "Julia 1.9.0",
   "language": "julia",
   "name": "julia-1.9"
  },
  "language_info": {
   "file_extension": ".jl",
   "mimetype": "application/julia",
   "name": "julia",
   "version": "1.9.0"
  }
 },
 "nbformat": 4,
 "nbformat_minor": 5
}
