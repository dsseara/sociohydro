{
 "cells": [
  {
   "cell_type": "code",
   "execution_count": 3,
   "metadata": {},
   "outputs": [],
   "source": [
    "from fvm_utils import *\n",
    "import os\n",
    "import matplotlib.pyplot as plt\n",
    "from matplotlib import animation, rc\n",
    "from IPython.display import HTML\n"
   ]
  },
  {
   "cell_type": "markdown",
   "metadata": {},
   "source": [
    "# Simulation test run"
   ]
  },
  {
   "cell_type": "code",
   "execution_count": 4,
   "metadata": {},
   "outputs": [
    {
     "name": "stdout",
     "output_type": "stream",
     "text": [
      "/Users/danny/miniconda3/envs/fipy/lib/python3.10/site-packages/numpy/lib/function_base.py:628: ComplexWarning: Casting complex values to real discards the imaginary part\n",
      "  a = asarray(a, dtype=dtype, order=order)\n",
      "Final mean-square error:\n",
      "White: 0.1010\n",
      "Black: 0.0085\n"
     ]
    }
   ],
   "source": [
    "! bash run_Schelling2D2S_geographicArea.sh"
   ]
  },
  {
   "cell_type": "code",
   "execution_count": null,
   "metadata": {},
   "outputs": [],
   "source": [
    "savefolder = \"/Users/danny/Library/CloudStorage/GoogleDrive-dsseara@uchicago.edu/My Drive/uchicago/sociohydro/2024-05-03_fipyTest\"\n",
    "filename = \"data.hdf5\"\n",
    "with h5py.File(os.path.join(savefolder, filename), \"r\") as d:\n",
    "    cell_centers = d[\"cell_centers\"][()]\n",
    "    ϕW = d[\"phiW_array\"][()]\n",
    "    ϕB = d[\"phiB_array\"][()]\n",
    "    ϕW_2020 = d[\"phiW_2020\"][()]\n",
    "    ϕB_2020 = d[\"phiB_2020\"][()]\n",
    "    t = d[\"t_array\"][()]"
   ]
  },
  {
   "cell_type": "code",
   "execution_count": null,
   "metadata": {},
   "outputs": [],
   "source": [
    "fig, ax = plt.subplots(2, 3, dpi=144, figsize=(7, 5), sharey=True, sharex=True)\n",
    "\n",
    "for a in ax.ravel(): \n",
    "    a.set_aspect(1)\n",
    "    a.ticklabel_format(axis=\"both\", style=\"sci\", scilimits=(0, 0))\n",
    "\n",
    "# initialize line\n",
    "cw = ax[0, 0].scatter(cell_centers[:, 0], cell_centers[:, 1], c=ϕW[0],\n",
    "                      s=1, cmap=\"Blues\", vmin=0, vmax=1)\n",
    "caxw = ax[0, 0].inset_axes([1.05, 0.0, 0.05, 1])\n",
    "cbarw = fig.colorbar(cw, ax=ax[0, 0], cax=caxw)\n",
    "cbarw.ax.set(title=r\"$\\hat{\\phi}^W$\")\n",
    "\n",
    "cw_error = ax[0, 1].scatter(cell_centers[:, 0], cell_centers[:, 1], c=(ϕW[0] - ϕW_2020)**2,\n",
    "                            s=1, cmap=\"BuPu\", vmin=0, vmax=1)\n",
    "caxw_error = ax[0, 1].inset_axes([1.05, 0.0, 0.05, 1])\n",
    "cbarw_error = fig.colorbar(cw_error, ax=ax[0, 1], cax=caxw_error)\n",
    "cbarw_error.ax.set(title=r\"$\\left( \\phi^W_\\mathrm{2020} - \\hat{\\phi}^W \\right)^2$\")\n",
    "\n",
    "cw_final = ax[0, 2].scatter(cell_centers[:, 0], cell_centers[:, 1], c=ϕW_2020,\n",
    "                            s=1, cmap=\"Blues\", vmin=0, vmax=1)\n",
    "caxw_final = ax[0, 2].inset_axes([1.05, 0.0, 0.05, 1])\n",
    "cbarw_final = fig.colorbar(cw_final, ax=ax[0, 2], cax=caxw_final)\n",
    "cbarw_final.ax.set(title=r\"$\\phi^W_\\mathrm{2020}$\")\n",
    "\n",
    "cb = ax[1, 0].scatter(cell_centers[:, 0], cell_centers[:, 1], c=ϕW[0],\n",
    "                      s=1, cmap=\"Reds\", vmin=0, vmax=1)\n",
    "caxb = ax[1, 0].inset_axes([1.05, 0.0, 0.05, 1])\n",
    "cbarb = fig.colorbar(cb, ax=ax[1, 0], cax=caxb)\n",
    "cbarb.ax.set(title=r\"$\\hat{\\phi}^B$\")\n",
    "\n",
    "cb_error = ax[1, 1].scatter(cell_centers[:, 0], cell_centers[:, 1], c=(ϕB[0] - ϕB_2020)**2,\n",
    "                            s=1, cmap=\"RdPu\", vmin=0, vmax=1)\n",
    "caxb_error = ax[1, 1].inset_axes([1.05, 0.0, 0.05, 1])\n",
    "cbarb_error = fig.colorbar(cb_error, ax=ax[1, 1], cax=caxb_error)\n",
    "cbarb_error.ax.set(title=r\"$\\left( \\phi^B_\\mathrm{2020} - \\hat{\\phi}^B \\right)^2$\")\n",
    "\n",
    "cb_final = ax[1, 2].scatter(cell_centers[:, 0], cell_centers[:, 1], c=ϕB_2020,\n",
    "                            s=1, cmap=\"Reds\", vmin=0, vmax=1)\n",
    "caxb_final = ax[1, 2].inset_axes([1.05, 0.0, 0.05, 1])\n",
    "cbarb_final = fig.colorbar(cb_final, ax=ax[1, 2], cax=caxb_final)\n",
    "cbarb_final.ax.set(title=r\"$\\phi^B_\\mathrm{2020}$\")\n",
    "\n",
    "plt.tight_layout()\n",
    "\n",
    "def animate(i):\n",
    "    cw.set_array(ϕW[i])\n",
    "    cb.set_array(ϕB[i])\n",
    "    cw_error.set_array((ϕW[i] - ϕW_2020)**2)\n",
    "    cb_error.set_array((ϕB[i] - ϕB_2020)**2)\n",
    "\n",
    "    return [cw, cb, cw_error, cb_error]\n",
    "\n",
    "anim = animation.FuncAnimation(fig, animate, frames=len(ϕW), interval=20, blit=True)\n",
    "# anim.save(f\"2024-04-22_T10000_Γ{Γ}.mp4\")\n",
    "\n",
    "HTML(anim.to_html5_video())\n"
   ]
  },
  {
   "cell_type": "code",
   "execution_count": null,
   "metadata": {},
   "outputs": [],
   "source": [
    "n=0\n",
    "print(f\"n{n:07d}\")"
   ]
  },
  {
   "cell_type": "code",
   "execution_count": null,
   "metadata": {},
   "outputs": [],
   "source": [
    "datadict = {\"n\": 7, \"phiB\": np.random.randn(100), \"phiW\": np.random.rand(100)}\n",
    "for key, value in datadict.items():\n",
    "    print(value)"
   ]
  },
  {
   "cell_type": "code",
   "execution_count": null,
   "metadata": {},
   "outputs": [],
   "source": [
    "ϕW, ϕB, x, y = get_data(\"/Users/danny/code/uchicago/sociohydro/data/raw/gridded/Illinois_Cook.hdf5\")\n",
    "x /= 1000\n",
    "y /= 1000\n",
    "\n",
    "ξ, _ = get_corrLength(\"/Users/danny/code/uchicago/sociohydro/data/raw/gridded/Illinois_Cook.hdf5\", region=\"masked\",\n",
    "                      capacity_method=\"local\", p0=[1, 10, 0])\n",
    "\n",
    "# x /= ξ\n",
    "# y /= ξ"
   ]
  },
  {
   "cell_type": "code",
   "execution_count": null,
   "metadata": {},
   "outputs": [],
   "source": [
    "fig, ax = plt.subplots(1, 2, dpi=144, sharey=True)\n",
    "ax[0].pcolormesh(x, y, ϕW, vmin=0, vmax=1, cmap=\"Blues\")\n",
    "ax[1].pcolormesh(x, y, ϕB, vmin=0, vmax=1, cmap=\"Reds\")\n",
    "for a in ax.ravel():\n",
    "    a.set_aspect(1)\n",
    "\n",
    "ax[0].set(xlabel=r\"$x / \\xi$\", ylabel=r\"$y / \\xi$\")\n",
    "\n",
    "ax[1].set(xlabel=r\"$x / \\xi$\")"
   ]
  },
  {
   "cell_type": "code",
   "execution_count": null,
   "metadata": {},
   "outputs": [],
   "source": [
    "buffer = 5\n",
    "simplify = 2\n",
    "cellsize = 4\n",
    "crs = \"ESRI:102003\"\n",
    "mesh, simple_boundary, geo_file_contents = make_mesh(ϕW, x, y, crs, \n",
    "                                                     buffer, simplify, cellsize)"
   ]
  },
  {
   "cell_type": "code",
   "execution_count": null,
   "metadata": {},
   "outputs": [],
   "source": [
    "fig, ax = plt.subplots()\n",
    "ax.scatter(mesh.cellCenters.value[0], mesh.cellCenters.value[1], s=1)\n",
    "ax.contour(x, y, np.isnan(ϕW), levels=0)\n",
    "ax.set_aspect(1)"
   ]
  },
  {
   "cell_type": "code",
   "execution_count": null,
   "metadata": {},
   "outputs": [],
   "source": [
    "fig, ax = plt.subplots(2, 4, dpi=144, sharey=True, sharex=True)\n",
    "\n",
    "# initial\n",
    "ax[0, 0].scatter(mesh.cellCenters.value[0],\n",
    "                 mesh.cellCenters.value[1],\n",
    "                 c=ϕW_array[0], s=1, cmap=\"Blues\",\n",
    "                 vmin=0, vmax=1)\n",
    "ax[1, 0].scatter(mesh.cellCenters.value[0],\n",
    "                 mesh.cellCenters.value[1],\n",
    "                 c=ϕB_array[0], s=1, cmap=\"Reds\",\n",
    "                 vmin=0, vmax=1)\n",
    "ax[0, 0].set(title=\"initial\", ylabel=r\"$\\phi^W$\")\n",
    "\n",
    "# final (true)\n",
    "ax[0, 1].scatter(mesh.cellCenters.value[0],\n",
    "                 mesh.cellCenters.value[1],\n",
    "                 c=ϕWf_cell, s=1, cmap=\"Blues\",\n",
    "                 vmin=0, vmax=1)\n",
    "ax[1, 1].scatter(mesh.cellCenters.value[0],\n",
    "                 mesh.cellCenters.value[1],\n",
    "                 c=ϕBf_cell, s=1, cmap=\"Reds\",\n",
    "                 vmin=0, vmax=1)\n",
    "ax[0, 1].set(title=\"final (true)\")\n",
    "\n",
    "# final (sim)\n",
    "ax[0, 2].scatter(mesh.cellCenters.value[0],\n",
    "                 mesh.cellCenters.value[1],\n",
    "                 c=ϕW_array[-1], s=1, cmap=\"Blues\",\n",
    "                 vmin=0, vmax=1)\n",
    "ax[1, 2].scatter(mesh.cellCenters.value[0],\n",
    "                 mesh.cellCenters.value[1],\n",
    "                 c=ϕB_array[-1], s=1, cmap=\"Reds\",\n",
    "                 vmin=0, vmax=1)\n",
    "ax[0, 2].set(title=\"final (sim)\")\n",
    "\n",
    "# difference\n",
    "diffW = ax[0, 3].scatter(mesh.cellCenters.value[0],\n",
    "                         mesh.cellCenters.value[1],\n",
    "                         c=(ϕWf_cell - ϕW_array[-1]),\n",
    "                         s=1, cmap=\"BrBG\", vmin=-1, vmax=1)\n",
    "caxW = ax[0, 3].inset_axes([1.05, 0.0, 0.05, 1])\n",
    "cbarW = fig.colorbar(diffW, cax=caxW, ax=ax[0, 3])\n",
    "\n",
    "diffB = ax[1, 3].scatter(mesh.cellCenters.value[0],\n",
    "                         mesh.cellCenters.value[1],\n",
    "                         c=(ϕBf_cell - ϕB_array[-1]),\n",
    "                         s=1, cmap=\"BrBG\", vmin=-1, vmax=1)\n",
    "caxB = ax[1, 3].inset_axes([1.05, 0.0, 0.05, 1])\n",
    "cbarB = fig.colorbar(diffB, cax=caxB, ax=ax[1, 3])\n",
    "\n",
    "\n",
    "ax[0, 3].set(title=\"true - sim\") \n",
    "\n",
    "for a in ax.ravel():\n",
    "    a.set_aspect(1)\n",
    "    a.ticklabel_format(axis=\"both\", style=\"sci\", scilimits=(0,0))\n",
    "\n",
    "\n",
    "ax[1, 0].set(ylabel=r\"$\\phi^B$\")\n",
    "\n",
    "plt.tight_layout()"
   ]
  },
  {
   "cell_type": "code",
   "execution_count": null,
   "metadata": {},
   "outputs": [],
   "source": [
    "fig, ax = plt.subplots(2, 3, dpi=144, sharey=True, sharex=True)\n",
    "\n",
    "# initial\n",
    "ax[0, 0].scatter(mesh.cellCenters.value[0],\n",
    "                 mesh.cellCenters.value[1],\n",
    "                 c=ϕW_array[0], s=1, cmap=\"Blues\",\n",
    "                 vmin=0, vmax=1)\n",
    "ax[1, 0].scatter(mesh.cellCenters.value[0],\n",
    "                 mesh.cellCenters.value[1],\n",
    "                 c=ϕB_array[0], s=1, cmap=\"Reds\",\n",
    "                 vmin=0, vmax=1)\n",
    "ax[0, 0].set(title=\"initial\", ylabel=r\"$\\phi^W$\")\n",
    "\n",
    "# final (true)\n",
    "ax[0, 1].scatter(mesh.cellCenters.value[0],\n",
    "                 mesh.cellCenters.value[1],\n",
    "                 c=ϕWf_cell, s=1, cmap=\"Blues\",\n",
    "                 vmin=0, vmax=1)\n",
    "ax[1, 1].scatter(mesh.cellCenters.value[0],\n",
    "                 mesh.cellCenters.value[1],\n",
    "                 c=ϕBf_cell, s=1, cmap=\"Reds\",\n",
    "                 vmin=0, vmax=1)\n",
    "ax[0, 1].set(title=\"final (true)\")\n",
    "\n",
    "# difference\n",
    "diffW = ax[0, 2].scatter(mesh.cellCenters.value[0],\n",
    "                         mesh.cellCenters.value[1],\n",
    "                         c=ϕWf_cell - ϕW0_cell, s=1,\n",
    "                         cmap=\"BrBG\")\n",
    "caxW = ax[0, 2].inset_axes([1.05, 0.0, 0.05, 1])\n",
    "cbarW = fig.colorbar(diffW, cax=caxW, ax=ax[0, 2])\n",
    "\n",
    "diffB = ax[1, 2].scatter(mesh.cellCenters.value[0],\n",
    "                         mesh.cellCenters.value[1],\n",
    "                         c=ϕBf_cell - ϕB0_cell, s=1,\n",
    "                         cmap=\"BrBG\")\n",
    "caxB = ax[1, 2].inset_axes([1.05, 0.0, 0.05, 1])\n",
    "cbarB = fig.colorbar(diffB, cax=caxB, ax=ax[1, 2])\n",
    "\n",
    "\n",
    "ax[0, 2].set(title=\"final - initial\") \n",
    "\n",
    "for a in ax.ravel():\n",
    "    a.set_aspect(1)\n",
    "    a.ticklabel_format(axis=\"both\", style=\"sci\", scilimits=(0,0))\n",
    "\n",
    "\n",
    "ax[1, 0].set(ylabel=r\"$\\phi^B$\")\n",
    "\n",
    "plt.tight_layout()"
   ]
  },
  {
   "cell_type": "code",
   "execution_count": null,
   "metadata": {},
   "outputs": [],
   "source": [
    "fig, ax = plt.subplots(1, 2, dpi=144, sharey=True)\n",
    "scat0 = ax[0].scatter(cell_points[:, 0], cell_points[:, 1],\n",
    "                      c=ϕW0_cell + ϕB0_cell, s=1, vmin=0, vmax=1)\n",
    "scatf = ax[1].scatter(cell_points[:, 0], cell_points[:, 1],\n",
    "                      c=ϕWf_cell + ϕBf_cell, s=1, vmin=0, vmax=1)\n",
    "cax = ax[1].inset_axes([1.05, 0.0, 0.05, 1])\n",
    "cbar = fig.colorbar(scatf, ax=ax[1], cax=cax)\n",
    "cbar.ax.set(title=r\"$\\phi^W + \\phi^B$\")\n",
    "\n",
    "for a in ax.ravel():\n",
    "    a.set_aspect(1)\n",
    "    a.ticklabel_format(axis=\"both\", style=\"sci\", scilimits=(0,0))"
   ]
  },
  {
   "cell_type": "code",
   "execution_count": null,
   "metadata": {},
   "outputs": [],
   "source": [
    "(ϕW0_cell + ϕB0_cell).mean()"
   ]
  },
  {
   "cell_type": "code",
   "execution_count": null,
   "metadata": {},
   "outputs": [],
   "source": [
    "(ϕWf_cell + ϕBf_cell).mean()"
   ]
  },
  {
   "cell_type": "markdown",
   "metadata": {},
   "source": [
    "# Check interpolation"
   ]
  },
  {
   "cell_type": "code",
   "execution_count": null,
   "metadata": {},
   "outputs": [],
   "source": [
    "fig, ax = plt.subplots(1, 2, dpi=144, sharey=True)\n",
    "simple_boundary.boundary.plot(ax=ax[0], color=\"k\")\n",
    "simple_boundary.boundary.plot(ax=ax[1], color=\"k\")\n",
    "scatW = ax[0].scatter(mesh.cellCenters.value[0],\n",
    "                      mesh.cellCenters.value[1],\n",
    "                      c=ϕW0_cell, s=1,\n",
    "                      cmap=\"Blues\", vmin=0, vmax=1)\n",
    "cax0 = ax[0].inset_axes([1.05, 0.0, 0.05, 1])\n",
    "cbar0 = fig.colorbar(scatW, ax=ax[0], cax=cax0)\n",
    "cbar0.ax.set(title=r\"$\\phi^W$\")\n",
    "ax[0].ticklabel_format(axis=\"both\", style=\"sci\", scilimits=(0, 0))\n",
    "\n",
    "scatB = ax[1].scatter(mesh.cellCenters.value[0],\n",
    "                      mesh.cellCenters.value[1],\n",
    "                      c=ϕB0_cell, s=1,\n",
    "                      cmap=\"Reds\", vmin=0, vmax=1)\n",
    "cax1 = ax[1].inset_axes([1.05, 0.0, 0.05, 1])\n",
    "cbar1 = fig.colorbar(scatB, ax=ax[1], cax=cax1)\n",
    "cbar1.ax.set(title=r\"$\\phi^B$\")\n",
    "ax[1].ticklabel_format(axis=\"both\", style=\"sci\", scilimits=(0, 0))\n",
    "plt.tight_layout()\n"
   ]
  },
  {
   "cell_type": "markdown",
   "metadata": {},
   "source": [
    "# Measure gradient magnitudes"
   ]
  },
  {
   "cell_type": "code",
   "execution_count": null,
   "metadata": {},
   "outputs": [],
   "source": [
    "import h5py"
   ]
  },
  {
   "cell_type": "code",
   "execution_count": null,
   "metadata": {},
   "outputs": [],
   "source": [
    "datafile = \"/Users/danny/code/uchicago/sociohydro/data/raw/gridded/Illinois_Cook.hdf5\"\n",
    "with h5py.File(datafile) as d:\n",
    "    ρW = d[\"1990\"][\"white_grid_masked\"][()]\n",
    "    ρB = d[\"1990\"][\"black_grid_masked\"][()]\n",
    "    x_grid = d[\"1990\"][\"x_grid\"][()]\n",
    "    y_grid = d[\"1990\"][\"y_grid\"][()]\n",
    "    \n",
    "    capacity = np.zeros(x_grid.shape)\n",
    "    for key in d.keys():\n",
    "        capacity = np.fmax(capacity, d[key][\"white_grid_masked\"][:] + d[key][\"black_grid_masked\"][:])\n",
    "    \n",
    "ϕW = ρW / (1.1 * capacity)\n",
    "ϕB = ρB / (1.1 * capacity)"
   ]
  },
  {
   "cell_type": "code",
   "execution_count": null,
   "metadata": {},
   "outputs": [],
   "source": [
    "fig, ax = plt.subplots(dpi=144, figsize=(3, 3))\n",
    "ax.pcolormesh(x_grid, y_grid, ϕW, cmap=\"Blues\", vmin=0, vmax=1)\n",
    "ax.set_aspect(1)\n",
    "ax.ticklabel_format(axis=\"both\", style=\"sci\", scilimits=(0,0))"
   ]
  },
  {
   "cell_type": "code",
   "execution_count": null,
   "metadata": {},
   "outputs": [],
   "source": [
    "ϕWx, ϕWy = np.gradient(ϕW, 1000, 1000)\n",
    "print([np.nanmin(ϕWx), np.nanmax(ϕWx)])\n",
    "print([np.nanmin(ϕWy), np.nanmax(ϕWy)])"
   ]
  },
  {
   "cell_type": "code",
   "execution_count": null,
   "metadata": {},
   "outputs": [],
   "source": [
    "fig, ax = plt.subplots(1, 3, figsize=(9, 3), dpi=144, sharey=True)\n",
    "ax[0].pcolormesh(x_grid, y_grid, ϕW, cmap=\"Blues\", vmin=0, vmax=1)\n",
    "ax[1].pcolormesh(x_grid, y_grid, ϕWx, cmap=\"BuPu\", vmin=-4e-4, vmax=4e-4)\n",
    "ax[2].pcolormesh(x_grid, y_grid, ϕWy, cmap=\"BuPu\", vmin=-4e-4, vmax=4e-4)\n",
    "for a in ax.ravel():\n",
    "    a.ticklabel_format(axis=\"both\", style=\"sci\", scilimits=(0,0))\n"
   ]
  },
  {
   "cell_type": "code",
   "execution_count": null,
   "metadata": {},
   "outputs": [],
   "source": []
  }
 ],
 "metadata": {
  "kernelspec": {
   "display_name": "fipy",
   "language": "python",
   "name": "python3"
  },
  "language_info": {
   "codemirror_mode": {
    "name": "ipython",
    "version": 3
   },
   "file_extension": ".py",
   "mimetype": "text/x-python",
   "name": "python",
   "nbconvert_exporter": "python",
   "pygments_lexer": "ipython3",
   "version": "3.10.14"
  }
 },
 "nbformat": 4,
 "nbformat_minor": 2
}
