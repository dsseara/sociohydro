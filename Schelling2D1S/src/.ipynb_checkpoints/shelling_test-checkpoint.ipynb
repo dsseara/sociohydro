{
 "cells": [
  {
   "cell_type": "code",
   "execution_count": null,
   "id": "e024c9bd-5e2b-444a-83e1-4dbcbe9a846b",
   "metadata": {},
   "outputs": [],
   "source": [
    "using PyPlot\n",
    "using ProgressMeter"
   ]
  },
  {
   "cell_type": "code",
   "execution_count": null,
   "id": "582dfee3-b299-455f-bec2-624493f20b3e",
   "metadata": {},
   "outputs": [],
   "source": [
    "mutable struct Grid\n",
    "    state::Array{Int64}\n",
    "    temperature::Float64\n",
    "    iteration::Int\n",
    "    capacity::Int \n",
    "    preferred_density::Float32\n",
    "end"
   ]
  },
  {
   "cell_type": "code",
   "execution_count": null,
   "id": "14fc089d-bcea-4ab1-aeff-3ae28d3fb33c",
   "metadata": {
    "tags": []
   },
   "outputs": [],
   "source": [
    "function move!(x::Grid, n::Integer, m::Integer)\n",
    "    # randomly select where to from and to\n",
    "    from, to = rand(1:n), rand(1:m)\n",
    "\n",
    "    # make sure destination is not full\n",
    "    while x.state[to] >= x.capacity\n",
    "        to = rand(1:m)\n",
    "    end\n",
    "\n",
    "    # make sure original location is not empty\n",
    "    while x.state[from] == 0\n",
    "        from = rand(1:n)\n",
    "    end\n",
    "    \n",
    "    # find source density\n",
    "    source_density = x.state[from] / x.capacity\n",
    "    # find destination density\n",
    "    destination_density = (x.state[to] + 1) / x.capacity\n",
    "\n",
    "    # calculate the utility of moving using asymmetric utility function\n",
    "    if destination_density < x.preferred_density\n",
    "        destination_utility = 2 * destination_density\n",
    "    else\n",
    "        m = 0.5\n",
    "        destination_utility = m + 2 * (1 - m) * (1 - destination_density)\n",
    "    end\n",
    "    \n",
    "    # calculate the utility of moving using asymmetric utility function\n",
    "    if source_density < x.preferred_density\n",
    "        source_utility = 2 * source_density\n",
    "    else\n",
    "        m = 0.5\n",
    "        source_utility = m + 2 * (1 - m) * (1 - source_density)\n",
    "    end\n",
    "\n",
    "    # calculate probability of moving using Glauber-like rule\n",
    "    prob_to_move = 1 / (1 + exp(-(destination_utility - source_utility) / x.temperature))\n",
    "    \n",
    "    # draw a random number to select whether to move or not\n",
    "    roll = rand()\n",
    "    \n",
    "    if roll < prob_to_move\n",
    "        x.state[from] -= 1\n",
    "        x.state[to] += 1\n",
    "    end\n",
    "end"
   ]
  },
  {
   "cell_type": "code",
   "execution_count": null,
   "id": "670fc576-2b42-47be-83ee-6b0c8ba3f666",
   "metadata": {},
   "outputs": [],
   "source": [
    "capacity = 100\n",
    "grid_size = 32\n",
    "total_occupants = Int((grid_size^2 * capacity) / 2)\n",
    "occupant_locations = rand(1:grid_size^2, total_occupants)\n",
    "initial_grid = reshape([count(==(i), occupant_locations) for i in 1:grid_size^2], (grid_size, grid_size))"
   ]
  },
  {
   "cell_type": "code",
   "execution_count": null,
   "id": "1c549b6b-2531-4942-94af-048fa46d25f5",
   "metadata": {},
   "outputs": [],
   "source": [
    "temp = 0.001\n",
    "iteration = 0\n",
    "rho_pref = 0.5\n",
    "x = Grid(deepcopy(initial_grid), temp, iteration, capacity, rho_pref)\n",
    "\n",
    "fig, ax = plt.subplots()\n",
    "c = ax.pcolormesh(x.state, cmap=\"RdBu_r\", vmin=0, vmax=capacity)\n",
    "fig.colorbar(c, ax=ax)\n",
    "ax.set_aspect(1)"
   ]
  },
  {
   "cell_type": "code",
   "execution_count": null,
   "id": "fd2196d8-ed44-4116-ad36-a467ac82f0b5",
   "metadata": {},
   "outputs": [],
   "source": [
    "state_pre = deepcopy(x.state)\n",
    "n_sweeps = 1000\n",
    "\n",
    "@showprogress 1 for i in 1:n_sweeps\n",
    "    for j in 1:total_occupants\n",
    "        move!(x, grid_size^2, grid_size^2)\n",
    "    end\n",
    "end\n",
    "\n",
    "state_post = deepcopy(x.state)"
   ]
  },
  {
   "cell_type": "code",
   "execution_count": null,
   "id": "2c04b81c-a62b-4a04-be27-d96c402217c5",
   "metadata": {},
   "outputs": [],
   "source": [
    "fig, ax = plt.subplots(1, 2, dpi=150, figsize=(6, 2))\n",
    "c1 = ax[1].pcolormesh(state_pre, vmin=0, vmax=capacity, cmap=\"RdBu_r\")\n",
    "c2 = ax[2].pcolormesh(state_post, vmin=0, vmax=capacity, cmap=\"RdBu_r\")\n",
    "fig.colorbar(c1, ax=ax[1])\n",
    "fig.colorbar(c2, ax=ax[2])\n",
    "for a in ax[:]\n",
    "    a.set_aspect(1)\n",
    "end"
   ]
  },
  {
   "cell_type": "code",
   "execution_count": null,
   "id": "f7999aad-ffaa-46fb-bc9b-bf1bea5d171e",
   "metadata": {},
   "outputs": [],
   "source": [
    "m = 0.5\n",
    "density = state_post / capacity\n",
    "utility = zeros(size(density))\n",
    "\n",
    "utility[density .< x.preferred_density] = 2 .* density[density .< x.preferred_density]\n",
    "utility[density .>= x.preferred_density] = m .+ 2 .* (1 - m) .* (1 .- density[density .>= x.preferred_density])"
   ]
  },
  {
   "cell_type": "code",
   "execution_count": null,
   "id": "5ff54157-7698-4109-8322-9ff51f18d937",
   "metadata": {},
   "outputs": [],
   "source": [
    "fig, ax = plt.subplots()\n",
    "u = ax.pcolormesh(utility)\n",
    "ax.set_aspect(1)\n",
    "fig.colorbar(u, ax=ax)"
   ]
  },
  {
   "cell_type": "markdown",
   "id": "66fea354-05c3-4259-a347-8c2e5c6c9715",
   "metadata": {},
   "source": [
    "Try using the Shelling Module"
   ]
  },
  {
   "cell_type": "code",
   "execution_count": 1,
   "id": "303f9199-51f2-42a6-8dfb-760c6304e3bd",
   "metadata": {},
   "outputs": [],
   "source": [
    "using Pkg\n",
    "using PyPlot\n",
    "include(\"shellingMonteCarlo.jl\")\n",
    "using .shelling"
   ]
  },
  {
   "cell_type": "code",
   "execution_count": 8,
   "id": "19ca670a-775b-4168-bb42-0945c3f02863",
   "metadata": {},
   "outputs": [
    {
     "name": "stderr",
     "output_type": "stream",
     "text": [
      "\u001b[32mProgress: 100%|█████████████████████████████████████████| Time: 0:00:21\u001b[39m\n"
     ]
    },
    {
     "data": {
      "text/plain": [
       "32×32 Matrix{Int64}:\n",
       " 31  32  31   0  32  32  32  31  32  …  31  32  31  31   0  31   0  31  31\n",
       " 32  32  31  31   0  32  32  31  31     31  32  32  32  32   0   0  32  31\n",
       " 32  31  31  31  31  31   0  31   0      0  32  31   0  31   0  32   0   0\n",
       " 31  31  32  32  32  31  32  31  31     32  32  32  31  32   0   0  32  32\n",
       " 32   0  32  32  32  32  32  32  32     31  32   0  32  32  32  31  32  32\n",
       " 31  31  32  32  32   0  32  31  31  …   0  32  31   0  31  32  32  31  31\n",
       "  0  32  32  32  32  32  32  32  31     32  31  32  32  32  31  32  31  31\n",
       " 32  32  31  31  32  31  32  32  32     31  31  31  32  32   0  32  32  32\n",
       " 31   0   0   0  32  31  32  31  31      0   0  32  31  31   0  31   0  32\n",
       " 32  31  32  32  32  32  32  31  31      0  32  32   0   0   0  31   0  31\n",
       "  0  31  32   0   0  32  32  31  32  …   0   0  32  31   0   0  31  32  32\n",
       "  0  32  32  31  31  32  32  32   0     32  31  32  31   0  32   0  31   0\n",
       " 32  32  31   0  31   0   0  32  32     32  32  32   0  32  32  32  31  31\n",
       "  ⋮                   ⋮              ⋱           ⋮                   ⋮  \n",
       " 32  31  32   0  32   0  32  31  32  …  32  32  31  32  32  32  31  32  32\n",
       " 32  31  31   0  31  32  32  31  32     31  32  31  32   0  32  32  32  32\n",
       " 31  32  32  32  31  31  31  32  32      0   0  32  31  31  31  32  31  32\n",
       " 31  32   0  31  32   0  32  32  32      0  31  31  31  32   0  32  32  31\n",
       "  0  32  32  31  32  32  32  32   0     32  31   0  32  32  32  31  31  31\n",
       " 32  32   0  31   0   0  32   0  32  …   0  31  32  32  31  31  32  32   0\n",
       "  0   0   0  32  32  32  32   0  32     31  32   0  31  31  31  32  32  32\n",
       " 32  32  32  31  32   0  31  31  32     32  32   0  31  32  32  31  31  31\n",
       " 32  32  31  31  31   0  32  31  32     31  31  31  32  32   0  31  31   0\n",
       "  0   0   0  31  31  31  32   0   0      0   0  32   0  32   0  32  31   0\n",
       " 31  32  32  32  32  32   0  31   0  …   0  32  31   0   0  32  32  31  32\n",
       " 32  32  31  32   0  32  32  32  32      0   0  32  32  31   0  32   0  32"
      ]
     },
     "execution_count": 8,
     "metadata": {},
     "output_type": "execute_result"
    }
   ],
   "source": [
    "params = Dict(\"capacity\" => 50,\n",
    "              \"temperature\" => 0.001,\n",
    "              \"preferred_density\" => 0.5,\n",
    "              \"m\" => 0.5,\n",
    "              \"alpha\" => 0.0,\n",
    "              \"n_sweeps\" => 25,\n",
    "              \"moveType\" => \"random\",\n",
    "              \"grid_size\" => 32)\n",
    "\n",
    "# random initial condition\n",
    "state_init = random_state(params)\n",
    "\n",
    "# run simulation\n",
    "state = run_simulation(state_init, params)"
   ]
  },
  {
   "cell_type": "code",
   "execution_count": 9,
   "id": "78e70e51-51df-46bd-9cf0-36ffbd07fe97",
   "metadata": {},
   "outputs": [
    {
     "data": {
      "image/png": "[encoded data removed]",
      "text/plain": [
       "Figure(PyObject <Figure size 900x450 with 5 Axes>)"
      ]
     },
     "metadata": {},
     "output_type": "display_data"
    }
   ],
   "source": [
    "capacity = params[\"capacity\"]\n",
    "n_sweeps = params[\"n_sweeps\"]\n",
    "\n",
    "fig, ax = plt.subplots(1, 3, dpi=150, figsize=(6, 3))\n",
    "\n",
    "a1 = ax[1].imshow(state_init ./ capacity, cmap=\"Blues\", vmin=0, vmax=1)\n",
    "c1 = fig.colorbar(a1, ax=ax[1], shrink=0.35)\n",
    "c1.ax.set(title=L\"$\\rho$\")\n",
    "ax[1].set(title=\"sweep 0\", xticks=[], yticks=[])\n",
    "\n",
    "a2 = ax[2].imshow(state ./ capacity, cmap=\"Reds\", vmin=0, vmax=1)\n",
    "c2 = fig.colorbar(a2, ax=ax[2], shrink=0.35)\n",
    "c2.ax.set(title=L\"$\\rho$\")\n",
    "ax[2].set(title=\"sweep \" * string(n_sweeps), xticks=[], yticks=[])\n",
    "\n",
    "ax[3].hist(state_init[:] ./ capacity, alpha=0.5, density=true, facecolor=\"C0\", edgecolor=\"k\", label=\"init\")\n",
    "ax[3].hist(state[:] ./ capacity, alpha=0.5, density=true, facecolor=\"C3\", edgecolor=\"k\", label=\"final\")\n",
    "ax[3].set(xlim=[0, 1], xticks=[0, 0.5, 1], xlabel=\"density\", ylabel=\"pdf\")\n",
    "ax[3].set_aspect((ax[3].set_xlim()[2] - ax[3].set_xlim()[1]) / (ax[3].set_ylim()[2] - ax[3].set_ylim()[1]))\n",
    "\n",
    "plt.tight_layout()\n",
    "\n",
    "# fig.savefig(\"/Volumes/GoogleDrive/My Drive/uchicago/adaptation/diffuser/shelling/2022-11-14_moveType\"*moveType*\"_alpha\"*string(alpha)*\".pdf\")"
   ]
  },
  {
   "cell_type": "code",
   "execution_count": null,
   "id": "94f80795-7903-4b66-a3dc-53a5e13c1c27",
   "metadata": {},
   "outputs": [],
   "source": []
  }
 ],
 "metadata": {
  "kernelspec": {
   "display_name": "Julia 1.8.2",
   "language": "julia",
   "name": "julia-1.8"
  },
  "language_info": {
   "file_extension": ".jl",
   "mimetype": "application/julia",
   "name": "julia",
   "version": "1.8.2"
  }
 },
 "nbformat": 4,
 "nbformat_minor": 5
}
